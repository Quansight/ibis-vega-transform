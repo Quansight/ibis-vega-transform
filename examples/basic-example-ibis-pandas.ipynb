{
 "cells": [
  {
   "cell_type": "code",
   "execution_count": 1,
   "id": "leading-upset",
   "metadata": {},
   "outputs": [
    {
     "data": {
      "application/json": {},
      "text/plain": [
       "<IPython.core.display.JSON object>"
      ]
     },
     "metadata": {
      "application/json": {
       "expanded": false,
       "root": "ibis-vega-transform"
      }
     },
     "output_type": "display_data"
    },
    {
     "data": {
      "application/vnd.vega.ibis.v5+json": {
       "span": {
        "uber-trace-id": "886d3e4490eeb74b:937a3111e3869155:0:1"
       },
       "spec": {
        "$schema": "https://vega.github.io/schema/vega-lite/v4.8.1.json",
        "config": {
         "view": {
          "continuousHeight": 300,
          "continuousWidth": 400
         }
        },
        "data": {
         "name": "ibis:1256838733099456960"
        },
        "encoding": {
         "x": {
          "field": "a",
          "type": "nominal"
         },
         "y": {
          "field": "b",
          "type": "quantitative"
         }
        },
        "mark": "bar"
       }
      },
      "text/plain": [
       "alt.Chart(...)"
      ]
     },
     "execution_count": 1,
     "metadata": {},
     "output_type": "execute_result"
    }
   ],
   "source": [
    "import altair as alt\n",
    "import ibis_vega_transform\n",
    "import ibis\n",
    "import pandas as pd\n",
    " \n",
    " \n",
    "source = pd.DataFrame({ \n",
    "    'a': ['A', 'B', 'C', 'D', 'E', 'F', 'G', 'H', 'I'], \n",
    "    'b': [28, 55, 43, 91, 81, 53, 19, 87, 52]\n",
    "})\n",
    " \n",
    "# or ibis.pandas if ibis version < 1.4 \n",
    "connection = ibis.backends.pandas.connect({'source': source })\n",
    "table = connection.table('source')\n",
    " \n",
    "alt.Chart(table).mark_bar().encode(\n",
    "    x='a',\n",
    "    y='b' \n",
    ")"
   ]
  }
 ],
 "metadata": {
  "kernelspec": {
   "display_name": "Python 3",
   "language": "python",
   "name": "python3"
  },
  "language_info": {
   "codemirror_mode": {
    "name": "ipython",
    "version": 3
   },
   "file_extension": ".py",
   "mimetype": "text/x-python",
   "name": "python",
   "nbconvert_exporter": "python",
   "pygments_lexer": "ipython3",
   "version": "3.7.10"
  }
 },
 "nbformat": 4,
 "nbformat_minor": 5
}
