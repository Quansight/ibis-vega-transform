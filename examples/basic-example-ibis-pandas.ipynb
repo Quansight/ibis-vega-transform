{
 "cells": [
  {
   "cell_type": "code",
   "execution_count": null,
   "id": "swiss-think",
   "metadata": {},
   "outputs": [],
   "source": [
    "import altair as alt\n",
    "import ibis_vega_transform\n",
    "import ibis\n",
    "import pandas as pd\n",
    " \n",
    " \n",
    "source = pd.DataFrame({ \n",
    "    'a': ['A', 'B', 'C', 'D', 'E', 'F', 'G', 'H', 'I'], \n",
    "    'b': [28, 55, 43, 91, 81, 53, 19, 87, 52]\n",
    "})\n",
    " \n",
    "# or ibis.pandas if ibis version < 1.4 \n",
    "connection = ibis.backends.pandas.connect({'source': source })\n",
    "table = connection.table('source')\n",
    " \n",
    "alt.Chart(table).mark_bar().encode(\n",
    "    x='a',\n",
    "    y='b' \n",
    ")"
   ]
  }
 ],
 "metadata": {
  "kernelspec": {
   "display_name": "Python 3",
   "language": "python",
   "name": "python3"
  },
  "language_info": {
   "codemirror_mode": {
    "name": "ipython",
    "version": 3
   },
   "file_extension": ".py",
   "mimetype": "text/x-python",
   "name": "python",
   "nbconvert_exporter": "python",
   "pygments_lexer": "ipython3",
   "version": "3.7.10"
  }
 },
 "nbformat": 4,
 "nbformat_minor": 5
}
