{
 "cells": [
  {
   "cell_type": "markdown",
   "metadata": {},
   "source": [
    "# OmniSci Charting Example with Altair\n",
    "\n",
    "Let's see if we can replicate [this](https://omnisci.github.io/mapd-charting/example/example1.html) OmniSci charting example in Python with Altair, Vega Lite, and Vega:\n",
    "\n",
    "![](https://cloud.githubusercontent.com/assets/2932405/25641647/1acce1f2-2f4a-11e7-87d4-a4e80cb262f5.gif)"
   ]
  },
  {
   "cell_type": "markdown",
   "metadata": {},
   "source": [
    "First, import `altair`, `ibis`, and `ibis_vega_transform` and connect to the database:"
   ]
  },
  {
   "cell_type": "code",
   "execution_count": 2,
   "metadata": {
    "execution": {
     "iopub.execute_input": "2020-10-02T17:27:13.775997Z",
     "iopub.status.busy": "2020-10-02T17:27:13.775769Z",
     "iopub.status.idle": "2020-10-02T17:27:14.716456Z",
     "shell.execute_reply": "2020-10-02T17:27:14.715792Z",
     "shell.execute_reply.started": "2020-10-02T17:27:13.775972Z"
    }
   },
   "outputs": [],
   "source": [
    "import altair as alt\n",
    "import ibis_vega_transform\n",
    "import ibis.omniscidb\n",
    "\n",
    "\n",
    "conn = ibis.omniscidb.connect(\n",
    "    host='metis.mapd.com', user='demouser', password='HyperInteractive',\n",
    "    port=443, database='mapd', protocol= 'https'\n",
    ")"
   ]
  },
  {
   "cell_type": "code",
   "execution_count": 3,
   "metadata": {
    "execution": {
     "iopub.execute_input": "2020-10-02T17:27:31.344804Z",
     "iopub.status.busy": "2020-10-02T17:27:31.344521Z",
     "iopub.status.idle": "2020-10-02T17:27:31.843225Z",
     "shell.execute_reply": "2020-10-02T17:27:31.842691Z",
     "shell.execute_reply.started": "2020-10-02T17:27:31.344770Z"
    }
   },
   "outputs": [
    {
     "data": {
      "text/plain": [
       "['flights_donotmodify',\n",
       " 'contributions_donotmodify',\n",
       " 'tweets_nov_feb',\n",
       " 'zipcodes_orig',\n",
       " 'zipcodes',\n",
       " 'demo_vote_clean',\n",
       " 'us_faults',\n",
       " 'zipcodes_2017',\n",
       " 'us_county_level_tiger_edges_2018',\n",
       " 'ca_roads_tiger',\n",
       " 'input_node',\n",
       " 'uk_wells',\n",
       " 'RentalListings']"
      ]
     },
     "execution_count": 3,
     "metadata": {},
     "output_type": "execute_result"
    }
   ],
   "source": [
    "conn.list_tables()"
   ]
  },
  {
   "cell_type": "markdown",
   "metadata": {},
   "source": [
    "We can access the flights table:"
   ]
  },
  {
   "cell_type": "code",
   "execution_count": 4,
   "metadata": {
    "execution": {
     "iopub.execute_input": "2020-10-02T17:27:48.960263Z",
     "iopub.status.busy": "2020-10-02T17:27:48.960068Z",
     "iopub.status.idle": "2020-10-02T17:27:50.478390Z",
     "shell.execute_reply": "2020-10-02T17:27:50.477807Z",
     "shell.execute_reply.started": "2020-10-02T17:27:48.960242Z"
    }
   },
   "outputs": [],
   "source": [
    "t = conn.table(\"flights_donotmodify\")"
   ]
  },
  {
   "cell_type": "code",
   "execution_count": 5,
   "metadata": {
    "collapsed": true,
    "execution": {
     "iopub.execute_input": "2020-10-02T17:27:55.509674Z",
     "iopub.status.busy": "2020-10-02T17:27:55.509430Z",
     "iopub.status.idle": "2020-10-02T17:27:55.516186Z",
     "shell.execute_reply": "2020-10-02T17:27:55.515520Z",
     "shell.execute_reply.started": "2020-10-02T17:27:55.509647Z"
    },
    "jupyter": {
     "outputs_hidden": true
    }
   },
   "outputs": [
    {
     "data": {
      "text/plain": [
       "DatabaseTable[table]\n",
       "  name: flights_donotmodify\n",
       "  schema:\n",
       "    flight_year : int16\n",
       "    flight_month : int16\n",
       "    flight_dayofmonth : int16\n",
       "    flight_dayofweek : int16\n",
       "    deptime : int16\n",
       "    crsdeptime : int16\n",
       "    arrtime : int16\n",
       "    crsarrtime : int16\n",
       "    uniquecarrier : string\n",
       "    flightnum : int16\n",
       "    tailnum : string\n",
       "    actualelapsedtime : int16\n",
       "    crselapsedtime : int16\n",
       "    airtime : int16\n",
       "    arrdelay : int16\n",
       "    depdelay : int16\n",
       "    origin : string\n",
       "    dest : string\n",
       "    distance : int16\n",
       "    taxiin : int16\n",
       "    taxiout : int16\n",
       "    cancelled : int16\n",
       "    cancellationcode : string\n",
       "    diverted : int16\n",
       "    carrierdelay : int16\n",
       "    weatherdelay : int16\n",
       "    nasdelay : int16\n",
       "    securitydelay : int16\n",
       "    lateaircraftdelay : int16\n",
       "    dep_timestamp : timestamp\n",
       "    arr_timestamp : timestamp\n",
       "    carrier_name : string\n",
       "    plane_type : string\n",
       "    plane_manufacturer : string\n",
       "    plane_issue_date : date\n",
       "    plane_model : string\n",
       "    plane_status : string\n",
       "    plane_aircraft_type : string\n",
       "    plane_engine_type : string\n",
       "    plane_year : int16\n",
       "    origin_name : string\n",
       "    origin_city : string\n",
       "    origin_state : string\n",
       "    origin_country : string\n",
       "    origin_lat : float32\n",
       "    origin_lon : float32\n",
       "    dest_name : string\n",
       "    dest_city : string\n",
       "    dest_state : string\n",
       "    dest_country : string\n",
       "    dest_lat : float32\n",
       "    dest_lon : float32\n",
       "    origin_merc_x : float32\n",
       "    origin_merc_y : float32\n",
       "    dest_merc_x : float32\n",
       "    dest_merc_y : float32"
      ]
     },
     "execution_count": 5,
     "metadata": {},
     "output_type": "execute_result"
    }
   ],
   "source": [
    "t"
   ]
  },
  {
   "cell_type": "markdown",
   "metadata": {},
   "source": [
    "It has 7 million rows:"
   ]
  },
  {
   "cell_type": "code",
   "execution_count": 6,
   "metadata": {
    "collapsed": true,
    "execution": {
     "iopub.execute_input": "2020-10-02T17:28:05.228983Z",
     "iopub.status.busy": "2020-10-02T17:28:05.228644Z",
     "iopub.status.idle": "2020-10-02T17:28:05.867488Z",
     "shell.execute_reply": "2020-10-02T17:28:05.866950Z",
     "shell.execute_reply.started": "2020-10-02T17:28:05.228918Z"
    },
    "jupyter": {
     "outputs_hidden": true
    }
   },
   "outputs": [
    {
     "name": "stdout",
     "output_type": "stream",
     "text": [
      "Table rows: 7009728\n",
      "\n",
      "Column    Type      Non-null #\n",
      "------    ----      ----------\n",
      "flight_yearint16     7009728   \n",
      "flight_monthint16     7009728   \n",
      "flight_dayofmonthint16     7009728   \n",
      "flight_dayofweekint16     7009728   \n",
      "deptime   int16     6873482   \n",
      "crsdeptimeint16     7009728   \n",
      "arrtime   int16     6858079   \n",
      "crsarrtimeint16     7009728   \n",
      "uniquecarrierString(nullable=True)7009728   \n",
      "flightnum int16     7009728   \n",
      "tailnum   String(nullable=True)6926363   \n",
      "actualelapsedtimeint16     6855029   \n",
      "crselapsedtimeint16     7008884   \n",
      "airtime   int16     6855029   \n",
      "arrdelay  int16     6855029   \n",
      "depdelay  int16     6873482   \n",
      "origin    String(nullable=True)7009728   \n",
      "dest      String(nullable=True)7009728   \n",
      "distance  int16     7009728   \n",
      "taxiin    int16     6858079   \n",
      "taxiout   int16     6872670   \n",
      "cancelled int16     7009728   \n",
      "cancellationcodeString(nullable=True)137434    \n",
      "diverted  int16     7009728   \n",
      "carrierdelayint16     1524735   \n",
      "weatherdelayint16     1524735   \n",
      "nasdelay  int16     1524735   \n",
      "securitydelayint16     1524735   \n",
      "lateaircraftdelayint16     1524735   \n",
      "dep_timestampTimestamp(timezone=None, nullable=True)6873482   \n",
      "arr_timestampTimestamp(timezone=None, nullable=True)6858079   \n",
      "carrier_nameString(nullable=True)7009728   \n",
      "plane_typeString(nullable=True)6199619   \n",
      "plane_manufacturerString(nullable=True)6199619   \n",
      "plane_issue_datedate      6199385   \n",
      "plane_modelString(nullable=True)6199619   \n",
      "plane_statusString(nullable=True)6199619   \n",
      "plane_aircraft_typeString(nullable=True)6199619   \n",
      "plane_engine_typeString(nullable=True)6199619   \n",
      "plane_yearint16     5996236   \n",
      "origin_nameString(nullable=True)7009728   \n",
      "origin_cityString(nullable=True)7009728   \n",
      "origin_stateString(nullable=True)7009728   \n",
      "origin_countryString(nullable=True)7009728   \n",
      "origin_latfloat32   7009728   \n",
      "origin_lonfloat32   7009728   \n",
      "dest_name String(nullable=True)7009728   \n",
      "dest_city String(nullable=True)7009728   \n",
      "dest_stateString(nullable=True)7009728   \n",
      "dest_countryString(nullable=True)7009728   \n",
      "dest_lat  float32   7009728   \n",
      "dest_lon  float32   7009728   \n",
      "origin_merc_xfloat32   7009728   \n",
      "origin_merc_yfloat32   7009728   \n",
      "dest_merc_xfloat32   7009728   \n",
      "dest_merc_yfloat32   7009728   \n"
     ]
    }
   ],
   "source": [
    "t.info()"
   ]
  },
  {
   "cell_type": "code",
   "execution_count": 12,
   "metadata": {
    "execution": {
     "iopub.execute_input": "2020-10-02T17:28:44.900924Z",
     "iopub.status.busy": "2020-10-02T17:28:44.900697Z",
     "iopub.status.idle": "2020-10-02T17:28:45.806880Z",
     "shell.execute_reply": "2020-10-02T17:28:45.806333Z",
     "shell.execute_reply.started": "2020-10-02T17:28:44.900899Z"
    }
   },
   "outputs": [
    {
     "data": {
      "text/html": [
       "<div>\n",
       "<style scoped>\n",
       "    .dataframe tbody tr th:only-of-type {\n",
       "        vertical-align: middle;\n",
       "    }\n",
       "\n",
       "    .dataframe tbody tr th {\n",
       "        vertical-align: top;\n",
       "    }\n",
       "\n",
       "    .dataframe thead th {\n",
       "        text-align: right;\n",
       "    }\n",
       "</style>\n",
       "<table border=\"1\" class=\"dataframe\">\n",
       "  <thead>\n",
       "    <tr style=\"text-align: right;\">\n",
       "      <th></th>\n",
       "      <th>flight_year</th>\n",
       "      <th>flight_month</th>\n",
       "      <th>flight_dayofmonth</th>\n",
       "      <th>flight_dayofweek</th>\n",
       "      <th>deptime</th>\n",
       "      <th>crsdeptime</th>\n",
       "      <th>arrtime</th>\n",
       "      <th>crsarrtime</th>\n",
       "      <th>uniquecarrier</th>\n",
       "      <th>flightnum</th>\n",
       "      <th>...</th>\n",
       "      <th>dest_name</th>\n",
       "      <th>dest_city</th>\n",
       "      <th>dest_state</th>\n",
       "      <th>dest_country</th>\n",
       "      <th>dest_lat</th>\n",
       "      <th>dest_lon</th>\n",
       "      <th>origin_merc_x</th>\n",
       "      <th>origin_merc_y</th>\n",
       "      <th>dest_merc_x</th>\n",
       "      <th>dest_merc_y</th>\n",
       "    </tr>\n",
       "  </thead>\n",
       "  <tbody>\n",
       "    <tr>\n",
       "      <th>0</th>\n",
       "      <td>2008</td>\n",
       "      <td>1</td>\n",
       "      <td>1</td>\n",
       "      <td>2</td>\n",
       "      <td>1922</td>\n",
       "      <td>1900</td>\n",
       "      <td>2046</td>\n",
       "      <td>2002</td>\n",
       "      <td>XE</td>\n",
       "      <td>2907</td>\n",
       "      <td>...</td>\n",
       "      <td>Lafayette Regional</td>\n",
       "      <td>Lafayette</td>\n",
       "      <td>LA</td>\n",
       "      <td>USA</td>\n",
       "      <td>30.205280</td>\n",
       "      <td>-91.987656</td>\n",
       "      <td>-10613169.0</td>\n",
       "      <td>3501040.00</td>\n",
       "      <td>-10240019.0</td>\n",
       "      <td>3529964.00</td>\n",
       "    </tr>\n",
       "    <tr>\n",
       "      <th>1</th>\n",
       "      <td>2008</td>\n",
       "      <td>1</td>\n",
       "      <td>18</td>\n",
       "      <td>5</td>\n",
       "      <td>1044</td>\n",
       "      <td>1015</td>\n",
       "      <td>1205</td>\n",
       "      <td>1139</td>\n",
       "      <td>XE</td>\n",
       "      <td>2545</td>\n",
       "      <td>...</td>\n",
       "      <td>Newark Intl</td>\n",
       "      <td>Newark</td>\n",
       "      <td>NJ</td>\n",
       "      <td>USA</td>\n",
       "      <td>40.692497</td>\n",
       "      <td>-74.168663</td>\n",
       "      <td>-7952336.5</td>\n",
       "      <td>5302010.00</td>\n",
       "      <td>-8256417.5</td>\n",
       "      <td>4967090.50</td>\n",
       "    </tr>\n",
       "    <tr>\n",
       "      <th>2</th>\n",
       "      <td>2008</td>\n",
       "      <td>1</td>\n",
       "      <td>5</td>\n",
       "      <td>6</td>\n",
       "      <td>1413</td>\n",
       "      <td>1405</td>\n",
       "      <td>1530</td>\n",
       "      <td>1524</td>\n",
       "      <td>XE</td>\n",
       "      <td>2155</td>\n",
       "      <td>...</td>\n",
       "      <td>George Bush Intercontinental</td>\n",
       "      <td>Houston</td>\n",
       "      <td>TX</td>\n",
       "      <td>USA</td>\n",
       "      <td>29.980473</td>\n",
       "      <td>-95.339722</td>\n",
       "      <td>-10027202.0</td>\n",
       "      <td>3804225.75</td>\n",
       "      <td>-10613169.0</td>\n",
       "      <td>3501040.00</td>\n",
       "    </tr>\n",
       "    <tr>\n",
       "      <th>3</th>\n",
       "      <td>2008</td>\n",
       "      <td>1</td>\n",
       "      <td>10</td>\n",
       "      <td>4</td>\n",
       "      <td>1544</td>\n",
       "      <td>1539</td>\n",
       "      <td>1650</td>\n",
       "      <td>1643</td>\n",
       "      <td>XE</td>\n",
       "      <td>2169</td>\n",
       "      <td>...</td>\n",
       "      <td>Monroe Regional</td>\n",
       "      <td>Monroe</td>\n",
       "      <td>LA</td>\n",
       "      <td>USA</td>\n",
       "      <td>32.510864</td>\n",
       "      <td>-92.037689</td>\n",
       "      <td>-10613169.0</td>\n",
       "      <td>3501040.00</td>\n",
       "      <td>-10245589.0</td>\n",
       "      <td>3830558.00</td>\n",
       "    </tr>\n",
       "    <tr>\n",
       "      <th>4</th>\n",
       "      <td>2008</td>\n",
       "      <td>1</td>\n",
       "      <td>6</td>\n",
       "      <td>7</td>\n",
       "      <td>1432</td>\n",
       "      <td>1435</td>\n",
       "      <td>1548</td>\n",
       "      <td>1554</td>\n",
       "      <td>XE</td>\n",
       "      <td>2849</td>\n",
       "      <td>...</td>\n",
       "      <td>Mobile Regional</td>\n",
       "      <td>Mobile</td>\n",
       "      <td>AL</td>\n",
       "      <td>USA</td>\n",
       "      <td>30.691416</td>\n",
       "      <td>-88.242836</td>\n",
       "      <td>-10613169.0</td>\n",
       "      <td>3501040.00</td>\n",
       "      <td>-9823147.0</td>\n",
       "      <td>3592738.25</td>\n",
       "    </tr>\n",
       "  </tbody>\n",
       "</table>\n",
       "<p>5 rows × 56 columns</p>\n",
       "</div>"
      ],
      "text/plain": [
       "   flight_year  flight_month  flight_dayofmonth  flight_dayofweek  deptime  \\\n",
       "0         2008             1                  1                 2     1922   \n",
       "1         2008             1                 18                 5     1044   \n",
       "2         2008             1                  5                 6     1413   \n",
       "3         2008             1                 10                 4     1544   \n",
       "4         2008             1                  6                 7     1432   \n",
       "\n",
       "   crsdeptime  arrtime  crsarrtime uniquecarrier  flightnum  ...  \\\n",
       "0        1900     2046        2002            XE       2907  ...   \n",
       "1        1015     1205        1139            XE       2545  ...   \n",
       "2        1405     1530        1524            XE       2155  ...   \n",
       "3        1539     1650        1643            XE       2169  ...   \n",
       "4        1435     1548        1554            XE       2849  ...   \n",
       "\n",
       "                      dest_name  dest_city  dest_state  dest_country  \\\n",
       "0            Lafayette Regional  Lafayette          LA           USA   \n",
       "1                   Newark Intl     Newark          NJ           USA   \n",
       "2  George Bush Intercontinental    Houston          TX           USA   \n",
       "3               Monroe Regional     Monroe          LA           USA   \n",
       "4               Mobile Regional     Mobile          AL           USA   \n",
       "\n",
       "    dest_lat   dest_lon origin_merc_x origin_merc_y  dest_merc_x  dest_merc_y  \n",
       "0  30.205280 -91.987656   -10613169.0    3501040.00  -10240019.0   3529964.00  \n",
       "1  40.692497 -74.168663    -7952336.5    5302010.00   -8256417.5   4967090.50  \n",
       "2  29.980473 -95.339722   -10027202.0    3804225.75  -10613169.0   3501040.00  \n",
       "3  32.510864 -92.037689   -10613169.0    3501040.00  -10245589.0   3830558.00  \n",
       "4  30.691416 -88.242836   -10613169.0    3501040.00   -9823147.0   3592738.25  \n",
       "\n",
       "[5 rows x 56 columns]"
      ]
     },
     "execution_count": 12,
     "metadata": {},
     "output_type": "execute_result"
    }
   ],
   "source": [
    "t.head().execute()"
   ]
  },
  {
   "cell_type": "markdown",
   "metadata": {},
   "source": [
    "## States\n",
    "\n",
    "Now let's make the top left graph, the flights by state, letting you select one:"
   ]
  },
  {
   "cell_type": "code",
   "execution_count": 13,
   "metadata": {
    "execution": {
     "iopub.execute_input": "2020-10-02T17:29:36.679321Z",
     "iopub.status.busy": "2020-10-02T17:29:36.679069Z",
     "iopub.status.idle": "2020-10-02T17:29:36.683645Z",
     "shell.execute_reply": "2020-10-02T17:29:36.682781Z",
     "shell.execute_reply.started": "2020-10-02T17:29:36.679293Z"
    }
   },
   "outputs": [],
   "source": [
    "states = alt.selection_multi(fields=['origin_state'])"
   ]
  },
  {
   "cell_type": "code",
   "execution_count": 15,
   "metadata": {
    "execution": {
     "iopub.execute_input": "2020-10-02T17:36:32.533960Z",
     "iopub.status.busy": "2020-10-02T17:36:32.533718Z",
     "iopub.status.idle": "2020-10-02T17:36:32.537202Z",
     "shell.execute_reply": "2020-10-02T17:36:32.536423Z",
     "shell.execute_reply.started": "2020-10-02T17:36:32.533933Z"
    }
   },
   "outputs": [],
   "source": [
    "ibis_vega_transform.enable_debug()"
   ]
  },
  {
   "cell_type": "code",
   "execution_count": 17,
   "metadata": {
    "execution": {
     "iopub.execute_input": "2020-10-02T17:40:26.630436Z",
     "iopub.status.busy": "2020-10-02T17:40:26.630159Z",
     "iopub.status.idle": "2020-10-02T17:40:26.737219Z",
     "shell.execute_reply": "2020-10-02T17:40:26.735891Z",
     "shell.execute_reply.started": "2020-10-02T17:40:26.630400Z"
    }
   },
   "outputs": [
    {
     "data": {
      "application/json": {
       "query:initial": {
        "parameters": {},
        "sql": "SELECT *\nFROM flights_donotmodify",
        "transforms": [
         {
          "as": [
           "__count"
          ],
          "fields": [
           null
          ],
          "groupby": [
           "origin_state"
          ],
          "ops": [
           "count"
          ],
          "type": "aggregate"
         }
        ]
       },
       "query:result": {
        "sql": "SELECT \"origin_state\", count(*) AS __count\nFROM flights_donotmodify\nGROUP BY origin_state",
        "transforms": [
         {
          "as": [
           "__count"
          ],
          "fields": [
           null
          ],
          "groupby": [
           "origin_state"
          ],
          "ops": [
           "count"
          ],
          "type": "aggregate"
         }
        ],
        "values": [
         {
          "__count": 747650,
          "origin_state": "TX"
         },
         {
          "__count": 210702,
          "origin_state": "VA"
         },
         {
          "__count": 60057,
          "origin_state": "IN"
         },
         {
          "__count": 331333,
          "origin_state": "NY"
         },
         {
          "__count": 22798,
          "origin_state": "MS"
         },
         {
          "__count": 466998,
          "origin_state": "FL"
         },
         {
          "__count": 198742,
          "origin_state": "NV"
         },
         {
          "__count": 824597,
          "origin_state": "CA"
         },
         {
          "__count": 33668,
          "origin_state": "AR"
         },
         {
          "__count": 132190,
          "origin_state": "MO"
         },
         {
          "__count": 461237,
          "origin_state": "IL"
         },
         {
          "__count": 18588,
          "origin_state": "NH"
         },
         {
          "__count": 67181,
          "origin_state": "LA"
         },
         {
          "__count": 50980,
          "origin_state": "OK"
         },
         {
          "__count": 30044,
          "origin_state": "NE"
         },
         {
          "__count": 74207,
          "origin_state": "OR"
         },
         {
          "__count": 158485,
          "origin_state": "PA"
         },
         {
          "__count": 231811,
          "origin_state": "AZ"
         },
         {
          "__count": 22509,
          "origin_state": "RI"
         },
         {
          "__count": 211820,
          "origin_state": "NC"
         },
         {
          "__count": 124067,
          "origin_state": "KY"
         },
         {
          "__count": 127630,
          "origin_state": "WA"
         },
         {
          "__count": 143075,
          "origin_state": "UT"
         },
         {
          "__count": 42107,
          "origin_state": "NM"
         },
         {
          "__count": 29449,
          "origin_state": "CT"
         },
         {
          "__count": 46066,
          "origin_state": "AL"
         },
         {
          "__count": 159197,
          "origin_state": "TN"
         },
         {
          "__count": 27122,
          "origin_state": "ID"
         },
         {
          "__count": 104074,
          "origin_state": "MD"
         },
         {
          "__count": 126215,
          "origin_state": "OH"
         },
         {
          "__count": 280855,
          "origin_state": "CO"
         },
         {
          "__count": 203129,
          "origin_state": "MI"
         },
         {
          "__count": 138622,
          "origin_state": "NJ"
         },
         {
          "__count": 75253,
          "origin_state": "WI"
         },
         {
          "__count": 42537,
          "origin_state": "SC"
         },
         {
          "__count": 3757,
          "origin_state": "WV"
         },
         {
          "__count": 14050,
          "origin_state": "KS"
         },
         {
          "__count": 7005,
          "origin_state": "VT"
         },
         {
          "__count": 27814,
          "origin_state": "IA"
         },
         {
          "__count": 9776,
          "origin_state": "ME"
         },
         {
          "__count": 135801,
          "origin_state": "MN"
         },
         {
          "__count": 435781,
          "origin_state": "GA"
         },
         {
          "__count": 118372,
          "origin_state": "MA"
         },
         {
          "__count": 4775,
          "origin_state": "NA"
         },
         {
          "__count": 9663,
          "origin_state": "WY"
         },
         {
          "__count": 9994,
          "origin_state": "SD"
         },
         {
          "__count": 110161,
          "origin_state": "HI"
         },
         {
          "__count": 20280,
          "origin_state": "MT"
         },
         {
          "__count": 9180,
          "origin_state": "ND"
         },
         {
          "__count": 23950,
          "origin_state": "PR"
         },
         {
          "__count": 3408,
          "origin_state": "VI"
         },
         {
          "__count": 40966,
          "origin_state": "AK"
         }
        ]
       },
       "sql:initial": {
        "sql": "SELECT *\nFROM flights_donotmodify"
       },
       "vega-lite:initial": {
        "$schema": "https://vega.github.io/schema/vega-lite/v4.0.2.json",
        "config": {
         "view": {
          "continuousHeight": 300,
          "continuousWidth": 400
         }
        },
        "data": {
         "name": "ibis:3877461541768115829"
        },
        "encoding": {
         "color": {
          "condition": {
           "selection": "selector001",
           "value": "steelblue"
          },
          "value": "grey"
         },
         "x": {
          "aggregate": "count",
          "type": "quantitative"
         },
         "y": {
          "field": "origin_state",
          "sort": {
           "encoding": "x",
           "order": "descending"
          },
          "type": "nominal"
         }
        },
        "mark": "bar",
        "selection": {
         "selector001": {
          "fields": [
           "origin_state"
          ],
          "type": "multi"
         }
        },
        "title": "Total Number of Flights by State"
       },
       "vega-spec:initial": {
        "$schema": "https://vega.github.io/schema/vega/v5.json",
        "axes": [
         {
          "aria": false,
          "domain": false,
          "grid": true,
          "gridScale": "y",
          "labels": false,
          "maxExtent": 0,
          "minExtent": 0,
          "orient": "bottom",
          "scale": "x",
          "tickCount": {
           "signal": "ceil(width/40)"
          },
          "ticks": false,
          "zindex": 0
         },
         {
          "grid": false,
          "labelFlush": true,
          "labelOverlap": true,
          "orient": "bottom",
          "scale": "x",
          "tickCount": {
           "signal": "ceil(width/40)"
          },
          "title": "Count of Records",
          "zindex": 0
         },
         {
          "grid": false,
          "orient": "left",
          "scale": "y",
          "title": "origin_state",
          "zindex": 0
         }
        ],
        "background": "white",
        "data": [
         {
          "name": "selector001_store"
         },
         {
          "name": "ibis:3877461541768115829"
         },
         {
          "name": "data_0",
          "source": "ibis:3877461541768115829",
          "transform": [
           {
            "as": [
             "__count"
            ],
            "fields": [
             null
            ],
            "groupby": [
             "origin_state"
            ],
            "ops": [
             "count"
            ],
            "type": "aggregate"
           }
          ]
         },
         {
          "name": "data_1",
          "source": "data_0",
          "transform": [
           {
            "expr": "isValid(datum[\"__count\"]) && isFinite(+datum[\"__count\"])",
            "type": "filter"
           }
          ]
         }
        ],
        "marks": [
         {
          "encode": {
           "update": {
            "ariaRoleDescription": {
             "value": "bar"
            },
            "description": {
             "signal": "\"Count of Records\" + \": \" + (format(datum[\"__count\"], \"\")) + \"; \" + \"origin_state\" + \": \" + (isValid(datum[\"origin_state\"]) ? datum[\"origin_state\"] : \"\"+datum[\"origin_state\"])"
            },
            "fill": [
             {
              "test": "!(length(data(\"selector001_store\"))) || (vlSelectionTest(\"selector001_store\", datum))",
              "value": "steelblue"
             },
             {
              "value": "grey"
             }
            ],
            "height": {
             "band": 1,
             "scale": "y"
            },
            "x": {
             "field": "__count",
             "scale": "x"
            },
            "x2": {
             "scale": "x",
             "value": 0
            },
            "y": {
             "field": "origin_state",
             "scale": "y"
            }
           }
          },
          "from": {
           "data": "data_1"
          },
          "interactive": true,
          "name": "marks",
          "style": [
           "bar"
          ],
          "type": "rect"
         }
        ],
        "padding": 5,
        "scales": [
         {
          "domain": {
           "data": "data_1",
           "field": "__count"
          },
          "name": "x",
          "nice": true,
          "range": [
           0,
           {
            "signal": "width"
           }
          ],
          "type": "linear",
          "zero": true
         },
         {
          "domain": {
           "data": "data_0",
           "field": "origin_state",
           "sort": {
            "field": "__count",
            "op": "min",
            "order": "descending"
           }
          },
          "name": "y",
          "paddingInner": 0.1,
          "paddingOuter": 0.05,
          "range": {
           "step": {
            "signal": "y_step"
           }
          },
          "type": "band"
         }
        ],
        "signals": [
         {
          "name": "y_step",
          "value": 20
         },
         {
          "name": "height",
          "update": "bandspace(domain('y').length, 0.1, 0.05) * y_step"
         },
         {
          "name": "unit",
          "on": [
           {
            "events": "mousemove",
            "update": "isTuple(group()) ? group() : unit"
           }
          ],
          "value": {}
         },
         {
          "name": "selector001",
          "update": "vlSelectionResolve(\"selector001_store\", \"union\", true)"
         },
         {
          "name": "selector001_tuple",
          "on": [
           {
            "events": [
             {
              "source": "scope",
              "type": "click"
             }
            ],
            "force": true,
            "update": "datum && item().mark.marktype !== 'group' ? {unit: \"\", fields: selector001_tuple_fields, values: [(item().isVoronoi ? datum.datum : datum)[\"origin_state\"]]} : null"
           },
           {
            "events": [
             {
              "source": "scope",
              "type": "dblclick"
             }
            ],
            "update": "null"
           }
          ]
         },
         {
          "name": "selector001_tuple_fields",
          "value": [
           {
            "field": "origin_state",
            "type": "E"
           }
          ]
         },
         {
          "name": "selector001_toggle",
          "on": [
           {
            "events": [
             {
              "source": "scope",
              "type": "click"
             }
            ],
            "update": "event.shiftKey"
           },
           {
            "events": [
             {
              "source": "scope",
              "type": "dblclick"
             }
            ],
            "update": "false"
           }
          ],
          "value": false
         },
         {
          "name": "selector001_modify",
          "on": [
           {
            "events": {
             "signal": "selector001_tuple"
            },
            "update": "modify(\"selector001_store\", selector001_toggle ? null : selector001_tuple, selector001_toggle ? null : true, selector001_toggle ? selector001_tuple : null)"
           }
          ]
         }
        ],
        "style": "cell",
        "title": {
         "frame": "group",
         "text": "Total Number of Flights by State"
        },
        "width": 400
       }
      },
      "text/plain": [
       "<IPython.core.display.JSON object>"
      ]
     },
     "metadata": {
      "application/json": {
       "expanded": false,
       "root": "ibis-vega-transform"
      }
     },
     "output_type": "display_data"
    },
    {
     "data": {
      "application/vnd.vega.ibis.v5+json": {
       "span": {
        "uber-trace-id": "7f5ccee7fcba5197:8417f034cc296c0f:0:1"
       },
       "spec": {
        "$schema": "https://vega.github.io/schema/vega-lite/v4.0.2.json",
        "config": {
         "view": {
          "continuousHeight": 300,
          "continuousWidth": 400
         }
        },
        "data": {
         "name": "ibis:3877461541768115829"
        },
        "encoding": {
         "color": {
          "condition": {
           "selection": "selector001",
           "value": "steelblue"
          },
          "value": "grey"
         },
         "x": {
          "aggregate": "count",
          "type": "quantitative"
         },
         "y": {
          "field": "origin_state",
          "sort": {
           "encoding": "x",
           "order": "descending"
          },
          "type": "nominal"
         }
        },
        "mark": "bar",
        "selection": {
         "selector001": {
          "fields": [
           "origin_state"
          ],
          "type": "multi"
         }
        },
        "title": "Total Number of Flights by State"
       }
      },
      "text/plain": [
       "alt.Chart(...)"
      ]
     },
     "execution_count": 17,
     "metadata": {},
     "output_type": "execute_result"
    }
   ],
   "source": [
    "flights_by_state = alt.Chart(\n",
    "    t,\n",
    "    title=\"Total Number of Flights by State\"\n",
    ").mark_bar().encode(\n",
    "    x='count()',\n",
    "    y=alt.Y(\n",
    "        'origin_state',\n",
    "        sort=alt.Sort(encoding='x', order='descending')\n",
    "    ),\n",
    "    color=alt.condition(states, alt.ColorValue(\"steelblue\"), alt.ColorValue(\"grey\"))\n",
    ").add_selection(\n",
    "    states\n",
    ")\n",
    "flights_by_state"
   ]
  },
  {
   "cell_type": "markdown",
   "metadata": {},
   "source": [
    "Now let's add the little text there with the count as well."
   ]
  },
  {
   "cell_type": "code",
   "execution_count": 18,
   "metadata": {
    "execution": {
     "iopub.execute_input": "2020-10-02T17:42:08.539886Z",
     "iopub.status.busy": "2020-10-02T17:42:08.539652Z",
     "iopub.status.idle": "2020-10-02T17:42:08.542889Z",
     "shell.execute_reply": "2020-10-02T17:42:08.542262Z",
     "shell.execute_reply.started": "2020-10-02T17:42:08.539860Z"
    }
   },
   "outputs": [],
   "source": [
    "ibis_vega_transform.disable_debug()"
   ]
  },
  {
   "cell_type": "code",
   "execution_count": 19,
   "metadata": {
    "execution": {
     "iopub.execute_input": "2020-10-02T17:42:10.722285Z",
     "iopub.status.busy": "2020-10-02T17:42:10.722048Z",
     "iopub.status.idle": "2020-10-02T17:42:10.835567Z",
     "shell.execute_reply": "2020-10-02T17:42:10.834645Z",
     "shell.execute_reply.started": "2020-10-02T17:42:10.722258Z"
    }
   },
   "outputs": [
    {
     "data": {
      "application/json": {},
      "text/plain": [
       "<IPython.core.display.JSON object>"
      ]
     },
     "metadata": {
      "application/json": {
       "expanded": false,
       "root": "ibis-vega-transform"
      }
     },
     "output_type": "display_data"
    },
    {
     "data": {
      "application/vnd.vega.ibis.v5+json": {
       "span": {
        "uber-trace-id": "f18aa7cc067e7e40:bbdbc47aa2fc3474:0:1"
       },
       "spec": {
        "$schema": "https://vega.github.io/schema/vega-lite/v4.0.2.json",
        "config": {
         "view": {
          "continuousHeight": 300,
          "continuousWidth": 400
         }
        },
        "data": {
         "name": "ibis:3877461541768115829"
        },
        "encoding": {
         "text": {
          "aggregate": "count",
          "type": "quantitative"
         },
         "x": {
          "aggregate": "count",
          "type": "quantitative"
         },
         "y": {
          "field": "origin_state",
          "sort": {
           "encoding": "x",
           "order": "descending"
          },
          "type": "nominal"
         }
        },
        "mark": {
         "dx": 20,
         "type": "text"
        }
       }
      },
      "text/plain": [
       "alt.Chart(...)"
      ]
     },
     "execution_count": 19,
     "metadata": {},
     "output_type": "execute_result"
    }
   ],
   "source": [
    "flights_by_state_text = alt.Chart(t).mark_text(dx=20).encode(\n",
    "    x='count()',\n",
    "    y=alt.Y('origin_state', sort=alt.Sort(encoding='x', order='descending')),\n",
    "    text='count()'\n",
    ")\n",
    "flights_by_state_text"
   ]
  },
  {
   "cell_type": "markdown",
   "metadata": {},
   "source": [
    "We can combine them together now:"
   ]
  },
  {
   "cell_type": "code",
   "execution_count": 20,
   "metadata": {
    "execution": {
     "iopub.execute_input": "2020-10-02T17:42:36.004316Z",
     "iopub.status.busy": "2020-10-02T17:42:36.004113Z",
     "iopub.status.idle": "2020-10-02T17:42:36.007448Z",
     "shell.execute_reply": "2020-10-02T17:42:36.006748Z",
     "shell.execute_reply.started": "2020-10-02T17:42:36.004294Z"
    }
   },
   "outputs": [],
   "source": [
    "def create_flights_by_state(map_fn=lambda c: c):\n",
    "    return map_fn(flights_by_state_text) + map_fn(flights_by_state)"
   ]
  },
  {
   "cell_type": "code",
   "execution_count": 21,
   "metadata": {
    "execution": {
     "iopub.execute_input": "2020-10-02T17:42:36.687080Z",
     "iopub.status.busy": "2020-10-02T17:42:36.686868Z",
     "iopub.status.idle": "2020-10-02T17:42:36.700890Z",
     "shell.execute_reply": "2020-10-02T17:42:36.700320Z",
     "shell.execute_reply.started": "2020-10-02T17:42:36.687056Z"
    }
   },
   "outputs": [
    {
     "data": {
      "application/vnd.vega.ibis.v5+json": {
       "span": {
        "uber-trace-id": "23eeb0c33403768a:b12e5a9ba29706be:0:1"
       },
       "spec": {
        "$schema": "https://vega.github.io/schema/vega-lite/v4.0.2.json",
        "config": {
         "view": {
          "continuousHeight": 300,
          "continuousWidth": 400
         }
        },
        "layer": [
         {
          "data": {
           "name": "ibis:3877461541768115829"
          },
          "encoding": {
           "text": {
            "aggregate": "count",
            "type": "quantitative"
           },
           "x": {
            "aggregate": "count",
            "type": "quantitative"
           },
           "y": {
            "field": "origin_state",
            "sort": {
             "encoding": "x",
             "order": "descending"
            },
            "type": "nominal"
           }
          },
          "mark": {
           "dx": 20,
           "type": "text"
          }
         },
         {
          "data": {
           "name": "ibis:3877461541768115829"
          },
          "encoding": {
           "color": {
            "condition": {
             "selection": "selector001",
             "value": "steelblue"
            },
            "value": "grey"
           },
           "x": {
            "aggregate": "count",
            "type": "quantitative"
           },
           "y": {
            "field": "origin_state",
            "sort": {
             "encoding": "x",
             "order": "descending"
            },
            "type": "nominal"
           }
          },
          "mark": "bar",
          "selection": {
           "selector001": {
            "fields": [
             "origin_state"
            ],
            "type": "multi"
           }
          },
          "title": "Total Number of Flights by State"
         }
        ]
       }
      },
      "text/plain": [
       "alt.LayerChart(...)"
      ]
     },
     "execution_count": 21,
     "metadata": {},
     "output_type": "execute_result"
    }
   ],
   "source": [
    "create_flights_by_state()"
   ]
  },
  {
   "cell_type": "markdown",
   "metadata": {},
   "source": [
    "## Delay chart"
   ]
  },
  {
   "cell_type": "markdown",
   "metadata": {},
   "source": [
    "We do the same now for the delay chart:"
   ]
  },
  {
   "cell_type": "code",
   "execution_count": 22,
   "metadata": {
    "execution": {
     "iopub.execute_input": "2020-10-02T17:43:30.212445Z",
     "iopub.status.busy": "2020-10-02T17:43:30.212243Z",
     "iopub.status.idle": "2020-10-02T17:43:30.386925Z",
     "shell.execute_reply": "2020-10-02T17:43:30.385623Z",
     "shell.execute_reply.started": "2020-10-02T17:43:30.212422Z"
    }
   },
   "outputs": [
    {
     "data": {
      "application/json": {},
      "text/plain": [
       "<IPython.core.display.JSON object>"
      ]
     },
     "metadata": {
      "application/json": {
       "expanded": false,
       "root": "ibis-vega-transform"
      }
     },
     "output_type": "display_data"
    },
    {
     "data": {
      "application/json": {},
      "text/plain": [
       "<IPython.core.display.JSON object>"
      ]
     },
     "metadata": {
      "application/json": {
       "expanded": false,
       "root": "ibis-vega-transform"
      }
     },
     "output_type": "display_data"
    },
    {
     "data": {
      "application/vnd.vega.ibis.v5+json": {
       "span": {
        "uber-trace-id": "e01714b33568fe01:d44893f617cbde18:0:1"
       },
       "spec": {
        "$schema": "https://vega.github.io/schema/vega-lite/v4.0.2.json",
        "config": {
         "view": {
          "continuousHeight": 300,
          "continuousWidth": 400
         }
        },
        "layer": [
         {
          "data": {
           "name": "ibis:3877461541768115829"
          },
          "encoding": {
           "color": {
            "condition": {
             "selection": "selector002",
             "value": "steelblue"
            },
            "value": "grey"
           },
           "tooltip": [
            {
             "field": "carrier_name",
             "type": "nominal"
            },
            {
             "field": "depdelay",
             "type": "quantitative"
            },
            {
             "field": "arrdelay",
             "type": "quantitative"
            }
           ],
           "x": {
            "field": "depdelay",
            "type": "quantitative"
           },
           "y": {
            "field": "arrdelay",
            "type": "quantitative"
           }
          },
          "mark": {
           "filled": true,
           "size": 200,
           "type": "point"
          },
          "selection": {
           "selector002": {
            "fields": [
             "carrier_name"
            ],
            "type": "multi"
           }
          },
          "title": "Carrier Departure Delay by Arrival Delay (Minutes)",
          "transform": [
           {
            "aggregate": [
             {
              "as": "depdelay",
              "field": "depdelay",
              "op": "mean"
             },
             {
              "as": "arrdelay",
              "field": "arrdelay",
              "op": "mean"
             }
            ],
            "groupby": [
             "carrier_name"
            ]
           }
          ]
         },
         {
          "data": {
           "name": "ibis:3877461541768115829"
          },
          "encoding": {
           "text": {
            "field": "carrier_name",
            "type": "nominal"
           },
           "x": {
            "field": "depdelay",
            "type": "quantitative"
           },
           "y": {
            "field": "arrdelay",
            "type": "quantitative"
           }
          },
          "mark": "text",
          "transform": [
           {
            "aggregate": [
             {
              "as": "depdelay",
              "field": "depdelay",
              "op": "mean"
             },
             {
              "as": "arrdelay",
              "field": "arrdelay",
              "op": "mean"
             }
            ],
            "groupby": [
             "carrier_name"
            ]
           }
          ]
         }
        ]
       }
      },
      "text/plain": [
       "alt.LayerChart(...)"
      ]
     },
     "execution_count": 22,
     "metadata": {},
     "output_type": "execute_result"
    }
   ],
   "source": [
    "airlines = alt.selection_multi(fields=['carrier_name'])\n",
    "\n",
    "def create_carrier_delay(before_aggregate_fn=lambda c: c):\n",
    "    carrier_delay = before_aggregate_fn(alt.Chart(\n",
    "        t,\n",
    "        title=\"Carrier Departure Delay by Arrival Delay (Minutes)\"\n",
    "    )).transform_aggregate(\n",
    "        depdelay='mean(depdelay)',\n",
    "        arrdelay='mean(arrdelay)',\n",
    "        groupby=[\"carrier_name\"]\n",
    "    ).mark_point(filled=True, size=200).encode(\n",
    "        x='depdelay',\n",
    "        y='arrdelay',\n",
    "        color=alt.condition(airlines, alt.ColorValue(\"steelblue\"), alt.ColorValue(\"grey\")),\n",
    "        tooltip=['carrier_name', 'depdelay', 'arrdelay']\n",
    "    ).add_selection(airlines)\n",
    "\n",
    "    carrier_delay_text = before_aggregate_fn(alt.Chart(\n",
    "        t\n",
    "    )).transform_aggregate(\n",
    "        depdelay='mean(depdelay)',\n",
    "        arrdelay='mean(arrdelay)',\n",
    "        groupby=[\"carrier_name\"]\n",
    "    ).mark_text().encode(\n",
    "        x='depdelay',\n",
    "        y='arrdelay',\n",
    "        text='carrier_name',\n",
    "    )\n",
    "    return carrier_delay + carrier_delay_text\n",
    "\n",
    "create_carrier_delay()"
   ]
  },
  {
   "cell_type": "markdown",
   "metadata": {},
   "source": [
    "## States + Delays"
   ]
  },
  {
   "cell_type": "markdown",
   "metadata": {},
   "source": [
    "Now we can combine these two charts, by adding filters by each others selections:"
   ]
  },
  {
   "cell_type": "code",
   "execution_count": 25,
   "metadata": {
    "execution": {
     "iopub.execute_input": "2020-10-02T17:45:57.494701Z",
     "iopub.status.busy": "2020-10-02T17:45:57.494512Z",
     "iopub.status.idle": "2020-10-02T17:45:57.688595Z",
     "shell.execute_reply": "2020-10-02T17:45:57.687870Z",
     "shell.execute_reply.started": "2020-10-02T17:45:57.494680Z"
    }
   },
   "outputs": [
    {
     "data": {
      "application/json": {},
      "text/plain": [
       "<IPython.core.display.JSON object>"
      ]
     },
     "metadata": {
      "application/json": {
       "expanded": false,
       "root": "ibis-vega-transform"
      }
     },
     "output_type": "display_data"
    },
    {
     "data": {
      "application/json": {
       "query:initial": {
        "parameters": {
         ":selector002_store": [
          {
           "fields": [
            {
             "field": "carrier_name",
             "type": "E"
            }
           ],
           "unit": "concat_1_layer_0",
           "values": [
            "Northwest Airlines"
           ]
          }
         ]
        },
        "sql": "SELECT *\nFROM flights_donotmodify",
        "transforms": [
         {
          "expr": "!(length([{\"unit\": \"concat_1_layer_0\", \"fields\": [{\"type\": \"E\", \"field\": \"carrier_name\"}], \"values\": [\"Northwest Airlines\"]}])) || (vlSelectionTest([{\"unit\": \"concat_1_layer_0\", \"fields\": [{\"type\": \"E\", \"field\": \"carrier_name\"}], \"values\": [\"Northwest Airlines\"]}], datum))",
          "type": "filter"
         },
         {
          "as": [
           "__count"
          ],
          "fields": [
           null
          ],
          "groupby": [
           "origin_state"
          ],
          "ops": [
           "count"
          ],
          "type": "aggregate"
         },
         {
          "expr": "isValid(datum[\"__count\"]) && isFinite(+datum[\"__count\"])",
          "type": "filter"
         }
        ]
       },
       "query:result": {
        "sql": "SELECT t0.*\nFROM (\n  SELECT \"origin_state\", count(*) AS __count\n  FROM flights_donotmodify\n  WHERE \"carrier_name\" = 'Northwest Airlines'\n  GROUP BY origin_state\n) t0\nWHERE NOT (t0.\"__count\" IS NULL)",
        "transforms": [
         {
          "expr": "!(length([{\"unit\": \"concat_1_layer_0\", \"fields\": [{\"type\": \"E\", \"field\": \"carrier_name\"}], \"values\": [\"Northwest Airlines\"]}])) || (vlSelectionTest([{\"unit\": \"concat_1_layer_0\", \"fields\": [{\"type\": \"E\", \"field\": \"carrier_name\"}], \"values\": [\"Northwest Airlines\"]}], datum))",
          "type": "filter"
         },
         {
          "as": [
           "__count"
          ],
          "fields": [
           null
          ],
          "groupby": [
           "origin_state"
          ],
          "ops": [
           "count"
          ],
          "type": "aggregate"
         },
         {
          "expr": "isValid(datum[\"__count\"]) && isFinite(+datum[\"__count\"])",
          "type": "filter"
         }
        ],
        "values": [
         {
          "__count": 5076,
          "origin_state": "TX"
         },
         {
          "__count": 8360,
          "origin_state": "VA"
         },
         {
          "__count": 6754,
          "origin_state": "IN"
         },
         {
          "__count": 12495,
          "origin_state": "NY"
         },
         {
          "__count": 215,
          "origin_state": "MS"
         },
         {
          "__count": 17298,
          "origin_state": "FL"
         },
         {
          "__count": 4544,
          "origin_state": "NV"
         },
         {
          "__count": 15008,
          "origin_state": "CA"
         },
         {
          "__count": 856,
          "origin_state": "AR"
         },
         {
          "__count": 5671,
          "origin_state": "MO"
         },
         {
          "__count": 8333,
          "origin_state": "IL"
         },
         {
          "__count": 835,
          "origin_state": "NH"
         },
         {
          "__count": 1443,
          "origin_state": "LA"
         },
         {
          "__count": 67,
          "origin_state": "OK"
         },
         {
          "__count": 863,
          "origin_state": "NE"
         },
         {
          "__count": 2118,
          "origin_state": "OR"
         },
         {
          "__count": 5144,
          "origin_state": "PA"
         },
         {
          "__count": 4021,
          "origin_state": "AZ"
         },
         {
          "__count": 1111,
          "origin_state": "RI"
         },
         {
          "__count": 4362,
          "origin_state": "NC"
         },
         {
          "__count": 652,
          "origin_state": "KY"
         },
         {
          "__count": 5833,
          "origin_state": "WA"
         },
         {
          "__count": 1089,
          "origin_state": "UT"
         },
         {
          "__count": 677,
          "origin_state": "NM"
         },
         {
          "__count": 2183,
          "origin_state": "CT"
         },
         {
          "__count": 338,
          "origin_state": "AL"
         },
         {
          "__count": 23812,
          "origin_state": "TN"
         },
         {
          "__count": 807,
          "origin_state": "ID"
         },
         {
          "__count": 3061,
          "origin_state": "MD"
         },
         {
          "__count": 2715,
          "origin_state": "OH"
         },
         {
          "__count": 4242,
          "origin_state": "CO"
         },
         {
          "__count": 85323,
          "origin_state": "MI"
         },
         {
          "__count": 3518,
          "origin_state": "NJ"
         },
         {
          "__count": 9293,
          "origin_state": "WI"
         },
         {
          "__count": 112,
          "origin_state": "SC"
         },
         {
          "__count": 45,
          "origin_state": "IA"
         },
         {
          "__count": 80039,
          "origin_state": "MN"
         },
         {
          "__count": 3514,
          "origin_state": "GA"
         },
         {
          "__count": 3948,
          "origin_state": "MA"
         },
         {
          "__count": 117,
          "origin_state": "WY"
         },
         {
          "__count": 1850,
          "origin_state": "SD"
         },
         {
          "__count": 2899,
          "origin_state": "HI"
         },
         {
          "__count": 2072,
          "origin_state": "MT"
         },
         {
          "__count": 3572,
          "origin_state": "ND"
         },
         {
          "__count": 224,
          "origin_state": "PR"
         },
         {
          "__count": 16,
          "origin_state": "VI"
         },
         {
          "__count": 1127,
          "origin_state": "AK"
         }
        ]
       },
       "sql:initial": {
        "sql": "SELECT *\nFROM flights_donotmodify"
       },
       "vega-lite:initial": {
        "$schema": "https://vega.github.io/schema/vega-lite/v4.0.2.json",
        "config": {
         "view": {
          "continuousHeight": 300,
          "continuousWidth": 400
         }
        },
        "hconcat": [
         {
          "layer": [
           {
            "data": {
             "name": "ibis:3877461541768115829"
            },
            "encoding": {
             "text": {
              "aggregate": "count",
              "type": "quantitative"
             },
             "x": {
              "aggregate": "count",
              "type": "quantitative"
             },
             "y": {
              "field": "origin_state",
              "sort": {
               "encoding": "x",
               "order": "descending"
              },
              "type": "nominal"
             }
            },
            "mark": {
             "dx": 20,
             "type": "text"
            },
            "transform": [
             {
              "filter": {
               "selection": "selector002"
              }
             }
            ]
           },
           {
            "data": {
             "name": "ibis:3877461541768115829"
            },
            "encoding": {
             "color": {
              "condition": {
               "selection": "selector001",
               "value": "steelblue"
              },
              "value": "grey"
             },
             "x": {
              "aggregate": "count",
              "type": "quantitative"
             },
             "y": {
              "field": "origin_state",
              "sort": {
               "encoding": "x",
               "order": "descending"
              },
              "type": "nominal"
             }
            },
            "mark": "bar",
            "selection": {
             "selector001": {
              "fields": [
               "origin_state"
              ],
              "type": "multi"
             }
            },
            "title": "Total Number of Flights by State",
            "transform": [
             {
              "filter": {
               "selection": "selector002"
              }
             }
            ]
           }
          ]
         },
         {
          "layer": [
           {
            "data": {
             "name": "ibis:3877461541768115829"
            },
            "encoding": {
             "color": {
              "condition": {
               "selection": "selector002",
               "value": "steelblue"
              },
              "value": "grey"
             },
             "tooltip": [
              {
               "field": "carrier_name",
               "type": "nominal"
              },
              {
               "field": "depdelay",
               "type": "quantitative"
              },
              {
               "field": "arrdelay",
               "type": "quantitative"
              }
             ],
             "x": {
              "field": "depdelay",
              "type": "quantitative"
             },
             "y": {
              "field": "arrdelay",
              "type": "quantitative"
             }
            },
            "mark": {
             "filled": true,
             "size": 200,
             "type": "point"
            },
            "selection": {
             "selector002": {
              "fields": [
               "carrier_name"
              ],
              "type": "multi"
             }
            },
            "title": "Carrier Departure Delay by Arrival Delay (Minutes)",
            "transform": [
             {
              "filter": {
               "selection": "selector001"
              }
             },
             {
              "aggregate": [
               {
                "as": "depdelay",
                "field": "depdelay",
                "op": "mean"
               },
               {
                "as": "arrdelay",
                "field": "arrdelay",
                "op": "mean"
               }
              ],
              "groupby": [
               "carrier_name"
              ]
             }
            ]
           },
           {
            "data": {
             "name": "ibis:3877461541768115829"
            },
            "encoding": {
             "text": {
              "field": "carrier_name",
              "type": "nominal"
             },
             "x": {
              "field": "depdelay",
              "type": "quantitative"
             },
             "y": {
              "field": "arrdelay",
              "type": "quantitative"
             }
            },
            "mark": "text",
            "transform": [
             {
              "filter": {
               "selection": "selector001"
              }
             },
             {
              "aggregate": [
               {
                "as": "depdelay",
                "field": "depdelay",
                "op": "mean"
               },
               {
                "as": "arrdelay",
                "field": "arrdelay",
                "op": "mean"
               }
              ],
              "groupby": [
               "carrier_name"
              ]
             }
            ]
           }
          ]
         }
        ]
       },
       "vega-spec:initial": {
        "$schema": "https://vega.github.io/schema/vega/v5.json",
        "background": "white",
        "data": [
         {
          "name": "selector001_store"
         },
         {
          "name": "selector002_store"
         },
         {
          "format": {},
          "name": "ibis:3877461541768115829"
         },
         {
          "name": "data_1",
          "source": "ibis:3877461541768115829",
          "transform": [
           {
            "expr": "!(length(data(\"selector002_store\"))) || (vlSelectionTest(\"selector002_store\", datum))",
            "type": "filter"
           },
           {
            "as": [
             "__count"
            ],
            "fields": [
             null
            ],
            "groupby": [
             "origin_state"
            ],
            "ops": [
             "count"
            ],
            "type": "aggregate"
           }
          ]
         },
         {
          "name": "data_2",
          "source": "data_1",
          "transform": [
           {
            "expr": "isValid(datum[\"__count\"]) && isFinite(+datum[\"__count\"])",
            "type": "filter"
           }
          ]
         },
         {
          "name": "data_3",
          "source": "ibis:3877461541768115829",
          "transform": [
           {
            "expr": "!(length(data(\"selector001_store\"))) || (vlSelectionTest(\"selector001_store\", datum))",
            "type": "filter"
           },
           {
            "as": [
             "depdelay",
             "arrdelay"
            ],
            "fields": [
             "depdelay",
             "arrdelay"
            ],
            "groupby": [
             "carrier_name"
            ],
            "ops": [
             "mean",
             "mean"
            ],
            "type": "aggregate"
           },
           {
            "expr": "isValid(datum[\"depdelay\"]) && isFinite(+datum[\"depdelay\"]) && isValid(datum[\"arrdelay\"]) && isFinite(+datum[\"arrdelay\"])",
            "type": "filter"
           }
          ]
         }
        ],
        "layout": {
         "align": "each",
         "bounds": "full",
         "padding": 20
        },
        "marks": [
         {
          "axes": [
           {
            "aria": false,
            "domain": false,
            "grid": true,
            "gridScale": "concat_0_y",
            "labels": false,
            "maxExtent": 0,
            "minExtent": 0,
            "orient": "bottom",
            "scale": "concat_0_x",
            "tickCount": {
             "signal": "ceil(childWidth/40)"
            },
            "ticks": false,
            "zindex": 0
           },
           {
            "grid": false,
            "labelFlush": true,
            "labelOverlap": true,
            "orient": "bottom",
            "scale": "concat_0_x",
            "tickCount": {
             "signal": "ceil(childWidth/40)"
            },
            "title": "Count of Records",
            "zindex": 0
           },
           {
            "grid": false,
            "orient": "left",
            "scale": "concat_0_y",
            "title": "origin_state",
            "zindex": 0
           }
          ],
          "encode": {
           "update": {
            "height": {
             "signal": "concat_0_height"
            },
            "width": {
             "signal": "childWidth"
            }
           }
          },
          "marks": [
           {
            "encode": {
             "update": {
              "align": {
               "value": "center"
              },
              "baseline": {
               "value": "middle"
              },
              "description": {
               "signal": "\"Count of Records\" + \": \" + (format(datum[\"__count\"], \"\")) + \"; \" + \"origin_state\" + \": \" + (isValid(datum[\"origin_state\"]) ? datum[\"origin_state\"] : \"\"+datum[\"origin_state\"])"
              },
              "dx": {
               "value": 20
              },
              "fill": {
               "value": "black"
              },
              "text": {
               "signal": "format(datum[\"__count\"], \"\")"
              },
              "x": {
               "field": "__count",
               "scale": "concat_0_x"
              },
              "y": {
               "band": 0.5,
               "field": "origin_state",
               "scale": "concat_0_y"
              }
             }
            },
            "from": {
             "data": "data_2"
            },
            "interactive": false,
            "name": "concat_0_layer_0_marks",
            "style": [
             "text"
            ],
            "type": "text"
           },
           {
            "encode": {
             "update": {
              "ariaRoleDescription": {
               "value": "bar"
              },
              "description": {
               "signal": "\"Count of Records\" + \": \" + (format(datum[\"__count\"], \"\")) + \"; \" + \"origin_state\" + \": \" + (isValid(datum[\"origin_state\"]) ? datum[\"origin_state\"] : \"\"+datum[\"origin_state\"])"
              },
              "fill": [
               {
                "test": "!(length(data(\"selector001_store\"))) || (vlSelectionTest(\"selector001_store\", datum))",
                "value": "steelblue"
               },
               {
                "value": "grey"
               }
              ],
              "height": {
               "band": 1,
               "scale": "concat_0_y"
              },
              "x": {
               "field": "__count",
               "scale": "concat_0_x"
              },
              "x2": {
               "scale": "concat_0_x",
               "value": 0
              },
              "y": {
               "field": "origin_state",
               "scale": "concat_0_y"
              }
             }
            },
            "from": {
             "data": "data_2"
            },
            "interactive": true,
            "name": "concat_0_layer_1_marks",
            "style": [
             "bar"
            ],
            "type": "rect"
           }
          ],
          "name": "concat_0_group",
          "signals": [
           {
            "name": "selector001_tuple",
            "on": [
             {
              "events": [
               {
                "source": "scope",
                "type": "click"
               }
              ],
              "force": true,
              "update": "datum && item().mark.marktype !== 'group' ? {unit: \"concat_0_layer_1\", fields: selector001_tuple_fields, values: [(item().isVoronoi ? datum.datum : datum)[\"origin_state\"]]} : null"
             },
             {
              "events": [
               {
                "source": "scope",
                "type": "dblclick"
               }
              ],
              "update": "null"
             }
            ]
           },
           {
            "name": "selector001_tuple_fields",
            "value": [
             {
              "field": "origin_state",
              "type": "E"
             }
            ]
           },
           {
            "name": "selector001_toggle",
            "on": [
             {
              "events": [
               {
                "source": "scope",
                "type": "click"
               }
              ],
              "update": "event.shiftKey"
             },
             {
              "events": [
               {
                "source": "scope",
                "type": "dblclick"
               }
              ],
              "update": "false"
             }
            ],
            "value": false
           },
           {
            "name": "selector001_modify",
            "on": [
             {
              "events": {
               "signal": "selector001_tuple"
              },
              "update": "modify(\"selector001_store\", selector001_toggle ? null : selector001_tuple, selector001_toggle ? null : true, selector001_toggle ? selector001_tuple : null)"
             }
            ]
           }
          ],
          "style": "cell",
          "title": {
           "frame": "group",
           "text": "Total Number of Flights by State"
          },
          "type": "group"
         },
         {
          "axes": [
           {
            "aria": false,
            "domain": false,
            "grid": true,
            "gridScale": "concat_1_y",
            "labels": false,
            "maxExtent": 0,
            "minExtent": 0,
            "orient": "bottom",
            "scale": "concat_1_x",
            "tickCount": {
             "signal": "ceil(childWidth/40)"
            },
            "ticks": false,
            "zindex": 0
           },
           {
            "aria": false,
            "domain": false,
            "grid": true,
            "gridScale": "concat_1_x",
            "labels": false,
            "maxExtent": 0,
            "minExtent": 0,
            "orient": "left",
            "scale": "concat_1_y",
            "tickCount": {
             "signal": "ceil(concat_1_height/40)"
            },
            "ticks": false,
            "zindex": 0
           },
           {
            "grid": false,
            "labelFlush": true,
            "labelOverlap": true,
            "orient": "bottom",
            "scale": "concat_1_x",
            "tickCount": {
             "signal": "ceil(childWidth/40)"
            },
            "title": "depdelay",
            "zindex": 0
           },
           {
            "grid": false,
            "labelOverlap": true,
            "orient": "left",
            "scale": "concat_1_y",
            "tickCount": {
             "signal": "ceil(concat_1_height/40)"
            },
            "title": "arrdelay",
            "zindex": 0
           }
          ],
          "encode": {
           "update": {
            "height": {
             "signal": "concat_1_height"
            },
            "width": {
             "signal": "childWidth"
            }
           }
          },
          "marks": [
           {
            "encode": {
             "update": {
              "ariaRoleDescription": {
               "value": "point"
              },
              "description": {
               "signal": "\"carrier_name\" + \": \" + (isValid(datum[\"carrier_name\"]) ? datum[\"carrier_name\"] : \"\"+datum[\"carrier_name\"]) + \"; \" + \"depdelay\" + \": \" + (format(datum[\"depdelay\"], \"\")) + \"; \" + \"arrdelay\" + \": \" + (format(datum[\"arrdelay\"], \"\"))"
              },
              "fill": [
               {
                "test": "!(length(data(\"selector002_store\"))) || (vlSelectionTest(\"selector002_store\", datum))",
                "value": "steelblue"
               },
               {
                "value": "grey"
               }
              ],
              "opacity": {
               "value": 0.7
              },
              "size": {
               "value": 200
              },
              "tooltip": {
               "signal": "{\"carrier_name\": isValid(datum[\"carrier_name\"]) ? datum[\"carrier_name\"] : \"\"+datum[\"carrier_name\"], \"depdelay\": format(datum[\"depdelay\"], \"\"), \"arrdelay\": format(datum[\"arrdelay\"], \"\")}"
              },
              "x": {
               "field": "depdelay",
               "scale": "concat_1_x"
              },
              "y": {
               "field": "arrdelay",
               "scale": "concat_1_y"
              }
             }
            },
            "from": {
             "data": "data_3"
            },
            "interactive": true,
            "name": "concat_1_layer_0_marks",
            "style": [
             "point"
            ],
            "type": "symbol"
           },
           {
            "encode": {
             "update": {
              "align": {
               "value": "center"
              },
              "baseline": {
               "value": "middle"
              },
              "description": {
               "signal": "\"carrier_name\" + \": \" + (isValid(datum[\"carrier_name\"]) ? datum[\"carrier_name\"] : \"\"+datum[\"carrier_name\"]) + \"; \" + \"depdelay\" + \": \" + (format(datum[\"depdelay\"], \"\")) + \"; \" + \"arrdelay\" + \": \" + (format(datum[\"arrdelay\"], \"\"))"
              },
              "fill": {
               "value": "black"
              },
              "text": {
               "signal": "isValid(datum[\"carrier_name\"]) ? datum[\"carrier_name\"] : \"\"+datum[\"carrier_name\"]"
              },
              "x": {
               "field": "depdelay",
               "scale": "concat_1_x"
              },
              "y": {
               "field": "arrdelay",
               "scale": "concat_1_y"
              }
             }
            },
            "from": {
             "data": "data_3"
            },
            "interactive": false,
            "name": "concat_1_layer_1_marks",
            "style": [
             "text"
            ],
            "type": "text"
           }
          ],
          "name": "concat_1_group",
          "signals": [
           {
            "name": "selector002_tuple",
            "on": [
             {
              "events": [
               {
                "source": "scope",
                "type": "click"
               }
              ],
              "force": true,
              "update": "datum && item().mark.marktype !== 'group' ? {unit: \"concat_1_layer_0\", fields: selector002_tuple_fields, values: [(item().isVoronoi ? datum.datum : datum)[\"carrier_name\"]]} : null"
             },
             {
              "events": [
               {
                "source": "scope",
                "type": "dblclick"
               }
              ],
              "update": "null"
             }
            ]
           },
           {
            "name": "selector002_tuple_fields",
            "value": [
             {
              "field": "carrier_name",
              "type": "E"
             }
            ]
           },
           {
            "name": "selector002_toggle",
            "on": [
             {
              "events": [
               {
                "source": "scope",
                "type": "click"
               }
              ],
              "update": "event.shiftKey"
             },
             {
              "events": [
               {
                "source": "scope",
                "type": "dblclick"
               }
              ],
              "update": "false"
             }
            ],
            "value": false
           },
           {
            "name": "selector002_modify",
            "on": [
             {
              "events": {
               "signal": "selector002_tuple"
              },
              "update": "modify(\"selector002_store\", selector002_toggle ? null : selector002_tuple, selector002_toggle ? null : true, selector002_toggle ? selector002_tuple : null)"
             }
            ]
           }
          ],
          "style": "cell",
          "title": {
           "frame": "group",
           "text": "Carrier Departure Delay by Arrival Delay (Minutes)"
          },
          "type": "group"
         }
        ],
        "padding": 5,
        "scales": [
         {
          "domain": {
           "data": "data_2",
           "field": "__count"
          },
          "name": "concat_0_x",
          "nice": true,
          "range": [
           0,
           {
            "signal": "childWidth"
           }
          ],
          "type": "linear",
          "zero": true
         },
         {
          "domain": {
           "data": "data_1",
           "field": "origin_state",
           "sort": {
            "field": "__count",
            "op": "min",
            "order": "descending"
           }
          },
          "name": "concat_0_y",
          "paddingInner": 0,
          "paddingOuter": 0,
          "range": {
           "step": {
            "signal": "concat_0_y_step"
           }
          },
          "type": "band"
         },
         {
          "domain": {
           "data": "data_3",
           "field": "depdelay"
          },
          "name": "concat_1_x",
          "nice": true,
          "range": [
           0,
           {
            "signal": "childWidth"
           }
          ],
          "type": "linear",
          "zero": true
         },
         {
          "domain": {
           "data": "data_3",
           "field": "arrdelay"
          },
          "name": "concat_1_y",
          "nice": true,
          "range": [
           {
            "signal": "concat_1_height"
           },
           0
          ],
          "type": "linear",
          "zero": true
         }
        ],
        "signals": [
         {
          "name": "childWidth",
          "value": 400
         },
         {
          "name": "concat_0_y_step",
          "value": 20
         },
         {
          "name": "concat_0_height",
          "update": "bandspace(domain('concat_0_y').length, 0, 0) * concat_0_y_step"
         },
         {
          "name": "concat_1_height",
          "value": 300
         },
         {
          "name": "unit",
          "on": [
           {
            "events": "mousemove",
            "update": "isTuple(group()) ? group() : unit"
           }
          ],
          "value": {}
         },
         {
          "name": "selector001",
          "update": "vlSelectionResolve(\"selector001_store\", \"union\", true)"
         },
         {
          "name": "selector002",
          "update": "vlSelectionResolve(\"selector002_store\", \"union\", true)"
         }
        ]
       }
      },
      "text/plain": [
       "<IPython.core.display.JSON object>"
      ]
     },
     "metadata": {
      "application/json": {
       "expanded": false,
       "root": "ibis-vega-transform"
      }
     },
     "output_type": "display_data"
    },
    {
     "data": {
      "application/vnd.vega.ibis.v5+json": {
       "span": {
        "uber-trace-id": "d82e7d0edd0c6a86:9d53c8045fa24a17:0:1"
       },
       "spec": {
        "$schema": "https://vega.github.io/schema/vega-lite/v4.0.2.json",
        "config": {
         "view": {
          "continuousHeight": 300,
          "continuousWidth": 400
         }
        },
        "hconcat": [
         {
          "layer": [
           {
            "data": {
             "name": "ibis:3877461541768115829"
            },
            "encoding": {
             "text": {
              "aggregate": "count",
              "type": "quantitative"
             },
             "x": {
              "aggregate": "count",
              "type": "quantitative"
             },
             "y": {
              "field": "origin_state",
              "sort": {
               "encoding": "x",
               "order": "descending"
              },
              "type": "nominal"
             }
            },
            "mark": {
             "dx": 20,
             "type": "text"
            },
            "transform": [
             {
              "filter": {
               "selection": "selector002"
              }
             }
            ]
           },
           {
            "data": {
             "name": "ibis:3877461541768115829"
            },
            "encoding": {
             "color": {
              "condition": {
               "selection": "selector001",
               "value": "steelblue"
              },
              "value": "grey"
             },
             "x": {
              "aggregate": "count",
              "type": "quantitative"
             },
             "y": {
              "field": "origin_state",
              "sort": {
               "encoding": "x",
               "order": "descending"
              },
              "type": "nominal"
             }
            },
            "mark": "bar",
            "selection": {
             "selector001": {
              "fields": [
               "origin_state"
              ],
              "type": "multi"
             }
            },
            "title": "Total Number of Flights by State",
            "transform": [
             {
              "filter": {
               "selection": "selector002"
              }
             }
            ]
           }
          ]
         },
         {
          "layer": [
           {
            "data": {
             "name": "ibis:3877461541768115829"
            },
            "encoding": {
             "color": {
              "condition": {
               "selection": "selector002",
               "value": "steelblue"
              },
              "value": "grey"
             },
             "tooltip": [
              {
               "field": "carrier_name",
               "type": "nominal"
              },
              {
               "field": "depdelay",
               "type": "quantitative"
              },
              {
               "field": "arrdelay",
               "type": "quantitative"
              }
             ],
             "x": {
              "field": "depdelay",
              "type": "quantitative"
             },
             "y": {
              "field": "arrdelay",
              "type": "quantitative"
             }
            },
            "mark": {
             "filled": true,
             "size": 200,
             "type": "point"
            },
            "selection": {
             "selector002": {
              "fields": [
               "carrier_name"
              ],
              "type": "multi"
             }
            },
            "title": "Carrier Departure Delay by Arrival Delay (Minutes)",
            "transform": [
             {
              "filter": {
               "selection": "selector001"
              }
             },
             {
              "aggregate": [
               {
                "as": "depdelay",
                "field": "depdelay",
                "op": "mean"
               },
               {
                "as": "arrdelay",
                "field": "arrdelay",
                "op": "mean"
               }
              ],
              "groupby": [
               "carrier_name"
              ]
             }
            ]
           },
           {
            "data": {
             "name": "ibis:3877461541768115829"
            },
            "encoding": {
             "text": {
              "field": "carrier_name",
              "type": "nominal"
             },
             "x": {
              "field": "depdelay",
              "type": "quantitative"
             },
             "y": {
              "field": "arrdelay",
              "type": "quantitative"
             }
            },
            "mark": "text",
            "transform": [
             {
              "filter": {
               "selection": "selector001"
              }
             },
             {
              "aggregate": [
               {
                "as": "depdelay",
                "field": "depdelay",
                "op": "mean"
               },
               {
                "as": "arrdelay",
                "field": "arrdelay",
                "op": "mean"
               }
              ],
              "groupby": [
               "carrier_name"
              ]
             }
            ]
           }
          ]
         }
        ]
       }
      },
      "text/plain": [
       "alt.HConcatChart(...)"
      ]
     },
     "execution_count": 25,
     "metadata": {},
     "output_type": "execute_result"
    }
   ],
   "source": [
    "(\n",
    "    create_flights_by_state(lambda c: c.transform_filter(airlines)) |\n",
    "    create_carrier_delay(lambda c: c.transform_filter(states))\n",
    ")"
   ]
  },
  {
   "cell_type": "code",
   "execution_count": 27,
   "metadata": {
    "execution": {
     "iopub.execute_input": "2020-10-02T17:47:21.045646Z",
     "iopub.status.busy": "2020-10-02T17:47:21.045392Z",
     "iopub.status.idle": "2020-10-02T17:47:21.049298Z",
     "shell.execute_reply": "2020-10-02T17:47:21.048379Z",
     "shell.execute_reply.started": "2020-10-02T17:47:21.045618Z"
    }
   },
   "outputs": [],
   "source": [
    "ibis_vega_transform.disable_debug()"
   ]
  },
  {
   "cell_type": "markdown",
   "metadata": {},
   "source": [
    "## Departure Time"
   ]
  },
  {
   "cell_type": "markdown",
   "metadata": {},
   "source": [
    "Now we can add the final part, the depature time chart:"
   ]
  },
  {
   "cell_type": "code",
   "execution_count": 28,
   "metadata": {
    "execution": {
     "iopub.execute_input": "2020-10-02T17:47:24.093645Z",
     "iopub.status.busy": "2020-10-02T17:47:24.093297Z",
     "iopub.status.idle": "2020-10-02T17:47:24.159201Z",
     "shell.execute_reply": "2020-10-02T17:47:24.158505Z",
     "shell.execute_reply.started": "2020-10-02T17:47:24.093617Z"
    }
   },
   "outputs": [
    {
     "data": {
      "application/json": {},
      "text/plain": [
       "<IPython.core.display.JSON object>"
      ]
     },
     "metadata": {
      "application/json": {
       "expanded": false,
       "root": "ibis-vega-transform"
      }
     },
     "output_type": "display_data"
    },
    {
     "data": {
      "application/vnd.vega.ibis.v5+json": {
       "span": {
        "uber-trace-id": "cf54ea46df2a794a:cb6fe2e287e15838:0:1"
       },
       "spec": {
        "$schema": "https://vega.github.io/schema/vega-lite/v4.0.2.json",
        "config": {
         "view": {
          "continuousHeight": 300,
          "continuousWidth": 400
         }
        },
        "data": {
         "name": "ibis:3877461541768115829"
        },
        "encoding": {
         "x": {
          "field": "dep_timestamp",
          "timeUnit": "yearmonthdate",
          "type": "temporal"
         },
         "y": {
          "aggregate": "count",
          "scale": {
           "zero": false
          },
          "type": "quantitative"
         }
        },
        "mark": "line",
        "selection": {
         "selector003": {
          "encodings": [
           "x"
          ],
          "fields": [
           "dep_timestamp"
          ],
          "type": "interval"
         }
        },
        "title": "Number of Flights by Departure Time",
        "transform": [
         {
          "filter": "datum.dep_timestamp != null"
         }
        ]
       }
      },
      "text/plain": [
       "alt.Chart(...)"
      ]
     },
     "execution_count": 28,
     "metadata": {},
     "output_type": "execute_result"
    }
   ],
   "source": [
    "dates = alt.selection_interval(\n",
    "    fields=['dep_timestamp'],\n",
    "    encodings=['x'],\n",
    ")\n",
    "\n",
    "\n",
    "def create_time(map_fn=lambda c:c):\n",
    "    return map_fn(\n",
    "        alt.Chart(\n",
    "            t,\n",
    "            title='Number of Flights by Departure Time'\n",
    "        )\n",
    "    ).transform_filter(\n",
    "        'datum.dep_timestamp != null'\n",
    "    ).mark_line().encode(\n",
    "        alt.X(\n",
    "            'yearmonthdate(dep_timestamp):T',\n",
    "        ),\n",
    "        alt.Y(\n",
    "            'count():Q',\n",
    "            scale=alt.Scale(zero=False)\n",
    "        )\n",
    "    ).add_selection(\n",
    "        dates\n",
    "    )\n",
    "create_time()"
   ]
  },
  {
   "cell_type": "markdown",
   "metadata": {},
   "source": [
    "## Combined"
   ]
  },
  {
   "cell_type": "markdown",
   "metadata": {},
   "source": [
    "And add them all together!"
   ]
  },
  {
   "cell_type": "code",
   "execution_count": 29,
   "metadata": {
    "execution": {
     "iopub.execute_input": "2020-10-02T17:48:04.047385Z",
     "iopub.status.busy": "2020-10-02T17:48:04.047164Z",
     "iopub.status.idle": "2020-10-02T17:48:04.296447Z",
     "shell.execute_reply": "2020-10-02T17:48:04.295873Z",
     "shell.execute_reply.started": "2020-10-02T17:48:04.047361Z"
    }
   },
   "outputs": [
    {
     "data": {
      "application/json": {},
      "text/plain": [
       "<IPython.core.display.JSON object>"
      ]
     },
     "metadata": {
      "application/json": {
       "expanded": false,
       "root": "ibis-vega-transform"
      }
     },
     "output_type": "display_data"
    },
    {
     "data": {
      "application/json": {},
      "text/plain": [
       "<IPython.core.display.JSON object>"
      ]
     },
     "metadata": {
      "application/json": {
       "expanded": false,
       "root": "ibis-vega-transform"
      }
     },
     "output_type": "display_data"
    },
    {
     "data": {
      "application/json": {},
      "text/plain": [
       "<IPython.core.display.JSON object>"
      ]
     },
     "metadata": {
      "application/json": {
       "expanded": false,
       "root": "ibis-vega-transform"
      }
     },
     "output_type": "display_data"
    },
    {
     "data": {
      "application/vnd.vega.ibis.v5+json": {
       "span": {
        "uber-trace-id": "135f07c1ead41c6a:6159ba222ace1d18:0:1"
       },
       "spec": {
        "$schema": "https://vega.github.io/schema/vega-lite/v4.0.2.json",
        "config": {
         "autosize": {
          "resize": true
         },
         "view": {
          "continuousHeight": 300,
          "continuousWidth": 400
         }
        },
        "vconcat": [
         {
          "hconcat": [
           {
            "layer": [
             {
              "data": {
               "name": "ibis:3877461541768115829"
              },
              "encoding": {
               "text": {
                "aggregate": "count",
                "type": "quantitative"
               },
               "x": {
                "aggregate": "count",
                "type": "quantitative"
               },
               "y": {
                "field": "origin_state",
                "sort": {
                 "encoding": "x",
                 "order": "descending"
                },
                "type": "nominal"
               }
              },
              "height": 533.3333333333334,
              "mark": {
               "dx": 20,
               "type": "text"
              },
              "transform": [
               {
                "filter": {
                 "and": [
                  {
                   "selection": "selector002"
                  },
                  {
                   "selection": "selector003"
                  }
                 ]
                }
               }
              ],
              "width": 500
             },
             {
              "data": {
               "name": "ibis:3877461541768115829"
              },
              "encoding": {
               "color": {
                "condition": {
                 "selection": "selector001",
                 "value": "steelblue"
                },
                "value": "grey"
               },
               "x": {
                "aggregate": "count",
                "type": "quantitative"
               },
               "y": {
                "field": "origin_state",
                "sort": {
                 "encoding": "x",
                 "order": "descending"
                },
                "type": "nominal"
               }
              },
              "height": 533.3333333333334,
              "mark": "bar",
              "selection": {
               "selector001": {
                "fields": [
                 "origin_state"
                ],
                "type": "multi"
               }
              },
              "title": "Total Number of Flights by State",
              "transform": [
               {
                "filter": {
                 "and": [
                  {
                   "selection": "selector002"
                  },
                  {
                   "selection": "selector003"
                  }
                 ]
                }
               }
              ],
              "width": 500
             }
            ]
           },
           {
            "height": 533.3333333333334,
            "layer": [
             {
              "data": {
               "name": "ibis:3877461541768115829"
              },
              "encoding": {
               "color": {
                "condition": {
                 "selection": "selector002",
                 "value": "steelblue"
                },
                "value": "grey"
               },
               "tooltip": [
                {
                 "field": "carrier_name",
                 "type": "nominal"
                },
                {
                 "field": "depdelay",
                 "type": "quantitative"
                },
                {
                 "field": "arrdelay",
                 "type": "quantitative"
                }
               ],
               "x": {
                "field": "depdelay",
                "type": "quantitative"
               },
               "y": {
                "field": "arrdelay",
                "type": "quantitative"
               }
              },
              "mark": {
               "filled": true,
               "size": 200,
               "type": "point"
              },
              "selection": {
               "selector002": {
                "fields": [
                 "carrier_name"
                ],
                "type": "multi"
               }
              },
              "title": "Carrier Departure Delay by Arrival Delay (Minutes)",
              "transform": [
               {
                "filter": {
                 "and": [
                  {
                   "selection": "selector003"
                  },
                  {
                   "selection": "selector001"
                  }
                 ]
                }
               },
               {
                "aggregate": [
                 {
                  "as": "depdelay",
                  "field": "depdelay",
                  "op": "mean"
                 },
                 {
                  "as": "arrdelay",
                  "field": "arrdelay",
                  "op": "mean"
                 }
                ],
                "groupby": [
                 "carrier_name"
                ]
               }
              ]
             },
             {
              "data": {
               "name": "ibis:3877461541768115829"
              },
              "encoding": {
               "text": {
                "field": "carrier_name",
                "type": "nominal"
               },
               "x": {
                "field": "depdelay",
                "type": "quantitative"
               },
               "y": {
                "field": "arrdelay",
                "type": "quantitative"
               }
              },
              "mark": "text",
              "transform": [
               {
                "filter": {
                 "and": [
                  {
                   "selection": "selector003"
                  },
                  {
                   "selection": "selector001"
                  }
                 ]
                }
               },
               {
                "aggregate": [
                 {
                  "as": "depdelay",
                  "field": "depdelay",
                  "op": "mean"
                 },
                 {
                  "as": "arrdelay",
                  "field": "arrdelay",
                  "op": "mean"
                 }
                ],
                "groupby": [
                 "carrier_name"
                ]
               }
              ]
             }
            ],
            "width": 500
           }
          ]
         },
         {
          "data": {
           "name": "ibis:3877461541768115829"
          },
          "encoding": {
           "x": {
            "field": "dep_timestamp",
            "timeUnit": "yearmonthdate",
            "type": "temporal"
           },
           "y": {
            "aggregate": "count",
            "scale": {
             "zero": false
            },
            "type": "quantitative"
           }
          },
          "height": 266.6666666666667,
          "mark": "line",
          "selection": {
           "selector003": {
            "encodings": [
             "x"
            ],
            "fields": [
             "dep_timestamp"
            ],
            "type": "interval"
           }
          },
          "title": "Number of Flights by Departure Time",
          "transform": [
           {
            "filter": {
             "and": [
              {
               "selection": "selector002"
              },
              {
               "selection": "selector001"
              }
             ]
            }
           },
           {
            "filter": "datum.dep_timestamp != null"
           }
          ],
          "width": 1050
         }
        ]
       }
      },
      "text/plain": [
       "alt.VConcatChart(...)"
      ]
     },
     "execution_count": 29,
     "metadata": {},
     "output_type": "execute_result"
    }
   ],
   "source": [
    "HEIGHT = 800\n",
    "WIDTH = 1000\n",
    "\n",
    "(\n",
    "        (\n",
    "        create_flights_by_state(\n",
    "            lambda c: c.transform_filter(\n",
    "                {\"and\": [airlines, dates]}\n",
    "            ).properties(\n",
    "                height= 2 * HEIGHT / 3,\n",
    "                width=WIDTH / 2\n",
    "            )\n",
    "        ) | \n",
    "        create_carrier_delay(\n",
    "            lambda c: c.transform_filter(\n",
    "                {\"and\": [dates, states]}\n",
    "            )\n",
    "        ).properties(\n",
    "            height=2 * HEIGHT / 3,\n",
    "            width=WIDTH / 2\n",
    "        )\n",
    "    ) & (\n",
    "        create_time(\n",
    "            lambda c: c.transform_filter(\n",
    "                {\"and\": [airlines, states]}\n",
    "            ).properties(\n",
    "                height=HEIGHT / 3,\n",
    "                width=WIDTH + 50\n",
    "            )\n",
    "        )\n",
    "    )\n",
    ").configure_axis(\n",
    "    grid=False\n",
    ").configure_view(\n",
    "    strokeOpacity=0\n",
    ").configure(\n",
    "    autosize={\n",
    "        'resize': True\n",
    "    }\n",
    ")"
   ]
  },
  {
   "cell_type": "code",
   "execution_count": null,
   "metadata": {},
   "outputs": [],
   "source": []
  }
 ],
 "metadata": {
  "kernelspec": {
   "display_name": "Python 3",
   "language": "python",
   "name": "python3"
  },
  "language_info": {
   "codemirror_mode": {
    "name": "ipython",
    "version": 3
   },
   "file_extension": ".py",
   "mimetype": "text/x-python",
   "name": "python",
   "nbconvert_exporter": "python",
   "pygments_lexer": "ipython3",
   "version": "3.7.6"
  }
 },
 "nbformat": 4,
 "nbformat_minor": 4
}
