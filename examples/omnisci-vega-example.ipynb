{
 "cells": [
  {
   "cell_type": "markdown",
   "metadata": {},
   "source": [
    "# [Omnisci: \"Vega at a Glance\"](https://docs.omnisci.com/latest/6_VegaAtaGlance.html)\n",
    "\n",
    "![](https://gblobscdn.gitbook.com/assets%2F-M6kHkWH17KJKscL0Cc4%2F-M8I37xLq2tX6j9QvwZk%2F-M8I4ObJ2MQX7oKbMrAj%2F6_demoScreenshot.png?alt=media&token=7160b22d-d358-4fee-90f2-d5ee81419ef1)"
   ]
  },
  {
   "cell_type": "code",
   "execution_count": null,
   "metadata": {},
   "outputs": [],
   "source": [
    "import altair as alt\n",
    "import ibis_vega_transform\n",
    "import ibis\n",
    "\n",
    "conn = ibis.omniscidb.connect(\n",
    "    host='metis.mapd.com', user='demouser', password='HyperInteractive',\n",
    "    port=443, database='mapd', protocol= 'https'\n",
    ")\n",
    "t = conn.table(\"tweets_nov_feb\")\n",
    "x, y = t.goog_x, t.goog_y"
   ]
  },
  {
   "cell_type": "code",
   "execution_count": null,
   "metadata": {},
   "outputs": [],
   "source": [
    "WIDTH = 385\n",
    "HEIGHT = 564\n",
    "X_DOMAIN = [\n",
    "        -3650484.1235206556,\n",
    "        7413325.514451755\n",
    "      ]\n",
    "Y_DOMAIN = [\n",
    "        -5778161.9183506705,\n",
    "        10471808.487466192\n",
    "      ]"
   ]
  },
  {
   "cell_type": "code",
   "execution_count": null,
   "metadata": {},
   "outputs": [],
   "source": [
    "scales = alt.selection_interval(\n",
    "    bind='scales',\n",
    ")\n",
    "\n",
    "alt.Chart(t[x, y], width=WIDTH, height=HEIGHT).mark_rect().encode(\n",
    "    alt.X(\n",
    "        'goog_x:Q',\n",
    "        bin=alt.Bin(maxbins=WIDTH),\n",
    "        title='goog_x',\n",
    "        scale=alt.Scale(domain=X_DOMAIN)\n",
    "    ),\n",
    "    alt.Y(\n",
    "        'goog_y:Q',\n",
    "        bin=alt.Bin(maxbins=HEIGHT),\n",
    "        title='goog_y',\n",
    "        scale=alt.Scale(domain=Y_DOMAIN)\n",
    "    ),\n",
    "    tooltip='count()'\n",
    ").add_selection(\n",
    "    scales\n",
    ").transform_filter(\n",
    "    scales\n",
    ")"
   ]
  }
 ],
 "metadata": {
  "kernelspec": {
   "display_name": "Python 3",
   "language": "python",
   "name": "python3"
  },
  "language_info": {
   "codemirror_mode": {
    "name": "ipython",
    "version": 3
   },
   "file_extension": ".py",
   "mimetype": "text/x-python",
   "name": "python",
   "nbconvert_exporter": "python",
   "pygments_lexer": "ipython3",
   "version": "3.7.8"
  }
 },
 "nbformat": 4,
 "nbformat_minor": 4
}
