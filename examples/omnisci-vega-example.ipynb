{
 "cells": [
  {
   "cell_type": "markdown",
   "metadata": {},
   "source": [
    "# [Omnisci: \"Vega at a Glance\"](https://docs.omnisci.com/latest/6_VegaAtaGlance.html)\n",
    "\n",
    "![](https://docs.omnisci.com/latest/images/6_demoScreenshot.png)"
   ]
  },
  {
   "cell_type": "code",
   "execution_count": 1,
   "metadata": {},
   "outputs": [],
   "source": [
    "import altair as alt\n",
    "import ibis_vega_transform\n",
    "import ibis\n",
    "\n",
    "conn = ibis.mapd.connect(\n",
    "    host='metis.mapd.com', user='mapd', password='HyperInteractive',\n",
    "    port=443, database='mapd', protocol= 'https'\n",
    ")\n",
    "t = conn.table(\"tweets_nov_feb\")\n",
    "x, y = t.goog_x, t.goog_y"
   ]
  },
  {
   "cell_type": "code",
   "execution_count": 2,
   "metadata": {},
   "outputs": [],
   "source": [
    "WIDTH = 385\n",
    "HEIGHT = 564\n",
    "X_DOMAIN = [\n",
    "        -3650484.1235206556,\n",
    "        7413325.514451755\n",
    "      ]\n",
    "Y_DOMAIN = [\n",
    "        -5778161.9183506705,\n",
    "        10471808.487466192\n",
    "      ]"
   ]
  },
  {
   "cell_type": "code",
   "execution_count": 7,
   "metadata": {},
   "outputs": [
    {
     "data": {
      "application/vnd.vega.ibis.v5+json": {
       "span": {
        "uber-trace-id": "8010beaed1e2dee:92d2a954e1115195:0:1"
       },
       "spec": {
        "$schema": "https://vega.github.io/schema/vega-lite/v4.0.0.json",
        "config": {
         "view": {
          "continuousHeight": 300,
          "continuousWidth": 400
         }
        },
        "data": {
         "name": "ibis:7955738272341744721"
        },
        "encoding": {
         "tooltip": {
          "aggregate": "count",
          "type": "quantitative"
         },
         "x": {
          "bin": {
           "maxbins": 385
          },
          "field": "goog_x",
          "scale": {
           "domain": [
            -3650484.1235206556,
            7413325.514451755
           ]
          },
          "title": "goog_x",
          "type": "quantitative"
         },
         "y": {
          "bin": {
           "maxbins": 564
          },
          "field": "goog_y",
          "scale": {
           "domain": [
            -5778161.9183506705,
            10471808.487466192
           ]
          },
          "title": "goog_y",
          "type": "quantitative"
         }
        },
        "height": 564,
        "mark": "rect",
        "selection": {
         "selector005": {
          "bind": "scales",
          "type": "interval"
         }
        },
        "transform": [
         {
          "filter": {
           "selection": "selector005"
          }
         }
        ],
        "width": 385
       }
      },
      "text/plain": [
       "alt.Chart(...)"
      ]
     },
     "execution_count": 7,
     "metadata": {},
     "output_type": "execute_result"
    }
   ],
   "source": [
    "scales = alt.selection_interval(\n",
    "    bind='scales',\n",
    ")\n",
    "\n",
    "alt.Chart(t[x, y], width=WIDTH, height=HEIGHT).mark_rect().encode(\n",
    "    alt.X(\n",
    "        'goog_x:Q',\n",
    "        bin=alt.Bin(maxbins=WIDTH),\n",
    "        title='goog_x',\n",
    "        scale=alt.Scale(domain=X_DOMAIN)\n",
    "    ),\n",
    "    alt.Y(\n",
    "        'goog_y:Q',\n",
    "        bin=alt.Bin(maxbins=HEIGHT),\n",
    "        title='goog_y',\n",
    "        scale=alt.Scale(domain=Y_DOMAIN)\n",
    "    ),\n",
    "    tooltip='count()'\n",
    ").add_selection(\n",
    "    scales\n",
    ").transform_filter(\n",
    "    scales\n",
    ")"
   ]
  },
  {
   "cell_type": "code",
   "execution_count": 4,
   "metadata": {},
   "outputs": [],
   "source": [
    "# NOTES\n",
    "\n",
    "# print(t[\n",
    "#     t.goog_x.histogram(\n",
    "#         base=ibis.literal(X_DOMAIN[0], 'float64').cast('float32'),\n",
    "#         binwidth=ibis.literal((X_DOMAIN[1] -  X_DOMAIN[0]) / WIDTH, 'float64').cast('float32')\n",
    "#     ).name(\"x_bin\"),\n",
    "#     t.goog_y.histogram(\n",
    "#         base=ibis.literal(Y_DOMAIN[0], 'float64').cast('float32'),\n",
    "#         binwidth=ibis.literal((Y_DOMAIN[1] -  Y_DOMAIN[0]) / HEIGHT, 'float64').cast('float32'),\n",
    "        \n",
    "#     ).name(\"y_bin\"),\n",
    "# ].group_by([\n",
    "#     \"x_bin\",\n",
    "#     \"y_bin\"\n",
    "# ]).aggregate(\n",
    "#     t.count()\n",
    "# ).compile())\n",
    "\n",
    "\n",
    "# def bin(transform, expr: ibis.Expr) -> ibis.Expr:\n",
    "#     \"\"\"\n",
    "#     Apply a vega bin transform to an ibis expression.\n",
    "#     https://vega.github.io/vega/docs/transforms/bin/\n",
    "#     \"\"\"\n",
    "\n",
    "#     field = expr[transform[\"field\"]]\n",
    "#     as_left, as_right = transform[\"as\"]\n",
    "#     maxbins = transform[\"maxbins\"]\n",
    "#     extent = expr[transform[\"extent\"]]\n",
    "\n",
    "    \n",
    "#     # Case these to floats to work around\n",
    "#     # https://github.com/ibis-project/ibis/issues/1934\n",
    "#     binwidth = ((t_max - t_min) / maxbins).name(\"bin_width\")\n",
    "\n",
    "#     bin_ = ((field - t_min) / binwidth).floor()\n",
    "#     left = (t_min + (bin_ * binwidth)).name(as_left)\n",
    "#     right = (left + binwidth).name(as_right)\n",
    "\n",
    "#     # add the two new fields and remove the initial column\n",
    "#     return expr.select([left, right] + [c for c in expr.columns if c != transform[\"field\"]])\n",
    "\n",
    "\n",
    "\n",
    "# print(bin({\"field\": \"goog_x\", \"as\": [\"bin_x\", \"bin_x_end\"], \"maxbins\": WIDTH, \"extent\": \"goog_x\"}, t[t['goog_x']]).groupby([\"bin_x\", \"bin_x_end\"]).aggregate(ibis.expr.api.count(t)).compile())\n",
    "\n",
    "\n",
    "# t_new = t[t.goog_x.histogram(\n",
    "#     base=ibis.literal(X_DOMAIN[0], 'float64').cast('float32'),\n",
    "#     binwidth=ibis.literal((X_DOMAIN[1] -  X_DOMAIN[0]) / WIDTH, 'float64').cast('float32')\n",
    "# ).name('hist')]\n",
    "# print(t_new.compile())"
   ]
  },
  {
   "cell_type": "code",
   "execution_count": null,
   "metadata": {},
   "outputs": [],
   "source": []
  }
 ],
 "metadata": {
  "kernelspec": {
   "display_name": "Python 3",
   "language": "python",
   "name": "python3"
  },
  "language_info": {
   "codemirror_mode": {
    "name": "ipython",
    "version": 3
   },
   "file_extension": ".py",
   "mimetype": "text/x-python",
   "name": "python",
   "nbconvert_exporter": "python",
   "pygments_lexer": "ipython3",
   "version": "3.7.6"
  }
 },
 "nbformat": 4,
 "nbformat_minor": 4
}
