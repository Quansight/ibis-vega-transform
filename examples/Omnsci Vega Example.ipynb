{
 "cells": [
  {
   "cell_type": "markdown",
   "metadata": {},
   "source": [
    "# [Omnisci: \"Vega at a Glance\"](https://docs.omnisci.com/latest/6_VegaAtaGlance.html)\n",
    "\n",
    "![](https://docs.omnisci.com/latest/images/6_demoScreenshot.png)"
   ]
  },
  {
   "cell_type": "code",
   "execution_count": 1,
   "metadata": {},
   "outputs": [],
   "source": [
    "import altair as alt\n",
    "import ibis_vega_transform\n",
    "import ibis\n",
    "\n",
    "conn = ibis.mapd.connect(\n",
    "    host='metis.mapd.com', user='mapd', password='HyperInteractive',\n",
    "    port=443, database='mapd', protocol= 'https'\n",
    ")\n",
    "t = conn.table(\"tweets_nov_feb\")\n",
    "x, y = t.goog_x, t.goog_y"
   ]
  },
  {
   "cell_type": "code",
   "execution_count": 2,
   "metadata": {},
   "outputs": [],
   "source": [
    "WIDTH = 385\n",
    "HEIGHT = 564\n",
    "X_DOMAIN = [\n",
    "        -3650484.1235206556,\n",
    "        7413325.514451755\n",
    "      ]\n",
    "Y_DOMAIN = [\n",
    "        -5778161.9183506705,\n",
    "        10471808.487466192\n",
    "      ]"
   ]
  },
  {
   "cell_type": "code",
   "execution_count": 10,
   "metadata": {},
   "outputs": [
    {
     "data": {
      "application/vnd.vega.ibis.v5+json": {
       "$schema": "https://vega.github.io/schema/vega-lite/v3.4.0.json",
       "config": {
        "mark": {
         "tooltip": null
        },
        "view": {
         "height": 300,
         "width": 400
        }
       },
       "data": {
        "name": "ibis:-2760770057591329436"
       },
       "encoding": {
        "tooltip": {
         "aggregate": "count",
         "type": "quantitative"
        },
        "x": {
         "bin": {
          "binned": true
         },
         "field": "bin_x",
         "title": "goog_x",
         "type": "quantitative"
        },
        "x2": {
         "field": "bin_x_end"
        },
        "y": {
         "bin": {
          "binned": true
         },
         "field": "bin_y",
         "title": "goog_y",
         "type": "quantitative"
        },
        "y2": {
         "field": "bin_y_end"
        }
       },
       "height": 564,
       "mark": "rect",
       "selection": {
        "selector007": {
         "bind": "scales",
         "type": "interval"
        }
       },
       "transform": [
        {
         "filter": {
          "selection": "selector007"
         }
        },
        {
         "as": "bin_x",
         "bin": {
          "maxbins": 385
         },
         "field": "goog_x"
        },
        {
         "as": "bin_y",
         "bin": {
          "maxbins": 564
         },
         "field": "goog_y"
        }
       ],
       "width": 385
      },
      "text/plain": [
       "alt.Chart(...)"
      ]
     },
     "execution_count": 10,
     "metadata": {},
     "output_type": "execute_result"
    }
   ],
   "source": [
    "DEBOUNCE_MS = 400\n",
    "\n",
    "ibis_vega_transform.altair.FALLBACK = False\n",
    "\n",
    "scales = alt.selection_interval(\n",
    "    bind='scales',\n",
    "#     on=f'[mousedown, window:mouseup] > window:mousemove!{{100, {DEBOUNCE_MS}}}',\n",
    "#     translate=f'[mousedown, window:mouseup] > window:mousemove!{{100, {DEBOUNCE_MS}}}',\n",
    "#     zoom=f'wheel!{{100, {DEBOUNCE_MS}}}',\n",
    ")\n",
    "\n",
    "alt.Chart(t[x, y], width=WIDTH, height=HEIGHT).mark_rect().encode(\n",
    "    alt.X('bin_x:Q', bin=alt.Bin(binned=True), title='goog_x'),\n",
    "    alt.X2('bin_x_end'),\n",
    "    alt.Y('bin_y:Q', bin=alt.Bin(binned=True), title='goog_y'),\n",
    "    alt.Y2('bin_y_end'),\n",
    "    tooltip='count()'\n",
    ").add_selection(\n",
    "    scales\n",
    ").transform_filter(\n",
    "    scales\n",
    ").transform_bin(\n",
    "    'bin_x',\n",
    "    'goog_x',\n",
    "    bin=alt.Bin(maxbins=WIDTH)\n",
    ").transform_bin(\n",
    "    'bin_y',\n",
    "    'goog_y',\n",
    "    bin=alt.Bin(maxbins=HEIGHT)\n",
    ")"
   ]
  },
  {
   "cell_type": "code",
   "execution_count": 4,
   "metadata": {
    "scrolled": true
   },
   "outputs": [
    {
     "data": {
      "text/html": [
       "<style>.output_html .hll { background-color: #ffffcc }\n",
       ".output_html  { background: #f8f8f8; }\n",
       ".output_html .c { color: #408080; font-style: italic } /* Comment */\n",
       ".output_html .err { border: 1px solid #FF0000 } /* Error */\n",
       ".output_html .k { color: #008000; font-weight: bold } /* Keyword */\n",
       ".output_html .o { color: #666666 } /* Operator */\n",
       ".output_html .ch { color: #408080; font-style: italic } /* Comment.Hashbang */\n",
       ".output_html .cm { color: #408080; font-style: italic } /* Comment.Multiline */\n",
       ".output_html .cp { color: #BC7A00 } /* Comment.Preproc */\n",
       ".output_html .cpf { color: #408080; font-style: italic } /* Comment.PreprocFile */\n",
       ".output_html .c1 { color: #408080; font-style: italic } /* Comment.Single */\n",
       ".output_html .cs { color: #408080; font-style: italic } /* Comment.Special */\n",
       ".output_html .gd { color: #A00000 } /* Generic.Deleted */\n",
       ".output_html .ge { font-style: italic } /* Generic.Emph */\n",
       ".output_html .gr { color: #FF0000 } /* Generic.Error */\n",
       ".output_html .gh { color: #000080; font-weight: bold } /* Generic.Heading */\n",
       ".output_html .gi { color: #00A000 } /* Generic.Inserted */\n",
       ".output_html .go { color: #888888 } /* Generic.Output */\n",
       ".output_html .gp { color: #000080; font-weight: bold } /* Generic.Prompt */\n",
       ".output_html .gs { font-weight: bold } /* Generic.Strong */\n",
       ".output_html .gu { color: #800080; font-weight: bold } /* Generic.Subheading */\n",
       ".output_html .gt { color: #0044DD } /* Generic.Traceback */\n",
       ".output_html .kc { color: #008000; font-weight: bold } /* Keyword.Constant */\n",
       ".output_html .kd { color: #008000; font-weight: bold } /* Keyword.Declaration */\n",
       ".output_html .kn { color: #008000; font-weight: bold } /* Keyword.Namespace */\n",
       ".output_html .kp { color: #008000 } /* Keyword.Pseudo */\n",
       ".output_html .kr { color: #008000; font-weight: bold } /* Keyword.Reserved */\n",
       ".output_html .kt { color: #B00040 } /* Keyword.Type */\n",
       ".output_html .m { color: #666666 } /* Literal.Number */\n",
       ".output_html .s { color: #BA2121 } /* Literal.String */\n",
       ".output_html .na { color: #7D9029 } /* Name.Attribute */\n",
       ".output_html .nb { color: #008000 } /* Name.Builtin */\n",
       ".output_html .nc { color: #0000FF; font-weight: bold } /* Name.Class */\n",
       ".output_html .no { color: #880000 } /* Name.Constant */\n",
       ".output_html .nd { color: #AA22FF } /* Name.Decorator */\n",
       ".output_html .ni { color: #999999; font-weight: bold } /* Name.Entity */\n",
       ".output_html .ne { color: #D2413A; font-weight: bold } /* Name.Exception */\n",
       ".output_html .nf { color: #0000FF } /* Name.Function */\n",
       ".output_html .nl { color: #A0A000 } /* Name.Label */\n",
       ".output_html .nn { color: #0000FF; font-weight: bold } /* Name.Namespace */\n",
       ".output_html .nt { color: #008000; font-weight: bold } /* Name.Tag */\n",
       ".output_html .nv { color: #19177C } /* Name.Variable */\n",
       ".output_html .ow { color: #AA22FF; font-weight: bold } /* Operator.Word */\n",
       ".output_html .w { color: #bbbbbb } /* Text.Whitespace */\n",
       ".output_html .mb { color: #666666 } /* Literal.Number.Bin */\n",
       ".output_html .mf { color: #666666 } /* Literal.Number.Float */\n",
       ".output_html .mh { color: #666666 } /* Literal.Number.Hex */\n",
       ".output_html .mi { color: #666666 } /* Literal.Number.Integer */\n",
       ".output_html .mo { color: #666666 } /* Literal.Number.Oct */\n",
       ".output_html .sa { color: #BA2121 } /* Literal.String.Affix */\n",
       ".output_html .sb { color: #BA2121 } /* Literal.String.Backtick */\n",
       ".output_html .sc { color: #BA2121 } /* Literal.String.Char */\n",
       ".output_html .dl { color: #BA2121 } /* Literal.String.Delimiter */\n",
       ".output_html .sd { color: #BA2121; font-style: italic } /* Literal.String.Doc */\n",
       ".output_html .s2 { color: #BA2121 } /* Literal.String.Double */\n",
       ".output_html .se { color: #BB6622; font-weight: bold } /* Literal.String.Escape */\n",
       ".output_html .sh { color: #BA2121 } /* Literal.String.Heredoc */\n",
       ".output_html .si { color: #BB6688; font-weight: bold } /* Literal.String.Interpol */\n",
       ".output_html .sx { color: #008000 } /* Literal.String.Other */\n",
       ".output_html .sr { color: #BB6688 } /* Literal.String.Regex */\n",
       ".output_html .s1 { color: #BA2121 } /* Literal.String.Single */\n",
       ".output_html .ss { color: #19177C } /* Literal.String.Symbol */\n",
       ".output_html .bp { color: #008000 } /* Name.Builtin.Pseudo */\n",
       ".output_html .fm { color: #0000FF } /* Name.Function.Magic */\n",
       ".output_html .vc { color: #19177C } /* Name.Variable.Class */\n",
       ".output_html .vg { color: #19177C } /* Name.Variable.Global */\n",
       ".output_html .vi { color: #19177C } /* Name.Variable.Instance */\n",
       ".output_html .vm { color: #19177C } /* Name.Variable.Magic */\n",
       ".output_html .il { color: #666666 } /* Literal.Number.Integer.Long */</style><div class=\"highlight\"><pre><span></span><span class=\"k\">SELECT</span> <span class=\"n\">t0</span><span class=\"p\">.</span><span class=\"ss\">&quot;bin_x&quot;</span><span class=\"p\">,</span> <span class=\"n\">t0</span><span class=\"p\">.</span><span class=\"ss\">&quot;bin_x_end&quot;</span><span class=\"p\">,</span> <span class=\"n\">t0</span><span class=\"p\">.</span><span class=\"ss\">&quot;bin_y&quot;</span><span class=\"p\">,</span> <span class=\"n\">t0</span><span class=\"p\">.</span><span class=\"ss\">&quot;bin_y_end&quot;</span><span class=\"p\">,</span>\n",
       "       <span class=\"k\">count</span><span class=\"p\">(</span><span class=\"o\">*</span><span class=\"p\">)</span> <span class=\"k\">AS</span> <span class=\"n\">__count</span>\n",
       "<span class=\"k\">FROM</span> <span class=\"p\">(</span>\n",
       "  <span class=\"k\">SELECT</span> <span class=\"ss\">&quot;goog_x&quot;</span><span class=\"p\">,</span> <span class=\"ss\">&quot;goog_y&quot;</span><span class=\"p\">,</span> <span class=\"ss\">&quot;bin_x&quot;</span><span class=\"p\">,</span>\n",
       "         <span class=\"k\">CAST</span><span class=\"p\">(</span><span class=\"o\">-</span><span class=\"mi\">59613540</span><span class=\"p\">.</span><span class=\"mi\">0</span> <span class=\"k\">AS</span> <span class=\"nb\">FLOAT</span><span class=\"p\">)</span> <span class=\"o\">+</span> <span class=\"p\">(</span><span class=\"n\">floor</span><span class=\"p\">((</span><span class=\"ss\">&quot;goog_y&quot;</span> <span class=\"o\">-</span> <span class=\"k\">CAST</span><span class=\"p\">(</span><span class=\"o\">-</span><span class=\"mi\">59613540</span><span class=\"p\">.</span><span class=\"mi\">0</span> <span class=\"k\">AS</span> <span class=\"nb\">FLOAT</span><span class=\"p\">))</span> <span class=\"o\">/</span> <span class=\"p\">(</span><span class=\"k\">CAST</span><span class=\"p\">(</span><span class=\"mi\">85547096</span><span class=\"p\">.</span><span class=\"mi\">0</span> <span class=\"k\">AS</span> <span class=\"nb\">FLOAT</span><span class=\"p\">)</span> <span class=\"o\">/</span> <span class=\"mi\">564</span><span class=\"p\">))</span> <span class=\"o\">*</span> <span class=\"p\">(</span><span class=\"k\">CAST</span><span class=\"p\">(</span><span class=\"mi\">85547096</span><span class=\"p\">.</span><span class=\"mi\">0</span> <span class=\"k\">AS</span> <span class=\"nb\">FLOAT</span><span class=\"p\">)</span> <span class=\"o\">/</span> <span class=\"mi\">564</span><span class=\"p\">))</span> <span class=\"k\">AS</span> <span class=\"n\">bin_y</span><span class=\"p\">,</span>\n",
       "         <span class=\"ss\">&quot;bin_x_end&quot;</span><span class=\"p\">,</span>\n",
       "         <span class=\"p\">(</span><span class=\"k\">CAST</span><span class=\"p\">(</span><span class=\"o\">-</span><span class=\"mi\">59613540</span><span class=\"p\">.</span><span class=\"mi\">0</span> <span class=\"k\">AS</span> <span class=\"nb\">FLOAT</span><span class=\"p\">)</span> <span class=\"o\">+</span> <span class=\"p\">(</span><span class=\"n\">floor</span><span class=\"p\">((</span><span class=\"ss\">&quot;goog_y&quot;</span> <span class=\"o\">-</span> <span class=\"k\">CAST</span><span class=\"p\">(</span><span class=\"o\">-</span><span class=\"mi\">59613540</span><span class=\"p\">.</span><span class=\"mi\">0</span> <span class=\"k\">AS</span> <span class=\"nb\">FLOAT</span><span class=\"p\">))</span> <span class=\"o\">/</span> <span class=\"p\">(</span><span class=\"k\">CAST</span><span class=\"p\">(</span><span class=\"mi\">85547096</span><span class=\"p\">.</span><span class=\"mi\">0</span> <span class=\"k\">AS</span> <span class=\"nb\">FLOAT</span><span class=\"p\">)</span> <span class=\"o\">/</span> <span class=\"mi\">564</span><span class=\"p\">))</span> <span class=\"o\">*</span> <span class=\"p\">(</span><span class=\"k\">CAST</span><span class=\"p\">(</span><span class=\"mi\">85547096</span><span class=\"p\">.</span><span class=\"mi\">0</span> <span class=\"k\">AS</span> <span class=\"nb\">FLOAT</span><span class=\"p\">)</span> <span class=\"o\">/</span> <span class=\"mi\">564</span><span class=\"p\">)))</span> <span class=\"o\">+</span> <span class=\"p\">(</span><span class=\"k\">CAST</span><span class=\"p\">(</span><span class=\"mi\">85547096</span><span class=\"p\">.</span><span class=\"mi\">0</span> <span class=\"k\">AS</span> <span class=\"nb\">FLOAT</span><span class=\"p\">)</span> <span class=\"o\">/</span> <span class=\"mi\">564</span><span class=\"p\">)</span> <span class=\"k\">AS</span> <span class=\"n\">bin_y_end</span>\n",
       "  <span class=\"k\">FROM</span> <span class=\"p\">(</span>\n",
       "    <span class=\"k\">SELECT</span> <span class=\"ss\">&quot;goog_x&quot;</span><span class=\"p\">,</span> <span class=\"ss\">&quot;goog_y&quot;</span><span class=\"p\">,</span>\n",
       "           <span class=\"k\">CAST</span><span class=\"p\">(</span><span class=\"o\">-</span><span class=\"mi\">19793718</span><span class=\"p\">.</span><span class=\"mi\">0</span> <span class=\"k\">AS</span> <span class=\"nb\">FLOAT</span><span class=\"p\">)</span> <span class=\"o\">+</span> <span class=\"p\">(</span><span class=\"n\">floor</span><span class=\"p\">((</span><span class=\"ss\">&quot;goog_x&quot;</span> <span class=\"o\">-</span> <span class=\"k\">CAST</span><span class=\"p\">(</span><span class=\"o\">-</span><span class=\"mi\">19793718</span><span class=\"p\">.</span><span class=\"mi\">0</span> <span class=\"k\">AS</span> <span class=\"nb\">FLOAT</span><span class=\"p\">))</span> <span class=\"o\">/</span> <span class=\"p\">(</span><span class=\"k\">CAST</span><span class=\"p\">(</span><span class=\"mi\">39719904</span><span class=\"p\">.</span><span class=\"mi\">0</span> <span class=\"k\">AS</span> <span class=\"nb\">FLOAT</span><span class=\"p\">)</span> <span class=\"o\">/</span> <span class=\"mi\">385</span><span class=\"p\">))</span> <span class=\"o\">*</span> <span class=\"p\">(</span><span class=\"k\">CAST</span><span class=\"p\">(</span><span class=\"mi\">39719904</span><span class=\"p\">.</span><span class=\"mi\">0</span> <span class=\"k\">AS</span> <span class=\"nb\">FLOAT</span><span class=\"p\">)</span> <span class=\"o\">/</span> <span class=\"mi\">385</span><span class=\"p\">))</span> <span class=\"k\">AS</span> <span class=\"n\">bin_x</span><span class=\"p\">,</span>\n",
       "           <span class=\"ss\">&quot;bin_y&quot;</span><span class=\"p\">,</span>\n",
       "           <span class=\"p\">(</span><span class=\"k\">CAST</span><span class=\"p\">(</span><span class=\"o\">-</span><span class=\"mi\">19793718</span><span class=\"p\">.</span><span class=\"mi\">0</span> <span class=\"k\">AS</span> <span class=\"nb\">FLOAT</span><span class=\"p\">)</span> <span class=\"o\">+</span> <span class=\"p\">(</span><span class=\"n\">floor</span><span class=\"p\">((</span><span class=\"ss\">&quot;goog_x&quot;</span> <span class=\"o\">-</span> <span class=\"k\">CAST</span><span class=\"p\">(</span><span class=\"o\">-</span><span class=\"mi\">19793718</span><span class=\"p\">.</span><span class=\"mi\">0</span> <span class=\"k\">AS</span> <span class=\"nb\">FLOAT</span><span class=\"p\">))</span> <span class=\"o\">/</span> <span class=\"p\">(</span><span class=\"k\">CAST</span><span class=\"p\">(</span><span class=\"mi\">39719904</span><span class=\"p\">.</span><span class=\"mi\">0</span> <span class=\"k\">AS</span> <span class=\"nb\">FLOAT</span><span class=\"p\">)</span> <span class=\"o\">/</span> <span class=\"mi\">385</span><span class=\"p\">))</span> <span class=\"o\">*</span> <span class=\"p\">(</span><span class=\"k\">CAST</span><span class=\"p\">(</span><span class=\"mi\">39719904</span><span class=\"p\">.</span><span class=\"mi\">0</span> <span class=\"k\">AS</span> <span class=\"nb\">FLOAT</span><span class=\"p\">)</span> <span class=\"o\">/</span> <span class=\"mi\">385</span><span class=\"p\">)))</span> <span class=\"o\">+</span> <span class=\"p\">(</span><span class=\"k\">CAST</span><span class=\"p\">(</span><span class=\"mi\">39719904</span><span class=\"p\">.</span><span class=\"mi\">0</span> <span class=\"k\">AS</span> <span class=\"nb\">FLOAT</span><span class=\"p\">)</span> <span class=\"o\">/</span> <span class=\"mi\">385</span><span class=\"p\">)</span> <span class=\"k\">AS</span> <span class=\"n\">bin_x_end</span>\n",
       "    <span class=\"k\">FROM</span> <span class=\"p\">(</span>\n",
       "      <span class=\"k\">SELECT</span> <span class=\"o\">*</span><span class=\"p\">,</span> <span class=\"ss\">&quot;goog_y&quot;</span> <span class=\"k\">AS</span> <span class=\"n\">bin_y</span>\n",
       "      <span class=\"k\">FROM</span> <span class=\"p\">(</span>\n",
       "        <span class=\"k\">SELECT</span> <span class=\"ss\">&quot;goog_x&quot;</span><span class=\"p\">,</span> <span class=\"ss\">&quot;goog_y&quot;</span><span class=\"p\">,</span> <span class=\"ss\">&quot;goog_x&quot;</span> <span class=\"k\">AS</span> <span class=\"n\">bin_x</span>\n",
       "        <span class=\"k\">FROM</span> <span class=\"n\">tweets_nov_feb</span>\n",
       "      <span class=\"p\">)</span> <span class=\"n\">t4</span>\n",
       "    <span class=\"p\">)</span> <span class=\"n\">t3</span>\n",
       "  <span class=\"p\">)</span> <span class=\"n\">t2</span>\n",
       "<span class=\"p\">)</span> <span class=\"n\">t0</span>\n",
       "<span class=\"k\">WHERE</span> <span class=\"p\">((</span><span class=\"k\">NOT</span> <span class=\"p\">(</span><span class=\"n\">t0</span><span class=\"p\">.</span><span class=\"ss\">&quot;bin_x&quot;</span> <span class=\"k\">IS</span> <span class=\"k\">NULL</span><span class=\"p\">)</span> <span class=\"k\">AND</span> <span class=\"k\">NOT</span> <span class=\"p\">(</span><span class=\"n\">t0</span><span class=\"p\">.</span><span class=\"ss\">&quot;bin_x&quot;</span> <span class=\"k\">IS</span> <span class=\"k\">NULL</span><span class=\"p\">))</span> <span class=\"k\">AND</span> <span class=\"k\">NOT</span> <span class=\"p\">(</span><span class=\"n\">t0</span><span class=\"p\">.</span><span class=\"ss\">&quot;bin_y&quot;</span> <span class=\"k\">IS</span> <span class=\"k\">NULL</span><span class=\"p\">))</span> <span class=\"k\">AND</span> <span class=\"k\">NOT</span> <span class=\"p\">(</span><span class=\"n\">t0</span><span class=\"p\">.</span><span class=\"ss\">&quot;bin_y&quot;</span> <span class=\"k\">IS</span> <span class=\"k\">NULL</span><span class=\"p\">)</span>\n",
       "<span class=\"k\">GROUP</span> <span class=\"k\">BY</span> <span class=\"n\">bin_x</span><span class=\"p\">,</span> <span class=\"n\">bin_x_end</span><span class=\"p\">,</span> <span class=\"n\">bin_y</span><span class=\"p\">,</span> <span class=\"n\">bin_y_end</span>\n",
       "</pre></div>\n"
      ],
      "text/latex": [
       "\\begin{Verbatim}[commandchars=\\\\\\{\\}]\n",
       "\\PY{k}{SELECT} \\PY{n}{t0}\\PY{p}{.}\\PY{l+s+ss}{\\PYZdq{}bin\\PYZus{}x\\PYZdq{}}\\PY{p}{,} \\PY{n}{t0}\\PY{p}{.}\\PY{l+s+ss}{\\PYZdq{}bin\\PYZus{}x\\PYZus{}end\\PYZdq{}}\\PY{p}{,} \\PY{n}{t0}\\PY{p}{.}\\PY{l+s+ss}{\\PYZdq{}bin\\PYZus{}y\\PYZdq{}}\\PY{p}{,} \\PY{n}{t0}\\PY{p}{.}\\PY{l+s+ss}{\\PYZdq{}bin\\PYZus{}y\\PYZus{}end\\PYZdq{}}\\PY{p}{,}\n",
       "       \\PY{k}{count}\\PY{p}{(}\\PY{o}{*}\\PY{p}{)} \\PY{k}{AS} \\PY{n}{\\PYZus{}\\PYZus{}count}\n",
       "\\PY{k}{FROM} \\PY{p}{(}\n",
       "  \\PY{k}{SELECT} \\PY{l+s+ss}{\\PYZdq{}goog\\PYZus{}x\\PYZdq{}}\\PY{p}{,} \\PY{l+s+ss}{\\PYZdq{}goog\\PYZus{}y\\PYZdq{}}\\PY{p}{,} \\PY{l+s+ss}{\\PYZdq{}bin\\PYZus{}x\\PYZdq{}}\\PY{p}{,}\n",
       "         \\PY{k}{CAST}\\PY{p}{(}\\PY{o}{\\PYZhy{}}\\PY{l+m+mi}{59613540}\\PY{p}{.}\\PY{l+m+mi}{0} \\PY{k}{AS} \\PY{n+nb}{FLOAT}\\PY{p}{)} \\PY{o}{+} \\PY{p}{(}\\PY{n}{floor}\\PY{p}{(}\\PY{p}{(}\\PY{l+s+ss}{\\PYZdq{}goog\\PYZus{}y\\PYZdq{}} \\PY{o}{\\PYZhy{}} \\PY{k}{CAST}\\PY{p}{(}\\PY{o}{\\PYZhy{}}\\PY{l+m+mi}{59613540}\\PY{p}{.}\\PY{l+m+mi}{0} \\PY{k}{AS} \\PY{n+nb}{FLOAT}\\PY{p}{)}\\PY{p}{)} \\PY{o}{/} \\PY{p}{(}\\PY{k}{CAST}\\PY{p}{(}\\PY{l+m+mi}{85547096}\\PY{p}{.}\\PY{l+m+mi}{0} \\PY{k}{AS} \\PY{n+nb}{FLOAT}\\PY{p}{)} \\PY{o}{/} \\PY{l+m+mi}{564}\\PY{p}{)}\\PY{p}{)} \\PY{o}{*} \\PY{p}{(}\\PY{k}{CAST}\\PY{p}{(}\\PY{l+m+mi}{85547096}\\PY{p}{.}\\PY{l+m+mi}{0} \\PY{k}{AS} \\PY{n+nb}{FLOAT}\\PY{p}{)} \\PY{o}{/} \\PY{l+m+mi}{564}\\PY{p}{)}\\PY{p}{)} \\PY{k}{AS} \\PY{n}{bin\\PYZus{}y}\\PY{p}{,}\n",
       "         \\PY{l+s+ss}{\\PYZdq{}bin\\PYZus{}x\\PYZus{}end\\PYZdq{}}\\PY{p}{,}\n",
       "         \\PY{p}{(}\\PY{k}{CAST}\\PY{p}{(}\\PY{o}{\\PYZhy{}}\\PY{l+m+mi}{59613540}\\PY{p}{.}\\PY{l+m+mi}{0} \\PY{k}{AS} \\PY{n+nb}{FLOAT}\\PY{p}{)} \\PY{o}{+} \\PY{p}{(}\\PY{n}{floor}\\PY{p}{(}\\PY{p}{(}\\PY{l+s+ss}{\\PYZdq{}goog\\PYZus{}y\\PYZdq{}} \\PY{o}{\\PYZhy{}} \\PY{k}{CAST}\\PY{p}{(}\\PY{o}{\\PYZhy{}}\\PY{l+m+mi}{59613540}\\PY{p}{.}\\PY{l+m+mi}{0} \\PY{k}{AS} \\PY{n+nb}{FLOAT}\\PY{p}{)}\\PY{p}{)} \\PY{o}{/} \\PY{p}{(}\\PY{k}{CAST}\\PY{p}{(}\\PY{l+m+mi}{85547096}\\PY{p}{.}\\PY{l+m+mi}{0} \\PY{k}{AS} \\PY{n+nb}{FLOAT}\\PY{p}{)} \\PY{o}{/} \\PY{l+m+mi}{564}\\PY{p}{)}\\PY{p}{)} \\PY{o}{*} \\PY{p}{(}\\PY{k}{CAST}\\PY{p}{(}\\PY{l+m+mi}{85547096}\\PY{p}{.}\\PY{l+m+mi}{0} \\PY{k}{AS} \\PY{n+nb}{FLOAT}\\PY{p}{)} \\PY{o}{/} \\PY{l+m+mi}{564}\\PY{p}{)}\\PY{p}{)}\\PY{p}{)} \\PY{o}{+} \\PY{p}{(}\\PY{k}{CAST}\\PY{p}{(}\\PY{l+m+mi}{85547096}\\PY{p}{.}\\PY{l+m+mi}{0} \\PY{k}{AS} \\PY{n+nb}{FLOAT}\\PY{p}{)} \\PY{o}{/} \\PY{l+m+mi}{564}\\PY{p}{)} \\PY{k}{AS} \\PY{n}{bin\\PYZus{}y\\PYZus{}end}\n",
       "  \\PY{k}{FROM} \\PY{p}{(}\n",
       "    \\PY{k}{SELECT} \\PY{l+s+ss}{\\PYZdq{}goog\\PYZus{}x\\PYZdq{}}\\PY{p}{,} \\PY{l+s+ss}{\\PYZdq{}goog\\PYZus{}y\\PYZdq{}}\\PY{p}{,}\n",
       "           \\PY{k}{CAST}\\PY{p}{(}\\PY{o}{\\PYZhy{}}\\PY{l+m+mi}{19793718}\\PY{p}{.}\\PY{l+m+mi}{0} \\PY{k}{AS} \\PY{n+nb}{FLOAT}\\PY{p}{)} \\PY{o}{+} \\PY{p}{(}\\PY{n}{floor}\\PY{p}{(}\\PY{p}{(}\\PY{l+s+ss}{\\PYZdq{}goog\\PYZus{}x\\PYZdq{}} \\PY{o}{\\PYZhy{}} \\PY{k}{CAST}\\PY{p}{(}\\PY{o}{\\PYZhy{}}\\PY{l+m+mi}{19793718}\\PY{p}{.}\\PY{l+m+mi}{0} \\PY{k}{AS} \\PY{n+nb}{FLOAT}\\PY{p}{)}\\PY{p}{)} \\PY{o}{/} \\PY{p}{(}\\PY{k}{CAST}\\PY{p}{(}\\PY{l+m+mi}{39719904}\\PY{p}{.}\\PY{l+m+mi}{0} \\PY{k}{AS} \\PY{n+nb}{FLOAT}\\PY{p}{)} \\PY{o}{/} \\PY{l+m+mi}{385}\\PY{p}{)}\\PY{p}{)} \\PY{o}{*} \\PY{p}{(}\\PY{k}{CAST}\\PY{p}{(}\\PY{l+m+mi}{39719904}\\PY{p}{.}\\PY{l+m+mi}{0} \\PY{k}{AS} \\PY{n+nb}{FLOAT}\\PY{p}{)} \\PY{o}{/} \\PY{l+m+mi}{385}\\PY{p}{)}\\PY{p}{)} \\PY{k}{AS} \\PY{n}{bin\\PYZus{}x}\\PY{p}{,}\n",
       "           \\PY{l+s+ss}{\\PYZdq{}bin\\PYZus{}y\\PYZdq{}}\\PY{p}{,}\n",
       "           \\PY{p}{(}\\PY{k}{CAST}\\PY{p}{(}\\PY{o}{\\PYZhy{}}\\PY{l+m+mi}{19793718}\\PY{p}{.}\\PY{l+m+mi}{0} \\PY{k}{AS} \\PY{n+nb}{FLOAT}\\PY{p}{)} \\PY{o}{+} \\PY{p}{(}\\PY{n}{floor}\\PY{p}{(}\\PY{p}{(}\\PY{l+s+ss}{\\PYZdq{}goog\\PYZus{}x\\PYZdq{}} \\PY{o}{\\PYZhy{}} \\PY{k}{CAST}\\PY{p}{(}\\PY{o}{\\PYZhy{}}\\PY{l+m+mi}{19793718}\\PY{p}{.}\\PY{l+m+mi}{0} \\PY{k}{AS} \\PY{n+nb}{FLOAT}\\PY{p}{)}\\PY{p}{)} \\PY{o}{/} \\PY{p}{(}\\PY{k}{CAST}\\PY{p}{(}\\PY{l+m+mi}{39719904}\\PY{p}{.}\\PY{l+m+mi}{0} \\PY{k}{AS} \\PY{n+nb}{FLOAT}\\PY{p}{)} \\PY{o}{/} \\PY{l+m+mi}{385}\\PY{p}{)}\\PY{p}{)} \\PY{o}{*} \\PY{p}{(}\\PY{k}{CAST}\\PY{p}{(}\\PY{l+m+mi}{39719904}\\PY{p}{.}\\PY{l+m+mi}{0} \\PY{k}{AS} \\PY{n+nb}{FLOAT}\\PY{p}{)} \\PY{o}{/} \\PY{l+m+mi}{385}\\PY{p}{)}\\PY{p}{)}\\PY{p}{)} \\PY{o}{+} \\PY{p}{(}\\PY{k}{CAST}\\PY{p}{(}\\PY{l+m+mi}{39719904}\\PY{p}{.}\\PY{l+m+mi}{0} \\PY{k}{AS} \\PY{n+nb}{FLOAT}\\PY{p}{)} \\PY{o}{/} \\PY{l+m+mi}{385}\\PY{p}{)} \\PY{k}{AS} \\PY{n}{bin\\PYZus{}x\\PYZus{}end}\n",
       "    \\PY{k}{FROM} \\PY{p}{(}\n",
       "      \\PY{k}{SELECT} \\PY{o}{*}\\PY{p}{,} \\PY{l+s+ss}{\\PYZdq{}goog\\PYZus{}y\\PYZdq{}} \\PY{k}{AS} \\PY{n}{bin\\PYZus{}y}\n",
       "      \\PY{k}{FROM} \\PY{p}{(}\n",
       "        \\PY{k}{SELECT} \\PY{l+s+ss}{\\PYZdq{}goog\\PYZus{}x\\PYZdq{}}\\PY{p}{,} \\PY{l+s+ss}{\\PYZdq{}goog\\PYZus{}y\\PYZdq{}}\\PY{p}{,} \\PY{l+s+ss}{\\PYZdq{}goog\\PYZus{}x\\PYZdq{}} \\PY{k}{AS} \\PY{n}{bin\\PYZus{}x}\n",
       "        \\PY{k}{FROM} \\PY{n}{tweets\\PYZus{}nov\\PYZus{}feb}\n",
       "      \\PY{p}{)} \\PY{n}{t4}\n",
       "    \\PY{p}{)} \\PY{n}{t3}\n",
       "  \\PY{p}{)} \\PY{n}{t2}\n",
       "\\PY{p}{)} \\PY{n}{t0}\n",
       "\\PY{k}{WHERE} \\PY{p}{(}\\PY{p}{(}\\PY{k}{NOT} \\PY{p}{(}\\PY{n}{t0}\\PY{p}{.}\\PY{l+s+ss}{\\PYZdq{}bin\\PYZus{}x\\PYZdq{}} \\PY{k}{IS} \\PY{k}{NULL}\\PY{p}{)} \\PY{k}{AND} \\PY{k}{NOT} \\PY{p}{(}\\PY{n}{t0}\\PY{p}{.}\\PY{l+s+ss}{\\PYZdq{}bin\\PYZus{}x\\PYZdq{}} \\PY{k}{IS} \\PY{k}{NULL}\\PY{p}{)}\\PY{p}{)} \\PY{k}{AND} \\PY{k}{NOT} \\PY{p}{(}\\PY{n}{t0}\\PY{p}{.}\\PY{l+s+ss}{\\PYZdq{}bin\\PYZus{}y\\PYZdq{}} \\PY{k}{IS} \\PY{k}{NULL}\\PY{p}{)}\\PY{p}{)} \\PY{k}{AND} \\PY{k}{NOT} \\PY{p}{(}\\PY{n}{t0}\\PY{p}{.}\\PY{l+s+ss}{\\PYZdq{}bin\\PYZus{}y\\PYZdq{}} \\PY{k}{IS} \\PY{k}{NULL}\\PY{p}{)}\n",
       "\\PY{k}{GROUP} \\PY{k}{BY} \\PY{n}{bin\\PYZus{}x}\\PY{p}{,} \\PY{n}{bin\\PYZus{}x\\PYZus{}end}\\PY{p}{,} \\PY{n}{bin\\PYZus{}y}\\PY{p}{,} \\PY{n}{bin\\PYZus{}y\\PYZus{}end}\n",
       "\\end{Verbatim}\n"
      ],
      "text/plain": [
       "SELECT t0.\"bin_x\", t0.\"bin_x_end\", t0.\"bin_y\", t0.\"bin_y_end\",\n",
       "       count(*) AS __count\n",
       "FROM (\n",
       "  SELECT \"goog_x\", \"goog_y\", \"bin_x\",\n",
       "         CAST(-59613540.0 AS FLOAT) + (floor((\"goog_y\" - CAST(-59613540.0 AS FLOAT)) / (CAST(85547096.0 AS FLOAT) / 564)) * (CAST(85547096.0 AS FLOAT) / 564)) AS bin_y,\n",
       "         \"bin_x_end\",\n",
       "         (CAST(-59613540.0 AS FLOAT) + (floor((\"goog_y\" - CAST(-59613540.0 AS FLOAT)) / (CAST(85547096.0 AS FLOAT) / 564)) * (CAST(85547096.0 AS FLOAT) / 564))) + (CAST(85547096.0 AS FLOAT) / 564) AS bin_y_end\n",
       "  FROM (\n",
       "    SELECT \"goog_x\", \"goog_y\",\n",
       "           CAST(-19793718.0 AS FLOAT) + (floor((\"goog_x\" - CAST(-19793718.0 AS FLOAT)) / (CAST(39719904.0 AS FLOAT) / 385)) * (CAST(39719904.0 AS FLOAT) / 385)) AS bin_x,\n",
       "           \"bin_y\",\n",
       "           (CAST(-19793718.0 AS FLOAT) + (floor((\"goog_x\" - CAST(-19793718.0 AS FLOAT)) / (CAST(39719904.0 AS FLOAT) / 385)) * (CAST(39719904.0 AS FLOAT) / 385))) + (CAST(39719904.0 AS FLOAT) / 385) AS bin_x_end\n",
       "    FROM (\n",
       "      SELECT *, \"goog_y\" AS bin_y\n",
       "      FROM (\n",
       "        SELECT \"goog_x\", \"goog_y\", \"goog_x\" AS bin_x\n",
       "        FROM tweets_nov_feb\n",
       "      ) t4\n",
       "    ) t3\n",
       "  ) t2\n",
       ") t0\n",
       "WHERE ((NOT (t0.\"bin_x\" IS NULL) AND NOT (t0.\"bin_x\" IS NULL)) AND NOT (t0.\"bin_y\" IS NULL)) AND NOT (t0.\"bin_y\" IS NULL)\n",
       "GROUP BY bin_x, bin_x_end, bin_y, bin_y_end"
      ]
     },
     "metadata": {},
     "output_type": "display_data"
    }
   ],
   "source": [
    "ibis_vega_transform.display_queries()"
   ]
  },
  {
   "cell_type": "code",
   "execution_count": 38,
   "metadata": {},
   "outputs": [],
   "source": [
    "# NOTES\n",
    "\n",
    "# print(t[\n",
    "#     t.goog_x.histogram(\n",
    "#         base=ibis.literal(X_DOMAIN[0], 'float64').cast('float32'),\n",
    "#         binwidth=ibis.literal((X_DOMAIN[1] -  X_DOMAIN[0]) / WIDTH, 'float64').cast('float32')\n",
    "#     ).name(\"x_bin\"),\n",
    "#     t.goog_y.histogram(\n",
    "#         base=ibis.literal(Y_DOMAIN[0], 'float64').cast('float32'),\n",
    "#         binwidth=ibis.literal((Y_DOMAIN[1] -  Y_DOMAIN[0]) / HEIGHT, 'float64').cast('float32'),\n",
    "        \n",
    "#     ).name(\"y_bin\"),\n",
    "# ].group_by([\n",
    "#     \"x_bin\",\n",
    "#     \"y_bin\"\n",
    "# ]).aggregate(\n",
    "#     t.count()\n",
    "# ).compile())\n",
    "\n",
    "\n",
    "# def bin(transform, expr: ibis.Expr) -> ibis.Expr:\n",
    "#     \"\"\"\n",
    "#     Apply a vega bin transform to an ibis expression.\n",
    "#     https://vega.github.io/vega/docs/transforms/bin/\n",
    "#     \"\"\"\n",
    "\n",
    "#     field = expr[transform[\"field\"]]\n",
    "#     as_left, as_right = transform[\"as\"]\n",
    "#     maxbins = transform[\"maxbins\"]\n",
    "#     extent = expr[transform[\"extent\"]]\n",
    "\n",
    "    \n",
    "#     # Case these to floats to work around\n",
    "#     # https://github.com/ibis-project/ibis/issues/1934\n",
    "#     binwidth = ((t_max - t_min) / maxbins).name(\"bin_width\")\n",
    "\n",
    "#     bin_ = ((field - t_min) / binwidth).floor()\n",
    "#     left = (t_min + (bin_ * binwidth)).name(as_left)\n",
    "#     right = (left + binwidth).name(as_right)\n",
    "\n",
    "#     # add the two new fields and remove the initial column\n",
    "#     return expr.select([left, right] + [c for c in expr.columns if c != transform[\"field\"]])\n",
    "\n",
    "\n",
    "\n",
    "# print(bin({\"field\": \"goog_x\", \"as\": [\"bin_x\", \"bin_x_end\"], \"maxbins\": WIDTH, \"extent\": \"goog_x\"}, t[t['goog_x']]).groupby([\"bin_x\", \"bin_x_end\"]).aggregate(ibis.expr.api.count(t)).compile())\n",
    "\n",
    "\n",
    "# t_new = t[t.goog_x.histogram(\n",
    "#     base=ibis.literal(X_DOMAIN[0], 'float64').cast('float32'),\n",
    "#     binwidth=ibis.literal((X_DOMAIN[1] -  X_DOMAIN[0]) / WIDTH, 'float64').cast('float32')\n",
    "# ).name('hist')]\n",
    "# print(t_new.compile())"
   ]
  },
  {
   "cell_type": "code",
   "execution_count": null,
   "metadata": {},
   "outputs": [],
   "source": []
  }
 ],
 "metadata": {
  "kernelspec": {
   "display_name": "Python 3",
   "language": "python",
   "name": "python3"
  },
  "language_info": {
   "codemirror_mode": {
    "name": "ipython",
    "version": 3
   },
   "file_extension": ".py",
   "mimetype": "text/x-python",
   "name": "python",
   "nbconvert_exporter": "python",
   "pygments_lexer": "ipython3",
   "version": "3.7.3"
  }
 },
 "nbformat": 4,
 "nbformat_minor": 4
}
