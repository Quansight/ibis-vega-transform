{
 "cells": [
  {
   "cell_type": "code",
   "execution_count": 13,
   "metadata": {
    "execution": {
     "iopub.execute_input": "2020-04-28T20:28:34.444947Z",
     "iopub.status.busy": "2020-04-28T20:28:34.444747Z",
     "iopub.status.idle": "2020-04-28T20:28:35.055965Z",
     "shell.execute_reply": "2020-04-28T20:28:35.055137Z",
     "shell.execute_reply.started": "2020-04-28T20:28:34.444925Z"
    }
   },
   "outputs": [],
   "source": [
    "import altair as alt\n",
    "import ibis_vega_transform\n",
    "\n",
    "import warnings\n",
    "try:\n",
    "    from ibis.backends import omniscidb as ibis_omniscidb\n",
    "except ImportError as msg:\n",
    "    warnings.warn(str(msg))\n",
    "    from ibis import omniscidb as ibis_omniscidb\n",
    "\n",
    "conn = ibis_omniscidb.connect(\n",
    "    host='bewdy.mapd.com', user='mapd', password='HyperInteractive',\n",
    "    port=6274, database='mapd', protocol= 'binary'\n",
    ")"
   ]
  },
  {
   "cell_type": "code",
   "execution_count": 14,
   "metadata": {
    "execution": {
     "iopub.execute_input": "2020-04-28T20:28:35.057281Z",
     "iopub.status.busy": "2020-04-28T20:28:35.057112Z",
     "iopub.status.idle": "2020-04-28T20:28:35.265782Z",
     "shell.execute_reply": "2020-04-28T20:28:35.265233Z",
     "shell.execute_reply.started": "2020-04-28T20:28:35.057260Z"
    }
   },
   "outputs": [],
   "source": [
    "t = conn.table('github')"
   ]
  },
  {
   "cell_type": "code",
   "execution_count": 15,
   "metadata": {
    "execution": {
     "iopub.execute_input": "2020-04-28T20:28:35.267608Z",
     "iopub.status.busy": "2020-04-28T20:28:35.267390Z",
     "iopub.status.idle": "2020-04-28T20:28:35.406992Z",
     "shell.execute_reply": "2020-04-28T20:28:35.406466Z",
     "shell.execute_reply.started": "2020-04-28T20:28:35.267587Z"
    }
   },
   "outputs": [
    {
     "data": {
      "text/html": [
       "<div>\n",
       "<style scoped>\n",
       "    .dataframe tbody tr th:only-of-type {\n",
       "        vertical-align: middle;\n",
       "    }\n",
       "\n",
       "    .dataframe tbody tr th {\n",
       "        vertical-align: top;\n",
       "    }\n",
       "\n",
       "    .dataframe thead th {\n",
       "        text-align: right;\n",
       "    }\n",
       "</style>\n",
       "<table border=\"1\" class=\"dataframe\">\n",
       "  <thead>\n",
       "    <tr style=\"text-align: right;\">\n",
       "      <th></th>\n",
       "      <th>type</th>\n",
       "      <th>public_</th>\n",
       "      <th>repo_id</th>\n",
       "      <th>repo_name</th>\n",
       "      <th>repo_url</th>\n",
       "      <th>actor_id</th>\n",
       "      <th>actor_login</th>\n",
       "      <th>actor_gravatar_id</th>\n",
       "      <th>actor_avatar_url</th>\n",
       "      <th>actor_url</th>\n",
       "      <th>org_id</th>\n",
       "      <th>org_login</th>\n",
       "      <th>org_gravatar_id</th>\n",
       "      <th>org_avatar_url</th>\n",
       "      <th>org_url</th>\n",
       "      <th>created_at</th>\n",
       "      <th>id</th>\n",
       "    </tr>\n",
       "  </thead>\n",
       "  <tbody>\n",
       "    <tr>\n",
       "      <th>0</th>\n",
       "      <td>PushEvent</td>\n",
       "      <td>True</td>\n",
       "      <td>17112912</td>\n",
       "      <td>dannyshmueli/shmueli-recipes</td>\n",
       "      <td>https://api.github.com/repos/dannyshmueli/shmu...</td>\n",
       "      <td>4062328</td>\n",
       "      <td>None</td>\n",
       "      <td>None</td>\n",
       "      <td>https://avatars.githubusercontent.com/u/4062328?</td>\n",
       "      <td>https://api.github.com/users/dannyshmueli</td>\n",
       "      <td>NaN</td>\n",
       "      <td>None</td>\n",
       "      <td>None</td>\n",
       "      <td>None</td>\n",
       "      <td>None</td>\n",
       "      <td>2015-01-01 12:02:20</td>\n",
       "      <td>2489583492</td>\n",
       "    </tr>\n",
       "    <tr>\n",
       "      <th>1</th>\n",
       "      <td>PushEvent</td>\n",
       "      <td>True</td>\n",
       "      <td>6058234</td>\n",
       "      <td>sakai-mirror/melete</td>\n",
       "      <td>https://api.github.com/repos/sakai-mirror/melete</td>\n",
       "      <td>2033581</td>\n",
       "      <td>None</td>\n",
       "      <td>None</td>\n",
       "      <td>https://avatars.githubusercontent.com/u/2033581?</td>\n",
       "      <td>https://api.github.com/users/mirror-updates</td>\n",
       "      <td>2033545.0</td>\n",
       "      <td>sakai-mirror</td>\n",
       "      <td>None</td>\n",
       "      <td>https://avatars.githubusercontent.com/u/2033545?</td>\n",
       "      <td>https://api.github.com/orgs/sakai-mirror</td>\n",
       "      <td>2015-01-01 00:39:36</td>\n",
       "      <td>2489387308</td>\n",
       "    </tr>\n",
       "    <tr>\n",
       "      <th>2</th>\n",
       "      <td>PushEvent</td>\n",
       "      <td>True</td>\n",
       "      <td>22869205</td>\n",
       "      <td>harada4atsushi/dotfiles</td>\n",
       "      <td>https://api.github.com/repos/harada4atsushi/do...</td>\n",
       "      <td>1818925</td>\n",
       "      <td>None</td>\n",
       "      <td>None</td>\n",
       "      <td>https://avatars.githubusercontent.com/u/1818925?</td>\n",
       "      <td>https://api.github.com/users/harada4atsushi</td>\n",
       "      <td>NaN</td>\n",
       "      <td>None</td>\n",
       "      <td>None</td>\n",
       "      <td>None</td>\n",
       "      <td>None</td>\n",
       "      <td>2015-01-01 11:11:08</td>\n",
       "      <td>2489567244</td>\n",
       "    </tr>\n",
       "    <tr>\n",
       "      <th>3</th>\n",
       "      <td>PushEvent</td>\n",
       "      <td>True</td>\n",
       "      <td>28208522</td>\n",
       "      <td>thiagopaz01/iOSTest</td>\n",
       "      <td>https://api.github.com/repos/thiagopaz01/iOSTest</td>\n",
       "      <td>8958527</td>\n",
       "      <td>None</td>\n",
       "      <td>None</td>\n",
       "      <td>https://avatars.githubusercontent.com/u/8958527?</td>\n",
       "      <td>https://api.github.com/users/thiagopaz01</td>\n",
       "      <td>NaN</td>\n",
       "      <td>None</td>\n",
       "      <td>None</td>\n",
       "      <td>None</td>\n",
       "      <td>None</td>\n",
       "      <td>2015-01-01 12:02:20</td>\n",
       "      <td>2489583496</td>\n",
       "    </tr>\n",
       "    <tr>\n",
       "      <th>4</th>\n",
       "      <td>PushEvent</td>\n",
       "      <td>True</td>\n",
       "      <td>6058234</td>\n",
       "      <td>sakai-mirror/melete</td>\n",
       "      <td>https://api.github.com/repos/sakai-mirror/melete</td>\n",
       "      <td>2033581</td>\n",
       "      <td>None</td>\n",
       "      <td>None</td>\n",
       "      <td>https://avatars.githubusercontent.com/u/2033581?</td>\n",
       "      <td>https://api.github.com/users/mirror-updates</td>\n",
       "      <td>2033545.0</td>\n",
       "      <td>sakai-mirror</td>\n",
       "      <td>None</td>\n",
       "      <td>https://avatars.githubusercontent.com/u/2033545?</td>\n",
       "      <td>https://api.github.com/orgs/sakai-mirror</td>\n",
       "      <td>2015-01-01 00:39:36</td>\n",
       "      <td>2489387309</td>\n",
       "    </tr>\n",
       "  </tbody>\n",
       "</table>\n",
       "</div>"
      ],
      "text/plain": [
       "        type  public_   repo_id                     repo_name  \\\n",
       "0  PushEvent     True  17112912  dannyshmueli/shmueli-recipes   \n",
       "1  PushEvent     True   6058234           sakai-mirror/melete   \n",
       "2  PushEvent     True  22869205       harada4atsushi/dotfiles   \n",
       "3  PushEvent     True  28208522           thiagopaz01/iOSTest   \n",
       "4  PushEvent     True   6058234           sakai-mirror/melete   \n",
       "\n",
       "                                            repo_url  actor_id actor_login  \\\n",
       "0  https://api.github.com/repos/dannyshmueli/shmu...   4062328        None   \n",
       "1   https://api.github.com/repos/sakai-mirror/melete   2033581        None   \n",
       "2  https://api.github.com/repos/harada4atsushi/do...   1818925        None   \n",
       "3   https://api.github.com/repos/thiagopaz01/iOSTest   8958527        None   \n",
       "4   https://api.github.com/repos/sakai-mirror/melete   2033581        None   \n",
       "\n",
       "  actor_gravatar_id                                  actor_avatar_url  \\\n",
       "0              None  https://avatars.githubusercontent.com/u/4062328?   \n",
       "1              None  https://avatars.githubusercontent.com/u/2033581?   \n",
       "2              None  https://avatars.githubusercontent.com/u/1818925?   \n",
       "3              None  https://avatars.githubusercontent.com/u/8958527?   \n",
       "4              None  https://avatars.githubusercontent.com/u/2033581?   \n",
       "\n",
       "                                     actor_url     org_id     org_login  \\\n",
       "0    https://api.github.com/users/dannyshmueli        NaN          None   \n",
       "1  https://api.github.com/users/mirror-updates  2033545.0  sakai-mirror   \n",
       "2  https://api.github.com/users/harada4atsushi        NaN          None   \n",
       "3     https://api.github.com/users/thiagopaz01        NaN          None   \n",
       "4  https://api.github.com/users/mirror-updates  2033545.0  sakai-mirror   \n",
       "\n",
       "  org_gravatar_id                                    org_avatar_url  \\\n",
       "0            None                                              None   \n",
       "1            None  https://avatars.githubusercontent.com/u/2033545?   \n",
       "2            None                                              None   \n",
       "3            None                                              None   \n",
       "4            None  https://avatars.githubusercontent.com/u/2033545?   \n",
       "\n",
       "                                    org_url          created_at          id  \n",
       "0                                      None 2015-01-01 12:02:20  2489583492  \n",
       "1  https://api.github.com/orgs/sakai-mirror 2015-01-01 00:39:36  2489387308  \n",
       "2                                      None 2015-01-01 11:11:08  2489567244  \n",
       "3                                      None 2015-01-01 12:02:20  2489583496  \n",
       "4  https://api.github.com/orgs/sakai-mirror 2015-01-01 00:39:36  2489387309  "
      ]
     },
     "execution_count": 15,
     "metadata": {},
     "output_type": "execute_result"
    }
   ],
   "source": [
    "t.head().execute()"
   ]
  },
  {
   "cell_type": "code",
   "execution_count": 16,
   "metadata": {
    "execution": {
     "iopub.execute_input": "2020-04-28T20:28:35.408249Z",
     "iopub.status.busy": "2020-04-28T20:28:35.408042Z",
     "iopub.status.idle": "2020-04-28T20:28:35.425657Z",
     "shell.execute_reply": "2020-04-28T20:28:35.424869Z",
     "shell.execute_reply.started": "2020-04-28T20:28:35.408223Z"
    }
   },
   "outputs": [],
   "source": [
    "over_time = alt.Chart(t).mark_line().encode(\n",
    "    x='yearmonth(created_at):T',\n",
    "    y='count()'\n",
    ")"
   ]
  },
  {
   "cell_type": "code",
   "execution_count": 17,
   "metadata": {
    "execution": {
     "iopub.execute_input": "2020-04-28T20:28:35.427059Z",
     "iopub.status.busy": "2020-04-28T20:28:35.426682Z",
     "iopub.status.idle": "2020-04-28T20:28:35.431179Z",
     "shell.execute_reply": "2020-04-28T20:28:35.430394Z",
     "shell.execute_reply.started": "2020-04-28T20:28:35.427032Z"
    }
   },
   "outputs": [],
   "source": [
    "repo_dropdown = alt.binding_select(options=[\n",
    "    'jupyterlab/jupyterlab',\n",
    "    'vega/vega',\n",
    "    'altair-viz/altair',\n",
    "    'omnisci/omniscidb',\n",
    "    'mapd/mapd-core'\n",
    "])\n",
    "repo_selection = alt.selection_single(fields=['repo_name'], bind=repo_dropdown)"
   ]
  },
  {
   "cell_type": "code",
   "execution_count": 18,
   "metadata": {
    "execution": {
     "iopub.execute_input": "2020-04-28T20:28:35.504260Z",
     "iopub.status.busy": "2020-04-28T20:28:35.504048Z",
     "iopub.status.idle": "2020-04-28T20:28:35.509553Z",
     "shell.execute_reply": "2020-04-28T20:28:35.508465Z",
     "shell.execute_reply.started": "2020-04-28T20:28:35.504238Z"
    }
   },
   "outputs": [],
   "source": [
    "over_time_selected = over_time.add_selection(\n",
    "    repo_selection\n",
    ").transform_filter(\n",
    "    repo_selection\n",
    ")"
   ]
  },
  {
   "cell_type": "code",
   "execution_count": 19,
   "metadata": {
    "execution": {
     "iopub.execute_input": "2020-04-28T20:28:35.948463Z",
     "iopub.status.busy": "2020-04-28T20:28:35.948269Z",
     "iopub.status.idle": "2020-04-28T20:28:35.957455Z",
     "shell.execute_reply": "2020-04-28T20:28:35.956957Z",
     "shell.execute_reply.started": "2020-04-28T20:28:35.948441Z"
    }
   },
   "outputs": [
    {
     "data": {
      "application/vnd.vega.ibis.v5+json": {
       "span": {
        "uber-trace-id": "c3ce8a11f0b36824:7cf27e42e2c543db:0:1"
       },
       "spec": {
        "$schema": "https://vega.github.io/schema/vega-lite/v4.8.1.json",
        "config": {
         "view": {
          "continuousHeight": 300,
          "continuousWidth": 400
         }
        },
        "data": {
         "name": "ibis:4563375319466340569"
        },
        "encoding": {
         "x": {
          "field": "created_at",
          "timeUnit": "yearmonth",
          "type": "temporal"
         },
         "y": {
          "aggregate": "count",
          "type": "quantitative"
         }
        },
        "mark": "line",
        "selection": {
         "selector003": {
          "bind": {
           "input": "select",
           "options": [
            "jupyterlab/jupyterlab",
            "vega/vega",
            "altair-viz/altair",
            "omnisci/omniscidb",
            "mapd/mapd-core"
           ]
          },
          "fields": [
           "repo_name"
          ],
          "type": "single"
         }
        },
        "transform": [
         {
          "filter": {
           "selection": "selector003"
          }
         }
        ]
       }
      },
      "text/plain": [
       "alt.Chart(...)"
      ]
     },
     "execution_count": 19,
     "metadata": {},
     "output_type": "execute_result"
    }
   ],
   "source": [
    "over_time_selected"
   ]
  },
  {
   "cell_type": "code",
   "execution_count": 20,
   "metadata": {
    "execution": {
     "iopub.execute_input": "2020-04-28T20:28:36.548442Z",
     "iopub.status.busy": "2020-04-28T20:28:36.548250Z",
     "iopub.status.idle": "2020-04-28T20:28:36.573138Z",
     "shell.execute_reply": "2020-04-28T20:28:36.572597Z",
     "shell.execute_reply.started": "2020-04-28T20:28:36.548420Z"
    }
   },
   "outputs": [
    {
     "data": {
      "application/vnd.vega.ibis.v5+json": {
       "span": {
        "uber-trace-id": "ecd3dc9fc5f91370:685ef95397e15786:0:1"
       },
       "spec": {
        "$schema": "https://vega.github.io/schema/vega-lite/v4.8.1.json",
        "config": {
         "view": {
          "continuousHeight": 300,
          "continuousWidth": 400
         }
        },
        "data": {
         "name": "ibis:4563375319466340569"
        },
        "encoding": {
         "x": {
          "aggregate": "count",
          "type": "quantitative"
         },
         "y": {
          "field": "type",
          "sort": {
           "encoding": "x",
           "order": "descending"
          },
          "type": "ordinal"
         }
        },
        "mark": "bar",
        "selection": {
         "selector003": {
          "bind": {
           "input": "select",
           "options": [
            "jupyterlab/jupyterlab",
            "vega/vega",
            "altair-viz/altair",
            "omnisci/omniscidb",
            "mapd/mapd-core"
           ]
          },
          "fields": [
           "repo_name"
          ],
          "type": "single"
         }
        },
        "transform": [
         {
          "filter": {
           "selection": "selector003"
          }
         }
        ]
       }
      },
      "text/plain": [
       "alt.Chart(...)"
      ]
     },
     "execution_count": 20,
     "metadata": {},
     "output_type": "execute_result"
    }
   ],
   "source": [
    "types = alt.Chart(t).mark_bar().encode(\n",
    "    x='count()',\n",
    "    y=alt.Y('type:O', sort=alt.Sort(encoding='x', order='descending'))\n",
    ").add_selection(\n",
    "    repo_selection\n",
    ").transform_filter(\n",
    "    repo_selection\n",
    ")\n",
    "types"
   ]
  },
  {
   "cell_type": "code",
   "execution_count": 21,
   "metadata": {
    "execution": {
     "iopub.execute_input": "2020-04-28T20:28:38.292010Z",
     "iopub.status.busy": "2020-04-28T20:28:38.291716Z",
     "iopub.status.idle": "2020-04-28T20:28:38.296558Z",
     "shell.execute_reply": "2020-04-28T20:28:38.295502Z",
     "shell.execute_reply.started": "2020-04-28T20:28:38.291976Z"
    }
   },
   "outputs": [],
   "source": [
    "time_selection = alt.selection_interval(\n",
    "    fields=['created_at'],\n",
    "    encodings=['x']\n",
    ")"
   ]
  },
  {
   "cell_type": "code",
   "execution_count": 22,
   "metadata": {
    "execution": {
     "iopub.execute_input": "2020-04-28T20:28:38.589743Z",
     "iopub.status.busy": "2020-04-28T20:28:38.589549Z",
     "iopub.status.idle": "2020-04-28T20:28:38.606896Z",
     "shell.execute_reply": "2020-04-28T20:28:38.606302Z",
     "shell.execute_reply.started": "2020-04-28T20:28:38.589720Z"
    }
   },
   "outputs": [
    {
     "data": {
      "application/vnd.vega.ibis.v5+json": {
       "span": {
        "uber-trace-id": "443d593a3d499f17:28d3350ef5849f1e:0:1"
       },
       "spec": {
        "$schema": "https://vega.github.io/schema/vega-lite/v4.8.1.json",
        "config": {
         "view": {
          "continuousHeight": 300,
          "continuousWidth": 400
         }
        },
        "padding": 150,
        "vconcat": [
         {
          "data": {
           "name": "ibis:4563375319466340569"
          },
          "encoding": {
           "x": {
            "field": "created_at",
            "timeUnit": "yearmonth",
            "type": "temporal"
           },
           "y": {
            "aggregate": "count",
            "type": "quantitative"
           }
          },
          "mark": "line",
          "selection": {
           "selector003": {
            "bind": {
             "input": "select",
             "options": [
              "jupyterlab/jupyterlab",
              "vega/vega",
              "altair-viz/altair",
              "omnisci/omniscidb",
              "mapd/mapd-core"
             ]
            },
            "fields": [
             "repo_name"
            ],
            "type": "single"
           },
           "selector004": {
            "encodings": [
             "x"
            ],
            "fields": [
             "created_at"
            ],
            "type": "interval"
           }
          },
          "transform": [
           {
            "filter": {
             "selection": "selector003"
            }
           }
          ]
         },
         {
          "data": {
           "name": "ibis:4563375319466340569"
          },
          "encoding": {
           "x": {
            "aggregate": "count",
            "type": "quantitative"
           },
           "y": {
            "field": "type",
            "sort": {
             "encoding": "x",
             "order": "descending"
            },
            "type": "ordinal"
           }
          },
          "height": 300,
          "mark": "bar",
          "selection": {
           "selector003": {
            "bind": {
             "input": "select",
             "options": [
              "jupyterlab/jupyterlab",
              "vega/vega",
              "altair-viz/altair",
              "omnisci/omniscidb",
              "mapd/mapd-core"
             ]
            },
            "fields": [
             "repo_name"
            ],
            "type": "single"
           }
          },
          "transform": [
           {
            "filter": {
             "selection": "selector003"
            }
           },
           {
            "filter": {
             "selection": "selector004"
            }
           }
          ]
         }
        ]
       }
      },
      "text/plain": [
       "alt.VConcatChart(...)"
      ]
     },
     "execution_count": 22,
     "metadata": {},
     "output_type": "execute_result"
    }
   ],
   "source": [
    "(over_time_selected.add_selection(\n",
    "    time_selection\n",
    ") & (types.transform_filter(\n",
    "    time_selection\n",
    ").properties(height=300))).properties(\n",
    "    padding=150\n",
    ")"
   ]
  },
  {
   "cell_type": "code",
   "execution_count": null,
   "metadata": {},
   "outputs": [],
   "source": []
  }
 ],
 "metadata": {
  "kernelspec": {
   "display_name": "Python 3",
   "language": "python",
   "name": "python3"
  },
  "language_info": {
   "codemirror_mode": {
    "name": "ipython",
    "version": 3
   },
   "file_extension": ".py",
   "mimetype": "text/x-python",
   "name": "python",
   "nbconvert_exporter": "python",
   "pygments_lexer": "ipython3",
   "version": "3.7.6"
  }
 },
 "nbformat": 4,
 "nbformat_minor": 4
}
