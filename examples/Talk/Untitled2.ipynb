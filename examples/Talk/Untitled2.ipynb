{
 "cells": [
  {
   "cell_type": "code",
   "execution_count": 2,
   "metadata": {
    "execution": {
     "iopub.execute_input": "2020-04-28T20:24:22.811684Z",
     "iopub.status.busy": "2020-04-28T20:24:22.811484Z",
     "iopub.status.idle": "2020-04-28T20:24:23.419754Z",
     "shell.execute_reply": "2020-04-28T20:24:23.419113Z",
     "shell.execute_reply.started": "2020-04-28T20:24:22.811662Z"
    }
   },
   "outputs": [],
   "source": [
    "import altair as alt\n",
    "import ibis_vega_transform\n",
    "import ibis.omniscidb\n",
    "\n",
    "\n",
    "conn = ibis.omniscidb.connect(\n",
    "    host='bewdy.mapd.com', user='mapd', password='HyperInteractive',\n",
    "    port=6274, database='mapd', protocol= 'binary'\n",
    ")"
   ]
  },
  {
   "cell_type": "code",
   "execution_count": 3,
   "metadata": {
    "execution": {
     "iopub.execute_input": "2020-04-28T20:24:25.012589Z",
     "iopub.status.busy": "2020-04-28T20:24:25.012385Z",
     "iopub.status.idle": "2020-04-28T20:24:25.209763Z",
     "shell.execute_reply": "2020-04-28T20:24:25.209231Z",
     "shell.execute_reply.started": "2020-04-28T20:24:25.012565Z"
    }
   },
   "outputs": [],
   "source": [
    "t = conn.table('github')"
   ]
  },
  {
   "cell_type": "code",
   "execution_count": 4,
   "metadata": {
    "execution": {
     "iopub.execute_input": "2020-04-28T20:24:26.705211Z",
     "iopub.status.busy": "2020-04-28T20:24:26.705019Z",
     "iopub.status.idle": "2020-04-28T20:24:26.737101Z",
     "shell.execute_reply": "2020-04-28T20:24:26.736558Z",
     "shell.execute_reply.started": "2020-04-28T20:24:26.705189Z"
    }
   },
   "outputs": [
    {
     "data": {
      "application/vnd.vega.ibis.v5+json": {
       "span": {
        "uber-trace-id": "16c935f01b92d3e9:50cbf25a8e3e8164:0:1"
       },
       "spec": {
        "$schema": "https://vega.github.io/schema/vega-lite/v4.8.1.json",
        "config": {
         "view": {
          "continuousHeight": 300,
          "continuousWidth": 400
         }
        },
        "data": {
         "name": "ibis:1224716864030106829"
        },
        "encoding": {
         "x": {
          "field": "created_at",
          "timeUnit": "yearmonth",
          "type": "temporal"
         },
         "y": {
          "aggregate": "count",
          "type": "quantitative"
         }
        },
        "mark": "line"
       }
      },
      "text/plain": [
       "alt.Chart(...)"
      ]
     },
     "execution_count": 4,
     "metadata": {},
     "output_type": "execute_result"
    }
   ],
   "source": [
    "time_chart = alt.Chart(t).mark_line().encode(\n",
    "    y='count()',\n",
    "    x='yearmonth(created_at):T'\n",
    ")\n",
    "time_chart"
   ]
  },
  {
   "cell_type": "code",
   "execution_count": 5,
   "metadata": {
    "execution": {
     "iopub.execute_input": "2020-04-28T20:24:29.271434Z",
     "iopub.status.busy": "2020-04-28T20:24:29.271240Z",
     "iopub.status.idle": "2020-04-28T20:24:29.294185Z",
     "shell.execute_reply": "2020-04-28T20:24:29.293286Z",
     "shell.execute_reply.started": "2020-04-28T20:24:29.271413Z"
    }
   },
   "outputs": [
    {
     "data": {
      "application/vnd.vega.ibis.v5+json": {
       "span": {
        "uber-trace-id": "6ab160728f6a556c:69b3da1985917619:0:1"
       },
       "spec": {
        "$schema": "https://vega.github.io/schema/vega-lite/v4.8.1.json",
        "config": {
         "view": {
          "continuousHeight": 300,
          "continuousWidth": 400
         }
        },
        "data": {
         "name": "ibis:1224716864030106829"
        },
        "encoding": {
         "x": {
          "aggregate": "count",
          "type": "quantitative"
         },
         "y": {
          "field": "type",
          "sort": {
           "encoding": "x",
           "order": "descending"
          },
          "type": "ordinal"
         }
        },
        "mark": "bar"
       }
      },
      "text/plain": [
       "alt.Chart(...)"
      ]
     },
     "execution_count": 5,
     "metadata": {},
     "output_type": "execute_result"
    }
   ],
   "source": [
    "type_chart = alt.Chart(t).mark_bar().encode(\n",
    "    x='count()',\n",
    "    y=alt.Y('type:O', sort=alt.Sort(encoding='x', order='descending'))\n",
    ")\n",
    "type_chart"
   ]
  },
  {
   "cell_type": "code",
   "execution_count": 6,
   "metadata": {
    "execution": {
     "iopub.execute_input": "2020-04-28T20:24:31.671754Z",
     "iopub.status.busy": "2020-04-28T20:24:31.671488Z",
     "iopub.status.idle": "2020-04-28T20:24:31.677446Z",
     "shell.execute_reply": "2020-04-28T20:24:31.676744Z",
     "shell.execute_reply.started": "2020-04-28T20:24:31.671724Z"
    }
   },
   "outputs": [],
   "source": [
    "repo_dropdown = alt.binding_select(options=[\n",
    "    \"jupyterlab/jupyterlab\",\n",
    "    \"vega/vega\",\n",
    "    \"vega/vega-lite\",\n",
    "    \"mapd/mapd-core\"\n",
    "])\n",
    "\n",
    "repo_selection = alt.selection_single(\n",
    "    fields=['repo_name'],\n",
    "    bind=repo_dropdown\n",
    ")"
   ]
  },
  {
   "cell_type": "code",
   "execution_count": 8,
   "metadata": {
    "execution": {
     "iopub.execute_input": "2020-04-28T20:25:06.063641Z",
     "iopub.status.busy": "2020-04-28T20:25:06.063444Z",
     "iopub.status.idle": "2020-04-28T20:25:06.067837Z",
     "shell.execute_reply": "2020-04-28T20:25:06.067350Z",
     "shell.execute_reply.started": "2020-04-28T20:25:06.063620Z"
    }
   },
   "outputs": [],
   "source": [
    "time_with_filter = time_chart.add_selection(repo_selection).transform_filter(repo_selection)"
   ]
  },
  {
   "cell_type": "code",
   "execution_count": 9,
   "metadata": {
    "execution": {
     "iopub.execute_input": "2020-04-28T20:25:12.525293Z",
     "iopub.status.busy": "2020-04-28T20:25:12.525102Z",
     "iopub.status.idle": "2020-04-28T20:25:12.533654Z",
     "shell.execute_reply": "2020-04-28T20:25:12.533108Z",
     "shell.execute_reply.started": "2020-04-28T20:25:12.525273Z"
    }
   },
   "outputs": [
    {
     "data": {
      "application/vnd.vega.ibis.v5+json": {
       "span": {
        "uber-trace-id": "8e460e5acdc1c031:2c4575af363007bc:0:1"
       },
       "spec": {
        "$schema": "https://vega.github.io/schema/vega-lite/v4.8.1.json",
        "config": {
         "view": {
          "continuousHeight": 300,
          "continuousWidth": 400
         }
        },
        "data": {
         "name": "ibis:1224716864030106829"
        },
        "encoding": {
         "x": {
          "field": "created_at",
          "timeUnit": "yearmonth",
          "type": "temporal"
         },
         "y": {
          "aggregate": "count",
          "type": "quantitative"
         }
        },
        "mark": "line",
        "selection": {
         "selector001": {
          "bind": {
           "input": "select",
           "options": [
            "jupyterlab/jupyterlab",
            "vega/vega",
            "vega/vega-lite",
            "mapd/mapd-core"
           ]
          },
          "fields": [
           "repo_name"
          ],
          "type": "single"
         }
        },
        "transform": [
         {
          "filter": {
           "selection": "selector001"
          }
         }
        ]
       }
      },
      "text/plain": [
       "alt.Chart(...)"
      ]
     },
     "execution_count": 9,
     "metadata": {},
     "output_type": "execute_result"
    }
   ],
   "source": [
    "time_with_filter"
   ]
  },
  {
   "cell_type": "code",
   "execution_count": 16,
   "metadata": {
    "execution": {
     "iopub.execute_input": "2020-04-28T20:27:58.385943Z",
     "iopub.status.busy": "2020-04-28T20:27:58.385748Z",
     "iopub.status.idle": "2020-04-28T20:27:58.389474Z",
     "shell.execute_reply": "2020-04-28T20:27:58.388920Z",
     "shell.execute_reply.started": "2020-04-28T20:27:58.385923Z"
    }
   },
   "outputs": [],
   "source": [
    "time_selection = alt.selection_interval(\n",
    "    fields=['create_at'],\n",
    "    encodings=['x']\n",
    ")"
   ]
  },
  {
   "cell_type": "code",
   "execution_count": 17,
   "metadata": {
    "execution": {
     "iopub.execute_input": "2020-04-28T20:27:58.732725Z",
     "iopub.status.busy": "2020-04-28T20:27:58.732467Z",
     "iopub.status.idle": "2020-04-28T20:27:58.749283Z",
     "shell.execute_reply": "2020-04-28T20:27:58.748800Z",
     "shell.execute_reply.started": "2020-04-28T20:27:58.732690Z"
    }
   },
   "outputs": [
    {
     "data": {
      "application/vnd.vega.ibis.v5+json": {
       "span": {
        "uber-trace-id": "8393a8a5dfe0af59:321cb265fdd085cb:0:1"
       },
       "spec": {
        "$schema": "https://vega.github.io/schema/vega-lite/v4.8.1.json",
        "config": {
         "view": {
          "continuousHeight": 300,
          "continuousWidth": 400
         }
        },
        "padding": 60,
        "vconcat": [
         {
          "data": {
           "name": "ibis:1224716864030106829"
          },
          "encoding": {
           "x": {
            "field": "created_at",
            "timeUnit": "yearmonth",
            "type": "temporal"
           },
           "y": {
            "aggregate": "count",
            "type": "quantitative"
           }
          },
          "mark": "line",
          "selection": {
           "selector001": {
            "bind": {
             "input": "select",
             "options": [
              "jupyterlab/jupyterlab",
              "vega/vega",
              "vega/vega-lite",
              "mapd/mapd-core"
             ]
            },
            "fields": [
             "repo_name"
            ],
            "type": "single"
           },
           "selector002": {
            "encodings": [
             "x"
            ],
            "fields": [
             "create_at"
            ],
            "type": "interval"
           }
          },
          "transform": [
           {
            "filter": {
             "selection": "selector001"
            }
           }
          ]
         },
         {
          "data": {
           "name": "ibis:1224716864030106829"
          },
          "encoding": {
           "x": {
            "aggregate": "count",
            "type": "quantitative"
           },
           "y": {
            "field": "type",
            "sort": {
             "encoding": "x",
             "order": "descending"
            },
            "type": "ordinal"
           }
          },
          "height": 600,
          "mark": "bar",
          "transform": [
           {
            "filter": {
             "selection": "selector001"
            }
           },
           {
            "filter": {
             "selection": "selector002"
            }
           }
          ]
         }
        ]
       }
      },
      "text/plain": [
       "alt.VConcatChart(...)"
      ]
     },
     "execution_count": 17,
     "metadata": {},
     "output_type": "execute_result"
    }
   ],
   "source": [
    "(\n",
    "    time_with_filter.add_selection(time_selection) &\n",
    "    type_chart.transform_filter(\n",
    "        repo_selection\n",
    "    ).transform_filter(\n",
    "        time_selection\n",
    "    ).properties(height=600)\n",
    ").properties(padding=60)"
   ]
  },
  {
   "cell_type": "code",
   "execution_count": null,
   "metadata": {},
   "outputs": [],
   "source": []
  }
 ],
 "metadata": {
  "kernelspec": {
   "display_name": "Python 3",
   "language": "python",
   "name": "python3"
  },
  "language_info": {
   "codemirror_mode": {
    "name": "ipython",
    "version": 3
   },
   "file_extension": ".py",
   "mimetype": "text/x-python",
   "name": "python",
   "nbconvert_exporter": "python",
   "pygments_lexer": "ipython3",
   "version": "3.7.6"
  }
 },
 "nbformat": 4,
 "nbformat_minor": 4
}
