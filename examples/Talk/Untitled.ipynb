{
 "cells": [
  {
   "cell_type": "code",
   "execution_count": 3,
   "metadata": {
    "execution": {
     "iopub.execute_input": "2020-04-24T17:40:56.495459Z",
     "iopub.status.busy": "2020-04-24T17:40:56.495215Z",
     "iopub.status.idle": "2020-04-24T17:40:57.360468Z",
     "shell.execute_reply": "2020-04-24T17:40:57.359429Z",
     "shell.execute_reply.started": "2020-04-24T17:40:56.495433Z"
    }
   },
   "outputs": [],
   "source": [
    "import altair as alt\n",
    "import ibis_vega_transform\n",
    "import ibis.omniscidb\n",
    "\n",
    "\n",
    "conn = ibis.omniscidb.connect(\n",
    "    host='bewdy.mapd.com', user='mapd', password='HyperInteractive',\n",
    "    port=6274, database='mapd', protocol= 'binary'\n",
    ")"
   ]
  },
  {
   "cell_type": "code",
   "execution_count": 2,
   "metadata": {
    "execution": {
     "iopub.execute_input": "2020-04-24T16:32:21.889234Z",
     "iopub.status.busy": "2020-04-24T16:32:21.888956Z",
     "iopub.status.idle": "2020-04-24T16:32:21.892553Z",
     "shell.execute_reply": "2020-04-24T16:32:21.891859Z",
     "shell.execute_reply.started": "2020-04-24T16:32:21.889200Z"
    }
   },
   "outputs": [],
   "source": [
    "# conn.create_table('github', schema=ibis.schema([\n",
    "#     ('type', 'string'),\n",
    "#     ('public_', 'boolean'),\n",
    "#     ('repo_id', 'int64'),\n",
    "#     ('repo_name', 'string'),\n",
    "#     ('repo_url', 'string'),\n",
    "#     ('actor_id', 'int64'),\n",
    "#     ('actor_login', 'int64'),\n",
    "#     ('actor_gravatar_id', 'string'),\n",
    "#     ('actor_avatar_url', 'string'),\n",
    "#     ('actor_url', 'string'),\n",
    "#     ('org_id', 'int64'),\n",
    "#     ('org_login', 'string'),\n",
    "#     ('org_gravatar_id', 'string'),\n",
    "#     ('org_avatar_url', 'string'),\n",
    "#     ('org_url', 'string'),\n",
    "#     ('created_at', 'timestamp'),\n",
    "#     ('id', 'string'),\n",
    "# ]))"
   ]
  },
  {
   "cell_type": "code",
   "execution_count": 4,
   "metadata": {
    "execution": {
     "iopub.execute_input": "2020-04-24T17:40:59.752030Z",
     "iopub.status.busy": "2020-04-24T17:40:59.751796Z",
     "iopub.status.idle": "2020-04-24T17:40:59.957910Z",
     "shell.execute_reply": "2020-04-24T17:40:59.956848Z",
     "shell.execute_reply.started": "2020-04-24T17:40:59.752002Z"
    }
   },
   "outputs": [],
   "source": [
    "t = conn.table('github')"
   ]
  },
  {
   "cell_type": "code",
   "execution_count": 9,
   "metadata": {
    "execution": {
     "iopub.execute_input": "2020-04-24T17:51:33.706264Z",
     "iopub.status.busy": "2020-04-24T17:51:33.706023Z",
     "iopub.status.idle": "2020-04-24T17:51:35.293636Z",
     "shell.execute_reply": "2020-04-24T17:51:35.292444Z",
     "shell.execute_reply.started": "2020-04-24T17:51:33.706237Z"
    }
   },
   "outputs": [
    {
     "name": "stdout",
     "output_type": "stream",
     "text": [
      "Requirement already satisfied: graphviz in /usr/local/Caskroom/miniconda/base/envs/ibis-vega-transform/lib/python3.7/site-packages (0.14)\n"
     ]
    }
   ],
   "source": [
    "!pip install graphviz"
   ]
  },
  {
   "cell_type": "code",
   "execution_count": 12,
   "metadata": {
    "execution": {
     "iopub.execute_input": "2020-04-24T17:52:13.118513Z",
     "iopub.status.busy": "2020-04-24T17:52:13.118272Z",
     "iopub.status.idle": "2020-04-24T17:52:13.122873Z",
     "shell.execute_reply": "2020-04-24T17:52:13.122106Z",
     "shell.execute_reply.started": "2020-04-24T17:52:13.118485Z"
    }
   },
   "outputs": [
    {
     "data": {
      "text/plain": [
       "True"
      ]
     },
     "execution_count": 12,
     "metadata": {},
     "output_type": "execute_result"
    }
   ],
   "source": [
    "ibis.options.graphviz_repr"
   ]
  },
  {
   "cell_type": "code",
   "execution_count": 11,
   "metadata": {
    "execution": {
     "iopub.execute_input": "2020-04-24T17:51:59.219930Z",
     "iopub.status.busy": "2020-04-24T17:51:59.219725Z",
     "iopub.status.idle": "2020-04-24T17:51:59.223023Z",
     "shell.execute_reply": "2020-04-24T17:51:59.222380Z",
     "shell.execute_reply.started": "2020-04-24T17:51:59.219906Z"
    }
   },
   "outputs": [],
   "source": [
    "t.head()._repr_png_()"
   ]
  },
  {
   "cell_type": "code",
   "execution_count": 13,
   "metadata": {
    "execution": {
     "iopub.execute_input": "2020-04-24T17:52:23.879046Z",
     "iopub.status.busy": "2020-04-24T17:52:23.878813Z",
     "iopub.status.idle": "2020-04-24T17:52:23.882233Z",
     "shell.execute_reply": "2020-04-24T17:52:23.881393Z",
     "shell.execute_reply.started": "2020-04-24T17:52:23.879019Z"
    }
   },
   "outputs": [],
   "source": [
    "import ibis.expr.visualize"
   ]
  },
  {
   "cell_type": "code",
   "execution_count": null,
   "metadata": {},
   "outputs": [],
   "source": [
    "!pip install -U ibis"
   ]
  },
  {
   "cell_type": "code",
   "execution_count": 15,
   "metadata": {
    "execution": {
     "iopub.execute_input": "2020-04-24T17:53:05.777151Z",
     "iopub.status.busy": "2020-04-24T17:53:05.776912Z",
     "iopub.status.idle": "2020-04-24T17:53:05.793242Z",
     "shell.execute_reply": "2020-04-24T17:53:05.792160Z",
     "shell.execute_reply.started": "2020-04-24T17:53:05.777124Z"
    }
   },
   "outputs": [
    {
     "ename": "TypeError",
     "evalue": "pipe() missing 1 required positional argument: 'f'",
     "output_type": "error",
     "traceback": [
      "\u001b[0;31m---------------------------------------------------------------------------\u001b[0m",
      "\u001b[0;31mTypeError\u001b[0m                                 Traceback (most recent call last)",
      "\u001b[0;32m<ipython-input-15-61fd6174372d>\u001b[0m in \u001b[0;36m<module>\u001b[0;34m\u001b[0m\n\u001b[0;32m----> 1\u001b[0;31m \u001b[0mt\u001b[0m\u001b[0;34m.\u001b[0m\u001b[0mhead\u001b[0m\u001b[0;34m(\u001b[0m\u001b[0;34m)\u001b[0m\u001b[0;34m.\u001b[0m\u001b[0mvisualize\u001b[0m\u001b[0;34m(\u001b[0m\u001b[0;34m)\u001b[0m\u001b[0;34m\u001b[0m\u001b[0;34m\u001b[0m\u001b[0m\n\u001b[0m",
      "\u001b[0;32m/usr/local/Caskroom/miniconda/base/envs/ibis-vega-transform/lib/python3.7/site-packages/ibis/expr/types.py\u001b[0m in \u001b[0;36mvisualize\u001b[0;34m(self, format)\u001b[0m\n\u001b[1;32m    116\u001b[0m         \u001b[0;32mimport\u001b[0m \u001b[0mibis\u001b[0m\u001b[0;34m.\u001b[0m\u001b[0mexpr\u001b[0m\u001b[0;34m.\u001b[0m\u001b[0mvisualize\u001b[0m \u001b[0;32mas\u001b[0m \u001b[0mviz\u001b[0m\u001b[0;34m\u001b[0m\u001b[0;34m\u001b[0m\u001b[0m\n\u001b[1;32m    117\u001b[0m \u001b[0;34m\u001b[0m\u001b[0m\n\u001b[0;32m--> 118\u001b[0;31m         \u001b[0mpath\u001b[0m \u001b[0;34m=\u001b[0m \u001b[0mviz\u001b[0m\u001b[0;34m.\u001b[0m\u001b[0mdraw\u001b[0m\u001b[0;34m(\u001b[0m\u001b[0mviz\u001b[0m\u001b[0;34m.\u001b[0m\u001b[0mto_graph\u001b[0m\u001b[0;34m(\u001b[0m\u001b[0mself\u001b[0m\u001b[0;34m)\u001b[0m\u001b[0;34m,\u001b[0m \u001b[0mformat\u001b[0m\u001b[0;34m=\u001b[0m\u001b[0mformat\u001b[0m\u001b[0;34m)\u001b[0m\u001b[0;34m\u001b[0m\u001b[0;34m\u001b[0m\u001b[0m\n\u001b[0m\u001b[1;32m    119\u001b[0m         \u001b[0mwebbrowser\u001b[0m\u001b[0;34m.\u001b[0m\u001b[0mopen\u001b[0m\u001b[0;34m(\u001b[0m\u001b[0;34m'file://{}'\u001b[0m\u001b[0;34m.\u001b[0m\u001b[0mformat\u001b[0m\u001b[0;34m(\u001b[0m\u001b[0mos\u001b[0m\u001b[0;34m.\u001b[0m\u001b[0mpath\u001b[0m\u001b[0;34m.\u001b[0m\u001b[0mabspath\u001b[0m\u001b[0;34m(\u001b[0m\u001b[0mpath\u001b[0m\u001b[0;34m)\u001b[0m\u001b[0;34m)\u001b[0m\u001b[0;34m)\u001b[0m\u001b[0;34m\u001b[0m\u001b[0;34m\u001b[0m\u001b[0m\n\u001b[1;32m    120\u001b[0m \u001b[0;34m\u001b[0m\u001b[0m\n",
      "\u001b[0;32m/usr/local/Caskroom/miniconda/base/envs/ibis-vega-transform/lib/python3.7/site-packages/ibis/expr/visualize.py\u001b[0m in \u001b[0;36mto_graph\u001b[0;34m(expr, node_attr, edge_attr)\u001b[0m\n\u001b[1;32m     94\u001b[0m             \u001b[0mseen\u001b[0m\u001b[0;34m.\u001b[0m\u001b[0madd\u001b[0m\u001b[0;34m(\u001b[0m\u001b[0mvkey\u001b[0m\u001b[0;34m)\u001b[0m\u001b[0;34m\u001b[0m\u001b[0;34m\u001b[0m\u001b[0m\n\u001b[1;32m     95\u001b[0m \u001b[0;34m\u001b[0m\u001b[0m\n\u001b[0;32m---> 96\u001b[0;31m             \u001b[0mvlabel\u001b[0m \u001b[0;34m=\u001b[0m \u001b[0mget_label\u001b[0m\u001b[0;34m(\u001b[0m\u001b[0me\u001b[0m\u001b[0;34m,\u001b[0m \u001b[0margname\u001b[0m\u001b[0;34m=\u001b[0m\u001b[0mename\u001b[0m\u001b[0;34m)\u001b[0m\u001b[0;34m\u001b[0m\u001b[0;34m\u001b[0m\u001b[0m\n\u001b[0m\u001b[1;32m     97\u001b[0m             \u001b[0mvhash\u001b[0m \u001b[0;34m=\u001b[0m \u001b[0mstr\u001b[0m\u001b[0;34m(\u001b[0m\u001b[0mhash\u001b[0m\u001b[0;34m(\u001b[0m\u001b[0mvkey\u001b[0m\u001b[0;34m)\u001b[0m\u001b[0;34m)\u001b[0m\u001b[0;34m\u001b[0m\u001b[0;34m\u001b[0m\u001b[0m\n\u001b[1;32m     98\u001b[0m             \u001b[0mg\u001b[0m\u001b[0;34m.\u001b[0m\u001b[0mnode\u001b[0m\u001b[0;34m(\u001b[0m\u001b[0mvhash\u001b[0m\u001b[0;34m,\u001b[0m \u001b[0mlabel\u001b[0m\u001b[0;34m=\u001b[0m\u001b[0mvlabel\u001b[0m\u001b[0;34m)\u001b[0m\u001b[0;34m\u001b[0m\u001b[0;34m\u001b[0m\u001b[0m\n",
      "\u001b[0;32m/usr/local/Caskroom/miniconda/base/envs/ibis-vega-transform/lib/python3.7/site-packages/ibis/expr/visualize.py\u001b[0m in \u001b[0;36mget_label\u001b[0;34m(expr, argname)\u001b[0m\n\u001b[1;32m     57\u001b[0m \u001b[0;34m\u001b[0m\u001b[0m\n\u001b[1;32m     58\u001b[0m     \u001b[0mnode\u001b[0m \u001b[0;34m=\u001b[0m \u001b[0mexpr\u001b[0m\u001b[0;34m.\u001b[0m\u001b[0mop\u001b[0m\u001b[0;34m(\u001b[0m\u001b[0;34m)\u001b[0m\u001b[0;34m\u001b[0m\u001b[0;34m\u001b[0m\u001b[0m\n\u001b[0;32m---> 59\u001b[0;31m     \u001b[0mtypename\u001b[0m \u001b[0;34m=\u001b[0m \u001b[0mget_type\u001b[0m\u001b[0;34m(\u001b[0m\u001b[0mexpr\u001b[0m\u001b[0;34m)\u001b[0m  \u001b[0;31m# Already an escaped string\u001b[0m\u001b[0;34m\u001b[0m\u001b[0;34m\u001b[0m\u001b[0m\n\u001b[0m\u001b[1;32m     60\u001b[0m     \u001b[0mname\u001b[0m \u001b[0;34m=\u001b[0m \u001b[0mtype\u001b[0m\u001b[0;34m(\u001b[0m\u001b[0mnode\u001b[0m\u001b[0;34m)\u001b[0m\u001b[0;34m.\u001b[0m\u001b[0m__name__\u001b[0m\u001b[0;34m\u001b[0m\u001b[0;34m\u001b[0m\u001b[0m\n\u001b[1;32m     61\u001b[0m     \u001b[0mnodename\u001b[0m \u001b[0;34m=\u001b[0m \u001b[0mgetattr\u001b[0m\u001b[0;34m(\u001b[0m\u001b[0mnode\u001b[0m\u001b[0;34m,\u001b[0m \u001b[0;34m'name'\u001b[0m\u001b[0;34m,\u001b[0m \u001b[0margname\u001b[0m\u001b[0;34m)\u001b[0m\u001b[0;34m\u001b[0m\u001b[0;34m\u001b[0m\u001b[0m\n",
      "\u001b[0;32m/usr/local/Caskroom/miniconda/base/envs/ibis-vega-transform/lib/python3.7/site-packages/ibis/expr/visualize.py\u001b[0m in \u001b[0;36mget_type\u001b[0;34m(expr)\u001b[0m\n\u001b[1;32m     12\u001b[0m \u001b[0;32mdef\u001b[0m \u001b[0mget_type\u001b[0m\u001b[0;34m(\u001b[0m\u001b[0mexpr\u001b[0m\u001b[0;34m)\u001b[0m\u001b[0;34m:\u001b[0m\u001b[0;34m\u001b[0m\u001b[0;34m\u001b[0m\u001b[0m\n\u001b[1;32m     13\u001b[0m     \u001b[0;32mtry\u001b[0m\u001b[0;34m:\u001b[0m\u001b[0;34m\u001b[0m\u001b[0;34m\u001b[0m\u001b[0m\n\u001b[0;32m---> 14\u001b[0;31m         \u001b[0;32mreturn\u001b[0m \u001b[0mstr\u001b[0m\u001b[0;34m(\u001b[0m\u001b[0mexpr\u001b[0m\u001b[0;34m.\u001b[0m\u001b[0mtype\u001b[0m\u001b[0;34m(\u001b[0m\u001b[0;34m)\u001b[0m\u001b[0;34m)\u001b[0m\u001b[0;34m\u001b[0m\u001b[0;34m\u001b[0m\u001b[0m\n\u001b[0m\u001b[1;32m     15\u001b[0m     \u001b[0;32mexcept\u001b[0m \u001b[0;34m(\u001b[0m\u001b[0mAttributeError\u001b[0m\u001b[0;34m,\u001b[0m \u001b[0mNotImplementedError\u001b[0m\u001b[0;34m)\u001b[0m\u001b[0;34m:\u001b[0m\u001b[0;34m\u001b[0m\u001b[0;34m\u001b[0m\u001b[0m\n\u001b[1;32m     16\u001b[0m         \u001b[0;32mpass\u001b[0m\u001b[0;34m\u001b[0m\u001b[0;34m\u001b[0m\u001b[0m\n",
      "\u001b[0;31mTypeError\u001b[0m: pipe() missing 1 required positional argument: 'f'"
     ]
    }
   ],
   "source": [
    "t.head().visualize()"
   ]
  },
  {
   "cell_type": "code",
   "execution_count": 5,
   "metadata": {
    "execution": {
     "iopub.execute_input": "2020-04-24T17:41:00.294433Z",
     "iopub.status.busy": "2020-04-24T17:41:00.294234Z",
     "iopub.status.idle": "2020-04-24T17:41:00.479462Z",
     "shell.execute_reply": "2020-04-24T17:41:00.478960Z",
     "shell.execute_reply.started": "2020-04-24T17:41:00.294411Z"
    }
   },
   "outputs": [
    {
     "data": {
      "text/html": [
       "<div>\n",
       "<style scoped>\n",
       "    .dataframe tbody tr th:only-of-type {\n",
       "        vertical-align: middle;\n",
       "    }\n",
       "\n",
       "    .dataframe tbody tr th {\n",
       "        vertical-align: top;\n",
       "    }\n",
       "\n",
       "    .dataframe thead th {\n",
       "        text-align: right;\n",
       "    }\n",
       "</style>\n",
       "<table border=\"1\" class=\"dataframe\">\n",
       "  <thead>\n",
       "    <tr style=\"text-align: right;\">\n",
       "      <th></th>\n",
       "      <th>type</th>\n",
       "      <th>public_</th>\n",
       "      <th>repo_id</th>\n",
       "      <th>repo_name</th>\n",
       "      <th>repo_url</th>\n",
       "      <th>actor_id</th>\n",
       "      <th>actor_login</th>\n",
       "      <th>actor_gravatar_id</th>\n",
       "      <th>actor_avatar_url</th>\n",
       "      <th>actor_url</th>\n",
       "      <th>org_id</th>\n",
       "      <th>org_login</th>\n",
       "      <th>org_gravatar_id</th>\n",
       "      <th>org_avatar_url</th>\n",
       "      <th>org_url</th>\n",
       "      <th>created_at</th>\n",
       "      <th>id</th>\n",
       "    </tr>\n",
       "  </thead>\n",
       "  <tbody>\n",
       "    <tr>\n",
       "      <th>0</th>\n",
       "      <td>PushEvent</td>\n",
       "      <td>True</td>\n",
       "      <td>28684182</td>\n",
       "      <td>kasperbasse/kbwebs-webshop</td>\n",
       "      <td>https://api.github.com/repos/kasperbasse/kbweb...</td>\n",
       "      <td>1561022</td>\n",
       "      <td>None</td>\n",
       "      <td>None</td>\n",
       "      <td>https://avatars.githubusercontent.com/u/1561022?</td>\n",
       "      <td>https://api.github.com/users/kasperbasse</td>\n",
       "      <td>NaN</td>\n",
       "      <td>None</td>\n",
       "      <td>None</td>\n",
       "      <td>None</td>\n",
       "      <td>None</td>\n",
       "      <td>2015-01-01 10:10:29</td>\n",
       "      <td>2489549404</td>\n",
       "    </tr>\n",
       "    <tr>\n",
       "      <th>1</th>\n",
       "      <td>PushEvent</td>\n",
       "      <td>True</td>\n",
       "      <td>27468966</td>\n",
       "      <td>xsatter/timeslicerfx</td>\n",
       "      <td>https://api.github.com/repos/xsatter/timeslicerfx</td>\n",
       "      <td>6720685</td>\n",
       "      <td>None</td>\n",
       "      <td>None</td>\n",
       "      <td>https://avatars.githubusercontent.com/u/6720685?</td>\n",
       "      <td>https://api.github.com/users/xsatter</td>\n",
       "      <td>NaN</td>\n",
       "      <td>None</td>\n",
       "      <td>None</td>\n",
       "      <td>None</td>\n",
       "      <td>None</td>\n",
       "      <td>2015-01-01 10:10:29</td>\n",
       "      <td>2489549406</td>\n",
       "    </tr>\n",
       "    <tr>\n",
       "      <th>2</th>\n",
       "      <td>CreateEvent</td>\n",
       "      <td>True</td>\n",
       "      <td>28685069</td>\n",
       "      <td>wpeasyplugins/wpeasyplugins</td>\n",
       "      <td>https://api.github.com/repos/wpeasyplugins/wpe...</td>\n",
       "      <td>2277443</td>\n",
       "      <td>None</td>\n",
       "      <td>None</td>\n",
       "      <td>https://avatars.githubusercontent.com/u/2277443?</td>\n",
       "      <td>https://api.github.com/users/kjellberg</td>\n",
       "      <td>10363551.0</td>\n",
       "      <td>wpeasyplugins</td>\n",
       "      <td>None</td>\n",
       "      <td>https://avatars.githubusercontent.com/u/10363551?</td>\n",
       "      <td>https://api.github.com/orgs/wpeasyplugins</td>\n",
       "      <td>2015-01-01 11:01:26</td>\n",
       "      <td>2489564564</td>\n",
       "    </tr>\n",
       "    <tr>\n",
       "      <th>3</th>\n",
       "      <td>PushEvent</td>\n",
       "      <td>True</td>\n",
       "      <td>23782919</td>\n",
       "      <td>hduffddybz/MyDocument</td>\n",
       "      <td>https://api.github.com/repos/hduffddybz/MyDocu...</td>\n",
       "      <td>8110714</td>\n",
       "      <td>None</td>\n",
       "      <td>None</td>\n",
       "      <td>https://avatars.githubusercontent.com/u/8110714?</td>\n",
       "      <td>https://api.github.com/users/hduffddybz</td>\n",
       "      <td>NaN</td>\n",
       "      <td>None</td>\n",
       "      <td>None</td>\n",
       "      <td>None</td>\n",
       "      <td>None</td>\n",
       "      <td>2015-01-01 10:10:29</td>\n",
       "      <td>2489549408</td>\n",
       "    </tr>\n",
       "    <tr>\n",
       "      <th>4</th>\n",
       "      <td>CreateEvent</td>\n",
       "      <td>True</td>\n",
       "      <td>28684757</td>\n",
       "      <td>pgilad/gulp-sort</td>\n",
       "      <td>https://api.github.com/repos/pgilad/gulp-sort</td>\n",
       "      <td>4533329</td>\n",
       "      <td>None</td>\n",
       "      <td>None</td>\n",
       "      <td>https://avatars.githubusercontent.com/u/4533329?</td>\n",
       "      <td>https://api.github.com/users/pgilad</td>\n",
       "      <td>NaN</td>\n",
       "      <td>None</td>\n",
       "      <td>None</td>\n",
       "      <td>None</td>\n",
       "      <td>None</td>\n",
       "      <td>2015-01-01 10:35:54</td>\n",
       "      <td>2489557091</td>\n",
       "    </tr>\n",
       "  </tbody>\n",
       "</table>\n",
       "</div>"
      ],
      "text/plain": [
       "          type  public_   repo_id                    repo_name  \\\n",
       "0    PushEvent     True  28684182   kasperbasse/kbwebs-webshop   \n",
       "1    PushEvent     True  27468966         xsatter/timeslicerfx   \n",
       "2  CreateEvent     True  28685069  wpeasyplugins/wpeasyplugins   \n",
       "3    PushEvent     True  23782919        hduffddybz/MyDocument   \n",
       "4  CreateEvent     True  28684757             pgilad/gulp-sort   \n",
       "\n",
       "                                            repo_url  actor_id actor_login  \\\n",
       "0  https://api.github.com/repos/kasperbasse/kbweb...   1561022        None   \n",
       "1  https://api.github.com/repos/xsatter/timeslicerfx   6720685        None   \n",
       "2  https://api.github.com/repos/wpeasyplugins/wpe...   2277443        None   \n",
       "3  https://api.github.com/repos/hduffddybz/MyDocu...   8110714        None   \n",
       "4      https://api.github.com/repos/pgilad/gulp-sort   4533329        None   \n",
       "\n",
       "  actor_gravatar_id                                  actor_avatar_url  \\\n",
       "0              None  https://avatars.githubusercontent.com/u/1561022?   \n",
       "1              None  https://avatars.githubusercontent.com/u/6720685?   \n",
       "2              None  https://avatars.githubusercontent.com/u/2277443?   \n",
       "3              None  https://avatars.githubusercontent.com/u/8110714?   \n",
       "4              None  https://avatars.githubusercontent.com/u/4533329?   \n",
       "\n",
       "                                  actor_url      org_id      org_login  \\\n",
       "0  https://api.github.com/users/kasperbasse         NaN           None   \n",
       "1      https://api.github.com/users/xsatter         NaN           None   \n",
       "2    https://api.github.com/users/kjellberg  10363551.0  wpeasyplugins   \n",
       "3   https://api.github.com/users/hduffddybz         NaN           None   \n",
       "4       https://api.github.com/users/pgilad         NaN           None   \n",
       "\n",
       "  org_gravatar_id                                     org_avatar_url  \\\n",
       "0            None                                               None   \n",
       "1            None                                               None   \n",
       "2            None  https://avatars.githubusercontent.com/u/10363551?   \n",
       "3            None                                               None   \n",
       "4            None                                               None   \n",
       "\n",
       "                                     org_url          created_at          id  \n",
       "0                                       None 2015-01-01 10:10:29  2489549404  \n",
       "1                                       None 2015-01-01 10:10:29  2489549406  \n",
       "2  https://api.github.com/orgs/wpeasyplugins 2015-01-01 11:01:26  2489564564  \n",
       "3                                       None 2015-01-01 10:10:29  2489549408  \n",
       "4                                       None 2015-01-01 10:35:54  2489557091  "
      ]
     },
     "execution_count": 5,
     "metadata": {},
     "output_type": "execute_result"
    }
   ],
   "source": [
    "t.head().execute()"
   ]
  },
  {
   "cell_type": "code",
   "execution_count": 7,
   "metadata": {
    "execution": {
     "iopub.execute_input": "2020-04-24T17:43:23.993321Z",
     "iopub.status.busy": "2020-04-24T17:43:23.993086Z",
     "iopub.status.idle": "2020-04-24T17:43:24.049456Z",
     "shell.execute_reply": "2020-04-24T17:43:24.048869Z",
     "shell.execute_reply.started": "2020-04-24T17:43:23.993294Z"
    }
   },
   "outputs": [
    {
     "data": {
      "application/vnd.vega.ibis.v5+json": {
       "span": {
        "uber-trace-id": "99afeaf72f338273:587333ddbe2b363:0:1"
       },
       "spec": {
        "$schema": "https://vega.github.io/schema/vega-lite/v4.0.0.json",
        "config": {
         "view": {
          "continuousHeight": 300,
          "continuousWidth": 400
         }
        },
        "padding": {
         "bottom": 50,
         "left": 150,
         "right": 0,
         "top": 10
        },
        "vconcat": [
         {
          "data": {
           "name": "ibis:8440211111386506493"
          },
          "encoding": {
           "x": {
            "field": "created_at",
            "timeUnit": "yearmonth",
            "type": "temporal"
           },
           "y": {
            "aggregate": "count",
            "scale": {
             "zero": false
            },
            "type": "quantitative"
           }
          },
          "height": 600,
          "mark": "line",
          "selection": {
           "selector003": {
            "bind": {
             "input": "select",
             "options": [
              "jupyterlab/jupyterlab",
              "vega/vega",
              "vega/vega-lite",
              "altair-viz/altair",
              "cloudera/ibis",
              "mapd/mapd-core"
             ]
            },
            "fields": [
             "repo_name"
            ],
            "type": "single"
           },
           "selector004": {
            "encodings": [
             "x"
            ],
            "fields": [
             "created_at"
            ],
            "type": "interval"
           }
          },
          "transform": [
           {
            "filter": {
             "selection": "selector003"
            }
           }
          ],
          "width": 600
         },
         {
          "data": {
           "name": "ibis:8440211111386506493"
          },
          "encoding": {
           "x": {
            "aggregate": "count",
            "type": "quantitative"
           },
           "y": {
            "field": "type",
            "sort": {
             "encoding": "x",
             "order": "descending"
            },
            "type": "ordinal"
           }
          },
          "height": 600,
          "mark": "bar",
          "selection": {
           "selector003": {
            "bind": {
             "input": "select",
             "options": [
              "jupyterlab/jupyterlab",
              "vega/vega",
              "vega/vega-lite",
              "altair-viz/altair",
              "cloudera/ibis",
              "mapd/mapd-core"
             ]
            },
            "fields": [
             "repo_name"
            ],
            "type": "single"
           }
          },
          "transform": [
           {
            "filter": {
             "selection": "selector003"
            }
           },
           {
            "filter": {
             "selection": "selector004"
            }
           }
          ],
          "width": 600
         }
        ]
       }
      },
      "text/plain": [
       "alt.VConcatChart(...)"
      ]
     },
     "execution_count": 7,
     "metadata": {},
     "output_type": "execute_result"
    }
   ],
   "source": [
    "repo_dropdown = alt.binding_select(options=[\n",
    "    'jupyterlab/jupyterlab',\n",
    "    'vega/vega',\n",
    "    'vega/vega-lite',\n",
    "    'altair-viz/altair',\n",
    "    'cloudera/ibis',\n",
    "    'mapd/mapd-core'\n",
    "])\n",
    "repo_selection = alt.selection_single(fields=['repo_name'], bind=repo_dropdown)\n",
    "\n",
    "time_selection = alt.selection_interval(\n",
    "    fields=['created_at'],\n",
    "    encodings=['x'],\n",
    ")\n",
    "\n",
    "\n",
    "time = alt.Chart(\n",
    "    t,\n",
    ").mark_line().encode(\n",
    "    alt.X(\n",
    "        'yearmonth(created_at):T',\n",
    "    ),\n",
    "    alt.Y(\n",
    "        'count():Q',\n",
    "        scale=alt.Scale(zero=False)\n",
    "    ),\n",
    ").add_selection(\n",
    "    repo_selection\n",
    ").transform_filter(\n",
    "    repo_selection\n",
    ").properties(\n",
    "    height=600,\n",
    "    width=600\n",
    ").add_selection(\n",
    "    time_selection\n",
    ")\n",
    "\n",
    "type_ = alt.Chart(\n",
    "    t,\n",
    ").mark_bar().encode(\n",
    "    alt.X(\n",
    "        'count()',\n",
    "    ),\n",
    "    alt.Y('type:O', sort=alt.Sort(encoding='x', order='descending')),\n",
    ").add_selection(\n",
    "    repo_selection\n",
    ").transform_filter(\n",
    "    repo_selection\n",
    ").properties(\n",
    "    height=600,\n",
    "    width=600\n",
    ").transform_filter(\n",
    "    time_selection\n",
    ")\n",
    "\n",
    "(time & type_).properties(\n",
    "    padding={\n",
    "        \"left\": 150,\n",
    "        \"right\": 0,\n",
    "        \"top\": 10,\n",
    "        \"bottom\": 50\n",
    "    }\n",
    ")"
   ]
  },
  {
   "cell_type": "code",
   "execution_count": null,
   "metadata": {},
   "outputs": [],
   "source": [
    "\n",
    "# alt.Chart(\n",
    "#     t[t.repo_name].head().execute(),\n",
    "# ).mark_line().encode(\n",
    "#     y=alt.Y('repo_name', sort=alt.Sort(encoding='x', order='descending')),\n",
    "#     x='count()',\n",
    "# ).properties(\n",
    "#     height=600,\n",
    "#     width=600\n",
    "# ).transform_window(\n",
    "#     rank='rank(IMDB_Rating)',\n",
    "#     sort=[alt.SortField('IMDB_Rating', order='descending')]\n",
    "# ).transform_filter(\n",
    "#     (alt.datum.rank < 10)\n",
    "# )"
   ]
  },
  {
   "cell_type": "code",
   "execution_count": 26,
   "metadata": {
    "execution": {
     "iopub.execute_input": "2020-04-24T16:08:20.523026Z",
     "iopub.status.busy": "2020-04-24T16:08:20.522790Z",
     "iopub.status.idle": "2020-04-24T16:08:20.552901Z",
     "shell.execute_reply": "2020-04-24T16:08:20.552294Z",
     "shell.execute_reply.started": "2020-04-24T16:08:20.522998Z"
    }
   },
   "outputs": [
    {
     "data": {
      "application/vnd.vega.ibis.v5+json": {
       "span": {
        "uber-trace-id": "3edc6d46e7b803e4:fd7adb05a5f990c8:0:1"
       },
       "spec": {
        "$schema": "https://vega.github.io/schema/vega-lite/v4.0.0.json",
        "config": {
         "view": {
          "continuousHeight": 300,
          "continuousWidth": 400
         }
        },
        "data": {
         "name": "ibis:-5953963854278297027"
        },
        "encoding": {
         "tooltip": {
          "field": "type",
          "type": "nominal"
         },
         "x": {
          "aggregate": "count",
          "type": "quantitative"
         },
         "y": {
          "field": "type",
          "sort": {
           "encoding": "x",
           "order": "descending"
          },
          "type": "ordinal"
         }
        },
        "height": 600,
        "mark": "bar",
        "padding": {
         "bottom": 50,
         "left": 150,
         "right": 0,
         "top": 0
        },
        "selection": {
         "selector016": {
          "bind": {
           "input": "select",
           "options": [
            "jupyterlab/jupyterlab",
            "vega/vega",
            "vega/vega-lite",
            "altair-viz/altair",
            "cloudera/ibis",
            "mapd/mapd-core"
           ]
          },
          "fields": [
           "repo_name"
          ],
          "type": "single"
         }
        },
        "transform": [
         {
          "filter": {
           "selection": "selector016"
          }
         }
        ],
        "width": 600
       }
      },
      "text/plain": [
       "alt.Chart(...)"
      ]
     },
     "execution_count": 26,
     "metadata": {},
     "output_type": "execute_result"
    }
   ],
   "source": [
    "repo_dropdown = alt.binding_select(options=[\n",
    "    'jupyterlab/jupyterlab',\n",
    "    'vega/vega',\n",
    "    'vega/vega-lite',\n",
    "    'altair-viz/altair',\n",
    "    'cloudera/ibis',\n",
    "    'mapd/mapd-core'\n",
    "])\n",
    "repo_selection = alt.selection_single(fields=['repo_name'], bind=repo_dropdown)\n",
    "\n",
    "alt.Chart(\n",
    "    t[t.created_at, t.repo_name, t.type],\n",
    ").mark_bar().encode(\n",
    "    alt.X(\n",
    "        'count()',\n",
    "    ),\n",
    "    alt.Y('type:O', sort=alt.Sort(encoding='x', order='descending')),\n",
    "    tooltip='type'\n",
    ").add_selection(\n",
    "    repo_selection\n",
    ").transform_filter(\n",
    "    repo_selection\n",
    ").properties(\n",
    "    height=600,\n",
    "    width=600,\n",
    "    padding={\n",
    "        \"left\": 150,\n",
    "        \"right\": 0,\n",
    "        \"top\": 0,\n",
    "        \"bottom\": 50\n",
    "    }\n",
    ")"
   ]
  },
  {
   "cell_type": "code",
   "execution_count": 24,
   "metadata": {
    "execution": {
     "iopub.execute_input": "2020-04-24T14:44:53.351345Z",
     "iopub.status.busy": "2020-04-24T14:44:53.351098Z",
     "iopub.status.idle": "2020-04-24T14:44:53.354220Z",
     "shell.execute_reply": "2020-04-24T14:44:53.353522Z",
     "shell.execute_reply.started": "2020-04-24T14:44:53.351316Z"
    }
   },
   "outputs": [],
   "source": [
    "# this doesn't work, input in this instead:\n",
    "# omnisql --db mapd -u mapd -p HyperInteractive -s bewdy.mapd.com\n",
    "\n",
    "# conn.sql(\"\"\"\n",
    "# COPY github\n",
    "# FROM '/theHoard/export/internal-data/datasets/github-archive/processed/*/*.csv.gz'\n",
    "# WITH (header='false');\n",
    "# \"\"\")"
   ]
  },
  {
   "cell_type": "code",
   "execution_count": 32,
   "metadata": {
    "execution": {
     "iopub.execute_input": "2020-04-24T14:48:45.810834Z",
     "iopub.status.busy": "2020-04-24T14:48:45.810628Z",
     "iopub.status.idle": "2020-04-24T14:48:46.314119Z",
     "shell.execute_reply": "2020-04-24T14:48:46.312953Z",
     "shell.execute_reply.started": "2020-04-24T14:48:45.810810Z"
    }
   },
   "outputs": [],
   "source": [
    "# conn = ibis.omniscidb.connect(\n",
    "#     host='localhost', password='HyperInteractive', user='admin',\n",
    "#     port=6274,  protocol= 'binary'\n",
    "# )"
   ]
  },
  {
   "cell_type": "code",
   "execution_count": 34,
   "metadata": {
    "execution": {
     "iopub.execute_input": "2020-04-24T14:49:02.106868Z",
     "iopub.status.busy": "2020-04-24T14:49:02.106673Z",
     "iopub.status.idle": "2020-04-24T14:49:02.305161Z",
     "shell.execute_reply": "2020-04-24T14:49:02.304254Z",
     "shell.execute_reply.started": "2020-04-24T14:49:02.106846Z"
    }
   },
   "outputs": [],
   "source": [
    "# t = conn.table('github_demo')"
   ]
  },
  {
   "cell_type": "code",
   "execution_count": 9,
   "metadata": {
    "execution": {
     "iopub.execute_input": "2020-04-24T15:38:38.127805Z",
     "iopub.status.busy": "2020-04-24T15:38:38.127569Z",
     "iopub.status.idle": "2020-04-24T15:38:38.130770Z",
     "shell.execute_reply": "2020-04-24T15:38:38.130053Z",
     "shell.execute_reply.started": "2020-04-24T15:38:38.127777Z"
    }
   },
   "outputs": [],
   "source": [
    "# t.info()"
   ]
  },
  {
   "cell_type": "code",
   "execution_count": 10,
   "metadata": {
    "execution": {
     "iopub.execute_input": "2020-04-24T15:38:39.616133Z",
     "iopub.status.busy": "2020-04-24T15:38:39.615894Z",
     "iopub.status.idle": "2020-04-24T15:38:39.618972Z",
     "shell.execute_reply": "2020-04-24T15:38:39.618179Z",
     "shell.execute_reply.started": "2020-04-24T15:38:39.616105Z"
    }
   },
   "outputs": [],
   "source": [
    "# t.head().execute()"
   ]
  },
  {
   "cell_type": "code",
   "execution_count": null,
   "metadata": {},
   "outputs": [],
   "source": []
  }
 ],
 "metadata": {
  "kernelspec": {
   "display_name": "Python 3",
   "language": "python",
   "name": "python3"
  },
  "language_info": {
   "codemirror_mode": {
    "name": "ipython",
    "version": 3
   },
   "file_extension": ".py",
   "mimetype": "text/x-python",
   "name": "python",
   "nbconvert_exporter": "python",
   "pygments_lexer": "ipython3",
   "version": "3.7.6"
  }
 },
 "nbformat": 4,
 "nbformat_minor": 4
}
