{
 "cells": [
  {
   "cell_type": "markdown",
   "metadata": {},
   "source": [
    "# Vega, Ibis, and OmniSci Performance"
   ]
  },
  {
   "cell_type": "markdown",
   "metadata": {},
   "source": [
    "In this notebook we will show two charts. The first generally works, albeit is a bit slow. The second is basically inoperable because of performance issues.\n",
    "\n",
    "I believe these performance issues are primarily due to two limitations in Vega currently:\n",
    "\n",
    "1. Each transform in the dataflow graph is executed syncronously. Ideally, we should be able to parallilize the database queries launched by each transform.\n",
    "2. The UI blocks while waiting for an async transform to complete. This isn't noticeable normally in Vega, but when running all the transforms takes multiple seconds, it makes scrolling and panning basically inoperable.\n",
    "\n",
    "We will use Jaeger / OpenTracing to look at the timing of the various events to understand the performance."
   ]
  },
  {
   "cell_type": "markdown",
   "metadata": {},
   "source": [
    "## Setup\n",
    "\n",
    "Before launching these, first open the \"Jager UI\" in a new window, so traces will be collected. You can do this by going to `./jaeger` instead of `./lab` or by clicking the `Jaeger` button in the JupyterLab launcher."
   ]
  },
  {
   "cell_type": "markdown",
   "metadata": {},
   "source": [
    "## Time Series Chart"
   ]
  },
  {
   "cell_type": "markdown",
   "metadata": {},
   "source": [
    "1. Run these cells to create a chart"
   ]
  },
  {
   "cell_type": "code",
   "execution_count": 1,
   "metadata": {},
   "outputs": [],
   "source": [
    "import altair as alt\n",
    "import ibis_vega_transform\n",
    "import ibis.mapd\n",
    "\n",
    "\n",
    "conn = ibis.mapd.connect(\n",
    "    host='metis.mapd.com', user='mapd', password='HyperInteractive',\n",
    "    port=443, database='mapd', protocol= 'https'\n",
    ")"
   ]
  },
  {
   "cell_type": "code",
   "execution_count": 2,
   "metadata": {},
   "outputs": [
    {
     "data": {
      "application/vnd.vega.ibis.v5+json": {
       "span": {
        "uber-trace-id": "3d4b924be963ec71:f5a99c84be18db49:0:1"
       },
       "spec": {
        "$schema": "https://vega.github.io/schema/vega-lite/v4.0.0.json",
        "config": {
         "axis": {
          "grid": false
         },
         "view": {
          "continuousHeight": 300,
          "continuousWidth": 400,
          "strokeOpacity": 0
         }
        },
        "vconcat": [
         {
          "hconcat": [
           {
            "data": {
             "name": "ibis:6965506553536879280"
            },
            "encoding": {
             "text": {
              "aggregate": "count",
              "type": "quantitative"
             }
            },
            "mark": "text",
            "title": "Selected Rows",
            "transform": [
             {
              "filter": {
               "selection": "selector002"
              }
             },
             {
              "filter": {
               "selection": "selector003"
              }
             },
             {
              "filter": {
               "selection": "selector001"
              }
             }
            ]
           },
           {
            "data": {
             "name": "ibis:-1545940419154525500"
            },
            "encoding": {
             "text": {
              "aggregate": "count",
              "type": "quantitative"
             }
            },
            "mark": "text",
            "title": "Total Rows"
           }
          ]
         },
         {
          "hconcat": [
           {
            "layer": [
             {
              "data": {
               "name": "ibis:1719141144511772556"
              },
              "encoding": {
               "color": {
                "condition": {
                 "selection": "selector001",
                 "value": "steelblue"
                },
                "value": "grey"
               },
               "x": {
                "aggregate": "count",
                "type": "quantitative"
               },
               "y": {
                "field": "origin_state",
                "sort": {
                 "encoding": "x",
                 "order": "descending"
                },
                "type": "nominal"
               }
              },
              "height": 533.3333333333334,
              "mark": "bar",
              "selection": {
               "selector001": {
                "fields": [
                 "origin_state"
                ],
                "type": "multi"
               }
              },
              "title": "Total Number of Flights by State",
              "transform": [
               {
                "filter": {
                 "selection": "selector002"
                }
               },
               {
                "filter": {
                 "selection": "selector003"
                }
               }
              ],
              "width": 500
             },
             {
              "data": {
               "name": "ibis:1719141144511772556"
              },
              "encoding": {
               "text": {
                "aggregate": "count",
                "type": "quantitative"
               },
               "x": {
                "aggregate": "count",
                "type": "quantitative"
               },
               "y": {
                "field": "origin_state",
                "sort": {
                 "encoding": "x",
                 "order": "descending"
                },
                "type": "nominal"
               }
              },
              "height": 533.3333333333334,
              "mark": {
               "dx": 20,
               "type": "text"
              },
              "transform": [
               {
                "filter": {
                 "selection": "selector002"
                }
               },
               {
                "filter": {
                 "selection": "selector003"
                }
               }
              ],
              "width": 500
             }
            ]
           },
           {
            "layer": [
             {
              "data": {
               "name": "ibis:-2039848046767201717"
              },
              "encoding": {
               "color": {
                "condition": {
                 "selection": "selector002",
                 "value": "steelblue"
                },
                "value": "grey"
               },
               "tooltip": [
                {
                 "field": "carrier_name",
                 "type": "nominal"
                },
                {
                 "field": "depdelay",
                 "type": "quantitative"
                },
                {
                 "field": "arrdelay",
                 "type": "quantitative"
                }
               ],
               "x": {
                "field": "depdelay",
                "type": "quantitative"
               },
               "y": {
                "field": "arrdelay",
                "type": "quantitative"
               }
              },
              "height": 533.3333333333334,
              "mark": {
               "filled": true,
               "size": 200,
               "type": "point"
              },
              "selection": {
               "selector002": {
                "fields": [
                 "carrier_name"
                ],
                "type": "multi"
               }
              },
              "title": "Carrier Departure Delay by Arrival Delay (Minutes)",
              "transform": [
               {
                "filter": {
                 "selection": "selector001"
                }
               },
               {
                "filter": {
                 "selection": "selector003"
                }
               },
               {
                "aggregate": [
                 {
                  "as": "depdelay",
                  "field": "depdelay",
                  "op": "mean"
                 },
                 {
                  "as": "arrdelay",
                  "field": "arrdelay",
                  "op": "mean"
                 }
                ],
                "groupby": [
                 "carrier_name"
                ]
               }
              ],
              "width": 500
             },
             {
              "data": {
               "name": "ibis:-2039848046767201717"
              },
              "encoding": {
               "text": {
                "field": "carrier_name",
                "type": "nominal"
               },
               "x": {
                "field": "depdelay",
                "type": "quantitative"
               },
               "y": {
                "field": "arrdelay",
                "type": "quantitative"
               }
              },
              "height": 533.3333333333334,
              "mark": "text",
              "transform": [
               {
                "filter": {
                 "selection": "selector001"
                }
               },
               {
                "filter": {
                 "selection": "selector003"
                }
               },
               {
                "aggregate": [
                 {
                  "as": "depdelay",
                  "field": "depdelay",
                  "op": "mean"
                 },
                 {
                  "as": "arrdelay",
                  "field": "arrdelay",
                  "op": "mean"
                 }
                ],
                "groupby": [
                 "carrier_name"
                ]
               }
              ],
              "width": 500
             }
            ]
           }
          ]
         },
         {
          "data": {
           "name": "ibis:6965506553536879280"
          },
          "encoding": {
           "x": {
            "field": "dep_timestamp",
            "timeUnit": "yearmonthdate",
            "type": "temporal"
           },
           "y": {
            "aggregate": "count",
            "scale": {
             "zero": false
            },
            "type": "quantitative"
           }
          },
          "height": 266.6666666666667,
          "mark": "line",
          "selection": {
           "selector003": {
            "encodings": [
             "x"
            ],
            "fields": [
             "dep_timestamp"
            ],
            "on": "[mousedown, window:mouseup] > window:mousemove!{0, 400}",
            "translate": "[mousedown, window:mouseup] > window:mousemove!{0, 400}",
            "type": "interval",
            "zoom": false
           }
          },
          "title": "Number of Flights by Departure Time",
          "transform": [
           {
            "filter": "datum.dep_timestamp != null"
           },
           {
            "filter": {
             "selection": "selector002"
            }
           },
           {
            "filter": {
             "selection": "selector001"
            }
           }
          ],
          "width": 1050
         }
        ]
       }
      },
      "text/plain": [
       "alt.VConcatChart(...)"
      ]
     },
     "execution_count": 2,
     "metadata": {},
     "output_type": "execute_result"
    }
   ],
   "source": [
    "t = conn.table(\"flights_donotmodify\")\n",
    "\n",
    "states = alt.selection_multi(fields=['origin_state'])\n",
    "airlines = alt.selection_multi(fields=['carrier_name'])\n",
    "\n",
    "# Copy default from \n",
    "# https://github.com/vega/vega-lite/blob/8936751a75c3d3713b97a85b918fb30c35262faf/src/selection.ts#L281\n",
    "# but add debounce\n",
    "# https://vega.github.io/vega/docs/event-streams/#basic-selectors\n",
    "\n",
    "DEBOUNCE_MS = 400\n",
    "\n",
    "dates = alt.selection_interval(\n",
    "    fields=['dep_timestamp'],\n",
    "    encodings=['x'],\n",
    "    on=f'[mousedown, window:mouseup] > window:mousemove!{{0, {DEBOUNCE_MS}}}',\n",
    "    translate=f'[mousedown, window:mouseup] > window:mousemove!{{0, {DEBOUNCE_MS}}}',\n",
    "    zoom=False\n",
    ")\n",
    "\n",
    "HEIGHT = 800\n",
    "WIDTH = 1000\n",
    "\n",
    "count_filter = alt.Chart(\n",
    "    t[t.dep_timestamp, t.depdelay, t.origin_state, t.carrier_name],\n",
    "    title=\"Selected Rows\"\n",
    ").transform_filter(\n",
    "    airlines\n",
    ").transform_filter(\n",
    "    dates\n",
    ").transform_filter(\n",
    "    states\n",
    ").mark_text().encode(\n",
    "    text='count()'\n",
    ")\n",
    "\n",
    "count_total = alt.Chart(\n",
    "    t,\n",
    "    title=\"Total Rows\"\n",
    ").mark_text().encode(\n",
    "    text='count()'\n",
    ")\n",
    "\n",
    "flights_by_state = alt.Chart(\n",
    "    t[t.origin_state, t.carrier_name, t.dep_timestamp],\n",
    "    title=\"Total Number of Flights by State\"\n",
    ").transform_filter(\n",
    "    airlines\n",
    ").transform_filter(\n",
    "    dates\n",
    ").mark_bar().encode(\n",
    "    x='count()',\n",
    "    y=alt.Y('origin_state', sort=alt.Sort(encoding='x', order='descending')),\n",
    "    color=alt.condition(states, alt.ColorValue(\"steelblue\"), alt.ColorValue(\"grey\"))\n",
    ").add_selection(\n",
    "    states\n",
    ").properties(\n",
    "    height= 2 * HEIGHT / 3,\n",
    "    width=WIDTH / 2\n",
    ") + alt.Chart(\n",
    "    t[t.origin_state, t.carrier_name, t.dep_timestamp],\n",
    ").transform_filter(\n",
    "    airlines\n",
    ").transform_filter(\n",
    "    dates\n",
    ").mark_text(dx=20).encode(\n",
    "    x='count()',\n",
    "    y=alt.Y('origin_state', sort=alt.Sort(encoding='x', order='descending')),\n",
    "    text='count()'\n",
    ").properties(\n",
    "    height= 2 * HEIGHT / 3,\n",
    "    width=WIDTH / 2\n",
    ")\n",
    "\n",
    "carrier_delay = alt.Chart(\n",
    "    t[t.depdelay, t.arrdelay, t.carrier_name, t.origin_state, t.dep_timestamp],\n",
    "    title=\"Carrier Departure Delay by Arrival Delay (Minutes)\"\n",
    ").transform_filter(\n",
    "    states\n",
    ").transform_filter(\n",
    "    dates\n",
    ").transform_aggregate(\n",
    "    depdelay='mean(depdelay)',\n",
    "    arrdelay='mean(arrdelay)',\n",
    "    groupby=[\"carrier_name\"]\n",
    ").mark_point(filled=True, size=200).encode(\n",
    "    x='depdelay',\n",
    "    y='arrdelay',\n",
    "    color=alt.condition(airlines, alt.ColorValue(\"steelblue\"), alt.ColorValue(\"grey\")),\n",
    "    tooltip=['carrier_name', 'depdelay', 'arrdelay']\n",
    ").add_selection(\n",
    "    airlines\n",
    ").properties(\n",
    "    height=2 * HEIGHT / 3,\n",
    "    width=WIDTH / 2\n",
    ") + alt.Chart(\n",
    "    t[t.depdelay, t.arrdelay, t.carrier_name, t.origin_state, t.dep_timestamp],\n",
    ").transform_filter(\n",
    "    states\n",
    ").transform_filter(\n",
    "    dates\n",
    ").transform_aggregate(\n",
    "    depdelay='mean(depdelay)',\n",
    "    arrdelay='mean(arrdelay)',\n",
    "    groupby=[\"carrier_name\"]\n",
    ").mark_text().encode(\n",
    "    x='depdelay',\n",
    "    y='arrdelay',\n",
    "    text='carrier_name',\n",
    ").properties(\n",
    "    height=2 * HEIGHT / 3,\n",
    "    width=WIDTH / 2\n",
    ")\n",
    "\n",
    "time = alt.Chart(\n",
    "    t[t.dep_timestamp, t.depdelay, t.origin_state, t.carrier_name],\n",
    "    title='Number of Flights by Departure Time'\n",
    ").transform_filter(\n",
    "    'datum.dep_timestamp != null'\n",
    ").transform_filter(\n",
    "    airlines\n",
    ").transform_filter(\n",
    "    states\n",
    ").mark_line().encode(\n",
    "    alt.X(\n",
    "        'yearmonthdate(dep_timestamp):T',\n",
    "    ),\n",
    "    alt.Y(\n",
    "        'count():Q',\n",
    "        scale=alt.Scale(zero=False)\n",
    "    )\n",
    ").add_selection(\n",
    "    dates\n",
    ").properties(\n",
    "    height=HEIGHT / 3,\n",
    "    width=WIDTH + 50\n",
    ")\n",
    "\n",
    "(\n",
    "    (count_filter | count_total) &\n",
    "    (flights_by_state | carrier_delay) &\n",
    "    time\n",
    ").configure_axis(\n",
    "    grid=False\n",
    ").configure_view(\n",
    "    strokeOpacity=0\n",
    ")"
   ]
  },
  {
   "cell_type": "markdown",
   "metadata": {},
   "source": [
    "1. Wait for it to render\n",
    "2. Reload the Jaeger UI page\n",
    "3. Select the \"kernel\" service\n",
    "4. Select \"Find Traces\"\n",
    "5. Select the first trace.\n",
    "6. Now you should be able to see that each transform happens syncronously.\n",
    "7. If you click on each trace, you should also be able to see logs, including the original Vega Lite spec, the original Vega Spec, and the transformed Vega spec."
   ]
  },
  {
   "cell_type": "markdown",
   "metadata": {},
   "source": [
    "If filter based on the top charts, things seem to work OK, even though the UI is a bit slow.\n",
    "\n",
    "However, if you try to filter based on the bottom chart, by clicking and dragging, you will see it does work, but the UI is not ideal, because you can't see your selection until it finishes getting the data.  Ideally, it would show your current time selectiona show some sort of loading UI in the other sections."
   ]
  },
  {
   "cell_type": "markdown",
   "metadata": {},
   "source": [
    "## Geospatial Chart"
   ]
  },
  {
   "cell_type": "markdown",
   "metadata": {},
   "source": [
    "Now we will try to render a geospatial chart, by binning by pixel: "
   ]
  },
  {
   "cell_type": "code",
   "execution_count": 3,
   "metadata": {},
   "outputs": [
    {
     "data": {
      "application/vnd.vega.ibis.v5+json": {
       "span": {
        "uber-trace-id": "43c96464981140cc:2baaa00a4df7b7b4:0:1"
       },
       "spec": {
        "$schema": "https://vega.github.io/schema/vega-lite/v4.0.0.json",
        "config": {
         "view": {
          "continuousHeight": 300,
          "continuousWidth": 400
         }
        },
        "data": {
         "name": "ibis:-6338261928395789452"
        },
        "encoding": {
         "tooltip": {
          "aggregate": "count",
          "type": "quantitative"
         },
         "x": {
          "bin": {
           "binned": true
          },
          "field": "bin_x",
          "scale": {
           "domain": [
            -3650484.1235206556,
            7413325.514451755
           ]
          },
          "title": "goog_x",
          "type": "quantitative"
         },
         "x2": {
          "field": "bin_x_end"
         },
         "y": {
          "bin": {
           "binned": true
          },
          "field": "bin_y",
          "scale": {
           "domain": [
            -5778161.9183506705,
            10471808.487466192
           ]
          },
          "title": "goog_y",
          "type": "quantitative"
         },
         "y2": {
          "field": "bin_y_end"
         }
        },
        "height": 564,
        "mark": "rect",
        "selection": {
         "selector004": {
          "bind": "scales",
          "on": "[mousedown, window:mouseup] > window:mousemove!{0, 100}",
          "translate": "[mousedown, window:mouseup] > window:mousemove!{0, 100}",
          "type": "interval",
          "zoom": "wheel!{0, 100}"
         }
        },
        "transform": [
         {
          "filter": {
           "selection": "selector004"
          }
         },
         {
          "as": "bin_x",
          "bin": {
           "maxbins": 385
          },
          "field": "goog_x"
         },
         {
          "as": "bin_y",
          "bin": {
           "maxbins": 564
          },
          "field": "goog_y"
         }
        ],
        "width": 385
       }
      },
      "text/plain": [
       "alt.Chart(...)"
      ]
     },
     "execution_count": 3,
     "metadata": {},
     "output_type": "execute_result"
    }
   ],
   "source": [
    "t2 = conn.table(\"tweets_nov_feb\")\n",
    "x, y = t2.goog_x, t2.goog_y\n",
    "\n",
    "WIDTH = 385\n",
    "HEIGHT = 564\n",
    "X_DOMAIN = [\n",
    "    -3650484.1235206556,\n",
    "    7413325.514451755\n",
    "]\n",
    "Y_DOMAIN = [\n",
    "    -5778161.9183506705,\n",
    "    10471808.487466192\n",
    "]\n",
    "\n",
    "DEBOUNCE_MS = 100\n",
    "\n",
    "scales = alt.selection_interval(\n",
    "    bind='scales',\n",
    "    on=f'[mousedown, window:mouseup] > window:mousemove!{{0, {DEBOUNCE_MS}}}',\n",
    "    translate=f'[mousedown, window:mouseup] > window:mousemove!{{0, {DEBOUNCE_MS}}}',\n",
    "    zoom=f'wheel!{{0, {DEBOUNCE_MS}}}',\n",
    ")\n",
    "\n",
    "alt.Chart(t2[x, y], width=WIDTH, height=HEIGHT).mark_rect().encode(\n",
    "    alt.X(\n",
    "        'bin_x:Q',\n",
    "        bin=alt.Bin(binned=True),\n",
    "        title='goog_x',\n",
    "        scale=alt.Scale(domain=X_DOMAIN)\n",
    "    ),\n",
    "    alt.X2('bin_x_end'),\n",
    "    alt.Y(\n",
    "        'bin_y:Q',\n",
    "        bin=alt.Bin(binned=True),\n",
    "        title='goog_y',\n",
    "        scale=alt.Scale(domain=Y_DOMAIN)\n",
    "    ),\n",
    "    alt.Y2('bin_y_end'),\n",
    "    tooltip='count()'\n",
    ").add_selection(\n",
    "    scales\n",
    ").transform_filter(\n",
    "    scales\n",
    ").transform_bin(\n",
    "    'bin_x',\n",
    "    'goog_x',\n",
    "    bin=alt.Bin(maxbins=WIDTH)\n",
    ").transform_bin(\n",
    "    'bin_y',\n",
    "    'goog_y',\n",
    "    bin=alt.Bin(maxbins=HEIGHT)\n",
    ")"
   ]
  },
  {
   "cell_type": "markdown",
   "metadata": {},
   "source": [
    "Now try to drag this to pan around.\n",
    "\n",
    "You will notice a few things. First, it actually will does work, but it takes so long to move that it's hard to control. Second, It seems like the initial bin is different than the later bins."
   ]
  }
 ],
 "metadata": {
  "kernelspec": {
   "display_name": "Python 3",
   "language": "python",
   "name": "python3"
  },
  "language_info": {
   "codemirror_mode": {
    "name": "ipython",
    "version": 3
   },
   "file_extension": ".py",
   "mimetype": "text/x-python",
   "name": "python",
   "nbconvert_exporter": "python",
   "pygments_lexer": "ipython3",
   "version": "3.7.3"
  }
 },
 "nbformat": 4,
 "nbformat_minor": 4
}
