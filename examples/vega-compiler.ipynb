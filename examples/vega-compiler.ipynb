{
 "cells": [
  {
   "cell_type": "code",
   "execution_count": 1,
   "metadata": {},
   "outputs": [],
   "source": [
    "import altair as alt\n",
    "import ibis_vega_transform\n",
    "\n",
    "import ibis\n",
    "import pandas as pd"
   ]
  },
  {
   "cell_type": "markdown",
   "metadata": {},
   "source": [
    "## Simple Data"
   ]
  },
  {
   "cell_type": "code",
   "execution_count": 2,
   "metadata": {},
   "outputs": [
    {
     "data": {
      "application/vnd.vega.ibis.v5+json": {
       "$schema": "https://vega.github.io/schema/vega-lite/v3.4.0.json",
       "config": {
        "mark": {
         "tooltip": null
        },
        "view": {
         "height": 300,
         "width": 400
        }
       },
       "data": {
        "name": "ibis:-980617807695739895"
       },
       "encoding": {
        "x": {
         "field": "a",
         "type": "nominal"
        },
        "y": {
         "field": "b",
         "type": "quantitative"
        }
       },
       "mark": "bar"
      },
      "text/plain": [
       "alt.Chart(...)"
      ]
     },
     "execution_count": 2,
     "metadata": {},
     "output_type": "execute_result"
    }
   ],
   "source": [
    "source = pd.DataFrame({\n",
    "    'a': ['A', 'B', 'C', 'D', 'E', 'F', 'G', 'H', 'I'],\n",
    "    'b': [28, 55, 43, 91, 81, 53, 19, 87, 52]\n",
    "})\n",
    "connection = ibis.pandas.connect({'source': source })\n",
    "table = connection.table('source')\n",
    "\n",
    "alt.Chart(table).mark_bar().encode(\n",
    "    x='a',\n",
    "    y='b'\n",
    ")"
   ]
  },
  {
   "cell_type": "markdown",
   "metadata": {},
   "source": [
    "## Aggregate"
   ]
  },
  {
   "cell_type": "code",
   "execution_count": 3,
   "metadata": {},
   "outputs": [
    {
     "data": {
      "application/vnd.vega.ibis.v5+json": {
       "$schema": "https://vega.github.io/schema/vega-lite/v3.4.0.json",
       "config": {
        "mark": {
         "tooltip": null
        },
        "view": {
         "height": 300,
         "width": 400
        }
       },
       "data": {
        "name": "ibis:-7427082482853477141"
       },
       "encoding": {
        "x": {
         "field": "c",
         "type": "nominal"
        },
        "y": {
         "aggregate": "mean",
         "field": "b",
         "type": "quantitative"
        }
       },
       "mark": "bar"
      },
      "text/plain": [
       "alt.Chart(...)"
      ]
     },
     "execution_count": 3,
     "metadata": {},
     "output_type": "execute_result"
    }
   ],
   "source": [
    "source = pd.DataFrame({\n",
    "    'a': ['A', 'B', 'C', 'D', 'E', 'F', 'G', 'H', 'I'],\n",
    "    'b': [28, 55, 43, 91, 81, 53, 19, 87, 52],\n",
    "    'c': ['first', 'first', 'first', 'second', 'second', 'second', 'third', 'third', 'third']\n",
    "\n",
    "})\n",
    "connection = ibis.pandas.connect({'source': source })\n",
    "table = connection.table('source')\n",
    "\n",
    "\n",
    "alt.Chart(table).mark_bar().encode(\n",
    "    x='c',\n",
    "    y='mean(b)'\n",
    ")"
   ]
  },
  {
   "cell_type": "markdown",
   "metadata": {},
   "source": [
    "Verify that the only query computed is an aggregate:"
   ]
  },
  {
   "cell_type": "code",
   "execution_count": 4,
   "metadata": {},
   "outputs": [
    {
     "data": {
      "text/html": [
       "<style>.output_html .hll { background-color: #ffffcc }\n",
       ".output_html  { background: #f8f8f8; }\n",
       ".output_html .c { color: #408080; font-style: italic } /* Comment */\n",
       ".output_html .err { border: 1px solid #FF0000 } /* Error */\n",
       ".output_html .k { color: #008000; font-weight: bold } /* Keyword */\n",
       ".output_html .o { color: #666666 } /* Operator */\n",
       ".output_html .ch { color: #408080; font-style: italic } /* Comment.Hashbang */\n",
       ".output_html .cm { color: #408080; font-style: italic } /* Comment.Multiline */\n",
       ".output_html .cp { color: #BC7A00 } /* Comment.Preproc */\n",
       ".output_html .cpf { color: #408080; font-style: italic } /* Comment.PreprocFile */\n",
       ".output_html .c1 { color: #408080; font-style: italic } /* Comment.Single */\n",
       ".output_html .cs { color: #408080; font-style: italic } /* Comment.Special */\n",
       ".output_html .gd { color: #A00000 } /* Generic.Deleted */\n",
       ".output_html .ge { font-style: italic } /* Generic.Emph */\n",
       ".output_html .gr { color: #FF0000 } /* Generic.Error */\n",
       ".output_html .gh { color: #000080; font-weight: bold } /* Generic.Heading */\n",
       ".output_html .gi { color: #00A000 } /* Generic.Inserted */\n",
       ".output_html .go { color: #888888 } /* Generic.Output */\n",
       ".output_html .gp { color: #000080; font-weight: bold } /* Generic.Prompt */\n",
       ".output_html .gs { font-weight: bold } /* Generic.Strong */\n",
       ".output_html .gu { color: #800080; font-weight: bold } /* Generic.Subheading */\n",
       ".output_html .gt { color: #0044DD } /* Generic.Traceback */\n",
       ".output_html .kc { color: #008000; font-weight: bold } /* Keyword.Constant */\n",
       ".output_html .kd { color: #008000; font-weight: bold } /* Keyword.Declaration */\n",
       ".output_html .kn { color: #008000; font-weight: bold } /* Keyword.Namespace */\n",
       ".output_html .kp { color: #008000 } /* Keyword.Pseudo */\n",
       ".output_html .kr { color: #008000; font-weight: bold } /* Keyword.Reserved */\n",
       ".output_html .kt { color: #B00040 } /* Keyword.Type */\n",
       ".output_html .m { color: #666666 } /* Literal.Number */\n",
       ".output_html .s { color: #BA2121 } /* Literal.String */\n",
       ".output_html .na { color: #7D9029 } /* Name.Attribute */\n",
       ".output_html .nb { color: #008000 } /* Name.Builtin */\n",
       ".output_html .nc { color: #0000FF; font-weight: bold } /* Name.Class */\n",
       ".output_html .no { color: #880000 } /* Name.Constant */\n",
       ".output_html .nd { color: #AA22FF } /* Name.Decorator */\n",
       ".output_html .ni { color: #999999; font-weight: bold } /* Name.Entity */\n",
       ".output_html .ne { color: #D2413A; font-weight: bold } /* Name.Exception */\n",
       ".output_html .nf { color: #0000FF } /* Name.Function */\n",
       ".output_html .nl { color: #A0A000 } /* Name.Label */\n",
       ".output_html .nn { color: #0000FF; font-weight: bold } /* Name.Namespace */\n",
       ".output_html .nt { color: #008000; font-weight: bold } /* Name.Tag */\n",
       ".output_html .nv { color: #19177C } /* Name.Variable */\n",
       ".output_html .ow { color: #AA22FF; font-weight: bold } /* Operator.Word */\n",
       ".output_html .w { color: #bbbbbb } /* Text.Whitespace */\n",
       ".output_html .mb { color: #666666 } /* Literal.Number.Bin */\n",
       ".output_html .mf { color: #666666 } /* Literal.Number.Float */\n",
       ".output_html .mh { color: #666666 } /* Literal.Number.Hex */\n",
       ".output_html .mi { color: #666666 } /* Literal.Number.Integer */\n",
       ".output_html .mo { color: #666666 } /* Literal.Number.Oct */\n",
       ".output_html .sa { color: #BA2121 } /* Literal.String.Affix */\n",
       ".output_html .sb { color: #BA2121 } /* Literal.String.Backtick */\n",
       ".output_html .sc { color: #BA2121 } /* Literal.String.Char */\n",
       ".output_html .dl { color: #BA2121 } /* Literal.String.Delimiter */\n",
       ".output_html .sd { color: #BA2121; font-style: italic } /* Literal.String.Doc */\n",
       ".output_html .s2 { color: #BA2121 } /* Literal.String.Double */\n",
       ".output_html .se { color: #BB6622; font-weight: bold } /* Literal.String.Escape */\n",
       ".output_html .sh { color: #BA2121 } /* Literal.String.Heredoc */\n",
       ".output_html .si { color: #BB6688; font-weight: bold } /* Literal.String.Interpol */\n",
       ".output_html .sx { color: #008000 } /* Literal.String.Other */\n",
       ".output_html .sr { color: #BB6688 } /* Literal.String.Regex */\n",
       ".output_html .s1 { color: #BA2121 } /* Literal.String.Single */\n",
       ".output_html .ss { color: #19177C } /* Literal.String.Symbol */\n",
       ".output_html .bp { color: #008000 } /* Name.Builtin.Pseudo */\n",
       ".output_html .fm { color: #0000FF } /* Name.Function.Magic */\n",
       ".output_html .vc { color: #19177C } /* Name.Variable.Class */\n",
       ".output_html .vg { color: #19177C } /* Name.Variable.Global */\n",
       ".output_html .vi { color: #19177C } /* Name.Variable.Instance */\n",
       ".output_html .vm { color: #19177C } /* Name.Variable.Magic */\n",
       ".output_html .il { color: #666666 } /* Literal.Number.Integer.Long */</style><div class=\"highlight\"><pre><span></span><span class=\"n\">ref_0</span><span class=\"w\"></span>\n",
       "<span class=\"n\">PandasTable</span><span class=\"o\">[</span><span class=\"n\">table</span><span class=\"o\">]</span><span class=\"w\"></span>\n",
       "<span class=\"w\">  </span><span class=\"nl\">name</span><span class=\"p\">:</span><span class=\"w\"> </span><span class=\"n\">source</span><span class=\"w\"></span>\n",
       "<span class=\"w\">  </span><span class=\"k\">schema</span><span class=\"err\">:</span><span class=\"w\"></span>\n",
       "<span class=\"w\">    </span><span class=\"n\">a</span><span class=\"w\"> </span><span class=\"err\">:</span><span class=\"w\"> </span><span class=\"n\">string</span><span class=\"w\"></span>\n",
       "<span class=\"w\">    </span><span class=\"n\">b</span><span class=\"w\"> </span><span class=\"err\">:</span><span class=\"w\"> </span><span class=\"n\">int64</span><span class=\"w\"></span>\n",
       "<span class=\"w\">    </span><span class=\"n\">c</span><span class=\"w\"> </span><span class=\"err\">:</span><span class=\"w\"> </span><span class=\"n\">string</span><span class=\"w\"></span>\n",
       "\n",
       "<span class=\"n\">Selection</span><span class=\"o\">[</span><span class=\"n\">table</span><span class=\"o\">]</span><span class=\"w\"></span>\n",
       "<span class=\"w\">  </span><span class=\"nc\">table</span><span class=\"err\">:</span><span class=\"w\"></span>\n",
       "<span class=\"w\">    </span><span class=\"nc\">Table</span><span class=\"err\">:</span><span class=\"w\"> </span><span class=\"n\">ref_0</span><span class=\"w\"></span>\n",
       "<span class=\"w\">  </span><span class=\"nl\">predicates</span><span class=\"p\">:</span><span class=\"w\"></span>\n",
       "<span class=\"w\">    </span><span class=\"k\">Equals</span><span class=\"o\">[</span><span class=\"n\">boolean*</span><span class=\"o\">]</span><span class=\"w\"></span>\n",
       "<span class=\"w\">      </span><span class=\"nf\">left</span><span class=\"err\">:</span><span class=\"w\"></span>\n",
       "<span class=\"w\">        </span><span class=\"n\">c</span><span class=\"w\"> </span><span class=\"o\">=</span><span class=\"w\"> </span><span class=\"k\">Column</span><span class=\"o\">[</span><span class=\"n\">string*</span><span class=\"o\">]</span><span class=\"w\"> </span><span class=\"s1\">&#39;c&#39;</span><span class=\"w\"> </span><span class=\"k\">from</span><span class=\"w\"> </span><span class=\"nc\">table</span><span class=\"w\"></span>\n",
       "<span class=\"w\">          </span><span class=\"n\">ref_0</span><span class=\"w\"></span>\n",
       "<span class=\"w\">      </span><span class=\"nf\">right</span><span class=\"err\">:</span><span class=\"w\"></span>\n",
       "<span class=\"w\">        </span><span class=\"n\">Literal</span><span class=\"o\">[</span><span class=\"n\">string</span><span class=\"o\">]</span><span class=\"w\"></span>\n",
       "<span class=\"w\">          </span><span class=\"k\">second</span><span class=\"w\"></span>\n",
       "<span class=\"w\">    </span><span class=\"ow\">Not</span><span class=\"o\">[</span><span class=\"n\">boolean*</span><span class=\"o\">]</span><span class=\"w\"></span>\n",
       "<span class=\"w\">      </span><span class=\"nf\">IsNull</span><span class=\"o\">[</span><span class=\"n\">boolean*</span><span class=\"o\">]</span><span class=\"w\"></span>\n",
       "<span class=\"w\">        </span><span class=\"n\">b</span><span class=\"w\"> </span><span class=\"o\">=</span><span class=\"w\"> </span><span class=\"k\">Column</span><span class=\"o\">[</span><span class=\"n\">int64*</span><span class=\"o\">]</span><span class=\"w\"> </span><span class=\"s1\">&#39;b&#39;</span><span class=\"w\"> </span><span class=\"k\">from</span><span class=\"w\"> </span><span class=\"nc\">table</span><span class=\"w\"></span>\n",
       "<span class=\"w\">          </span><span class=\"n\">ref_0</span><span class=\"w\"></span>\n",
       "\n",
       "<span class=\"n\">ref_0</span><span class=\"w\"></span>\n",
       "<span class=\"n\">PandasTable</span><span class=\"o\">[</span><span class=\"n\">table</span><span class=\"o\">]</span><span class=\"w\"></span>\n",
       "<span class=\"w\">  </span><span class=\"nl\">name</span><span class=\"p\">:</span><span class=\"w\"> </span><span class=\"n\">source</span><span class=\"w\"></span>\n",
       "<span class=\"w\">  </span><span class=\"k\">schema</span><span class=\"err\">:</span><span class=\"w\"></span>\n",
       "<span class=\"w\">    </span><span class=\"n\">a</span><span class=\"w\"> </span><span class=\"err\">:</span><span class=\"w\"> </span><span class=\"n\">string</span><span class=\"w\"></span>\n",
       "<span class=\"w\">    </span><span class=\"n\">b</span><span class=\"w\"> </span><span class=\"err\">:</span><span class=\"w\"> </span><span class=\"n\">int64</span><span class=\"w\"></span>\n",
       "<span class=\"w\">    </span><span class=\"n\">c</span><span class=\"w\"> </span><span class=\"err\">:</span><span class=\"w\"> </span><span class=\"n\">string</span><span class=\"w\"></span>\n",
       "\n",
       "<span class=\"n\">Selection</span><span class=\"o\">[</span><span class=\"n\">table</span><span class=\"o\">]</span><span class=\"w\"></span>\n",
       "<span class=\"w\">  </span><span class=\"nc\">table</span><span class=\"err\">:</span><span class=\"w\"></span>\n",
       "<span class=\"w\">    </span><span class=\"nc\">Table</span><span class=\"err\">:</span><span class=\"w\"> </span><span class=\"n\">ref_0</span><span class=\"w\"></span>\n",
       "<span class=\"w\">  </span><span class=\"nl\">predicates</span><span class=\"p\">:</span><span class=\"w\"></span>\n",
       "<span class=\"w\">    </span><span class=\"ow\">Not</span><span class=\"o\">[</span><span class=\"n\">boolean*</span><span class=\"o\">]</span><span class=\"w\"></span>\n",
       "<span class=\"w\">      </span><span class=\"nf\">IsNull</span><span class=\"o\">[</span><span class=\"n\">boolean*</span><span class=\"o\">]</span><span class=\"w\"></span>\n",
       "<span class=\"w\">        </span><span class=\"n\">b</span><span class=\"w\"> </span><span class=\"o\">=</span><span class=\"w\"> </span><span class=\"k\">Column</span><span class=\"o\">[</span><span class=\"n\">int64*</span><span class=\"o\">]</span><span class=\"w\"> </span><span class=\"s1\">&#39;b&#39;</span><span class=\"w\"> </span><span class=\"k\">from</span><span class=\"w\"> </span><span class=\"nc\">table</span><span class=\"w\"></span>\n",
       "<span class=\"w\">          </span><span class=\"n\">ref_0</span><span class=\"w\"></span>\n",
       "\n",
       "<span class=\"n\">ref_0</span><span class=\"w\"></span>\n",
       "<span class=\"n\">PandasTable</span><span class=\"o\">[</span><span class=\"n\">table</span><span class=\"o\">]</span><span class=\"w\"></span>\n",
       "<span class=\"w\">  </span><span class=\"nl\">name</span><span class=\"p\">:</span><span class=\"w\"> </span><span class=\"n\">source</span><span class=\"w\"></span>\n",
       "<span class=\"w\">  </span><span class=\"k\">schema</span><span class=\"err\">:</span><span class=\"w\"></span>\n",
       "<span class=\"w\">    </span><span class=\"n\">a</span><span class=\"w\"> </span><span class=\"err\">:</span><span class=\"w\"> </span><span class=\"n\">string</span><span class=\"w\"></span>\n",
       "<span class=\"w\">    </span><span class=\"n\">b</span><span class=\"w\"> </span><span class=\"err\">:</span><span class=\"w\"> </span><span class=\"n\">int64</span><span class=\"w\"></span>\n",
       "<span class=\"w\">    </span><span class=\"n\">c</span><span class=\"w\"> </span><span class=\"err\">:</span><span class=\"w\"> </span><span class=\"n\">string</span><span class=\"w\"></span>\n",
       "\n",
       "<span class=\"n\">Selection</span><span class=\"o\">[</span><span class=\"n\">table</span><span class=\"o\">]</span><span class=\"w\"></span>\n",
       "<span class=\"w\">  </span><span class=\"nc\">table</span><span class=\"err\">:</span><span class=\"w\"></span>\n",
       "<span class=\"w\">    </span><span class=\"nc\">Table</span><span class=\"err\">:</span><span class=\"w\"> </span><span class=\"n\">ref_0</span><span class=\"w\"></span>\n",
       "<span class=\"w\">  </span><span class=\"nl\">predicates</span><span class=\"p\">:</span><span class=\"w\"></span>\n",
       "<span class=\"w\">    </span><span class=\"k\">Equals</span><span class=\"o\">[</span><span class=\"n\">boolean*</span><span class=\"o\">]</span><span class=\"w\"></span>\n",
       "<span class=\"w\">      </span><span class=\"nf\">left</span><span class=\"err\">:</span><span class=\"w\"></span>\n",
       "<span class=\"w\">        </span><span class=\"n\">c</span><span class=\"w\"> </span><span class=\"o\">=</span><span class=\"w\"> </span><span class=\"k\">Column</span><span class=\"o\">[</span><span class=\"n\">string*</span><span class=\"o\">]</span><span class=\"w\"> </span><span class=\"s1\">&#39;c&#39;</span><span class=\"w\"> </span><span class=\"k\">from</span><span class=\"w\"> </span><span class=\"nc\">table</span><span class=\"w\"></span>\n",
       "<span class=\"w\">          </span><span class=\"n\">ref_0</span><span class=\"w\"></span>\n",
       "<span class=\"w\">      </span><span class=\"nf\">right</span><span class=\"err\">:</span><span class=\"w\"></span>\n",
       "<span class=\"w\">        </span><span class=\"n\">Literal</span><span class=\"o\">[</span><span class=\"n\">string</span><span class=\"o\">]</span><span class=\"w\"></span>\n",
       "<span class=\"w\">          </span><span class=\"k\">first</span><span class=\"w\"></span>\n",
       "<span class=\"w\">    </span><span class=\"ow\">Not</span><span class=\"o\">[</span><span class=\"n\">boolean*</span><span class=\"o\">]</span><span class=\"w\"></span>\n",
       "<span class=\"w\">      </span><span class=\"nf\">IsNull</span><span class=\"o\">[</span><span class=\"n\">boolean*</span><span class=\"o\">]</span><span class=\"w\"></span>\n",
       "<span class=\"w\">        </span><span class=\"n\">b</span><span class=\"w\"> </span><span class=\"o\">=</span><span class=\"w\"> </span><span class=\"k\">Column</span><span class=\"o\">[</span><span class=\"n\">int64*</span><span class=\"o\">]</span><span class=\"w\"> </span><span class=\"s1\">&#39;b&#39;</span><span class=\"w\"> </span><span class=\"k\">from</span><span class=\"w\"> </span><span class=\"nc\">table</span><span class=\"w\"></span>\n",
       "<span class=\"w\">          </span><span class=\"n\">ref_0</span><span class=\"w\"></span>\n",
       "\n",
       "<span class=\"n\">ref_0</span><span class=\"w\"></span>\n",
       "<span class=\"n\">PandasTable</span><span class=\"o\">[</span><span class=\"n\">table</span><span class=\"o\">]</span><span class=\"w\"></span>\n",
       "<span class=\"w\">  </span><span class=\"nl\">name</span><span class=\"p\">:</span><span class=\"w\"> </span><span class=\"n\">source</span><span class=\"w\"></span>\n",
       "<span class=\"w\">  </span><span class=\"k\">schema</span><span class=\"err\">:</span><span class=\"w\"></span>\n",
       "<span class=\"w\">    </span><span class=\"n\">a</span><span class=\"w\"> </span><span class=\"err\">:</span><span class=\"w\"> </span><span class=\"n\">string</span><span class=\"w\"></span>\n",
       "<span class=\"w\">    </span><span class=\"n\">b</span><span class=\"w\"> </span><span class=\"err\">:</span><span class=\"w\"> </span><span class=\"n\">int64</span><span class=\"w\"></span>\n",
       "<span class=\"w\">    </span><span class=\"n\">c</span><span class=\"w\"> </span><span class=\"err\">:</span><span class=\"w\"> </span><span class=\"n\">string</span><span class=\"w\"></span>\n",
       "\n",
       "<span class=\"n\">ref_1</span><span class=\"w\"></span>\n",
       "<span class=\"n\">Aggregation</span><span class=\"o\">[</span><span class=\"n\">table</span><span class=\"o\">]</span><span class=\"w\"></span>\n",
       "<span class=\"w\">  </span><span class=\"nc\">table</span><span class=\"err\">:</span><span class=\"w\"></span>\n",
       "<span class=\"w\">    </span><span class=\"nc\">Table</span><span class=\"err\">:</span><span class=\"w\"> </span><span class=\"n\">ref_0</span><span class=\"w\"></span>\n",
       "<span class=\"w\">  </span><span class=\"nl\">metrics</span><span class=\"p\">:</span><span class=\"w\"></span>\n",
       "<span class=\"w\">    </span><span class=\"n\">mean_b</span><span class=\"w\"> </span><span class=\"o\">=</span><span class=\"w\"> </span><span class=\"n\">Mean</span><span class=\"o\">[</span><span class=\"n\">float64</span><span class=\"o\">]</span><span class=\"w\"></span>\n",
       "<span class=\"w\">      </span><span class=\"n\">b</span><span class=\"w\"> </span><span class=\"o\">=</span><span class=\"w\"> </span><span class=\"k\">Column</span><span class=\"o\">[</span><span class=\"n\">int64*</span><span class=\"o\">]</span><span class=\"w\"> </span><span class=\"s1\">&#39;b&#39;</span><span class=\"w\"> </span><span class=\"k\">from</span><span class=\"w\"> </span><span class=\"nc\">table</span><span class=\"w\"></span>\n",
       "<span class=\"w\">        </span><span class=\"n\">ref_0</span><span class=\"w\"></span>\n",
       "<span class=\"w\">      </span><span class=\"k\">where</span><span class=\"err\">:</span><span class=\"w\"></span>\n",
       "<span class=\"w\">        </span><span class=\"k\">None</span><span class=\"w\"></span>\n",
       "<span class=\"w\">  </span><span class=\"k\">by</span><span class=\"err\">:</span><span class=\"w\"></span>\n",
       "<span class=\"w\">    </span><span class=\"n\">c</span><span class=\"w\"> </span><span class=\"o\">=</span><span class=\"w\"> </span><span class=\"k\">Column</span><span class=\"o\">[</span><span class=\"n\">string*</span><span class=\"o\">]</span><span class=\"w\"> </span><span class=\"s1\">&#39;c&#39;</span><span class=\"w\"> </span><span class=\"k\">from</span><span class=\"w\"> </span><span class=\"nc\">table</span><span class=\"w\"></span>\n",
       "<span class=\"w\">      </span><span class=\"n\">ref_0</span><span class=\"w\"></span>\n",
       "\n",
       "<span class=\"n\">Selection</span><span class=\"o\">[</span><span class=\"n\">table</span><span class=\"o\">]</span><span class=\"w\"></span>\n",
       "<span class=\"w\">  </span><span class=\"nc\">table</span><span class=\"err\">:</span><span class=\"w\"></span>\n",
       "<span class=\"w\">    </span><span class=\"nc\">Table</span><span class=\"err\">:</span><span class=\"w\"> </span><span class=\"n\">ref_1</span><span class=\"w\"></span>\n",
       "<span class=\"w\">  </span><span class=\"nl\">predicates</span><span class=\"p\">:</span><span class=\"w\"></span>\n",
       "<span class=\"w\">    </span><span class=\"ow\">Not</span><span class=\"o\">[</span><span class=\"n\">boolean*</span><span class=\"o\">]</span><span class=\"w\"></span>\n",
       "<span class=\"w\">      </span><span class=\"nf\">IsNull</span><span class=\"o\">[</span><span class=\"n\">boolean*</span><span class=\"o\">]</span><span class=\"w\"></span>\n",
       "<span class=\"w\">        </span><span class=\"n\">mean_b</span><span class=\"w\"> </span><span class=\"o\">=</span><span class=\"w\"> </span><span class=\"k\">Column</span><span class=\"o\">[</span><span class=\"n\">float64*</span><span class=\"o\">]</span><span class=\"w\"> </span><span class=\"s1\">&#39;mean_b&#39;</span><span class=\"w\"> </span><span class=\"k\">from</span><span class=\"w\"> </span><span class=\"nc\">table</span><span class=\"w\"></span>\n",
       "<span class=\"w\">          </span><span class=\"n\">ref_1</span><span class=\"w\"></span>\n",
       "\n",
       "<span class=\"n\">ref_0</span><span class=\"w\"></span>\n",
       "<span class=\"n\">PandasTable</span><span class=\"o\">[</span><span class=\"n\">table</span><span class=\"o\">]</span><span class=\"w\"></span>\n",
       "<span class=\"w\">  </span><span class=\"nl\">name</span><span class=\"p\">:</span><span class=\"w\"> </span><span class=\"n\">source</span><span class=\"w\"></span>\n",
       "<span class=\"w\">  </span><span class=\"k\">schema</span><span class=\"err\">:</span><span class=\"w\"></span>\n",
       "<span class=\"w\">    </span><span class=\"n\">a</span><span class=\"w\"> </span><span class=\"err\">:</span><span class=\"w\"> </span><span class=\"n\">string</span><span class=\"w\"></span>\n",
       "<span class=\"w\">    </span><span class=\"n\">b</span><span class=\"w\"> </span><span class=\"err\">:</span><span class=\"w\"> </span><span class=\"n\">int64</span><span class=\"w\"></span>\n",
       "\n",
       "<span class=\"n\">Selection</span><span class=\"o\">[</span><span class=\"n\">table</span><span class=\"o\">]</span><span class=\"w\"></span>\n",
       "<span class=\"w\">  </span><span class=\"nc\">table</span><span class=\"err\">:</span><span class=\"w\"></span>\n",
       "<span class=\"w\">    </span><span class=\"nc\">Table</span><span class=\"err\">:</span><span class=\"w\"> </span><span class=\"n\">ref_0</span><span class=\"w\"></span>\n",
       "<span class=\"w\">  </span><span class=\"nl\">predicates</span><span class=\"p\">:</span><span class=\"w\"></span>\n",
       "<span class=\"w\">    </span><span class=\"ow\">Not</span><span class=\"o\">[</span><span class=\"n\">boolean*</span><span class=\"o\">]</span><span class=\"w\"></span>\n",
       "<span class=\"w\">      </span><span class=\"nf\">IsNull</span><span class=\"o\">[</span><span class=\"n\">boolean*</span><span class=\"o\">]</span><span class=\"w\"></span>\n",
       "<span class=\"w\">        </span><span class=\"n\">b</span><span class=\"w\"> </span><span class=\"o\">=</span><span class=\"w\"> </span><span class=\"k\">Column</span><span class=\"o\">[</span><span class=\"n\">int64*</span><span class=\"o\">]</span><span class=\"w\"> </span><span class=\"s1\">&#39;b&#39;</span><span class=\"w\"> </span><span class=\"k\">from</span><span class=\"w\"> </span><span class=\"nc\">table</span><span class=\"w\"></span>\n",
       "<span class=\"w\">          </span><span class=\"n\">ref_0</span><span class=\"w\"></span>\n",
       "</pre></div>\n"
      ],
      "text/latex": [
       "\\begin{Verbatim}[commandchars=\\\\\\{\\}]\n",
       "\\PY{n}{ref\\PYZus{}0}\n",
       "\\PY{n}{PandasTable}\\PY{o}{[}\\PY{n}{table}\\PY{o}{]}\n",
       "\\PY{+w}{  }\\PY{n+nl}{name}\\PY{p}{:}\\PY{+w}{ }\\PY{n}{source}\n",
       "\\PY{+w}{  }\\PY{k}{schema}\\PY{err}{:}\n",
       "\\PY{+w}{    }\\PY{n}{a}\\PY{+w}{ }\\PY{err}{:}\\PY{+w}{ }\\PY{n}{string}\n",
       "\\PY{+w}{    }\\PY{n}{b}\\PY{+w}{ }\\PY{err}{:}\\PY{+w}{ }\\PY{n}{int64}\n",
       "\\PY{+w}{    }\\PY{n}{c}\\PY{+w}{ }\\PY{err}{:}\\PY{+w}{ }\\PY{n}{string}\n",
       "\n",
       "\\PY{n}{Selection}\\PY{o}{[}\\PY{n}{table}\\PY{o}{]}\n",
       "\\PY{+w}{  }\\PY{n+nc}{table}\\PY{err}{:}\n",
       "\\PY{+w}{    }\\PY{n+nc}{Table}\\PY{err}{:}\\PY{+w}{ }\\PY{n}{ref\\PYZus{}0}\n",
       "\\PY{+w}{  }\\PY{n+nl}{predicates}\\PY{p}{:}\n",
       "\\PY{+w}{    }\\PY{k}{Equals}\\PY{o}{[}\\PY{n}{boolean*}\\PY{o}{]}\n",
       "\\PY{+w}{      }\\PY{n+nf}{left}\\PY{err}{:}\n",
       "\\PY{+w}{        }\\PY{n}{c}\\PY{+w}{ }\\PY{o}{=}\\PY{+w}{ }\\PY{k}{Column}\\PY{o}{[}\\PY{n}{string*}\\PY{o}{]}\\PY{+w}{ }\\PY{l+s+s1}{\\PYZsq{}c\\PYZsq{}}\\PY{+w}{ }\\PY{k}{from}\\PY{+w}{ }\\PY{n+nc}{table}\n",
       "\\PY{+w}{          }\\PY{n}{ref\\PYZus{}0}\n",
       "\\PY{+w}{      }\\PY{n+nf}{right}\\PY{err}{:}\n",
       "\\PY{+w}{        }\\PY{n}{Literal}\\PY{o}{[}\\PY{n}{string}\\PY{o}{]}\n",
       "\\PY{+w}{          }\\PY{k}{second}\n",
       "\\PY{+w}{    }\\PY{o+ow}{Not}\\PY{o}{[}\\PY{n}{boolean*}\\PY{o}{]}\n",
       "\\PY{+w}{      }\\PY{n+nf}{IsNull}\\PY{o}{[}\\PY{n}{boolean*}\\PY{o}{]}\n",
       "\\PY{+w}{        }\\PY{n}{b}\\PY{+w}{ }\\PY{o}{=}\\PY{+w}{ }\\PY{k}{Column}\\PY{o}{[}\\PY{n}{int64*}\\PY{o}{]}\\PY{+w}{ }\\PY{l+s+s1}{\\PYZsq{}b\\PYZsq{}}\\PY{+w}{ }\\PY{k}{from}\\PY{+w}{ }\\PY{n+nc}{table}\n",
       "\\PY{+w}{          }\\PY{n}{ref\\PYZus{}0}\n",
       "\n",
       "\\PY{n}{ref\\PYZus{}0}\n",
       "\\PY{n}{PandasTable}\\PY{o}{[}\\PY{n}{table}\\PY{o}{]}\n",
       "\\PY{+w}{  }\\PY{n+nl}{name}\\PY{p}{:}\\PY{+w}{ }\\PY{n}{source}\n",
       "\\PY{+w}{  }\\PY{k}{schema}\\PY{err}{:}\n",
       "\\PY{+w}{    }\\PY{n}{a}\\PY{+w}{ }\\PY{err}{:}\\PY{+w}{ }\\PY{n}{string}\n",
       "\\PY{+w}{    }\\PY{n}{b}\\PY{+w}{ }\\PY{err}{:}\\PY{+w}{ }\\PY{n}{int64}\n",
       "\\PY{+w}{    }\\PY{n}{c}\\PY{+w}{ }\\PY{err}{:}\\PY{+w}{ }\\PY{n}{string}\n",
       "\n",
       "\\PY{n}{Selection}\\PY{o}{[}\\PY{n}{table}\\PY{o}{]}\n",
       "\\PY{+w}{  }\\PY{n+nc}{table}\\PY{err}{:}\n",
       "\\PY{+w}{    }\\PY{n+nc}{Table}\\PY{err}{:}\\PY{+w}{ }\\PY{n}{ref\\PYZus{}0}\n",
       "\\PY{+w}{  }\\PY{n+nl}{predicates}\\PY{p}{:}\n",
       "\\PY{+w}{    }\\PY{o+ow}{Not}\\PY{o}{[}\\PY{n}{boolean*}\\PY{o}{]}\n",
       "\\PY{+w}{      }\\PY{n+nf}{IsNull}\\PY{o}{[}\\PY{n}{boolean*}\\PY{o}{]}\n",
       "\\PY{+w}{        }\\PY{n}{b}\\PY{+w}{ }\\PY{o}{=}\\PY{+w}{ }\\PY{k}{Column}\\PY{o}{[}\\PY{n}{int64*}\\PY{o}{]}\\PY{+w}{ }\\PY{l+s+s1}{\\PYZsq{}b\\PYZsq{}}\\PY{+w}{ }\\PY{k}{from}\\PY{+w}{ }\\PY{n+nc}{table}\n",
       "\\PY{+w}{          }\\PY{n}{ref\\PYZus{}0}\n",
       "\n",
       "\\PY{n}{ref\\PYZus{}0}\n",
       "\\PY{n}{PandasTable}\\PY{o}{[}\\PY{n}{table}\\PY{o}{]}\n",
       "\\PY{+w}{  }\\PY{n+nl}{name}\\PY{p}{:}\\PY{+w}{ }\\PY{n}{source}\n",
       "\\PY{+w}{  }\\PY{k}{schema}\\PY{err}{:}\n",
       "\\PY{+w}{    }\\PY{n}{a}\\PY{+w}{ }\\PY{err}{:}\\PY{+w}{ }\\PY{n}{string}\n",
       "\\PY{+w}{    }\\PY{n}{b}\\PY{+w}{ }\\PY{err}{:}\\PY{+w}{ }\\PY{n}{int64}\n",
       "\\PY{+w}{    }\\PY{n}{c}\\PY{+w}{ }\\PY{err}{:}\\PY{+w}{ }\\PY{n}{string}\n",
       "\n",
       "\\PY{n}{Selection}\\PY{o}{[}\\PY{n}{table}\\PY{o}{]}\n",
       "\\PY{+w}{  }\\PY{n+nc}{table}\\PY{err}{:}\n",
       "\\PY{+w}{    }\\PY{n+nc}{Table}\\PY{err}{:}\\PY{+w}{ }\\PY{n}{ref\\PYZus{}0}\n",
       "\\PY{+w}{  }\\PY{n+nl}{predicates}\\PY{p}{:}\n",
       "\\PY{+w}{    }\\PY{k}{Equals}\\PY{o}{[}\\PY{n}{boolean*}\\PY{o}{]}\n",
       "\\PY{+w}{      }\\PY{n+nf}{left}\\PY{err}{:}\n",
       "\\PY{+w}{        }\\PY{n}{c}\\PY{+w}{ }\\PY{o}{=}\\PY{+w}{ }\\PY{k}{Column}\\PY{o}{[}\\PY{n}{string*}\\PY{o}{]}\\PY{+w}{ }\\PY{l+s+s1}{\\PYZsq{}c\\PYZsq{}}\\PY{+w}{ }\\PY{k}{from}\\PY{+w}{ }\\PY{n+nc}{table}\n",
       "\\PY{+w}{          }\\PY{n}{ref\\PYZus{}0}\n",
       "\\PY{+w}{      }\\PY{n+nf}{right}\\PY{err}{:}\n",
       "\\PY{+w}{        }\\PY{n}{Literal}\\PY{o}{[}\\PY{n}{string}\\PY{o}{]}\n",
       "\\PY{+w}{          }\\PY{k}{first}\n",
       "\\PY{+w}{    }\\PY{o+ow}{Not}\\PY{o}{[}\\PY{n}{boolean*}\\PY{o}{]}\n",
       "\\PY{+w}{      }\\PY{n+nf}{IsNull}\\PY{o}{[}\\PY{n}{boolean*}\\PY{o}{]}\n",
       "\\PY{+w}{        }\\PY{n}{b}\\PY{+w}{ }\\PY{o}{=}\\PY{+w}{ }\\PY{k}{Column}\\PY{o}{[}\\PY{n}{int64*}\\PY{o}{]}\\PY{+w}{ }\\PY{l+s+s1}{\\PYZsq{}b\\PYZsq{}}\\PY{+w}{ }\\PY{k}{from}\\PY{+w}{ }\\PY{n+nc}{table}\n",
       "\\PY{+w}{          }\\PY{n}{ref\\PYZus{}0}\n",
       "\n",
       "\\PY{n}{ref\\PYZus{}0}\n",
       "\\PY{n}{PandasTable}\\PY{o}{[}\\PY{n}{table}\\PY{o}{]}\n",
       "\\PY{+w}{  }\\PY{n+nl}{name}\\PY{p}{:}\\PY{+w}{ }\\PY{n}{source}\n",
       "\\PY{+w}{  }\\PY{k}{schema}\\PY{err}{:}\n",
       "\\PY{+w}{    }\\PY{n}{a}\\PY{+w}{ }\\PY{err}{:}\\PY{+w}{ }\\PY{n}{string}\n",
       "\\PY{+w}{    }\\PY{n}{b}\\PY{+w}{ }\\PY{err}{:}\\PY{+w}{ }\\PY{n}{int64}\n",
       "\\PY{+w}{    }\\PY{n}{c}\\PY{+w}{ }\\PY{err}{:}\\PY{+w}{ }\\PY{n}{string}\n",
       "\n",
       "\\PY{n}{ref\\PYZus{}1}\n",
       "\\PY{n}{Aggregation}\\PY{o}{[}\\PY{n}{table}\\PY{o}{]}\n",
       "\\PY{+w}{  }\\PY{n+nc}{table}\\PY{err}{:}\n",
       "\\PY{+w}{    }\\PY{n+nc}{Table}\\PY{err}{:}\\PY{+w}{ }\\PY{n}{ref\\PYZus{}0}\n",
       "\\PY{+w}{  }\\PY{n+nl}{metrics}\\PY{p}{:}\n",
       "\\PY{+w}{    }\\PY{n}{mean\\PYZus{}b}\\PY{+w}{ }\\PY{o}{=}\\PY{+w}{ }\\PY{n}{Mean}\\PY{o}{[}\\PY{n}{float64}\\PY{o}{]}\n",
       "\\PY{+w}{      }\\PY{n}{b}\\PY{+w}{ }\\PY{o}{=}\\PY{+w}{ }\\PY{k}{Column}\\PY{o}{[}\\PY{n}{int64*}\\PY{o}{]}\\PY{+w}{ }\\PY{l+s+s1}{\\PYZsq{}b\\PYZsq{}}\\PY{+w}{ }\\PY{k}{from}\\PY{+w}{ }\\PY{n+nc}{table}\n",
       "\\PY{+w}{        }\\PY{n}{ref\\PYZus{}0}\n",
       "\\PY{+w}{      }\\PY{k}{where}\\PY{err}{:}\n",
       "\\PY{+w}{        }\\PY{k}{None}\n",
       "\\PY{+w}{  }\\PY{k}{by}\\PY{err}{:}\n",
       "\\PY{+w}{    }\\PY{n}{c}\\PY{+w}{ }\\PY{o}{=}\\PY{+w}{ }\\PY{k}{Column}\\PY{o}{[}\\PY{n}{string*}\\PY{o}{]}\\PY{+w}{ }\\PY{l+s+s1}{\\PYZsq{}c\\PYZsq{}}\\PY{+w}{ }\\PY{k}{from}\\PY{+w}{ }\\PY{n+nc}{table}\n",
       "\\PY{+w}{      }\\PY{n}{ref\\PYZus{}0}\n",
       "\n",
       "\\PY{n}{Selection}\\PY{o}{[}\\PY{n}{table}\\PY{o}{]}\n",
       "\\PY{+w}{  }\\PY{n+nc}{table}\\PY{err}{:}\n",
       "\\PY{+w}{    }\\PY{n+nc}{Table}\\PY{err}{:}\\PY{+w}{ }\\PY{n}{ref\\PYZus{}1}\n",
       "\\PY{+w}{  }\\PY{n+nl}{predicates}\\PY{p}{:}\n",
       "\\PY{+w}{    }\\PY{o+ow}{Not}\\PY{o}{[}\\PY{n}{boolean*}\\PY{o}{]}\n",
       "\\PY{+w}{      }\\PY{n+nf}{IsNull}\\PY{o}{[}\\PY{n}{boolean*}\\PY{o}{]}\n",
       "\\PY{+w}{        }\\PY{n}{mean\\PYZus{}b}\\PY{+w}{ }\\PY{o}{=}\\PY{+w}{ }\\PY{k}{Column}\\PY{o}{[}\\PY{n}{float64*}\\PY{o}{]}\\PY{+w}{ }\\PY{l+s+s1}{\\PYZsq{}mean\\PYZus{}b\\PYZsq{}}\\PY{+w}{ }\\PY{k}{from}\\PY{+w}{ }\\PY{n+nc}{table}\n",
       "\\PY{+w}{          }\\PY{n}{ref\\PYZus{}1}\n",
       "\n",
       "\\PY{n}{ref\\PYZus{}0}\n",
       "\\PY{n}{PandasTable}\\PY{o}{[}\\PY{n}{table}\\PY{o}{]}\n",
       "\\PY{+w}{  }\\PY{n+nl}{name}\\PY{p}{:}\\PY{+w}{ }\\PY{n}{source}\n",
       "\\PY{+w}{  }\\PY{k}{schema}\\PY{err}{:}\n",
       "\\PY{+w}{    }\\PY{n}{a}\\PY{+w}{ }\\PY{err}{:}\\PY{+w}{ }\\PY{n}{string}\n",
       "\\PY{+w}{    }\\PY{n}{b}\\PY{+w}{ }\\PY{err}{:}\\PY{+w}{ }\\PY{n}{int64}\n",
       "\n",
       "\\PY{n}{Selection}\\PY{o}{[}\\PY{n}{table}\\PY{o}{]}\n",
       "\\PY{+w}{  }\\PY{n+nc}{table}\\PY{err}{:}\n",
       "\\PY{+w}{    }\\PY{n+nc}{Table}\\PY{err}{:}\\PY{+w}{ }\\PY{n}{ref\\PYZus{}0}\n",
       "\\PY{+w}{  }\\PY{n+nl}{predicates}\\PY{p}{:}\n",
       "\\PY{+w}{    }\\PY{o+ow}{Not}\\PY{o}{[}\\PY{n}{boolean*}\\PY{o}{]}\n",
       "\\PY{+w}{      }\\PY{n+nf}{IsNull}\\PY{o}{[}\\PY{n}{boolean*}\\PY{o}{]}\n",
       "\\PY{+w}{        }\\PY{n}{b}\\PY{+w}{ }\\PY{o}{=}\\PY{+w}{ }\\PY{k}{Column}\\PY{o}{[}\\PY{n}{int64*}\\PY{o}{]}\\PY{+w}{ }\\PY{l+s+s1}{\\PYZsq{}b\\PYZsq{}}\\PY{+w}{ }\\PY{k}{from}\\PY{+w}{ }\\PY{n+nc}{table}\n",
       "\\PY{+w}{          }\\PY{n}{ref\\PYZus{}0}\n",
       "\\end{Verbatim}\n"
      ],
      "text/plain": [
       "ref_0\n",
       "PandasTable[table]\n",
       "  name: source\n",
       "  schema:\n",
       "    a : string\n",
       "    b : int64\n",
       "    c : string\n",
       "\n",
       "Selection[table]\n",
       "  table:\n",
       "    Table: ref_0\n",
       "  predicates:\n",
       "    Equals[boolean*]\n",
       "      left:\n",
       "        c = Column[string*] 'c' from table\n",
       "          ref_0\n",
       "      right:\n",
       "        Literal[string]\n",
       "          second\n",
       "    Not[boolean*]\n",
       "      IsNull[boolean*]\n",
       "        b = Column[int64*] 'b' from table\n",
       "          ref_0\n",
       "\n",
       "ref_0\n",
       "PandasTable[table]\n",
       "  name: source\n",
       "  schema:\n",
       "    a : string\n",
       "    b : int64\n",
       "    c : string\n",
       "\n",
       "Selection[table]\n",
       "  table:\n",
       "    Table: ref_0\n",
       "  predicates:\n",
       "    Not[boolean*]\n",
       "      IsNull[boolean*]\n",
       "        b = Column[int64*] 'b' from table\n",
       "          ref_0\n",
       "\n",
       "ref_0\n",
       "PandasTable[table]\n",
       "  name: source\n",
       "  schema:\n",
       "    a : string\n",
       "    b : int64\n",
       "    c : string\n",
       "\n",
       "Selection[table]\n",
       "  table:\n",
       "    Table: ref_0\n",
       "  predicates:\n",
       "    Equals[boolean*]\n",
       "      left:\n",
       "        c = Column[string*] 'c' from table\n",
       "          ref_0\n",
       "      right:\n",
       "        Literal[string]\n",
       "          first\n",
       "    Not[boolean*]\n",
       "      IsNull[boolean*]\n",
       "        b = Column[int64*] 'b' from table\n",
       "          ref_0\n",
       "\n",
       "ref_0\n",
       "PandasTable[table]\n",
       "  name: source\n",
       "  schema:\n",
       "    a : string\n",
       "    b : int64\n",
       "    c : string\n",
       "\n",
       "ref_1\n",
       "Aggregation[table]\n",
       "  table:\n",
       "    Table: ref_0\n",
       "  metrics:\n",
       "    mean_b = Mean[float64]\n",
       "      b = Column[int64*] 'b' from table\n",
       "        ref_0\n",
       "      where:\n",
       "        None\n",
       "  by:\n",
       "    c = Column[string*] 'c' from table\n",
       "      ref_0\n",
       "\n",
       "Selection[table]\n",
       "  table:\n",
       "    Table: ref_1\n",
       "  predicates:\n",
       "    Not[boolean*]\n",
       "      IsNull[boolean*]\n",
       "        mean_b = Column[float64*] 'mean_b' from table\n",
       "          ref_1\n",
       "\n",
       "ref_0\n",
       "PandasTable[table]\n",
       "  name: source\n",
       "  schema:\n",
       "    a : string\n",
       "    b : int64\n",
       "\n",
       "Selection[table]\n",
       "  table:\n",
       "    Table: ref_0\n",
       "  predicates:\n",
       "    Not[boolean*]\n",
       "      IsNull[boolean*]\n",
       "        b = Column[int64*] 'b' from table\n",
       "          ref_0"
      ]
     },
     "metadata": {},
     "output_type": "display_data"
    }
   ],
   "source": [
    "ibis_vega_transform.display_queries()"
   ]
  },
  {
   "cell_type": "markdown",
   "metadata": {},
   "source": [
    "## Filter"
   ]
  },
  {
   "cell_type": "code",
   "execution_count": 6,
   "metadata": {},
   "outputs": [
    {
     "data": {
      "application/vnd.vega.ibis.v5+json": {
       "$schema": "https://vega.github.io/schema/vega-lite/v3.4.0.json",
       "config": {
        "mark": {
         "tooltip": null
        },
        "view": {
         "height": 300,
         "width": 400
        }
       },
       "data": {
        "name": "ibis:-6006678656931459220"
       },
       "encoding": {
        "x": {
         "field": "a",
         "type": "nominal"
        },
        "y": {
         "field": "b",
         "type": "quantitative"
        }
       },
       "mark": "bar",
       "transform": [
        {
         "filter": "(datum.c === 'first')"
        }
       ]
      },
      "text/plain": [
       "alt.Chart(...)"
      ]
     },
     "execution_count": 6,
     "metadata": {},
     "output_type": "execute_result"
    }
   ],
   "source": [
    "source = pd.DataFrame({\n",
    "    'a': ['A', 'B', 'C', 'D', 'E', 'F', 'G', 'H', 'I'],\n",
    "    'b': [28, 55, 43, 91, 81, 53, 19, 87, 52],\n",
    "    'c': ['first', 'first', 'first', 'second', 'second', 'second', 'third', 'third', 'third']\n",
    "\n",
    "})\n",
    "connection = ibis.pandas.connect({'source': source })\n",
    "table = connection.table('source')\n",
    "\n",
    "alt.Chart(table).mark_bar().encode(\n",
    "    x='a',\n",
    "    y='b'\n",
    ").transform_filter(\n",
    "    alt.datum.c == 'first'\n",
    ")"
   ]
  },
  {
   "cell_type": "markdown",
   "metadata": {},
   "source": [
    "## Interactive Filter"
   ]
  },
  {
   "cell_type": "code",
   "execution_count": 7,
   "metadata": {},
   "outputs": [
    {
     "data": {
      "application/vnd.vega.ibis.v5+json": {
       "$schema": "https://vega.github.io/schema/vega-lite/v3.4.0.json",
       "config": {
        "mark": {
         "tooltip": null
        },
        "view": {
         "height": 300,
         "width": 400
        }
       },
       "data": {
        "name": "ibis:-6006491172074726709"
       },
       "encoding": {
        "x": {
         "field": "a",
         "type": "nominal"
        },
        "y": {
         "field": "b",
         "type": "quantitative"
        }
       },
       "mark": "bar",
       "selection": {
        "Filter": {
         "bind": {
          "input": "select",
          "options": [
           "first",
           "second"
          ]
         },
         "fields": [
          "c"
         ],
         "type": "single"
        }
       },
       "transform": [
        {
         "filter": {
          "selection": "Filter"
         }
        }
       ]
      },
      "text/plain": [
       "alt.Chart(...)"
      ]
     },
     "execution_count": 7,
     "metadata": {},
     "output_type": "execute_result"
    }
   ],
   "source": [
    "source = pd.DataFrame({\n",
    "    'a': ['A', 'B', 'C', 'D', 'E', 'F', 'G', 'H', 'I'],\n",
    "    'b': [28, 55, 43, 91, 81, 53, 19, 87, 52],\n",
    "    'c': ['first', 'first', 'first', 'second', 'second', 'second', 'third', 'third', 'third']\n",
    "\n",
    "})\n",
    "\n",
    "connection = ibis.pandas.connect({'source': source })\n",
    "table = connection.table('source')\n",
    "\n",
    "\n",
    "\n",
    "input_dropdown = alt.binding_select(options=['first','second'])\n",
    "selection = alt.selection_single(fields=['c'], bind=input_dropdown, name='Filter')\n",
    "\n",
    "alt.Chart(table).mark_bar().encode(\n",
    "    x='a',\n",
    "    y='b'\n",
    ").add_selection(\n",
    "    selection\n",
    ").transform_filter(\n",
    "    selection\n",
    ")"
   ]
  },
  {
   "cell_type": "code",
   "execution_count": null,
   "metadata": {},
   "outputs": [],
   "source": []
  }
 ],
 "metadata": {
  "kernelspec": {
   "display_name": "Python 3",
   "language": "python",
   "name": "python3"
  },
  "language_info": {
   "codemirror_mode": {
    "name": "ipython",
    "version": 3
   },
   "file_extension": ".py",
   "mimetype": "text/x-python",
   "name": "python",
   "nbconvert_exporter": "python",
   "pygments_lexer": "ipython3",
   "version": "3.7.3"
  }
 },
 "nbformat": 4,
 "nbformat_minor": 4
}
