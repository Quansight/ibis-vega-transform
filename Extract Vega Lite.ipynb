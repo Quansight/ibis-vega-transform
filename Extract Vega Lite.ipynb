{
 "cells": [
  {
   "cell_type": "markdown",
   "metadata": {},
   "source": [
    "We have packaged `extractTransform` from Vega Lite up as a mime renderer:"
   ]
  },
  {
   "cell_type": "code",
   "execution_count": 6,
   "metadata": {},
   "outputs": [],
   "source": [
    "from IPython.display import display"
   ]
  },
  {
   "cell_type": "code",
   "execution_count": 7,
   "metadata": {},
   "outputs": [],
   "source": [
    "SPEC ={\n",
    " \"data\": {\n",
    "  \"url\": \"https://vega.github.io/vega-lite/data/seattle-weather.csv\"\n",
    " },\n",
    " \"layer\": [\n",
    "  {\n",
    "   \"mark\": \"bar\",\n",
    "   \"encoding\": {\n",
    "    \"x\": {\n",
    "     \"timeUnit\": \"month\",\n",
    "     \"field\": \"date\",\n",
    "     \"type\": \"ordinal\"\n",
    "    },\n",
    "    \"y\": {\n",
    "     \"aggregate\": \"mean\",\n",
    "     \"field\": \"precipitation\",\n",
    "     \"type\": \"quantitative\",\n",
    "     \"axis\": {\n",
    "      \"grid\": False\n",
    "     }\n",
    "    }\n",
    "   }\n",
    "  },\n",
    "  {\n",
    "   \"mark\": \"line\",\n",
    "   \"encoding\": {\n",
    "    \"x\": {\n",
    "     \"timeUnit\": \"month\",\n",
    "     \"field\": \"date\",\n",
    "     \"type\": \"ordinal\"\n",
    "    },\n",
    "    \"y\": {\n",
    "     \"aggregate\": \"mean\",\n",
    "     \"field\": \"temp_max\",\n",
    "     \"type\": \"quantitative\",\n",
    "     \"axis\": {\n",
    "      \"grid\": False\n",
    "     },\n",
    "     \"scale\": {\n",
    "      \"zero\": False\n",
    "     }\n",
    "    },\n",
    "    \"color\": {\n",
    "     \"value\": \"firebrick\"\n",
    "    }\n",
    "   }\n",
    "  }\n",
    " ],\n",
    " \"resolve\": {\n",
    "  \"scale\": {\n",
    "   \"y\": \"independent\"\n",
    "  }\n",
    " }\n",
    "}"
   ]
  },
  {
   "cell_type": "markdown",
   "metadata": {},
   "source": [
    "Let's look at this chart:"
   ]
  },
  {
   "cell_type": "code",
   "execution_count": 6,
   "metadata": {},
   "outputs": [
    {
     "data": {
      "application/vnd.vegalite.v2+json": {
       "data": {
        "format": {
         "type": "csv"
        },
        "url": "https://vega.github.io/vega-lite/data/seattle-weather.csv"
       },
       "layer": [
        {
         "encoding": {
          "x": {
           "field": "date",
           "timeUnit": "month",
           "type": "ordinal"
          },
          "y": {
           "aggregate": "mean",
           "axis": {
            "grid": false
           },
           "field": "precipitation",
           "type": "quantitative"
          }
         },
         "mark": "bar"
        },
        {
         "encoding": {
          "color": {
           "value": "firebrick"
          },
          "x": {
           "field": "date",
           "timeUnit": "month",
           "type": "ordinal"
          },
          "y": {
           "aggregate": "mean",
           "axis": {
            "grid": false
           },
           "field": "temp_max",
           "scale": {
            "zero": false
           },
           "type": "quantitative"
          }
         },
         "mark": "line"
        }
       ],
       "resolve": {
        "scale": {
         "x": "shared",
         "y": "independent"
        }
       }
      },
      "image/png": "[encoded data removed]"
     },
     "metadata": {},
     "output_type": "display_data"
    }
   ],
   "source": [
    "display({\"application/vnd.vegalite.v2+json\": SPEC}, raw=True)"
   ]
  },
  {
   "cell_type": "markdown",
   "metadata": {},
   "source": [
    "OK now let's send this to the backend to transform it and render it when done:"
   ]
  },
  {
   "cell_type": "code",
   "execution_count": 11,
   "metadata": {},
   "outputs": [],
   "source": [
    "COMM_ID = 'some-unique-iddd'"
   ]
  },
  {
   "cell_type": "code",
   "execution_count": 17,
   "metadata": {},
   "outputs": [],
   "source": [
    "new_spec = None"
   ]
  },
  {
   "cell_type": "code",
   "execution_count": 18,
   "metadata": {},
   "outputs": [],
   "source": [
    "from ipykernel.comm import Comm\n",
    "\n",
    "# Use comm to send a message from the kernel\n",
    "my_comm = Comm(target_name=COMM_ID, data=SPEC)\n",
    "my_comm.send({'foo': 2})\n",
    "\n",
    "# Add a callback for received messages.\n",
    "@my_comm.on_msg\n",
    "def _recv(msg):\n",
    "    global new_spec\n",
    "    new_spec = msg['content']['data']\n"
   ]
  },
  {
   "cell_type": "code",
   "execution_count": 22,
   "metadata": {},
   "outputs": [
    {
     "data": {
      "text/plain": [
       "{'data': {'url': 'https://vega.github.io/vega-lite/data/seattle-weather.csv'},\n",
       " 'resolve': {'scale': {'y': 'independent'}},\n",
       " 'layer': [{'transform': [{'timeUnit': 'month',\n",
       "     'field': 'date',\n",
       "     'as': 'month_date'},\n",
       "    {'aggregate': [{'op': 'mean',\n",
       "       'as': 'mean_precipitation',\n",
       "       'field': 'precipitation'}],\n",
       "     'groupby': ['month_date']}],\n",
       "   'mark': 'bar',\n",
       "   'encoding': {'x': {'title': 'date (month)',\n",
       "     'type': 'ordinal',\n",
       "     'field': 'month_date',\n",
       "     'axis': {'format': '%b'}},\n",
       "    'y': {'title': 'Mean of precipitation',\n",
       "     'type': 'quantitative',\n",
       "     'axis': {'grid': False},\n",
       "     'field': 'mean_precipitation'}}},\n",
       "  {'transform': [{'timeUnit': 'month', 'field': 'date', 'as': 'month_date'},\n",
       "    {'aggregate': [{'op': 'mean', 'as': 'mean_temp_max', 'field': 'temp_max'}],\n",
       "     'groupby': ['month_date']}],\n",
       "   'mark': 'line',\n",
       "   'encoding': {'x': {'title': 'date (month)',\n",
       "     'type': 'ordinal',\n",
       "     'field': 'month_date',\n",
       "     'axis': {'format': '%b'}},\n",
       "    'y': {'title': 'Mean of temp_max',\n",
       "     'type': 'quantitative',\n",
       "     'axis': {'grid': False},\n",
       "     'scale': {'zero': False},\n",
       "     'field': 'mean_temp_max'},\n",
       "    'color': {'value': 'firebrick'}}}]}"
      ]
     },
     "execution_count": 22,
     "metadata": {},
     "output_type": "execute_result"
    }
   ],
   "source": [
    "new_spec"
   ]
  },
  {
   "cell_type": "markdown",
   "metadata": {},
   "source": [
    "Now let's transform the spec to return a new one with the transformed extracted:"
   ]
  },
  {
   "cell_type": "code",
   "execution_count": 21,
   "metadata": {},
   "outputs": [
    {
     "data": {
      "application/vnd.vegalite.v2+json": {
       "data": {
        "format": {
         "type": "csv"
        },
        "url": "https://vega.github.io/vega-lite/data/seattle-weather.csv"
       },
       "layer": [
        {
         "encoding": {
          "x": {
           "axis": {
            "format": "%b"
           },
           "field": "month_date",
           "title": "date (month)",
           "type": "ordinal"
          },
          "y": {
           "axis": {
            "grid": false
           },
           "field": "mean_precipitation",
           "title": "Mean of precipitation",
           "type": "quantitative"
          }
         },
         "mark": "bar",
         "transform": [
          {
           "as": "month_date",
           "field": "date",
           "timeUnit": "month"
          },
          {
           "aggregate": [
            {
             "as": "mean_precipitation",
             "field": "precipitation",
             "op": "mean"
            }
           ],
           "groupby": [
            "month_date"
           ]
          }
         ]
        },
        {
         "encoding": {
          "color": {
           "value": "firebrick"
          },
          "x": {
           "axis": {
            "format": "%b"
           },
           "field": "month_date",
           "title": "date (month)",
           "type": "ordinal"
          },
          "y": {
           "axis": {
            "grid": false
           },
           "field": "mean_temp_max",
           "scale": {
            "zero": false
           },
           "title": "Mean of temp_max",
           "type": "quantitative"
          }
         },
         "mark": "line",
         "transform": [
          {
           "as": "month_date",
           "field": "date",
           "timeUnit": "month"
          },
          {
           "aggregate": [
            {
             "as": "mean_temp_max",
             "field": "temp_max",
             "op": "mean"
            }
           ],
           "groupby": [
            "month_date"
           ]
          }
         ]
        }
       ],
       "resolve": {
        "scale": {
         "x": "shared",
         "y": "independent"
        }
       }
      },
      "image/png": "[encoded data removed]"
     },
     "metadata": {},
     "output_type": "display_data"
    }
   ],
   "source": [
    "display({\"application/vnd.vegalite.v2+json\": new_spec}, raw=True)"
   ]
  }
 ],
 "metadata": {
  "kernelspec": {
   "display_name": "Python 3",
   "language": "python",
   "name": "python3"
  },
  "language_info": {
   "codemirror_mode": {
    "name": "ipython",
    "version": 3
   },
   "file_extension": ".py",
   "mimetype": "text/x-python",
   "name": "python",
   "nbconvert_exporter": "python",
   "pygments_lexer": "ipython3",
   "version": "3.6.6"
  }
 },
 "nbformat": 4,
 "nbformat_minor": 2
}
