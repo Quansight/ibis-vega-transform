{
 "cells": [
  {
   "cell_type": "markdown",
   "metadata": {},
   "source": [
    "We have packaged `extractTransform` from Vega Lite up as a mime renderer:"
   ]
  },
  {
   "cell_type": "code",
   "execution_count": 2,
   "metadata": {},
   "outputs": [],
   "source": [
    "from IPython.display import display"
   ]
  },
  {
   "cell_type": "code",
   "execution_count": 5,
   "metadata": {},
   "outputs": [],
   "source": [
    "SPEC ={\n",
    " \"data\": {\n",
    "  \"url\": \"https://vega.github.io/vega-lite/data/seattle-weather.csv\"\n",
    " },\n",
    " \"layer\": [\n",
    "  {\n",
    "   \"mark\": \"bar\",\n",
    "   \"encoding\": {\n",
    "    \"x\": {\n",
    "     \"timeUnit\": \"month\",\n",
    "     \"field\": \"date\",\n",
    "     \"type\": \"ordinal\"\n",
    "    },\n",
    "    \"y\": {\n",
    "     \"aggregate\": \"mean\",\n",
    "     \"field\": \"precipitation\",\n",
    "     \"type\": \"quantitative\",\n",
    "     \"axis\": {\n",
    "      \"grid\": False\n",
    "     }\n",
    "    }\n",
    "   }\n",
    "  },\n",
    "  {\n",
    "   \"mark\": \"line\",\n",
    "   \"encoding\": {\n",
    "    \"x\": {\n",
    "     \"timeUnit\": \"month\",\n",
    "     \"field\": \"date\",\n",
    "     \"type\": \"ordinal\"\n",
    "    },\n",
    "    \"y\": {\n",
    "     \"aggregate\": \"mean\",\n",
    "     \"field\": \"temp_max\",\n",
    "     \"type\": \"quantitative\",\n",
    "     \"axis\": {\n",
    "      \"grid\": False\n",
    "     },\n",
    "     \"scale\": {\n",
    "      \"zero\": False\n",
    "     }\n",
    "    },\n",
    "    \"color\": {\n",
    "     \"value\": \"firebrick\"\n",
    "    }\n",
    "   }\n",
    "  }\n",
    " ],\n",
    " \"resolve\": {\n",
    "  \"scale\": {\n",
    "   \"y\": \"independent\"\n",
    "  }\n",
    " }\n",
    "}"
   ]
  },
  {
   "cell_type": "markdown",
   "metadata": {},
   "source": [
    "Let's look at this chart:"
   ]
  },
  {
   "cell_type": "code",
   "execution_count": 6,
   "metadata": {},
   "outputs": [
    {
     "data": {
      "application/vnd.vegalite.v2+json": {
       "data": {
        "format": {
         "type": "csv"
        },
        "url": "https://vega.github.io/vega-lite/data/seattle-weather.csv"
       },
       "layer": [
        {
         "encoding": {
          "x": {
           "field": "date",
           "timeUnit": "month",
           "type": "ordinal"
          },
          "y": {
           "aggregate": "mean",
           "axis": {
            "grid": false
           },
           "field": "precipitation",
           "type": "quantitative"
          }
         },
         "mark": "bar"
        },
        {
         "encoding": {
          "color": {
           "value": "firebrick"
          },
          "x": {
           "field": "date",
           "timeUnit": "month",
           "type": "ordinal"
          },
          "y": {
           "aggregate": "mean",
           "axis": {
            "grid": false
           },
           "field": "temp_max",
           "scale": {
            "zero": false
           },
           "type": "quantitative"
          }
         },
         "mark": "line"
        }
       ],
       "resolve": {
        "scale": {
         "x": "shared",
         "y": "independent"
        }
       }
      },
      "image/png": "[encoded data removed]"
     },
     "metadata": {},
     "output_type": "display_data"
    }
   ],
   "source": [
    "display({\"application/vnd.vegalite.v2+json\": SPEC}, raw=True)"
   ]
  },
  {
   "cell_type": "markdown",
   "metadata": {},
   "source": [
    "Now let's transform the spec to return a new one with the transformed extracted:"
   ]
  },
  {
   "cell_type": "code",
   "execution_count": 7,
   "metadata": {},
   "outputs": [
    {
     "data": {
      "application/vnd.omnisci.extract-vega-lite+json": {
       "data": {
        "url": "data/seattle-weather.csv"
       },
       "layer": [
        {
         "encoding": {
          "x": {
           "field": "date",
           "timeUnit": "month",
           "type": "ordinal"
          },
          "y": {
           "aggregate": "mean",
           "axis": {
            "grid": false
           },
           "field": "precipitation",
           "type": "quantitative"
          }
         },
         "mark": "bar"
        },
        {
         "encoding": {
          "color": {
           "value": "firebrick"
          },
          "x": {
           "field": "date",
           "timeUnit": "month",
           "type": "ordinal"
          },
          "y": {
           "aggregate": "mean",
           "axis": {
            "grid": false
           },
           "field": "temp_max",
           "scale": {
            "zero": false
           },
           "type": "quantitative"
          }
         },
         "mark": "line"
        }
       ],
       "resolve": {
        "scale": {
         "y": "independent"
        }
       }
      }
     },
     "metadata": {},
     "output_type": "display_data"
    }
   ],
   "source": [
    "display({\"application/vnd.omnisci.extract-vega-lite+json\": SPEC}, raw=True)"
   ]
  }
 ],
 "metadata": {
  "kernelspec": {
   "display_name": "Python 3",
   "language": "python",
   "name": "python3"
  },
  "language_info": {
   "codemirror_mode": {
    "name": "ipython",
    "version": 3
   },
   "file_extension": ".py",
   "mimetype": "text/x-python",
   "name": "python",
   "nbconvert_exporter": "python",
   "pygments_lexer": "ipython3",
   "version": "3.6.6"
  }
 },
 "nbformat": 4,
 "nbformat_minor": 2
}
