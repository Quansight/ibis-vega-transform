{
 "cells": [
  {
   "cell_type": "markdown",
   "metadata": {},
   "source": [
    "# Ibis+Vega+Altair using an interactive slider\n",
    "\n",
    "We will try to reproduce [this](https://altair-viz.github.io/gallery/us_population_over_time.html)\n",
    "example from the Altair gallery, but with lazily fetching data as the user interacts with the slider.\n",
    "To keep ourselves honest, we'll be putting the data in a SQLite database.\n",
    "\n",
    "First, let's show the original example, without any modifications:"
   ]
  },
  {
   "cell_type": "code",
   "execution_count": 1,
   "metadata": {},
   "outputs": [
    {
     "data": {
      "application/vnd.vegalite.v3+json": {
       "$schema": "https://vega.github.io/schema/vega-lite/v3.2.1.json",
       "config": {
        "facet": {
         "spacing": 8
        },
        "mark": {
         "tooltip": null
        },
        "view": {
         "height": 300,
         "width": 400
        }
       },
       "data": {
        "url": "https://vega.github.io/vega-datasets/data/population.json"
       },
       "encoding": {
        "color": {
         "field": "sex",
         "scale": {
          "domain": [
           "Male",
           "Female"
          ],
          "range": [
           "steelblue",
           "salmon"
          ]
         },
         "type": "nominal"
        },
        "column": {
         "field": "age",
         "type": "ordinal"
        },
        "x": {
         "field": "sex",
         "title": null,
         "type": "nominal"
        },
        "y": {
         "field": "people",
         "scale": {
          "domain": [
           0,
           12000000
          ]
         },
         "type": "quantitative"
        }
       },
       "mark": "bar",
       "selection": {
        "year": {
         "bind": {
          "input": "range",
          "max": 2000,
          "min": 1900,
          "step": 10
         },
         "fields": [
          "year"
         ],
         "init": {
          "year": 2000
         },
         "type": "single"
        }
       },
       "transform": [
        {
         "as": "sex",
         "calculate": "if((datum.sex === 1),'Male','Female')"
        },
        {
         "filter": {
          "selection": "year"
         }
        }
       ],
       "width": 20
      },
      "image/png": "[encoded data removed]",
      "text/plain": [
       "<VegaLite 3 object>\n",
       "\n",
       "If you see this message, it means the renderer has not been properly enabled\n",
       "for the frontend that you are using. For more information, see\n",
       "https://altair-viz.github.io/user_guide/troubleshooting.html\n"
      ]
     },
     "execution_count": 1,
     "metadata": {},
     "output_type": "execute_result"
    }
   ],
   "source": [
    "import altair as alt\n",
    "from vega_datasets import data\n",
    "\n",
    "source = data.population.url\n",
    "\n",
    "pink_blue = alt.Scale(domain=('Male', 'Female'),\n",
    "                      range=[\"steelblue\", \"salmon\"])\n",
    "\n",
    "slider = alt.binding_range(min=1900, max=2000, step=10)\n",
    "select_year = alt.selection_single(name=\"year\", fields=['year'],\n",
    "                                   bind=slider, init={'year': 2000})\n",
    "\n",
    "alt.Chart(source).mark_bar().encode(\n",
    "    x=alt.X('sex:N', title=None),\n",
    "    y=alt.Y('people:Q', scale=alt.Scale(domain=(0, 12000000))),\n",
    "    color=alt.Color('sex:N', scale=pink_blue),\n",
    "    column='age:O'\n",
    ").properties(\n",
    "    width=20\n",
    ").add_selection(\n",
    "    select_year\n",
    ").transform_calculate(\n",
    "    \"sex\", alt.expr.if_(alt.datum.sex == 1, \"Male\", \"Female\")\n",
    ").transform_filter(\n",
    "    select_year\n",
    ").configure_facet(\n",
    "    spacing=8\n",
    ")"
   ]
  },
  {
   "cell_type": "markdown",
   "metadata": {},
   "source": [
    "## Loading the data into a database\n",
    "\n",
    "We begin our lazy-fetching example by downloading the data and putting it into a SQLite database:"
   ]
  },
  {
   "cell_type": "code",
   "execution_count": 2,
   "metadata": {},
   "outputs": [],
   "source": [
    "import sqlalchemy\n",
    "dbfile = 'population.db'\n",
    "engine = sqlalchemy.create_engine(f'sqlite:///{dbfile}')\n",
    "\n",
    "import pandas as pd\n",
    "df = pd.read_json(data.population.url)\n",
    "df.to_sql('population', engine, if_exists='replace')"
   ]
  },
  {
   "cell_type": "markdown",
   "metadata": {},
   "source": [
    "Now, let's create an ibis connection to this database and verify that the data is there:"
   ]
  },
  {
   "cell_type": "code",
   "execution_count": 3,
   "metadata": {},
   "outputs": [
    {
     "data": {
      "text/plain": [
       "['population']"
      ]
     },
     "execution_count": 3,
     "metadata": {},
     "output_type": "execute_result"
    }
   ],
   "source": [
    "import ibis\n",
    "\n",
    "connection = ibis.sqlite.connect(dbfile)\n",
    "connection.list_tables()"
   ]
  },
  {
   "cell_type": "markdown",
   "metadata": {},
   "source": [
    "We can use inspect the data using this ibis connection:"
   ]
  },
  {
   "cell_type": "code",
   "execution_count": 4,
   "metadata": {},
   "outputs": [
    {
     "data": {
      "text/html": [
       "<div>\n",
       "<style scoped>\n",
       "    .dataframe tbody tr th:only-of-type {\n",
       "        vertical-align: middle;\n",
       "    }\n",
       "\n",
       "    .dataframe tbody tr th {\n",
       "        vertical-align: top;\n",
       "    }\n",
       "\n",
       "    .dataframe thead th {\n",
       "        text-align: right;\n",
       "    }\n",
       "</style>\n",
       "<table border=\"1\" class=\"dataframe\">\n",
       "  <thead>\n",
       "    <tr style=\"text-align: right;\">\n",
       "      <th></th>\n",
       "      <th>index</th>\n",
       "      <th>age</th>\n",
       "      <th>people</th>\n",
       "      <th>sex</th>\n",
       "      <th>year</th>\n",
       "    </tr>\n",
       "  </thead>\n",
       "  <tbody>\n",
       "    <tr>\n",
       "      <th>0</th>\n",
       "      <td>0</td>\n",
       "      <td>0</td>\n",
       "      <td>1483789</td>\n",
       "      <td>1</td>\n",
       "      <td>1850</td>\n",
       "    </tr>\n",
       "    <tr>\n",
       "      <th>1</th>\n",
       "      <td>1</td>\n",
       "      <td>0</td>\n",
       "      <td>1450376</td>\n",
       "      <td>2</td>\n",
       "      <td>1850</td>\n",
       "    </tr>\n",
       "    <tr>\n",
       "      <th>2</th>\n",
       "      <td>2</td>\n",
       "      <td>5</td>\n",
       "      <td>1411067</td>\n",
       "      <td>1</td>\n",
       "      <td>1850</td>\n",
       "    </tr>\n",
       "    <tr>\n",
       "      <th>3</th>\n",
       "      <td>3</td>\n",
       "      <td>5</td>\n",
       "      <td>1359668</td>\n",
       "      <td>2</td>\n",
       "      <td>1850</td>\n",
       "    </tr>\n",
       "    <tr>\n",
       "      <th>4</th>\n",
       "      <td>4</td>\n",
       "      <td>10</td>\n",
       "      <td>1260099</td>\n",
       "      <td>1</td>\n",
       "      <td>1850</td>\n",
       "    </tr>\n",
       "  </tbody>\n",
       "</table>\n",
       "</div>"
      ],
      "text/plain": [
       "   index  age   people  sex  year\n",
       "0      0    0  1483789    1  1850\n",
       "1      1    0  1450376    2  1850\n",
       "2      2    5  1411067    1  1850\n",
       "3      3    5  1359668    2  1850\n",
       "4      4   10  1260099    1  1850"
      ]
     },
     "execution_count": 4,
     "metadata": {},
     "output_type": "execute_result"
    }
   ],
   "source": [
    "pop = connection.table('population')\n",
    "pop.head().execute()"
   ]
  },
  {
   "cell_type": "markdown",
   "metadata": {},
   "source": [
    "## Making an interactive plot\n",
    "\n",
    "We are now ready to make an interactive plot using this database connection.\n",
    "We can reuse the same objects for `pink_blue`, `slider`, and `select_year`, as they are independent of the data source.\n",
    "The `Chart` specifiation is completely identical, except that instead of the pandas dataframe,\n",
    "we supply it with the Ibis sqlite connection:"
   ]
  },
  {
   "cell_type": "code",
   "execution_count": 5,
   "metadata": {},
   "outputs": [
    {
     "data": {
      "application/vnd.vega.ibis.v5+json": {
       "$schema": "https://vega.github.io/schema/vega-lite/v3.2.1.json",
       "config": {
        "facet": {
         "spacing": 8
        },
        "mark": {
         "tooltip": null
        },
        "view": {
         "height": 300,
         "width": 400
        }
       },
       "data": {
        "name": "ibis:966993754389807427"
       },
       "encoding": {
        "color": {
         "field": "sex",
         "scale": {
          "domain": [
           "Male",
           "Female"
          ],
          "range": [
           "steelblue",
           "salmon"
          ]
         },
         "type": "nominal"
        },
        "column": {
         "field": "age",
         "type": "ordinal"
        },
        "x": {
         "field": "sex",
         "title": null,
         "type": "nominal"
        },
        "y": {
         "field": "people",
         "scale": {
          "domain": [
           0,
           12000000
          ]
         },
         "type": "quantitative"
        }
       },
       "mark": "bar",
       "selection": {
        "year": {
         "bind": {
          "input": "range",
          "max": 2000,
          "min": 1900,
          "step": 10
         },
         "fields": [
          "year"
         ],
         "init": {
          "year": 2000
         },
         "type": "single"
        }
       },
       "transform": [
        {
         "as": "sex",
         "calculate": "if((datum.sex === 1),'Male','Female')"
        },
        {
         "filter": {
          "selection": "year"
         }
        }
       ],
       "width": 20
      },
      "text/plain": [
       "Chart({\n",
       "  config: Config({\n",
       "    facet: CompositionConfig({\n",
       "      spacing: 8\n",
       "    })\n",
       "  }),\n",
       "  data: Empty DataFrame\n",
       "  Columns: [index, age, people, sex, year]\n",
       "  Index: [],\n",
       "  encoding: FacetedEncoding({\n",
       "    color: Color({\n",
       "      scale: Scale({\n",
       "        domain: ('Male', 'Female'),\n",
       "        range: ['steelblue', 'salmon']\n",
       "      }),\n",
       "      shorthand: 'sex:N'\n",
       "    }),\n",
       "    column: Column({\n",
       "      shorthand: 'age:O'\n",
       "    }),\n",
       "    x: X({\n",
       "      shorthand: 'sex:N',\n",
       "      title: None\n",
       "    }),\n",
       "    y: Y({\n",
       "      scale: Scale({\n",
       "        domain: (0, 12000000)\n",
       "      }),\n",
       "      shorthand: 'people:Q'\n",
       "    })\n",
       "  }),\n",
       "  mark: 'bar',\n",
       "  selection: {'year': SelectionDef({\n",
       "    bind: BindRange({\n",
       "      input: 'range',\n",
       "      max: 2000,\n",
       "      min: 1900,\n",
       "      step: 10\n",
       "    }),\n",
       "    fields: ['year'],\n",
       "    init: {'year': 2000},\n",
       "    type: 'single'\n",
       "  })},\n",
       "  transform: [CalculateTransform({\n",
       "    as: 'sex',\n",
       "    calculate: if((datum.sex === 1),'Male','Female')\n",
       "  }), FilterTransform({\n",
       "    filter: {'selection': 'year'}\n",
       "  })],\n",
       "  width: 20\n",
       "})"
      ]
     },
     "execution_count": 5,
     "metadata": {},
     "output_type": "execute_result"
    }
   ],
   "source": [
    "import jupyterlab_omnisci.vega_ibis\n",
    "\n",
    "alt.renderers.enable('ibis')\n",
    "alt.data_transformers.enable('ibis')\n",
    "\n",
    "alt.Chart(pop).mark_bar().encode(\n",
    "    x=alt.X('sex:N', title=None),\n",
    "    y=alt.Y('people:Q', scale=alt.Scale(domain=(0, 12000000))),\n",
    "    color=alt.Color('sex:N', scale=pink_blue),\n",
    "    column='age:O'\n",
    ").properties(\n",
    "    width=20\n",
    ").add_selection(\n",
    "    select_year\n",
    ").transform_calculate(\n",
    "    \"sex\", alt.expr.if_(alt.datum.sex == 1, \"Male\", \"Female\")\n",
    ").transform_filter(\n",
    "    select_year\n",
    ").configure_facet(\n",
    "    spacing=8\n",
    ")"
   ]
  }
 ],
 "metadata": {
  "kernelspec": {
   "display_name": "Python 3",
   "language": "python",
   "name": "python3"
  },
  "language_info": {
   "codemirror_mode": {
    "name": "ipython",
    "version": 3
   },
   "file_extension": ".py",
   "mimetype": "text/x-python",
   "name": "python",
   "nbconvert_exporter": "python",
   "pygments_lexer": "ipython3",
   "version": "3.7.3"
  }
 },
 "nbformat": 4,
 "nbformat_minor": 4
}
