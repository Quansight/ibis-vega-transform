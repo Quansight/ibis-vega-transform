{
 "cells": [
  {
   "cell_type": "code",
   "execution_count": 1,
   "metadata": {},
   "outputs": [],
   "source": [
    "import altair as alt\n",
    "import jupyterlab_omnisci.vega_ibis\n",
    "import ibis\n",
    "import pandas as pd\n",
    "\n",
    "source = pd.DataFrame({\n",
    "    'a': ['A', 'B', 'C', 'D', 'E', 'F', 'G', 'H', 'I'],\n",
    "    'b': [28, 55, 43, 91, 81, 53, 19, 87, 52]\n",
    "})\n",
    "connection = ibis.pandas.connect({'source': source })\n",
    "table = connection.table('source')\n",
    "\n",
    "c = alt.Chart(table).mark_bar().encode(\n",
    "    x='a',\n",
    "    y='b'\n",
    ")"
   ]
  },
  {
   "cell_type": "code",
   "execution_count": 2,
   "metadata": {},
   "outputs": [
    {
     "data": {
      "application/vnd.vega.ibis.v5+json": {
       "$schema": "https://vega.github.io/schema/vega/v5.json",
       "autosize": "pad",
       "axes": [
        {
         "grid": false,
         "labelAlign": "right",
         "labelAngle": 270,
         "labelBaseline": "middle",
         "orient": "bottom",
         "scale": "x",
         "title": "a",
         "zindex": 1
        },
        {
         "grid": false,
         "labelOverlap": true,
         "orient": "left",
         "scale": "y",
         "tickCount": {
          "signal": "ceil(height/40)"
         },
         "title": "b",
         "zindex": 1
        },
        {
         "domain": false,
         "grid": true,
         "gridScale": "x",
         "labels": false,
         "maxExtent": 0,
         "minExtent": 0,
         "orient": "left",
         "scale": "y",
         "tickCount": {
          "signal": "ceil(height/40)"
         },
         "ticks": false,
         "zindex": 0
        }
       ],
       "data": [
        {
         "name": "ibis887861574358635712",
         "transform": [
          {
           "query": {},
           "type": "queryibis"
          }
         ],
         "values": []
        }
       ],
       "height": 300,
       "marks": [
        {
         "encode": {
          "update": {
           "fill": [
            {
             "test": "datum[\"b\"] === null || isNaN(datum[\"b\"])",
             "value": null
            },
            {
             "value": "#4c78a8"
            }
           ],
           "tooltip": {
            "signal": "{\"a\": ''+datum[\"a\"], \"b\": format(datum[\"b\"], \"\")}"
           },
           "width": {
            "band": true,
            "scale": "x"
           },
           "x": {
            "field": "a",
            "scale": "x"
           },
           "y": {
            "field": "b",
            "scale": "y"
           },
           "y2": {
            "scale": "y",
            "value": 0
           }
          }
         },
         "from": {
          "data": "ibis887861574358635712"
         },
         "name": "marks",
         "style": [
          "bar"
         ],
         "type": "rect"
        }
       ],
       "padding": 5,
       "scales": [
        {
         "domain": {
          "data": "ibis887861574358635712",
          "field": "a",
          "sort": true
         },
         "name": "x",
         "paddingInner": 0.1,
         "paddingOuter": 0.05,
         "range": {
          "step": {
           "signal": "x_step"
          }
         },
         "type": "band"
        },
        {
         "domain": {
          "data": "ibis887861574358635712",
          "field": "b"
         },
         "name": "y",
         "nice": true,
         "range": [
          {
           "signal": "height"
          },
          0
         ],
         "type": "linear",
         "zero": true
        }
       ],
       "signals": [
        {
         "name": "x_step",
         "value": 20
        },
        {
         "name": "width",
         "update": "bandspace(domain('x').length, 0.1, 0.05) * x_step"
        }
       ],
       "style": "cell"
      }
     },
     "metadata": {},
     "output_type": "display_data"
    }
   ],
   "source": [
    "c"
   ]
  }
 ],
 "metadata": {
  "kernelspec": {
   "display_name": "Python 3",
   "language": "python",
   "name": "python3"
  },
  "language_info": {
   "codemirror_mode": {
    "name": "ipython",
    "version": 3
   },
   "file_extension": ".py",
   "mimetype": "text/x-python",
   "name": "python",
   "nbconvert_exporter": "python",
   "pygments_lexer": "ipython3",
   "version": "3.7.3"
  }
 },
 "nbformat": 4,
 "nbformat_minor": 4
}
