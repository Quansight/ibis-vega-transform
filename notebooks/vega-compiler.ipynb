{
 "cells": [
  {
   "cell_type": "code",
   "execution_count": 1,
   "metadata": {},
   "outputs": [
    {
     "data": {
      "text/plain": [
       "RendererRegistry.enable('ibis')"
      ]
     },
     "execution_count": 1,
     "metadata": {},
     "output_type": "execute_result"
    }
   ],
   "source": [
    "import altair as alt\n",
    "import jupyterlab_omnisci.vega_ibis\n",
    "import ibis\n",
    "import pandas as pd\n",
    "\n",
    "\n",
    "alt.data_transformers.enable('ibis')\n",
    "alt.renderers.enable('ibis')"
   ]
  },
  {
   "cell_type": "markdown",
   "metadata": {},
   "source": [
    "## Simple Data"
   ]
  },
  {
   "cell_type": "code",
   "execution_count": 2,
   "metadata": {},
   "outputs": [
    {
     "name": "stderr",
     "output_type": "stream",
     "text": [
      "/usr/local/miniconda3/envs/jupyterlab-omnisci/lib/python3.7/site-packages/altair/utils/core.py:90: UserWarning: I don't know how to infer vegalite type from 'empty'.  Defaulting to nominal.\n",
      "  \"Defaulting to nominal.\".format(typ))\n"
     ]
    },
    {
     "data": {
      "application/vnd.vega.ibis.v5+json": {
       "$schema": "https://vega.github.io/schema/vega-lite/v3.2.1.json",
       "config": {
        "mark": {
         "tooltip": null
        },
        "view": {
         "height": 300,
         "width": 400
        }
       },
       "data": {
        "name": "ibis:-7331301444557771310"
       },
       "encoding": {
        "x": {
         "field": "a",
         "type": "nominal"
        },
        "y": {
         "field": "b",
         "type": "quantitative"
        }
       },
       "mark": "bar"
      },
      "text/plain": [
       "Chart({\n",
       "  data: Empty DataFrame\n",
       "  Columns: [a, b]\n",
       "  Index: [],\n",
       "  encoding: FacetedEncoding({\n",
       "    x: X({\n",
       "      shorthand: 'a'\n",
       "    }),\n",
       "    y: Y({\n",
       "      shorthand: 'b'\n",
       "    })\n",
       "  }),\n",
       "  mark: 'bar'\n",
       "})"
      ]
     },
     "execution_count": 2,
     "metadata": {},
     "output_type": "execute_result"
    }
   ],
   "source": [
    "source = pd.DataFrame({\n",
    "    'a': ['A', 'B', 'C', 'D', 'E', 'F', 'G', 'H', 'I'],\n",
    "    'b': [28, 55, 43, 91, 81, 53, 19, 87, 52]\n",
    "})\n",
    "connection = ibis.pandas.connect({'source': source })\n",
    "table = connection.table('source')\n",
    "\n",
    "alt.Chart(table).mark_bar().encode(\n",
    "    x='a',\n",
    "    y='b'\n",
    ")"
   ]
  },
  {
   "cell_type": "markdown",
   "metadata": {},
   "source": [
    "## Aggregate"
   ]
  },
  {
   "cell_type": "code",
   "execution_count": 3,
   "metadata": {},
   "outputs": [],
   "source": [
    "jupyterlab_omnisci.vega_ibis.FALLBACK = False"
   ]
  },
  {
   "cell_type": "code",
   "execution_count": 5,
   "metadata": {},
   "outputs": [
    {
     "data": {
      "application/vnd.vega.ibis.v5+json": {
       "$schema": "https://vega.github.io/schema/vega-lite/v3.2.1.json",
       "config": {
        "mark": {
         "tooltip": null
        },
        "view": {
         "height": 300,
         "width": 400
        }
       },
       "data": {
        "name": "ibis:-4282997258706389807"
       },
       "encoding": {
        "x": {
         "field": "c",
         "type": "nominal"
        },
        "y": {
         "aggregate": "mean",
         "field": "b",
         "type": "quantitative"
        }
       },
       "mark": "bar"
      },
      "text/plain": [
       "Chart({\n",
       "  data: Empty DataFrame\n",
       "  Columns: [a, b, c]\n",
       "  Index: [],\n",
       "  encoding: FacetedEncoding({\n",
       "    x: X({\n",
       "      shorthand: 'c'\n",
       "    }),\n",
       "    y: Y({\n",
       "      shorthand: 'mean(b)'\n",
       "    })\n",
       "  }),\n",
       "  mark: 'bar'\n",
       "})"
      ]
     },
     "execution_count": 5,
     "metadata": {},
     "output_type": "execute_result"
    }
   ],
   "source": [
    "source = pd.DataFrame({\n",
    "    'a': ['A', 'B', 'C', 'D', 'E', 'F', 'G', 'H', 'I'],\n",
    "    'b': [28, 55, 43, 91, 81, 53, 19, 87, 52],\n",
    "    'c': ['first', 'first', 'first', 'second', 'second', 'second', 'third', 'third', 'third']\n",
    "\n",
    "})\n",
    "connection = ibis.pandas.connect({'source': source })\n",
    "table = connection.table('source')\n",
    "\n",
    "jupyterlab_omnisci.vega_ibis._executed_expressions = []\n",
    "\n",
    "alt.Chart(table).mark_bar().encode(\n",
    "    x='c',\n",
    "    y='mean(b)'\n",
    ")"
   ]
  },
  {
   "cell_type": "markdown",
   "metadata": {},
   "source": [
    "Verify that the only query computed is an aggregate:"
   ]
  },
  {
   "cell_type": "code",
   "execution_count": 6,
   "metadata": {},
   "outputs": [
    {
     "data": {
      "text/plain": [
       "ref_0\n",
       "PandasTable[table]\n",
       "  name: source\n",
       "  schema:\n",
       "    a : string\n",
       "    b : int64\n",
       "    c : string\n",
       "\n",
       "Aggregation[table]\n",
       "  table:\n",
       "    Table: ref_0\n",
       "  metrics:\n",
       "    mean_b = Mean[float64]\n",
       "      b = Column[int64*] 'b' from table\n",
       "        ref_0\n",
       "      where:\n",
       "        None\n",
       "  by:\n",
       "    c = Column[string*] 'c' from table\n",
       "      ref_0"
      ]
     },
     "execution_count": 6,
     "metadata": {},
     "output_type": "execute_result"
    }
   ],
   "source": [
    "_expr, = jupyterlab_omnisci.vega_ibis._executed_expressions\n",
    "_expr"
   ]
  },
  {
   "cell_type": "markdown",
   "metadata": {},
   "source": [
    "## Filter"
   ]
  },
  {
   "cell_type": "code",
   "execution_count": 7,
   "metadata": {},
   "outputs": [
    {
     "data": {
      "application/vnd.vega.ibis.v5+json": {
       "$schema": "https://vega.github.io/schema/vega-lite/v3.2.1.json",
       "config": {
        "mark": {
         "tooltip": null
        },
        "view": {
         "height": 300,
         "width": 400
        }
       },
       "data": {
        "name": "ibis:4956061689889705580"
       },
       "encoding": {
        "x": {
         "field": "a",
         "type": "nominal"
        },
        "y": {
         "field": "b",
         "type": "quantitative"
        }
       },
       "mark": "bar",
       "transform": [
        {
         "filter": "(datum.c === 'first')"
        }
       ]
      },
      "text/plain": [
       "Chart({\n",
       "  data: Empty DataFrame\n",
       "  Columns: [a, b, c]\n",
       "  Index: [],\n",
       "  encoding: FacetedEncoding({\n",
       "    x: X({\n",
       "      shorthand: 'a'\n",
       "    }),\n",
       "    y: Y({\n",
       "      shorthand: 'b'\n",
       "    })\n",
       "  }),\n",
       "  mark: 'bar',\n",
       "  transform: [FilterTransform({\n",
       "    filter: (datum.c === 'first')\n",
       "  })]\n",
       "})"
      ]
     },
     "execution_count": 7,
     "metadata": {},
     "output_type": "execute_result"
    }
   ],
   "source": [
    "source = pd.DataFrame({\n",
    "    'a': ['A', 'B', 'C', 'D', 'E', 'F', 'G', 'H', 'I'],\n",
    "    'b': [28, 55, 43, 91, 81, 53, 19, 87, 52],\n",
    "    'c': ['first', 'first', 'first', 'second', 'second', 'second', 'third', 'third', 'third']\n",
    "\n",
    "})\n",
    "connection = ibis.pandas.connect({'source': source })\n",
    "table = connection.table('source')\n",
    "\n",
    "jupyterlab_omnisci.vega_ibis._executed_expressions = []\n",
    "\n",
    "alt.Chart(table).mark_bar().encode(\n",
    "    x='a',\n",
    "    y='b'\n",
    ").transform_filter(\n",
    "    alt.datum.c == 'first'\n",
    ")"
   ]
  },
  {
   "cell_type": "code",
   "execution_count": 8,
   "metadata": {},
   "outputs": [
    {
     "data": {
      "text/plain": [
       "ref_0\n",
       "PandasTable[table]\n",
       "  name: source\n",
       "  schema:\n",
       "    a : string\n",
       "    b : int64\n",
       "    c : string\n",
       "\n",
       "Selection[table]\n",
       "  table:\n",
       "    Table: ref_0\n",
       "  predicates:\n",
       "    Equals[boolean*]\n",
       "      left:\n",
       "        c = Column[string*] 'c' from table\n",
       "          ref_0\n",
       "      right:\n",
       "        Literal[string]\n",
       "          first"
      ]
     },
     "execution_count": 8,
     "metadata": {},
     "output_type": "execute_result"
    }
   ],
   "source": [
    "_expr, = jupyterlab_omnisci.vega_ibis._executed_expressions\n",
    "_expr"
   ]
  },
  {
   "cell_type": "markdown",
   "metadata": {},
   "source": [
    "## Interactive Filter"
   ]
  },
  {
   "cell_type": "code",
   "execution_count": 9,
   "metadata": {},
   "outputs": [
    {
     "data": {
      "application/vnd.vega.ibis.v5+json": {
       "$schema": "https://vega.github.io/schema/vega-lite/v3.2.1.json",
       "config": {
        "mark": {
         "tooltip": null
        },
        "view": {
         "height": 300,
         "width": 400
        }
       },
       "data": {
        "name": "ibis:-4288921168472023783"
       },
       "encoding": {
        "x": {
         "field": "a",
         "type": "nominal"
        },
        "y": {
         "field": "b",
         "type": "quantitative"
        }
       },
       "mark": "bar",
       "selection": {
        "Filter": {
         "bind": {
          "input": "select",
          "options": [
           "first",
           "second"
          ]
         },
         "fields": [
          "c"
         ],
         "type": "single"
        }
       },
       "transform": [
        {
         "filter": {
          "selection": "Filter"
         }
        }
       ]
      },
      "text/plain": [
       "Chart({\n",
       "  data: Empty DataFrame\n",
       "  Columns: [a, b, c]\n",
       "  Index: [],\n",
       "  encoding: FacetedEncoding({\n",
       "    x: X({\n",
       "      shorthand: 'a'\n",
       "    }),\n",
       "    y: Y({\n",
       "      shorthand: 'b'\n",
       "    })\n",
       "  }),\n",
       "  mark: 'bar',\n",
       "  selection: {'Filter': SelectionDef({\n",
       "    bind: BindRadioSelect({\n",
       "      input: 'select',\n",
       "      options: ['first', 'second']\n",
       "    }),\n",
       "    fields: ['c'],\n",
       "    type: 'single'\n",
       "  })},\n",
       "  transform: [FilterTransform({\n",
       "    filter: {'selection': 'Filter'}\n",
       "  })]\n",
       "})"
      ]
     },
     "execution_count": 9,
     "metadata": {},
     "output_type": "execute_result"
    }
   ],
   "source": [
    "source = pd.DataFrame({\n",
    "    'a': ['A', 'B', 'C', 'D', 'E', 'F', 'G', 'H', 'I'],\n",
    "    'b': [28, 55, 43, 91, 81, 53, 19, 87, 52],\n",
    "    'c': ['first', 'first', 'first', 'second', 'second', 'second', 'third', 'third', 'third']\n",
    "\n",
    "})\n",
    "\n",
    "connection = ibis.pandas.connect({'source': source })\n",
    "table = connection.table('source')\n",
    "\n",
    "jupyterlab_omnisci.vega_ibis._executed_expressions = []\n",
    "\n",
    "\n",
    "input_dropdown = alt.binding_select(options=['first','second'])\n",
    "selection = alt.selection_single(fields=['c'], bind=input_dropdown, name='Filter')\n",
    "\n",
    "alt.Chart(table).mark_bar().encode(\n",
    "    x='a',\n",
    "    y='b'\n",
    ").add_selection(\n",
    "    selection\n",
    ").transform_filter(\n",
    "    selection\n",
    ")"
   ]
  },
  {
   "cell_type": "code",
   "execution_count": null,
   "metadata": {},
   "outputs": [],
   "source": []
  }
 ],
 "metadata": {
  "kernelspec": {
   "display_name": "Python 3",
   "language": "python",
   "name": "python3"
  },
  "language_info": {
   "codemirror_mode": {
    "name": "ipython",
    "version": 3
   },
   "file_extension": ".py",
   "mimetype": "text/x-python",
   "name": "python",
   "nbconvert_exporter": "python",
   "pygments_lexer": "ipython3",
   "version": "3.7.3"
  }
 },
 "nbformat": 4,
 "nbformat_minor": 4
}
