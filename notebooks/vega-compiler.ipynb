{
 "cells": [
  {
   "cell_type": "code",
   "execution_count": 1,
   "metadata": {},
   "outputs": [
    {
     "data": {
      "text/plain": [
       "RendererRegistry.enable('ibis')"
      ]
     },
     "execution_count": 1,
     "metadata": {},
     "output_type": "execute_result"
    }
   ],
   "source": [
    "import altair as alt\n",
    "import jupyterlab_omnisci.vega_ibis\n",
    "import ibis\n",
    "import pandas as pd\n",
    "\n",
    "\n",
    "alt.data_transformers.enable('ibis')\n",
    "alt.renderers.enable('ibis')"
   ]
  },
  {
   "cell_type": "markdown",
   "metadata": {},
   "source": [
    "## Simple Data"
   ]
  },
  {
   "cell_type": "code",
   "execution_count": 2,
   "metadata": {},
   "outputs": [
    {
     "name": "stderr",
     "output_type": "stream",
     "text": [
      "/usr/local/miniconda3/envs/jupyterlab-omnisci/lib/python3.7/site-packages/altair/utils/core.py:90: UserWarning: I don't know how to infer vegalite type from 'empty'.  Defaulting to nominal.\n",
      "  \"Defaulting to nominal.\".format(typ))\n"
     ]
    },
    {
     "data": {
      "application/vnd.vega.ibis.v5+json": {
       "$schema": "https://vega.github.io/schema/vega-lite/v3.2.1.json",
       "config": {
        "mark": {
         "tooltip": null
        },
        "view": {
         "height": 300,
         "width": 400
        }
       },
       "data": {
        "name": "ibis:7590937066693657758"
       },
       "encoding": {
        "x": {
         "field": "a",
         "type": "nominal"
        },
        "y": {
         "field": "b",
         "type": "quantitative"
        }
       },
       "mark": "bar"
      },
      "text/plain": [
       "Chart({\n",
       "  data: Empty DataFrame\n",
       "  Columns: [a, b]\n",
       "  Index: [],\n",
       "  encoding: FacetedEncoding({\n",
       "    x: X({\n",
       "      shorthand: 'a'\n",
       "    }),\n",
       "    y: Y({\n",
       "      shorthand: 'b'\n",
       "    })\n",
       "  }),\n",
       "  mark: 'bar'\n",
       "})"
      ]
     },
     "execution_count": 2,
     "metadata": {},
     "output_type": "execute_result"
    }
   ],
   "source": [
    "source = pd.DataFrame({\n",
    "    'a': ['A', 'B', 'C', 'D', 'E', 'F', 'G', 'H', 'I'],\n",
    "    'b': [28, 55, 43, 91, 81, 53, 19, 87, 52]\n",
    "})\n",
    "connection = ibis.pandas.connect({'source': source })\n",
    "table = connection.table('source')\n",
    "\n",
    "alt.Chart(table).mark_bar().encode(\n",
    "    x='a',\n",
    "    y='b'\n",
    ")"
   ]
  },
  {
   "cell_type": "markdown",
   "metadata": {},
   "source": [
    "## Aggregate"
   ]
  },
  {
   "cell_type": "code",
   "execution_count": 3,
   "metadata": {},
   "outputs": [
    {
     "data": {
      "application/vnd.vega.ibis.v5+json": {
       "$schema": "https://vega.github.io/schema/vega-lite/v3.2.1.json",
       "config": {
        "mark": {
         "tooltip": null
        },
        "view": {
         "height": 300,
         "width": 400
        }
       },
       "data": {
        "name": "ibis:-3578186683687859673"
       },
       "encoding": {
        "x": {
         "field": "c",
         "type": "nominal"
        },
        "y": {
         "aggregate": "mean",
         "field": "b",
         "type": "quantitative"
        }
       },
       "mark": "bar"
      },
      "text/plain": [
       "Chart({\n",
       "  data: Empty DataFrame\n",
       "  Columns: [a, b, c]\n",
       "  Index: [],\n",
       "  encoding: FacetedEncoding({\n",
       "    x: X({\n",
       "      shorthand: 'c'\n",
       "    }),\n",
       "    y: Y({\n",
       "      shorthand: 'mean(b)'\n",
       "    })\n",
       "  }),\n",
       "  mark: 'bar'\n",
       "})"
      ]
     },
     "execution_count": 3,
     "metadata": {},
     "output_type": "execute_result"
    }
   ],
   "source": [
    "source = pd.DataFrame({\n",
    "    'a': ['A', 'B', 'C', 'D', 'E', 'F', 'G', 'H', 'I'],\n",
    "    'b': [28, 55, 43, 91, 81, 53, 19, 87, 52],\n",
    "    'c': ['first', 'first', 'first', 'second', 'second', 'second', 'third', 'third', 'third']\n",
    "\n",
    "})\n",
    "connection = ibis.pandas.connect({'source': source })\n",
    "table = connection.table('source')\n",
    "\n",
    "jupyterlab_omnisci.vega_ibis._executed_expressions = []\n",
    "\n",
    "alt.Chart(table).mark_bar().encode(\n",
    "    x='c',\n",
    "    y='mean(b)'\n",
    ")"
   ]
  },
  {
   "cell_type": "markdown",
   "metadata": {},
   "source": [
    "Verify that the only query computed is an aggregate:"
   ]
  },
  {
   "cell_type": "code",
   "execution_count": 4,
   "metadata": {},
   "outputs": [
    {
     "data": {
      "text/plain": [
       "ref_0\n",
       "PandasTable[table]\n",
       "  name: source\n",
       "  schema:\n",
       "    a : string\n",
       "    b : int64\n",
       "    c : string\n",
       "\n",
       "Aggregation[table]\n",
       "  table:\n",
       "    Table: ref_0\n",
       "  metrics:\n",
       "    mean_b = Mean[float64]\n",
       "      b = Column[int64*] 'b' from table\n",
       "        ref_0\n",
       "      where:\n",
       "        None\n",
       "  by:\n",
       "    c = Column[string*] 'c' from table\n",
       "      ref_0"
      ]
     },
     "execution_count": 4,
     "metadata": {},
     "output_type": "execute_result"
    }
   ],
   "source": [
    "assert len(jupyterlab_omnisci.vega_ibis._executed_expressions) == 1\n",
    "jupyterlab_omnisci.vega_ibis._executed_expressions[0]"
   ]
  },
  {
   "cell_type": "markdown",
   "metadata": {},
   "source": [
    "## Filter"
   ]
  },
  {
   "cell_type": "code",
   "execution_count": 5,
   "metadata": {},
   "outputs": [
    {
     "data": {
      "application/vnd.vega.ibis.v5+json": {
       "$schema": "https://vega.github.io/schema/vega-lite/v3.2.1.json",
       "config": {
        "mark": {
         "tooltip": null
        },
        "view": {
         "height": 300,
         "width": 400
        }
       },
       "data": {
        "name": "ibis:5659186674882221303"
       },
       "encoding": {
        "x": {
         "field": "a",
         "type": "nominal"
        },
        "y": {
         "field": "b",
         "type": "quantitative"
        }
       },
       "mark": "bar",
       "transform": [
        {
         "filter": "(datum.c === 'first')"
        }
       ]
      },
      "text/plain": [
       "Chart({\n",
       "  data: Empty DataFrame\n",
       "  Columns: [a, b, c]\n",
       "  Index: [],\n",
       "  encoding: FacetedEncoding({\n",
       "    x: X({\n",
       "      shorthand: 'a'\n",
       "    }),\n",
       "    y: Y({\n",
       "      shorthand: 'b'\n",
       "    })\n",
       "  }),\n",
       "  mark: 'bar',\n",
       "  transform: [FilterTransform({\n",
       "    filter: (datum.c === 'first')\n",
       "  })]\n",
       "})"
      ]
     },
     "execution_count": 5,
     "metadata": {},
     "output_type": "execute_result"
    }
   ],
   "source": [
    "source = pd.DataFrame({\n",
    "    'a': ['A', 'B', 'C', 'D', 'E', 'F', 'G', 'H', 'I'],\n",
    "    'b': [28, 55, 43, 91, 81, 53, 19, 87, 52],\n",
    "    'c': ['first', 'first', 'first', 'second', 'second', 'second', 'third', 'third', 'third']\n",
    "\n",
    "})\n",
    "connection = ibis.pandas.connect({'source': source })\n",
    "table = connection.table('source')\n",
    "\n",
    "jupyterlab_omnisci.vega_ibis._executed_expressions = []\n",
    "\n",
    "alt.Chart(table).mark_bar().encode(\n",
    "    x='a',\n",
    "    y='b'\n",
    ").transform_filter(\n",
    "    alt.datum.c == 'first'\n",
    ")"
   ]
  },
  {
   "cell_type": "code",
   "execution_count": 11,
   "metadata": {},
   "outputs": [
    {
     "data": {
      "text/plain": [
       "[ref_0\n",
       " PandasTable[table]\n",
       "   name: source\n",
       "   schema:\n",
       "     a : string\n",
       "     b : int64\n",
       "     c : string\n",
       " \n",
       " Selection[table]\n",
       "   table:\n",
       "     Table: ref_0\n",
       "   predicates:\n",
       "     Equals[boolean*]\n",
       "       left:\n",
       "         c = Column[string*] 'c' from table\n",
       "           ref_0\n",
       "       right:\n",
       "         Literal[string]\n",
       "           first]"
      ]
     },
     "execution_count": 11,
     "metadata": {},
     "output_type": "execute_result"
    }
   ],
   "source": [
    "jupyterlab_omnisci.vega_ibis._executed_expressions"
   ]
  },
  {
   "cell_type": "markdown",
   "metadata": {},
   "source": [
    "## Interactive Filter"
   ]
  },
  {
   "cell_type": "markdown",
   "metadata": {},
   "source": [
    "First lets try this with the default transforms:"
   ]
  },
  {
   "cell_type": "code",
   "execution_count": 5,
   "metadata": {},
   "outputs": [
    {
     "data": {
      "text/plain": [
       "RendererRegistry.enable('default')"
      ]
     },
     "execution_count": 5,
     "metadata": {},
     "output_type": "execute_result"
    }
   ],
   "source": [
    "alt.data_transformers.enable('default')\n",
    "alt.renderers.enable('default')"
   ]
  },
  {
   "cell_type": "code",
   "execution_count": 13,
   "metadata": {},
   "outputs": [
    {
     "data": {
      "application/vnd.vegalite.v3+json": {
       "$schema": "https://vega.github.io/schema/vega-lite/v3.2.1.json",
       "config": {
        "mark": {
         "tooltip": null
        },
        "view": {
         "height": 300,
         "width": 400
        }
       },
       "data": {
        "name": "data-5b891a65c0bb7345337b36393921bcc3"
       },
       "datasets": {
        "data-5b891a65c0bb7345337b36393921bcc3": [
         {
          "a": "A",
          "b": 28,
          "c": "first"
         },
         {
          "a": "B",
          "b": 55,
          "c": "first"
         },
         {
          "a": "C",
          "b": 43,
          "c": "first"
         },
         {
          "a": "D",
          "b": 91,
          "c": "second"
         },
         {
          "a": "E",
          "b": 81,
          "c": "second"
         },
         {
          "a": "F",
          "b": 53,
          "c": "second"
         },
         {
          "a": "G",
          "b": 19,
          "c": "third"
         },
         {
          "a": "H",
          "b": 87,
          "c": "third"
         },
         {
          "a": "I",
          "b": 52,
          "c": "third"
         }
        ]
       },
       "encoding": {
        "x": {
         "field": "a",
         "type": "nominal"
        },
        "y": {
         "field": "b",
         "type": "quantitative"
        }
       },
       "mark": "bar",
       "selection": {
        "Filter": {
         "bind": {
          "input": "select",
          "options": [
           "first",
           "second"
          ]
         },
         "fields": [
          "c"
         ],
         "type": "single"
        }
       },
       "transform": [
        {
         "filter": {
          "selection": "Filter"
         }
        }
       ]
      },
      "image/png": "[encoded data removed]",
      "text/plain": [
       "<VegaLite 3 object>\n",
       "\n",
       "If you see this message, it means the renderer has not been properly enabled\n",
       "for the frontend that you are using. For more information, see\n",
       "https://altair-viz.github.io/user_guide/troubleshooting.html\n"
      ]
     },
     "execution_count": 13,
     "metadata": {},
     "output_type": "execute_result"
    }
   ],
   "source": [
    "source = pd.DataFrame({\n",
    "    'a': ['A', 'B', 'C', 'D', 'E', 'F', 'G', 'H', 'I'],\n",
    "    'b': [28, 55, 43, 91, 81, 53, 19, 87, 52],\n",
    "    'c': ['first', 'first', 'first', 'second', 'second', 'second', 'third', 'third', 'third']\n",
    "\n",
    "})\n",
    "\n",
    "input_dropdown = alt.binding_select(options=['first','second'])\n",
    "selection = alt.selection_single(fields=['c'], bind=input_dropdown, name='Filter')\n",
    "\n",
    "alt.Chart(source).mark_bar().encode(\n",
    "    x='a',\n",
    "    y='b'\n",
    ").add_selection(\n",
    "    selection\n",
    ").transform_filter(\n",
    "    selection\n",
    ")"
   ]
  },
  {
   "cell_type": "markdown",
   "metadata": {},
   "source": [
    "Now let's try it with Ibis:"
   ]
  },
  {
   "cell_type": "code",
   "execution_count": 15,
   "metadata": {},
   "outputs": [
    {
     "data": {
      "text/plain": [
       "RendererRegistry.enable('ibis')"
      ]
     },
     "execution_count": 15,
     "metadata": {},
     "output_type": "execute_result"
    }
   ],
   "source": [
    "alt.data_transformers.enable('ibis')\n",
    "alt.renderers.enable('ibis')"
   ]
  },
  {
   "cell_type": "code",
   "execution_count": 6,
   "metadata": {},
   "outputs": [
    {
     "data": {
      "application/vnd.vega.ibis.v5+json": {
       "$schema": "https://vega.github.io/schema/vega-lite/v3.2.1.json",
       "config": {
        "mark": {
         "tooltip": null
        },
        "view": {
         "height": 300,
         "width": 400
        }
       },
       "data": {
        "name": "ibis:5645067724471136176"
       },
       "encoding": {
        "x": {
         "field": "a",
         "type": "nominal"
        },
        "y": {
         "field": "b",
         "type": "quantitative"
        }
       },
       "mark": "bar",
       "selection": {
        "Filter": {
         "bind": {
          "input": "select",
          "options": [
           "first",
           "second"
          ]
         },
         "fields": [
          "c"
         ],
         "type": "single"
        }
       },
       "transform": [
        {
         "filter": {
          "selection": "Filter"
         }
        }
       ]
      },
      "text/plain": [
       "Chart({\n",
       "  data: Empty DataFrame\n",
       "  Columns: [a, b, c]\n",
       "  Index: [],\n",
       "  encoding: FacetedEncoding({\n",
       "    x: X({\n",
       "      shorthand: 'a'\n",
       "    }),\n",
       "    y: Y({\n",
       "      shorthand: 'b'\n",
       "    })\n",
       "  }),\n",
       "  mark: 'bar',\n",
       "  selection: {'Filter': SelectionDef({\n",
       "    bind: BindRadioSelect({\n",
       "      input: 'select',\n",
       "      options: ['first', 'second']\n",
       "    }),\n",
       "    fields: ['c'],\n",
       "    type: 'single'\n",
       "  })},\n",
       "  transform: [FilterTransform({\n",
       "    filter: {'selection': 'Filter'}\n",
       "  })]\n",
       "})"
      ]
     },
     "execution_count": 6,
     "metadata": {},
     "output_type": "execute_result"
    }
   ],
   "source": [
    "source = pd.DataFrame({\n",
    "    'a': ['A', 'B', 'C', 'D', 'E', 'F', 'G', 'H', 'I'],\n",
    "    'b': [28, 55, 43, 91, 81, 53, 19, 87, 52],\n",
    "    'c': ['first', 'first', 'first', 'second', 'second', 'second', 'third', 'third', 'third']\n",
    "\n",
    "})\n",
    "\n",
    "connection = ibis.pandas.connect({'source': source })\n",
    "table = connection.table('source')\n",
    "\n",
    "jupyterlab_omnisci.vega_ibis._executed_expressions = []\n",
    "\n",
    "\n",
    "input_dropdown = alt.binding_select(options=['first','second'])\n",
    "selection = alt.selection_single(fields=['c'], bind=input_dropdown, name='Filter')\n",
    "\n",
    "alt.Chart(table).mark_bar().encode(\n",
    "    x='a',\n",
    "    y='b'\n",
    ").add_selection(\n",
    "    selection\n",
    ").transform_filter(\n",
    "    selection\n",
    ")"
   ]
  },
  {
   "cell_type": "code",
   "execution_count": 8,
   "metadata": {},
   "outputs": [
    {
     "data": {
      "text/plain": [
       "{'$schema': 'https://vega.github.io/schema/vega/v5.json',\n",
       " 'autosize': 'pad',\n",
       " 'padding': 5,\n",
       " 'height': 300,\n",
       " 'style': 'cell',\n",
       " 'data': [{'name': 'Filter_store'},\n",
       "  {'name': 'ibis:5645067724471136176'},\n",
       "  {'name': 'data_0',\n",
       "   'source': 'ibis:5645067724471136176',\n",
       "   'transform': [{'type': 'filter',\n",
       "     'expr': '!(length(data(\"Filter_store\"))) || (vlSelectionTest(\"Filter_store\", datum))'}]}],\n",
       " 'signals': [{'name': 'x_step', 'value': 20},\n",
       "  {'name': 'width',\n",
       "   'update': \"bandspace(domain('x').length, 0.1, 0.05) * x_step\"},\n",
       "  {'name': 'unit',\n",
       "   'value': {},\n",
       "   'on': [{'events': 'mousemove',\n",
       "     'update': 'isTuple(group()) ? group() : unit'}]},\n",
       "  {'name': 'Filter_c',\n",
       "   'value': None,\n",
       "   'on': [{'events': [{'source': 'scope', 'type': 'click'}],\n",
       "     'update': 'datum && item().mark.marktype !== \\'group\\' ? datum[\"c\"] : null'}],\n",
       "   'bind': {'input': 'select', 'options': ['first', 'second']}},\n",
       "  {'name': 'Filter', 'update': 'vlSelectionResolve(\"Filter_store\")'},\n",
       "  {'name': 'Filter_tuple',\n",
       "   'update': 'Filter_c !== null ? {fields: Filter_tuple_fields, values: [Filter_c]} : null'},\n",
       "  {'name': 'Filter_tuple_fields', 'value': [{'type': 'E', 'field': 'c'}]},\n",
       "  {'name': 'Filter_modify',\n",
       "   'update': 'modify(\"Filter_store\", Filter_tuple, true)'}],\n",
       " 'marks': [{'name': 'marks',\n",
       "   'type': 'rect',\n",
       "   'style': ['bar'],\n",
       "   'from': {'data': 'data_0'},\n",
       "   'encode': {'update': {'fill': [{'test': 'datum[\"b\"] === null || isNaN(datum[\"b\"])',\n",
       "       'value': None},\n",
       "      {'value': '#4c78a8'}],\n",
       "     'x': {'scale': 'x', 'field': 'a'},\n",
       "     'width': {'scale': 'x', 'band': True},\n",
       "     'y': {'scale': 'y', 'field': 'b'},\n",
       "     'y2': {'scale': 'y', 'value': 0}}}}],\n",
       " 'scales': [{'name': 'x',\n",
       "   'type': 'band',\n",
       "   'domain': {'data': 'data_0', 'field': 'a', 'sort': True},\n",
       "   'range': {'step': {'signal': 'x_step'}},\n",
       "   'paddingInner': 0.1,\n",
       "   'paddingOuter': 0.05},\n",
       "  {'name': 'y',\n",
       "   'type': 'linear',\n",
       "   'domain': {'data': 'data_0', 'field': 'b'},\n",
       "   'range': [{'signal': 'height'}, 0],\n",
       "   'nice': True,\n",
       "   'zero': True}],\n",
       " 'axes': [{'scale': 'x',\n",
       "   'orient': 'bottom',\n",
       "   'grid': False,\n",
       "   'title': 'a',\n",
       "   'labelAlign': 'right',\n",
       "   'labelAngle': 270,\n",
       "   'labelBaseline': 'middle',\n",
       "   'zindex': 1},\n",
       "  {'scale': 'y',\n",
       "   'orient': 'left',\n",
       "   'grid': False,\n",
       "   'title': 'b',\n",
       "   'labelOverlap': True,\n",
       "   'tickCount': {'signal': 'ceil(height/40)'},\n",
       "   'zindex': 1},\n",
       "  {'scale': 'y',\n",
       "   'orient': 'left',\n",
       "   'gridScale': 'x',\n",
       "   'grid': True,\n",
       "   'tickCount': {'signal': 'ceil(height/40)'},\n",
       "   'domain': False,\n",
       "   'labels': False,\n",
       "   'maxExtent': 0,\n",
       "   'minExtent': 0,\n",
       "   'ticks': False,\n",
       "   'zindex': 0}]}"
      ]
     },
     "execution_count": 8,
     "metadata": {},
     "output_type": "execute_result"
    }
   ],
   "source": [
    "jupyterlab_omnisci.vega_ibis._incoming_specs[-1]"
   ]
  },
  {
   "cell_type": "code",
   "execution_count": null,
   "metadata": {},
   "outputs": [],
   "source": []
  }
 ],
 "metadata": {
  "kernelspec": {
   "display_name": "Python 3",
   "language": "python",
   "name": "python3"
  },
  "language_info": {
   "codemirror_mode": {
    "name": "ipython",
    "version": 3
   },
   "file_extension": ".py",
   "mimetype": "text/x-python",
   "name": "python",
   "nbconvert_exporter": "python",
   "pygments_lexer": "ipython3",
   "version": "3.6.7"
  }
 },
 "nbformat": 4,
 "nbformat_minor": 4
}
