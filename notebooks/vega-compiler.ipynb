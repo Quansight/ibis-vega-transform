{
 "cells": [
  {
   "cell_type": "code",
   "execution_count": 1,
   "metadata": {},
   "outputs": [
    {
     "name": "stderr",
     "output_type": "stream",
     "text": [
      "/usr/local/miniconda3/envs/jupyterlab-omnisci/lib/python3.7/site-packages/altair/utils/core.py:90: UserWarning: I don't know how to infer vegalite type from 'empty'.  Defaulting to nominal.\n",
      "  \"Defaulting to nominal.\".format(typ))\n"
     ]
    },
    {
     "data": {
      "application/vnd.vega.ibis.v5+json": {
       "$schema": "https://vega.github.io/schema/vega-lite/v3.2.1.json",
       "config": {
        "mark": {
         "tooltip": null
        },
        "view": {
         "height": 300,
         "width": 400
        }
       },
       "data": {
        "name": "ibis:6189501004105264569"
       },
       "encoding": {
        "x": {
         "field": "a",
         "type": "nominal"
        },
        "y": {
         "field": "b",
         "type": "quantitative"
        }
       },
       "mark": "bar"
      },
      "text/plain": [
       "Chart({\n",
       "  data: Empty DataFrame\n",
       "  Columns: [a, b]\n",
       "  Index: [],\n",
       "  encoding: FacetedEncoding({\n",
       "    x: X({\n",
       "      shorthand: 'a'\n",
       "    }),\n",
       "    y: Y({\n",
       "      shorthand: 'b'\n",
       "    })\n",
       "  }),\n",
       "  mark: 'bar'\n",
       "})"
      ]
     },
     "execution_count": 1,
     "metadata": {},
     "output_type": "execute_result"
    }
   ],
   "source": [
    "import altair as alt\n",
    "import jupyterlab_omnisci.vega_ibis\n",
    "import ibis\n",
    "import pandas as pd\n",
    "\n",
    "\n",
    "alt.data_transformers.enable('ibis')\n",
    "alt.renderers.enable('ibis')"
   ]
  },
  {
   "cell_type": "markdown",
   "metadata": {},
   "source": [
    "## Simple Data"
   ]
  },
  {
   "cell_type": "code",
   "execution_count": 2,
   "metadata": {},
   "outputs": [
    {
     "data": {
      "application/vnd.vega.ibis.v5+json": {
       "$schema": "https://vega.github.io/schema/vega-lite/v3.2.1.json",
       "config": {
        "mark": {
         "tooltip": null
        },
        "view": {
         "height": 300,
         "width": 400
        }
       },
       "data": {
        "name": "ibis:576057203619802747"
       },
       "encoding": {
        "x": {
         "field": "a",
         "type": "nominal"
        },
        "y": {
         "field": "b",
         "type": "quantitative"
        }
       },
       "mark": "bar"
      },
      "text/plain": [
       "Chart({\n",
       "  data: Empty DataFrame\n",
       "  Columns: [a, b]\n",
       "  Index: [],\n",
       "  encoding: FacetedEncoding({\n",
       "    x: X({\n",
       "      shorthand: 'a'\n",
       "    }),\n",
       "    y: Y({\n",
       "      shorthand: 'b'\n",
       "    })\n",
       "  }),\n",
       "  mark: 'bar'\n",
       "})"
      ]
     },
     "execution_count": 2,
     "metadata": {},
     "output_type": "execute_result"
    }
   ],
   "source": [
    "source = pd.DataFrame({\n",
    "    'a': ['A', 'B', 'C', 'D', 'E', 'F', 'G', 'H', 'I'],\n",
    "    'b': [28, 55, 43, 91, 81, 53, 19, 87, 52]\n",
    "})\n",
    "connection = ibis.pandas.connect({'source': source })\n",
    "table = connection.table('source')\n",
    "\n",
    "alt.Chart(table).mark_bar().encode(\n",
    "    x='a',\n",
    "    y='b'\n",
    ")"
   ]
  },
  {
   "cell_type": "markdown",
   "metadata": {},
   "source": [
    "## Aggregate"
   ]
  },
  {
   "cell_type": "code",
   "execution_count": 4,
   "metadata": {},
   "outputs": [
    {
     "data": {
      "application/vnd.vega.ibis.v5+json": {
       "$schema": "https://vega.github.io/schema/vega-lite/v3.2.1.json",
       "config": {
        "mark": {
         "tooltip": null
        },
        "view": {
         "height": 300,
         "width": 400
        }
       },
       "data": {
        "name": "ibis:9008533454977990447"
       },
       "encoding": {
        "x": {
         "field": "c",
         "type": "nominal"
        },
        "y": {
         "aggregate": "mean",
         "field": "b",
         "type": "quantitative"
        }
       },
       "mark": "bar"
      },
      "text/plain": [
       "Chart({\n",
       "  data: Empty DataFrame\n",
       "  Columns: [a, b, c]\n",
       "  Index: [],\n",
       "  encoding: FacetedEncoding({\n",
       "    x: X({\n",
       "      shorthand: 'c'\n",
       "    }),\n",
       "    y: Y({\n",
       "      shorthand: 'mean(b)'\n",
       "    })\n",
       "  }),\n",
       "  mark: 'bar'\n",
       "})"
      ]
     },
     "execution_count": 4,
     "metadata": {},
     "output_type": "execute_result"
    }
   ],
   "source": [
    "source = pd.DataFrame({\n",
    "    'a': ['A', 'B', 'C', 'D', 'E', 'F', 'G', 'H', 'I'],\n",
    "    'b': [28, 55, 43, 91, 81, 53, 19, 87, 52],\n",
    "    'c': ['first', 'first', 'first', 'second', 'second', 'second', 'third', 'third', 'third']\n",
    "\n",
    "})\n",
    "connection = ibis.pandas.connect({'source': source })\n",
    "table = connection.table('source')\n",
    "\n",
    "jupyterlab_omnisci.vega_ibis._executed_expressions = []\n",
    "\n",
    "alt.Chart(table).mark_bar().encode(\n",
    "    x='c',\n",
    "    y='mean(b)'\n",
    ")"
   ]
  },
  {
   "cell_type": "markdown",
   "metadata": {},
   "source": [
    "Verify that the only query computed is an aggregate:"
   ]
  },
  {
   "cell_type": "code",
   "execution_count": 6,
   "metadata": {},
   "outputs": [
    {
     "data": {
      "text/plain": [
       "ref_0\n",
       "PandasTable[table]\n",
       "  name: source\n",
       "  schema:\n",
       "    a : string\n",
       "    b : int64\n",
       "    c : string\n",
       "\n",
       "Aggregation[table]\n",
       "  table:\n",
       "    Table: ref_0\n",
       "  metrics:\n",
       "    mean_b = Mean[float64]\n",
       "      b = Column[int64*] 'b' from table\n",
       "        ref_0\n",
       "      where:\n",
       "        None\n",
       "  by:\n",
       "    c = Column[string*] 'c' from table\n",
       "      ref_0"
      ]
     },
     "execution_count": 6,
     "metadata": {},
     "output_type": "execute_result"
    }
   ],
   "source": [
    "assert len(jupyterlab_omnisci.vega_ibis._executed_expressions) == 1\n",
    "jupyterlab_omnisci.vega_ibis._executed_expressions[0]"
   ]
  },
  {
   "cell_type": "markdown",
   "metadata": {},
   "source": [
    "## Filter"
   ]
  },
  {
   "cell_type": "code",
   "execution_count": 10,
   "metadata": {},
   "outputs": [
    {
     "data": {
      "application/vnd.vega.ibis.v5+json": {
       "$schema": "https://vega.github.io/schema/vega-lite/v3.2.1.json",
       "config": {
        "mark": {
         "tooltip": null
        },
        "view": {
         "height": 300,
         "width": 400
        }
       },
       "data": {
        "name": "ibis:5512375404863916698"
       },
       "encoding": {
        "x": {
         "field": "a",
         "type": "nominal"
        },
        "y": {
         "field": "b",
         "type": "quantitative"
        }
       },
       "mark": "bar",
       "transform": [
        {
         "filter": "(datum.c === 'first')"
        }
       ]
      },
      "text/plain": [
       "Chart({\n",
       "  data: Empty DataFrame\n",
       "  Columns: [a, b, c]\n",
       "  Index: [],\n",
       "  encoding: FacetedEncoding({\n",
       "    x: X({\n",
       "      shorthand: 'a'\n",
       "    }),\n",
       "    y: Y({\n",
       "      shorthand: 'b'\n",
       "    })\n",
       "  }),\n",
       "  mark: 'bar',\n",
       "  transform: [FilterTransform({\n",
       "    filter: (datum.c === 'first')\n",
       "  })]\n",
       "})"
      ]
     },
     "execution_count": 10,
     "metadata": {},
     "output_type": "execute_result"
    }
   ],
   "source": [
    "source = pd.DataFrame({\n",
    "    'a': ['A', 'B', 'C', 'D', 'E', 'F', 'G', 'H', 'I'],\n",
    "    'b': [28, 55, 43, 91, 81, 53, 19, 87, 52],\n",
    "    'c': ['first', 'first', 'first', 'second', 'second', 'second', 'third', 'third', 'third']\n",
    "\n",
    "})\n",
    "connection = ibis.pandas.connect({'source': source })\n",
    "table = connection.table('source')\n",
    "\n",
    "jupyterlab_omnisci.vega_ibis._executed_expressions = []\n",
    "\n",
    "alt.Chart(table).mark_bar().encode(\n",
    "    x='a',\n",
    "    y='b'\n",
    ").transform_filter(\n",
    "    alt.datum.c == 'first'\n",
    ")"
   ]
  },
  {
   "cell_type": "code",
   "execution_count": 11,
   "metadata": {},
   "outputs": [
    {
     "data": {
      "text/plain": [
       "[ref_0\n",
       " PandasTable[table]\n",
       "   name: source\n",
       "   schema:\n",
       "     a : string\n",
       "     b : int64\n",
       "     c : string\n",
       " \n",
       " Selection[table]\n",
       "   table:\n",
       "     Table: ref_0\n",
       "   predicates:\n",
       "     Equals[boolean*]\n",
       "       left:\n",
       "         c = Column[string*] 'c' from table\n",
       "           ref_0\n",
       "       right:\n",
       "         Literal[string]\n",
       "           first]"
      ]
     },
     "execution_count": 11,
     "metadata": {},
     "output_type": "execute_result"
    }
   ],
   "source": [
    "jupyterlab_omnisci.vega_ibis._executed_expressions"
   ]
  },
  {
   "cell_type": "code",
   "execution_count": null,
   "metadata": {},
   "outputs": [],
   "source": []
  }
 ],
 "metadata": {
  "kernelspec": {
   "display_name": "Python 3",
   "language": "python",
   "name": "python3"
  },
  "language_info": {
   "codemirror_mode": {
    "name": "ipython",
    "version": 3
   },
   "file_extension": ".py",
   "mimetype": "text/x-python",
   "name": "python",
   "nbconvert_exporter": "python",
   "pygments_lexer": "ipython3",
   "version": "3.6.7"
  }
 },
 "nbformat": 4,
 "nbformat_minor": 4
}
