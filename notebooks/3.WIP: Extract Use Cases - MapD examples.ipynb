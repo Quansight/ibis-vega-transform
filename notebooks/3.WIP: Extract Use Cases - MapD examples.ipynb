{
 "cells": [
  {
   "cell_type": "markdown",
   "metadata": {},
   "source": [
    "# OmniSci [Vega Tutorial](https://www.omnisci.com/docs/latest/6_vegaTutorials.html)\n",
    "\n",
    "Let's go through the OmniSci vega tutorial, but try to replicate as much as possible with Altair / Vega Lite."
   ]
  },
  {
   "cell_type": "code",
   "execution_count": 1,
   "metadata": {},
   "outputs": [
    {
     "data": {
      "text/plain": [
       "DataTransformerRegistry.enable('ibis')"
      ]
     },
     "execution_count": 1,
     "metadata": {},
     "output_type": "execute_result"
    }
   ],
   "source": [
    "import altair as alt\n",
    "import ibis\n",
    "import jupyterlab_omnisci\n",
    "\n",
    "alt.data_transformers.enable('ibis')"
   ]
  },
  {
   "cell_type": "code",
   "execution_count": 2,
   "metadata": {},
   "outputs": [],
   "source": [
    "conn = ibis.mapd.connect(\n",
    "    host='metis.mapd.com', user='mapd', password='HyperInteractive',\n",
    "    port=443, database='mapd', protocol= 'https'\n",
    ")"
   ]
  },
  {
   "cell_type": "code",
   "execution_count": 3,
   "metadata": {},
   "outputs": [],
   "source": [
    "t = conn.table('tweets_nov_feb')"
   ]
  },
  {
   "cell_type": "code",
   "execution_count": 4,
   "metadata": {},
   "outputs": [],
   "source": [
    "expr = t[t.goog_x, t.goog_y]"
   ]
  },
  {
   "cell_type": "code",
   "execution_count": 5,
   "metadata": {},
   "outputs": [],
   "source": [
    "c = alt.Chart(expr, width=384, height=564).mark_rect().encode(\n",
    "    alt.X('goog_x:Q', bin=alt.Bin(maxbins=384)),\n",
    "    alt.Y('goog_y:Q', bin=alt.Bin(maxbins=564)),\n",
    ").transform_filter(\n",
    "    alt.FieldRangePredicate(field='goog_x', range=[-3650484.1235206556, 7413325.514451755])\n",
    ").transform_filter(\n",
    "    alt.FieldRangePredicate(field='goog_y', range=[-5778161.9183506705, 10471808.487466192])\n",
    ")"
   ]
  },
  {
   "cell_type": "code",
   "execution_count": 6,
   "metadata": {},
   "outputs": [
    {
     "data": {
      "text/html": [
       "<h3>Initial</h3>"
      ],
      "text/plain": [
       "<IPython.core.display.HTML object>"
      ]
     },
     "metadata": {},
     "output_type": "display_data"
    },
    {
     "data": {
      "text/html": [
       "<strong><code>altair.renderers.enable(\"ibis\", compile=False, extract=False, type='json')</code></strong>"
      ],
      "text/plain": [
       "<IPython.core.display.HTML object>"
      ]
     },
     "metadata": {},
     "output_type": "display_data"
    },
    {
     "data": {
      "application/json": {
       "$schema": "https://vega.github.io/schema/vega-lite/v2.6.0.json",
       "config": {
        "view": {
         "height": 300,
         "width": 400
        }
       },
       "data": {
        "name": "ibis_0"
       },
       "encoding": {
        "x": {
         "bin": {
          "maxbins": 384
         },
         "field": "goog_x",
         "type": "quantitative"
        },
        "y": {
         "bin": {
          "maxbins": 564
         },
         "field": "goog_y",
         "type": "quantitative"
        }
       },
       "height": 564,
       "mark": "rect",
       "transform": [
        {
         "filter": {
          "field": "goog_x",
          "range": [
           -3650484.1235206556,
           7413325.514451755
          ]
         }
        },
        {
         "filter": {
          "field": "goog_y",
          "range": [
           -5778161.9183506705,
           10471808.487466192
          ]
         }
        }
       ],
       "width": 384
      },
      "text/plain": [
       "<IPython.core.display.JSON object>"
      ]
     },
     "metadata": {},
     "output_type": "display_data"
    },
    {
     "data": {
      "text/html": [
       "<strong><code>altair.renderers.enable(\"ibis\", compile=False, extract=False, type='sql')</code></strong>"
      ],
      "text/plain": [
       "<IPython.core.display.HTML object>"
      ]
     },
     "metadata": {},
     "output_type": "display_data"
    },
    {
     "data": {
      "text/html": [
       "<style>.output_html .hll { background-color: #ffffcc }\n",
       ".output_html  { background: #f8f8f8; }\n",
       ".output_html .c { color: #408080; font-style: italic } /* Comment */\n",
       ".output_html .err { border: 1px solid #FF0000 } /* Error */\n",
       ".output_html .k { color: #008000; font-weight: bold } /* Keyword */\n",
       ".output_html .o { color: #666666 } /* Operator */\n",
       ".output_html .ch { color: #408080; font-style: italic } /* Comment.Hashbang */\n",
       ".output_html .cm { color: #408080; font-style: italic } /* Comment.Multiline */\n",
       ".output_html .cp { color: #BC7A00 } /* Comment.Preproc */\n",
       ".output_html .cpf { color: #408080; font-style: italic } /* Comment.PreprocFile */\n",
       ".output_html .c1 { color: #408080; font-style: italic } /* Comment.Single */\n",
       ".output_html .cs { color: #408080; font-style: italic } /* Comment.Special */\n",
       ".output_html .gd { color: #A00000 } /* Generic.Deleted */\n",
       ".output_html .ge { font-style: italic } /* Generic.Emph */\n",
       ".output_html .gr { color: #FF0000 } /* Generic.Error */\n",
       ".output_html .gh { color: #000080; font-weight: bold } /* Generic.Heading */\n",
       ".output_html .gi { color: #00A000 } /* Generic.Inserted */\n",
       ".output_html .go { color: #888888 } /* Generic.Output */\n",
       ".output_html .gp { color: #000080; font-weight: bold } /* Generic.Prompt */\n",
       ".output_html .gs { font-weight: bold } /* Generic.Strong */\n",
       ".output_html .gu { color: #800080; font-weight: bold } /* Generic.Subheading */\n",
       ".output_html .gt { color: #0044DD } /* Generic.Traceback */\n",
       ".output_html .kc { color: #008000; font-weight: bold } /* Keyword.Constant */\n",
       ".output_html .kd { color: #008000; font-weight: bold } /* Keyword.Declaration */\n",
       ".output_html .kn { color: #008000; font-weight: bold } /* Keyword.Namespace */\n",
       ".output_html .kp { color: #008000 } /* Keyword.Pseudo */\n",
       ".output_html .kr { color: #008000; font-weight: bold } /* Keyword.Reserved */\n",
       ".output_html .kt { color: #B00040 } /* Keyword.Type */\n",
       ".output_html .m { color: #666666 } /* Literal.Number */\n",
       ".output_html .s { color: #BA2121 } /* Literal.String */\n",
       ".output_html .na { color: #7D9029 } /* Name.Attribute */\n",
       ".output_html .nb { color: #008000 } /* Name.Builtin */\n",
       ".output_html .nc { color: #0000FF; font-weight: bold } /* Name.Class */\n",
       ".output_html .no { color: #880000 } /* Name.Constant */\n",
       ".output_html .nd { color: #AA22FF } /* Name.Decorator */\n",
       ".output_html .ni { color: #999999; font-weight: bold } /* Name.Entity */\n",
       ".output_html .ne { color: #D2413A; font-weight: bold } /* Name.Exception */\n",
       ".output_html .nf { color: #0000FF } /* Name.Function */\n",
       ".output_html .nl { color: #A0A000 } /* Name.Label */\n",
       ".output_html .nn { color: #0000FF; font-weight: bold } /* Name.Namespace */\n",
       ".output_html .nt { color: #008000; font-weight: bold } /* Name.Tag */\n",
       ".output_html .nv { color: #19177C } /* Name.Variable */\n",
       ".output_html .ow { color: #AA22FF; font-weight: bold } /* Operator.Word */\n",
       ".output_html .w { color: #bbbbbb } /* Text.Whitespace */\n",
       ".output_html .mb { color: #666666 } /* Literal.Number.Bin */\n",
       ".output_html .mf { color: #666666 } /* Literal.Number.Float */\n",
       ".output_html .mh { color: #666666 } /* Literal.Number.Hex */\n",
       ".output_html .mi { color: #666666 } /* Literal.Number.Integer */\n",
       ".output_html .mo { color: #666666 } /* Literal.Number.Oct */\n",
       ".output_html .sa { color: #BA2121 } /* Literal.String.Affix */\n",
       ".output_html .sb { color: #BA2121 } /* Literal.String.Backtick */\n",
       ".output_html .sc { color: #BA2121 } /* Literal.String.Char */\n",
       ".output_html .dl { color: #BA2121 } /* Literal.String.Delimiter */\n",
       ".output_html .sd { color: #BA2121; font-style: italic } /* Literal.String.Doc */\n",
       ".output_html .s2 { color: #BA2121 } /* Literal.String.Double */\n",
       ".output_html .se { color: #BB6622; font-weight: bold } /* Literal.String.Escape */\n",
       ".output_html .sh { color: #BA2121 } /* Literal.String.Heredoc */\n",
       ".output_html .si { color: #BB6688; font-weight: bold } /* Literal.String.Interpol */\n",
       ".output_html .sx { color: #008000 } /* Literal.String.Other */\n",
       ".output_html .sr { color: #BB6688 } /* Literal.String.Regex */\n",
       ".output_html .s1 { color: #BA2121 } /* Literal.String.Single */\n",
       ".output_html .ss { color: #19177C } /* Literal.String.Symbol */\n",
       ".output_html .bp { color: #008000 } /* Name.Builtin.Pseudo */\n",
       ".output_html .fm { color: #0000FF } /* Name.Function.Magic */\n",
       ".output_html .vc { color: #19177C } /* Name.Variable.Class */\n",
       ".output_html .vg { color: #19177C } /* Name.Variable.Global */\n",
       ".output_html .vi { color: #19177C } /* Name.Variable.Instance */\n",
       ".output_html .vm { color: #19177C } /* Name.Variable.Magic */\n",
       ".output_html .il { color: #666666 } /* Literal.Number.Integer.Long */</style><div class=\"highlight\"><pre><span></span>SELECT &quot;goog_x&quot;, &quot;goog_y&quot;\n",
       "FROM tweets_nov_feb\n",
       "</pre></div>\n"
      ],
      "text/latex": [
       "\\begin{Verbatim}[commandchars=\\\\\\{\\}]\n",
       "SELECT \\PYZdq{}goog\\PYZus{}x\\PYZdq{}, \\PYZdq{}goog\\PYZus{}y\\PYZdq{}\n",
       "FROM tweets\\PYZus{}nov\\PYZus{}feb\n",
       "\\end{Verbatim}\n"
      ],
      "text/plain": [
       "SELECT \"goog_x\", \"goog_y\"\n",
       "FROM tweets_nov_feb"
      ]
     },
     "metadata": {},
     "output_type": "display_data"
    },
    {
     "data": {
      "text/html": [
       "<strong><code>altair.renderers.enable(\"ibis\", compile=False, extract=False, type='vl')</code></strong>"
      ],
      "text/plain": [
       "<IPython.core.display.HTML object>"
      ]
     },
     "metadata": {},
     "output_type": "display_data"
    },
    {
     "data": {
      "application/vnd.vegalite.v2+json": {
       "$schema": "https://vega.github.io/schema/vega-lite/v2.6.0.json",
       "config": {
        "view": {
         "height": 300,
         "width": 400
        }
       },
       "data": {
        "format": {
         "type": "json"
        },
        "url": "altair-data-bda15298a260fcaef45235d97742e9b8.json"
       },
       "encoding": {
        "x": {
         "bin": {
          "maxbins": 384
         },
         "field": "goog_x",
         "type": "quantitative"
        },
        "y": {
         "bin": {
          "maxbins": 564
         },
         "field": "goog_y",
         "type": "quantitative"
        }
       },
       "height": 564,
       "mark": "rect",
       "transform": [
        {
         "filter": {
          "field": "goog_x",
          "range": [
           -3650484.1235206556,
           7413325.514451755
          ]
         }
        },
        {
         "filter": {
          "field": "goog_y",
          "range": [
           -5778161.9183506705,
           10471808.487466192
          ]
         }
        }
       ],
       "width": 384
      },
      "image/png": "[encoded data removed]",
      "text/plain": [
       "<VegaLite 2 object>\n",
       "\n",
       "If you see this message, it means the renderer has not been properly enabled\n",
       "for the frontend that you are using. For more information, see\n",
       "https://altair-viz.github.io/user_guide/troubleshooting.html\n"
      ]
     },
     "metadata": {},
     "output_type": "display_data"
    },
    {
     "data": {
      "text/html": [
       "<h3>Compiled</h3>"
      ],
      "text/plain": [
       "<IPython.core.display.HTML object>"
      ]
     },
     "metadata": {},
     "output_type": "display_data"
    },
    {
     "data": {
      "text/html": [
       "<strong><code>altair.renderers.enable(\"ibis\", compile=True, extract=False, type='json')</code></strong>"
      ],
      "text/plain": [
       "<IPython.core.display.HTML object>"
      ]
     },
     "metadata": {},
     "output_type": "display_data"
    },
    {
     "data": {
      "application/json": {
       "$schema": "https://vega.github.io/schema/vega-lite/v2.6.0.json",
       "config": {
        "view": {
         "height": 300,
         "width": 400
        }
       },
       "data": {
        "name": "ibis_3"
       },
       "encoding": {
        "x": {
         "bin": {
          "maxbins": 384
         },
         "field": "goog_x",
         "type": "quantitative"
        },
        "y": {
         "bin": {
          "maxbins": 564
         },
         "field": "goog_y",
         "type": "quantitative"
        }
       },
       "height": 564,
       "mark": "rect",
       "transform": [
        {
         "filter": {
          "field": "goog_x",
          "range": [
           -3650484.1235206556,
           7413325.514451755
          ]
         }
        },
        {
         "filter": {
          "field": "goog_y",
          "range": [
           -5778161.9183506705,
           10471808.487466192
          ]
         }
        }
       ],
       "width": 384
      },
      "text/plain": [
       "<IPython.core.display.JSON object>"
      ]
     },
     "metadata": {},
     "output_type": "display_data"
    },
    {
     "data": {
      "text/html": [
       "<strong><code>altair.renderers.enable(\"ibis\", compile=True, extract=False, type='sql')</code></strong>"
      ],
      "text/plain": [
       "<IPython.core.display.HTML object>"
      ]
     },
     "metadata": {},
     "output_type": "display_data"
    },
    {
     "data": {
      "text/html": [
       "<style>.output_html .hll { background-color: #ffffcc }\n",
       ".output_html  { background: #f8f8f8; }\n",
       ".output_html .c { color: #408080; font-style: italic } /* Comment */\n",
       ".output_html .err { border: 1px solid #FF0000 } /* Error */\n",
       ".output_html .k { color: #008000; font-weight: bold } /* Keyword */\n",
       ".output_html .o { color: #666666 } /* Operator */\n",
       ".output_html .ch { color: #408080; font-style: italic } /* Comment.Hashbang */\n",
       ".output_html .cm { color: #408080; font-style: italic } /* Comment.Multiline */\n",
       ".output_html .cp { color: #BC7A00 } /* Comment.Preproc */\n",
       ".output_html .cpf { color: #408080; font-style: italic } /* Comment.PreprocFile */\n",
       ".output_html .c1 { color: #408080; font-style: italic } /* Comment.Single */\n",
       ".output_html .cs { color: #408080; font-style: italic } /* Comment.Special */\n",
       ".output_html .gd { color: #A00000 } /* Generic.Deleted */\n",
       ".output_html .ge { font-style: italic } /* Generic.Emph */\n",
       ".output_html .gr { color: #FF0000 } /* Generic.Error */\n",
       ".output_html .gh { color: #000080; font-weight: bold } /* Generic.Heading */\n",
       ".output_html .gi { color: #00A000 } /* Generic.Inserted */\n",
       ".output_html .go { color: #888888 } /* Generic.Output */\n",
       ".output_html .gp { color: #000080; font-weight: bold } /* Generic.Prompt */\n",
       ".output_html .gs { font-weight: bold } /* Generic.Strong */\n",
       ".output_html .gu { color: #800080; font-weight: bold } /* Generic.Subheading */\n",
       ".output_html .gt { color: #0044DD } /* Generic.Traceback */\n",
       ".output_html .kc { color: #008000; font-weight: bold } /* Keyword.Constant */\n",
       ".output_html .kd { color: #008000; font-weight: bold } /* Keyword.Declaration */\n",
       ".output_html .kn { color: #008000; font-weight: bold } /* Keyword.Namespace */\n",
       ".output_html .kp { color: #008000 } /* Keyword.Pseudo */\n",
       ".output_html .kr { color: #008000; font-weight: bold } /* Keyword.Reserved */\n",
       ".output_html .kt { color: #B00040 } /* Keyword.Type */\n",
       ".output_html .m { color: #666666 } /* Literal.Number */\n",
       ".output_html .s { color: #BA2121 } /* Literal.String */\n",
       ".output_html .na { color: #7D9029 } /* Name.Attribute */\n",
       ".output_html .nb { color: #008000 } /* Name.Builtin */\n",
       ".output_html .nc { color: #0000FF; font-weight: bold } /* Name.Class */\n",
       ".output_html .no { color: #880000 } /* Name.Constant */\n",
       ".output_html .nd { color: #AA22FF } /* Name.Decorator */\n",
       ".output_html .ni { color: #999999; font-weight: bold } /* Name.Entity */\n",
       ".output_html .ne { color: #D2413A; font-weight: bold } /* Name.Exception */\n",
       ".output_html .nf { color: #0000FF } /* Name.Function */\n",
       ".output_html .nl { color: #A0A000 } /* Name.Label */\n",
       ".output_html .nn { color: #0000FF; font-weight: bold } /* Name.Namespace */\n",
       ".output_html .nt { color: #008000; font-weight: bold } /* Name.Tag */\n",
       ".output_html .nv { color: #19177C } /* Name.Variable */\n",
       ".output_html .ow { color: #AA22FF; font-weight: bold } /* Operator.Word */\n",
       ".output_html .w { color: #bbbbbb } /* Text.Whitespace */\n",
       ".output_html .mb { color: #666666 } /* Literal.Number.Bin */\n",
       ".output_html .mf { color: #666666 } /* Literal.Number.Float */\n",
       ".output_html .mh { color: #666666 } /* Literal.Number.Hex */\n",
       ".output_html .mi { color: #666666 } /* Literal.Number.Integer */\n",
       ".output_html .mo { color: #666666 } /* Literal.Number.Oct */\n",
       ".output_html .sa { color: #BA2121 } /* Literal.String.Affix */\n",
       ".output_html .sb { color: #BA2121 } /* Literal.String.Backtick */\n",
       ".output_html .sc { color: #BA2121 } /* Literal.String.Char */\n",
       ".output_html .dl { color: #BA2121 } /* Literal.String.Delimiter */\n",
       ".output_html .sd { color: #BA2121; font-style: italic } /* Literal.String.Doc */\n",
       ".output_html .s2 { color: #BA2121 } /* Literal.String.Double */\n",
       ".output_html .se { color: #BB6622; font-weight: bold } /* Literal.String.Escape */\n",
       ".output_html .sh { color: #BA2121 } /* Literal.String.Heredoc */\n",
       ".output_html .si { color: #BB6688; font-weight: bold } /* Literal.String.Interpol */\n",
       ".output_html .sx { color: #008000 } /* Literal.String.Other */\n",
       ".output_html .sr { color: #BB6688 } /* Literal.String.Regex */\n",
       ".output_html .s1 { color: #BA2121 } /* Literal.String.Single */\n",
       ".output_html .ss { color: #19177C } /* Literal.String.Symbol */\n",
       ".output_html .bp { color: #008000 } /* Name.Builtin.Pseudo */\n",
       ".output_html .fm { color: #0000FF } /* Name.Function.Magic */\n",
       ".output_html .vc { color: #19177C } /* Name.Variable.Class */\n",
       ".output_html .vg { color: #19177C } /* Name.Variable.Global */\n",
       ".output_html .vi { color: #19177C } /* Name.Variable.Instance */\n",
       ".output_html .vm { color: #19177C } /* Name.Variable.Magic */\n",
       ".output_html .il { color: #666666 } /* Literal.Number.Integer.Long */</style><div class=\"highlight\"><pre><span></span>SELECT &quot;goog_x&quot;, &quot;goog_y&quot;\n",
       "FROM tweets_nov_feb\n",
       "</pre></div>\n"
      ],
      "text/latex": [
       "\\begin{Verbatim}[commandchars=\\\\\\{\\}]\n",
       "SELECT \\PYZdq{}goog\\PYZus{}x\\PYZdq{}, \\PYZdq{}goog\\PYZus{}y\\PYZdq{}\n",
       "FROM tweets\\PYZus{}nov\\PYZus{}feb\n",
       "\\end{Verbatim}\n"
      ],
      "text/plain": [
       "SELECT \"goog_x\", \"goog_y\"\n",
       "FROM tweets_nov_feb"
      ]
     },
     "metadata": {},
     "output_type": "display_data"
    },
    {
     "data": {
      "text/html": [
       "<strong><code>altair.renderers.enable(\"ibis\", compile=True, extract=False, type='vl')</code></strong>"
      ],
      "text/plain": [
       "<IPython.core.display.HTML object>"
      ]
     },
     "metadata": {},
     "output_type": "display_data"
    },
    {
     "data": {
      "application/vnd.vegalite.v2+json": {
       "$schema": "https://vega.github.io/schema/vega-lite/v2.6.0.json",
       "config": {
        "view": {
         "height": 300,
         "width": 400
        }
       },
       "data": {
        "format": {
         "type": "json"
        },
        "url": "altair-data-4e0ec2ab8b589293b604cf6544827c3a.json"
       },
       "encoding": {
        "x": {
         "bin": {
          "maxbins": 384
         },
         "field": "goog_x",
         "type": "quantitative"
        },
        "y": {
         "bin": {
          "maxbins": 564
         },
         "field": "goog_y",
         "type": "quantitative"
        }
       },
       "height": 564,
       "mark": "rect",
       "transform": [
        {
         "filter": {
          "field": "goog_x",
          "range": [
           -3650484.1235206556,
           7413325.514451755
          ]
         }
        },
        {
         "filter": {
          "field": "goog_y",
          "range": [
           -5778161.9183506705,
           10471808.487466192
          ]
         }
        }
       ],
       "width": 384
      },
      "image/png": "[encoded data removed]",
      "text/plain": [
       "<VegaLite 2 object>\n",
       "\n",
       "If you see this message, it means the renderer has not been properly enabled\n",
       "for the frontend that you are using. For more information, see\n",
       "https://altair-viz.github.io/user_guide/troubleshooting.html\n"
      ]
     },
     "metadata": {},
     "output_type": "display_data"
    },
    {
     "data": {
      "text/html": [
       "<h3>Extracted</h3>"
      ],
      "text/plain": [
       "<IPython.core.display.HTML object>"
      ]
     },
     "metadata": {},
     "output_type": "display_data"
    },
    {
     "data": {
      "text/html": [
       "<strong><code>altair.renderers.enable(\"ibis\", compile=False, extract=True, type='json')</code></strong>"
      ],
      "text/plain": [
       "<IPython.core.display.HTML object>"
      ]
     },
     "metadata": {},
     "output_type": "display_data"
    },
    {
     "data": {
      "application/json": {
       "$schema": "https://vega.github.io/schema/vega-lite/v2.6.0.json",
       "config": {
        "view": {
         "height": 300,
         "width": 400
        }
       },
       "data": {
        "name": "ibis_6"
       },
       "encoding": {
        "x": {
         "bin": "binned",
         "field": "bin_maxbins_384_goog_x",
         "title": "goog_x (binned)",
         "type": "quantitative"
        },
        "x2": {
         "field": "bin_maxbins_384_goog_x_end",
         "type": "quantitative"
        },
        "y": {
         "bin": "binned",
         "field": "bin_maxbins_564_goog_y",
         "title": "goog_y (binned)",
         "type": "quantitative"
        },
        "y2": {
         "field": "bin_maxbins_564_goog_y_end",
         "type": "quantitative"
        }
       },
       "height": 564,
       "mark": "rect",
       "transform": [
        {
         "filter": {
          "field": "goog_x",
          "range": [
           -3650484.1235206556,
           7413325.514451755
          ]
         }
        },
        {
         "filter": {
          "field": "goog_y",
          "range": [
           -5778161.9183506705,
           10471808.487466192
          ]
         }
        },
        {
         "as": "bin_maxbins_384_goog_x",
         "bin": {
          "maxbins": 384
         },
         "field": "goog_x"
        },
        {
         "as": "bin_maxbins_564_goog_y",
         "bin": {
          "maxbins": 564
         },
         "field": "goog_y"
        }
       ],
       "width": 384
      },
      "text/plain": [
       "<IPython.core.display.JSON object>"
      ]
     },
     "metadata": {
      "application/json": {
       "expanded": false,
       "root": "root"
      }
     },
     "output_type": "display_data"
    },
    {
     "data": {
      "text/plain": []
     },
     "metadata": {},
     "output_type": "display_data"
    },
    {
     "data": {
      "text/html": [
       "<strong><code>altair.renderers.enable(\"ibis\", compile=False, extract=True, type='vl')</code></strong>"
      ],
      "text/plain": [
       "<IPython.core.display.HTML object>"
      ]
     },
     "metadata": {},
     "output_type": "display_data"
    },
    {
     "data": {
      "application/vnd.vegalite.v2+json": {
       "$schema": "https://vega.github.io/schema/vega-lite/v2.6.0.json",
       "config": {
        "view": {
         "height": 300,
         "width": 400
        }
       },
       "data": {
        "format": {
         "type": "json"
        },
        "url": "altair-data-35b48c9a1fb81e4dc003ed0a052bf050.json"
       },
       "encoding": {
        "x": {
         "bin": "binned",
         "field": "bin_maxbins_384_goog_x",
         "title": "goog_x (binned)",
         "type": "quantitative"
        },
        "x2": {
         "field": "bin_maxbins_384_goog_x_end",
         "type": "quantitative"
        },
        "y": {
         "bin": "binned",
         "field": "bin_maxbins_564_goog_y",
         "title": "goog_y (binned)",
         "type": "quantitative"
        },
        "y2": {
         "field": "bin_maxbins_564_goog_y_end",
         "type": "quantitative"
        }
       },
       "height": 564,
       "mark": "rect",
       "transform": [
        {
         "filter": {
          "field": "goog_x",
          "range": [
           -3650484.1235206556,
           7413325.514451755
          ]
         }
        },
        {
         "filter": {
          "field": "goog_y",
          "range": [
           -5778161.9183506705,
           10471808.487466192
          ]
         }
        },
        {
         "as": "bin_maxbins_384_goog_x",
         "bin": {
          "maxbins": 384
         },
         "field": "goog_x"
        },
        {
         "as": "bin_maxbins_564_goog_y",
         "bin": {
          "maxbins": 564
         },
         "field": "goog_y"
        }
       ],
       "width": 384
      },
      "image/png": "[encoded data removed]",
      "text/plain": [
       "<VegaLite 2 object>\n",
       "\n",
       "If you see this message, it means the renderer has not been properly enabled\n",
       "for the frontend that you are using. For more information, see\n",
       "https://altair-viz.github.io/user_guide/troubleshooting.html\n"
      ]
     },
     "metadata": {},
     "output_type": "display_data"
    },
    {
     "data": {
      "text/plain": []
     },
     "metadata": {},
     "output_type": "display_data"
    },
    {
     "data": {
      "text/html": [
       "<h3>Extracted then Compiled</h3>"
      ],
      "text/plain": [
       "<IPython.core.display.HTML object>"
      ]
     },
     "metadata": {},
     "output_type": "display_data"
    },
    {
     "data": {
      "text/html": [
       "<strong><code>altair.renderers.enable(\"ibis\", compile=True, extract=True, type='json')</code></strong>"
      ],
      "text/plain": [
       "<IPython.core.display.HTML object>"
      ]
     },
     "metadata": {},
     "output_type": "display_data"
    },
    {
     "data": {
      "application/json": {
       "$schema": "https://vega.github.io/schema/vega-lite/v2.6.0.json",
       "config": {
        "view": {
         "height": 300,
         "width": 400
        }
       },
       "data": {
        "name": "ibis_8"
       },
       "encoding": {
        "x": {
         "bin": "binned",
         "field": "bin_maxbins_384_goog_x",
         "title": "goog_x (binned)",
         "type": "quantitative"
        },
        "x2": {
         "field": "bin_maxbins_384_goog_x_end",
         "type": "quantitative"
        },
        "y": {
         "bin": "binned",
         "field": "bin_maxbins_564_goog_y",
         "title": "goog_y (binned)",
         "type": "quantitative"
        },
        "y2": {
         "field": "bin_maxbins_564_goog_y_end",
         "type": "quantitative"
        }
       },
       "height": 564,
       "mark": "rect",
       "transform": [
        {
         "filter": {
          "field": "goog_x",
          "range": [
           -3650484.1235206556,
           7413325.514451755
          ]
         }
        },
        {
         "filter": {
          "field": "goog_y",
          "range": [
           -5778161.9183506705,
           10471808.487466192
          ]
         }
        },
        {
         "as": "bin_maxbins_384_goog_x",
         "bin": {
          "maxbins": 384
         },
         "field": "goog_x"
        },
        {
         "as": "bin_maxbins_564_goog_y",
         "bin": {
          "maxbins": 564
         },
         "field": "goog_y"
        }
       ],
       "width": 384
      },
      "text/plain": [
       "<IPython.core.display.JSON object>"
      ]
     },
     "metadata": {
      "application/json": {
       "expanded": false,
       "root": "root"
      }
     },
     "output_type": "display_data"
    },
    {
     "data": {
      "text/plain": []
     },
     "metadata": {},
     "output_type": "display_data"
    },
    {
     "data": {
      "text/html": [
       "<strong><code>altair.renderers.enable(\"ibis\", compile=True, extract=True, type='sql')</code></strong>"
      ],
      "text/plain": [
       "<IPython.core.display.HTML object>"
      ]
     },
     "metadata": {},
     "output_type": "display_data"
    },
    {
     "data": {
      "text/html": [
       "<style>.output_html .hll { background-color: #ffffcc }\n",
       ".output_html  { background: #f8f8f8; }\n",
       ".output_html .c { color: #408080; font-style: italic } /* Comment */\n",
       ".output_html .err { border: 1px solid #FF0000 } /* Error */\n",
       ".output_html .k { color: #008000; font-weight: bold } /* Keyword */\n",
       ".output_html .o { color: #666666 } /* Operator */\n",
       ".output_html .ch { color: #408080; font-style: italic } /* Comment.Hashbang */\n",
       ".output_html .cm { color: #408080; font-style: italic } /* Comment.Multiline */\n",
       ".output_html .cp { color: #BC7A00 } /* Comment.Preproc */\n",
       ".output_html .cpf { color: #408080; font-style: italic } /* Comment.PreprocFile */\n",
       ".output_html .c1 { color: #408080; font-style: italic } /* Comment.Single */\n",
       ".output_html .cs { color: #408080; font-style: italic } /* Comment.Special */\n",
       ".output_html .gd { color: #A00000 } /* Generic.Deleted */\n",
       ".output_html .ge { font-style: italic } /* Generic.Emph */\n",
       ".output_html .gr { color: #FF0000 } /* Generic.Error */\n",
       ".output_html .gh { color: #000080; font-weight: bold } /* Generic.Heading */\n",
       ".output_html .gi { color: #00A000 } /* Generic.Inserted */\n",
       ".output_html .go { color: #888888 } /* Generic.Output */\n",
       ".output_html .gp { color: #000080; font-weight: bold } /* Generic.Prompt */\n",
       ".output_html .gs { font-weight: bold } /* Generic.Strong */\n",
       ".output_html .gu { color: #800080; font-weight: bold } /* Generic.Subheading */\n",
       ".output_html .gt { color: #0044DD } /* Generic.Traceback */\n",
       ".output_html .kc { color: #008000; font-weight: bold } /* Keyword.Constant */\n",
       ".output_html .kd { color: #008000; font-weight: bold } /* Keyword.Declaration */\n",
       ".output_html .kn { color: #008000; font-weight: bold } /* Keyword.Namespace */\n",
       ".output_html .kp { color: #008000 } /* Keyword.Pseudo */\n",
       ".output_html .kr { color: #008000; font-weight: bold } /* Keyword.Reserved */\n",
       ".output_html .kt { color: #B00040 } /* Keyword.Type */\n",
       ".output_html .m { color: #666666 } /* Literal.Number */\n",
       ".output_html .s { color: #BA2121 } /* Literal.String */\n",
       ".output_html .na { color: #7D9029 } /* Name.Attribute */\n",
       ".output_html .nb { color: #008000 } /* Name.Builtin */\n",
       ".output_html .nc { color: #0000FF; font-weight: bold } /* Name.Class */\n",
       ".output_html .no { color: #880000 } /* Name.Constant */\n",
       ".output_html .nd { color: #AA22FF } /* Name.Decorator */\n",
       ".output_html .ni { color: #999999; font-weight: bold } /* Name.Entity */\n",
       ".output_html .ne { color: #D2413A; font-weight: bold } /* Name.Exception */\n",
       ".output_html .nf { color: #0000FF } /* Name.Function */\n",
       ".output_html .nl { color: #A0A000 } /* Name.Label */\n",
       ".output_html .nn { color: #0000FF; font-weight: bold } /* Name.Namespace */\n",
       ".output_html .nt { color: #008000; font-weight: bold } /* Name.Tag */\n",
       ".output_html .nv { color: #19177C } /* Name.Variable */\n",
       ".output_html .ow { color: #AA22FF; font-weight: bold } /* Operator.Word */\n",
       ".output_html .w { color: #bbbbbb } /* Text.Whitespace */\n",
       ".output_html .mb { color: #666666 } /* Literal.Number.Bin */\n",
       ".output_html .mf { color: #666666 } /* Literal.Number.Float */\n",
       ".output_html .mh { color: #666666 } /* Literal.Number.Hex */\n",
       ".output_html .mi { color: #666666 } /* Literal.Number.Integer */\n",
       ".output_html .mo { color: #666666 } /* Literal.Number.Oct */\n",
       ".output_html .sa { color: #BA2121 } /* Literal.String.Affix */\n",
       ".output_html .sb { color: #BA2121 } /* Literal.String.Backtick */\n",
       ".output_html .sc { color: #BA2121 } /* Literal.String.Char */\n",
       ".output_html .dl { color: #BA2121 } /* Literal.String.Delimiter */\n",
       ".output_html .sd { color: #BA2121; font-style: italic } /* Literal.String.Doc */\n",
       ".output_html .s2 { color: #BA2121 } /* Literal.String.Double */\n",
       ".output_html .se { color: #BB6622; font-weight: bold } /* Literal.String.Escape */\n",
       ".output_html .sh { color: #BA2121 } /* Literal.String.Heredoc */\n",
       ".output_html .si { color: #BB6688; font-weight: bold } /* Literal.String.Interpol */\n",
       ".output_html .sx { color: #008000 } /* Literal.String.Other */\n",
       ".output_html .sr { color: #BB6688 } /* Literal.String.Regex */\n",
       ".output_html .s1 { color: #BA2121 } /* Literal.String.Single */\n",
       ".output_html .ss { color: #19177C } /* Literal.String.Symbol */\n",
       ".output_html .bp { color: #008000 } /* Name.Builtin.Pseudo */\n",
       ".output_html .fm { color: #0000FF } /* Name.Function.Magic */\n",
       ".output_html .vc { color: #19177C } /* Name.Variable.Class */\n",
       ".output_html .vg { color: #19177C } /* Name.Variable.Global */\n",
       ".output_html .vi { color: #19177C } /* Name.Variable.Instance */\n",
       ".output_html .vm { color: #19177C } /* Name.Variable.Magic */\n",
       ".output_html .il { color: #666666 } /* Literal.Number.Integer.Long */</style><div class=\"highlight\"><pre><span></span>SELECT &quot;goog_x&quot;, &quot;goog_y&quot;\n",
       "FROM tweets_nov_feb\n",
       "</pre></div>\n"
      ],
      "text/latex": [
       "\\begin{Verbatim}[commandchars=\\\\\\{\\}]\n",
       "SELECT \\PYZdq{}goog\\PYZus{}x\\PYZdq{}, \\PYZdq{}goog\\PYZus{}y\\PYZdq{}\n",
       "FROM tweets\\PYZus{}nov\\PYZus{}feb\n",
       "\\end{Verbatim}\n"
      ],
      "text/plain": [
       "SELECT \"goog_x\", \"goog_y\"\n",
       "FROM tweets_nov_feb"
      ]
     },
     "metadata": {},
     "output_type": "display_data"
    },
    {
     "data": {
      "text/plain": []
     },
     "metadata": {},
     "output_type": "display_data"
    },
    {
     "data": {
      "text/html": [
       "<strong><code>altair.renderers.enable(\"ibis\", compile=True, extract=True, type='vl')</code></strong>"
      ],
      "text/plain": [
       "<IPython.core.display.HTML object>"
      ]
     },
     "metadata": {},
     "output_type": "display_data"
    },
    {
     "data": {
      "application/vnd.vegalite.v2+json": {
       "$schema": "https://vega.github.io/schema/vega-lite/v2.6.0.json",
       "config": {
        "view": {
         "height": 300,
         "width": 400
        }
       },
       "data": {
        "format": {
         "type": "json"
        },
        "url": "altair-data-431994881cd1d1465c8d6809be8d0ff5.json"
       },
       "encoding": {
        "x": {
         "bin": "binned",
         "field": "bin_maxbins_384_goog_x",
         "title": "goog_x (binned)",
         "type": "quantitative"
        },
        "x2": {
         "field": "bin_maxbins_384_goog_x_end",
         "type": "quantitative"
        },
        "y": {
         "bin": "binned",
         "field": "bin_maxbins_564_goog_y",
         "title": "goog_y (binned)",
         "type": "quantitative"
        },
        "y2": {
         "field": "bin_maxbins_564_goog_y_end",
         "type": "quantitative"
        }
       },
       "height": 564,
       "mark": "rect",
       "transform": [
        {
         "filter": {
          "field": "goog_x",
          "range": [
           -3650484.1235206556,
           7413325.514451755
          ]
         }
        },
        {
         "filter": {
          "field": "goog_y",
          "range": [
           -5778161.9183506705,
           10471808.487466192
          ]
         }
        },
        {
         "as": "bin_maxbins_384_goog_x",
         "bin": {
          "maxbins": 384
         },
         "field": "goog_x"
        },
        {
         "as": "bin_maxbins_564_goog_y",
         "bin": {
          "maxbins": 564
         },
         "field": "goog_y"
        }
       ],
       "width": 384
      },
      "image/png": "[encoded data removed]",
      "text/plain": [
       "<VegaLite 2 object>\n",
       "\n",
       "If you see this message, it means the renderer has not been properly enabled\n",
       "for the frontend that you are using. For more information, see\n",
       "https://altair-viz.github.io/user_guide/troubleshooting.html\n"
      ]
     },
     "metadata": {},
     "output_type": "display_data"
    },
    {
     "data": {
      "text/plain": []
     },
     "metadata": {},
     "output_type": "display_data"
    }
   ],
   "source": [
    "jupyterlab_omnisci.display_chart(c)"
   ]
  },
  {
   "cell_type": "markdown",
   "metadata": {},
   "source": [
    "## \"Getting More from Your Data\""
   ]
  },
  {
   "cell_type": "code",
   "execution_count": 19,
   "metadata": {},
   "outputs": [
    {
     "data": {
      "text/html": [
       "<h2>Initial</h2>"
      ],
      "text/plain": [
       "<IPython.core.display.HTML object>"
      ]
     },
     "metadata": {},
     "output_type": "display_data"
    },
    {
     "data": {
      "text/html": [
       "<h3><code>altair.renderers.enable(\"ibis\", compile=False, extract=False, type='json')</code></h3>"
      ],
      "text/plain": [
       "<IPython.core.display.HTML object>"
      ]
     },
     "metadata": {},
     "output_type": "display_data"
    },
    {
     "name": "stderr",
     "output_type": "stream",
     "text": [
      "/usr/local/miniconda3/envs/jupyterlab-omnisci/lib/python3.6/site-packages/altair/utils/core.py:86: UserWarning: I don't know how to infer vegalite type from 'empty'.  Defaulting to nominal.\n",
      "  \"Defaulting to nominal.\".format(typ))\n"
     ]
    },
    {
     "data": {
      "application/json": {
       "$schema": "https://vega.github.io/schema/vega-lite/v2.6.0.json",
       "config": {
        "view": {
         "height": 300,
         "width": 400
        }
       },
       "data": {
        "name": "ibis_22"
       },
       "encoding": {
        "color": {
         "field": "lang",
         "scale": {
          "domain": [
           "en",
           "es",
           "fr"
          ],
          "range": [
           "#27aeef",
           "#87bc45",
           "#ef9b20"
          ]
         },
         "type": "nominal"
        },
        "x": {
         "bin": {
          "maxbins": 384
         },
         "field": "goog_x",
         "type": "quantitative"
        },
        "y": {
         "bin": {
          "maxbins": 564
         },
         "field": "goog_y",
         "type": "quantitative"
        }
       },
       "height": 564,
       "mark": "rect",
       "transform": [
        {
         "filter": {
          "field": "goog_x",
          "range": [
           -3650484.1235206556,
           7413325.514451755
          ]
         }
        },
        {
         "filter": {
          "field": "goog_y",
          "range": [
           -5778161.9183506705,
           10471808.487466192
          ]
         }
        }
       ],
       "width": 384
      },
      "text/plain": [
       "<IPython.core.display.JSON object>"
      ]
     },
     "metadata": {},
     "output_type": "display_data"
    },
    {
     "data": {
      "text/html": [
       "<h3><code>altair.renderers.enable(\"ibis\", compile=False, extract=False, type='sql')</code></h3>"
      ],
      "text/plain": [
       "<IPython.core.display.HTML object>"
      ]
     },
     "metadata": {},
     "output_type": "display_data"
    },
    {
     "data": {
      "text/html": [
       "<style>.output_html .hll { background-color: #ffffcc }\n",
       ".output_html  { background: #f8f8f8; }\n",
       ".output_html .c { color: #408080; font-style: italic } /* Comment */\n",
       ".output_html .err { border: 1px solid #FF0000 } /* Error */\n",
       ".output_html .k { color: #008000; font-weight: bold } /* Keyword */\n",
       ".output_html .o { color: #666666 } /* Operator */\n",
       ".output_html .ch { color: #408080; font-style: italic } /* Comment.Hashbang */\n",
       ".output_html .cm { color: #408080; font-style: italic } /* Comment.Multiline */\n",
       ".output_html .cp { color: #BC7A00 } /* Comment.Preproc */\n",
       ".output_html .cpf { color: #408080; font-style: italic } /* Comment.PreprocFile */\n",
       ".output_html .c1 { color: #408080; font-style: italic } /* Comment.Single */\n",
       ".output_html .cs { color: #408080; font-style: italic } /* Comment.Special */\n",
       ".output_html .gd { color: #A00000 } /* Generic.Deleted */\n",
       ".output_html .ge { font-style: italic } /* Generic.Emph */\n",
       ".output_html .gr { color: #FF0000 } /* Generic.Error */\n",
       ".output_html .gh { color: #000080; font-weight: bold } /* Generic.Heading */\n",
       ".output_html .gi { color: #00A000 } /* Generic.Inserted */\n",
       ".output_html .go { color: #888888 } /* Generic.Output */\n",
       ".output_html .gp { color: #000080; font-weight: bold } /* Generic.Prompt */\n",
       ".output_html .gs { font-weight: bold } /* Generic.Strong */\n",
       ".output_html .gu { color: #800080; font-weight: bold } /* Generic.Subheading */\n",
       ".output_html .gt { color: #0044DD } /* Generic.Traceback */\n",
       ".output_html .kc { color: #008000; font-weight: bold } /* Keyword.Constant */\n",
       ".output_html .kd { color: #008000; font-weight: bold } /* Keyword.Declaration */\n",
       ".output_html .kn { color: #008000; font-weight: bold } /* Keyword.Namespace */\n",
       ".output_html .kp { color: #008000 } /* Keyword.Pseudo */\n",
       ".output_html .kr { color: #008000; font-weight: bold } /* Keyword.Reserved */\n",
       ".output_html .kt { color: #B00040 } /* Keyword.Type */\n",
       ".output_html .m { color: #666666 } /* Literal.Number */\n",
       ".output_html .s { color: #BA2121 } /* Literal.String */\n",
       ".output_html .na { color: #7D9029 } /* Name.Attribute */\n",
       ".output_html .nb { color: #008000 } /* Name.Builtin */\n",
       ".output_html .nc { color: #0000FF; font-weight: bold } /* Name.Class */\n",
       ".output_html .no { color: #880000 } /* Name.Constant */\n",
       ".output_html .nd { color: #AA22FF } /* Name.Decorator */\n",
       ".output_html .ni { color: #999999; font-weight: bold } /* Name.Entity */\n",
       ".output_html .ne { color: #D2413A; font-weight: bold } /* Name.Exception */\n",
       ".output_html .nf { color: #0000FF } /* Name.Function */\n",
       ".output_html .nl { color: #A0A000 } /* Name.Label */\n",
       ".output_html .nn { color: #0000FF; font-weight: bold } /* Name.Namespace */\n",
       ".output_html .nt { color: #008000; font-weight: bold } /* Name.Tag */\n",
       ".output_html .nv { color: #19177C } /* Name.Variable */\n",
       ".output_html .ow { color: #AA22FF; font-weight: bold } /* Operator.Word */\n",
       ".output_html .w { color: #bbbbbb } /* Text.Whitespace */\n",
       ".output_html .mb { color: #666666 } /* Literal.Number.Bin */\n",
       ".output_html .mf { color: #666666 } /* Literal.Number.Float */\n",
       ".output_html .mh { color: #666666 } /* Literal.Number.Hex */\n",
       ".output_html .mi { color: #666666 } /* Literal.Number.Integer */\n",
       ".output_html .mo { color: #666666 } /* Literal.Number.Oct */\n",
       ".output_html .sa { color: #BA2121 } /* Literal.String.Affix */\n",
       ".output_html .sb { color: #BA2121 } /* Literal.String.Backtick */\n",
       ".output_html .sc { color: #BA2121 } /* Literal.String.Char */\n",
       ".output_html .dl { color: #BA2121 } /* Literal.String.Delimiter */\n",
       ".output_html .sd { color: #BA2121; font-style: italic } /* Literal.String.Doc */\n",
       ".output_html .s2 { color: #BA2121 } /* Literal.String.Double */\n",
       ".output_html .se { color: #BB6622; font-weight: bold } /* Literal.String.Escape */\n",
       ".output_html .sh { color: #BA2121 } /* Literal.String.Heredoc */\n",
       ".output_html .si { color: #BB6688; font-weight: bold } /* Literal.String.Interpol */\n",
       ".output_html .sx { color: #008000 } /* Literal.String.Other */\n",
       ".output_html .sr { color: #BB6688 } /* Literal.String.Regex */\n",
       ".output_html .s1 { color: #BA2121 } /* Literal.String.Single */\n",
       ".output_html .ss { color: #19177C } /* Literal.String.Symbol */\n",
       ".output_html .bp { color: #008000 } /* Name.Builtin.Pseudo */\n",
       ".output_html .fm { color: #0000FF } /* Name.Function.Magic */\n",
       ".output_html .vc { color: #19177C } /* Name.Variable.Class */\n",
       ".output_html .vg { color: #19177C } /* Name.Variable.Global */\n",
       ".output_html .vi { color: #19177C } /* Name.Variable.Instance */\n",
       ".output_html .vm { color: #19177C } /* Name.Variable.Magic */\n",
       ".output_html .il { color: #666666 } /* Literal.Number.Integer.Long */</style><div class=\"highlight\"><pre><span></span>SELECT &quot;goog_x&quot;, &quot;goog_y&quot;, &quot;lang&quot;\n",
       "FROM tweets_nov_feb\n",
       "</pre></div>\n"
      ],
      "text/latex": [
       "\\begin{Verbatim}[commandchars=\\\\\\{\\}]\n",
       "SELECT \\PYZdq{}goog\\PYZus{}x\\PYZdq{}, \\PYZdq{}goog\\PYZus{}y\\PYZdq{}, \\PYZdq{}lang\\PYZdq{}\n",
       "FROM tweets\\PYZus{}nov\\PYZus{}feb\n",
       "\\end{Verbatim}\n"
      ],
      "text/plain": [
       "SELECT \"goog_x\", \"goog_y\", \"lang\"\n",
       "FROM tweets_nov_feb"
      ]
     },
     "metadata": {},
     "output_type": "display_data"
    },
    {
     "data": {
      "text/html": [
       "<h3><code>altair.renderers.enable(\"ibis\", compile=False, extract=False, type='vl')</code></h3>"
      ],
      "text/plain": [
       "<IPython.core.display.HTML object>"
      ]
     },
     "metadata": {},
     "output_type": "display_data"
    },
    {
     "data": {
      "application/vnd.vegalite.v2+json": {
       "$schema": "https://vega.github.io/schema/vega-lite/v2.6.0.json",
       "config": {
        "view": {
         "height": 300,
         "width": 400
        }
       },
       "data": {
        "format": {
         "type": "json"
        },
        "url": "altair-data-2d9df36efc575446cb6b87db59f0dcd8.json"
       },
       "encoding": {
        "color": {
         "field": "lang",
         "scale": {
          "domain": [
           "en",
           "es",
           "fr"
          ],
          "range": [
           "#27aeef",
           "#87bc45",
           "#ef9b20"
          ]
         },
         "type": "nominal"
        },
        "x": {
         "bin": {
          "maxbins": 384
         },
         "field": "goog_x",
         "type": "quantitative"
        },
        "y": {
         "bin": {
          "maxbins": 564
         },
         "field": "goog_y",
         "type": "quantitative"
        }
       },
       "height": 564,
       "mark": "rect",
       "transform": [
        {
         "filter": {
          "field": "goog_x",
          "range": [
           -3650484.1235206556,
           7413325.514451755
          ]
         }
        },
        {
         "filter": {
          "field": "goog_y",
          "range": [
           -5778161.9183506705,
           10471808.487466192
          ]
         }
        }
       ],
       "width": 384
      },
      "image/png": "[encoded data removed]",
      "text/plain": [
       "<VegaLite 2 object>\n",
       "\n",
       "If you see this message, it means the renderer has not been properly enabled\n",
       "for the frontend that you are using. For more information, see\n",
       "https://altair-viz.github.io/user_guide/troubleshooting.html\n"
      ]
     },
     "metadata": {},
     "output_type": "display_data"
    },
    {
     "data": {
      "text/html": [
       "<h2>Compiled</h2>"
      ],
      "text/plain": [
       "<IPython.core.display.HTML object>"
      ]
     },
     "metadata": {},
     "output_type": "display_data"
    },
    {
     "data": {
      "text/html": [
       "<h3><code>altair.renderers.enable(\"ibis\", compile=True, extract=False, type='json')</code></h3>"
      ],
      "text/plain": [
       "<IPython.core.display.HTML object>"
      ]
     },
     "metadata": {},
     "output_type": "display_data"
    },
    {
     "data": {
      "application/json": {
       "$schema": "https://vega.github.io/schema/vega-lite/v2.6.0.json",
       "config": {
        "view": {
         "height": 300,
         "width": 400
        }
       },
       "data": {
        "name": "ibis_25"
       },
       "encoding": {
        "color": {
         "field": "lang",
         "scale": {
          "domain": [
           "en",
           "es",
           "fr"
          ],
          "range": [
           "#27aeef",
           "#87bc45",
           "#ef9b20"
          ]
         },
         "type": "nominal"
        },
        "x": {
         "bin": {
          "maxbins": 384
         },
         "field": "goog_x",
         "type": "quantitative"
        },
        "y": {
         "bin": {
          "maxbins": 564
         },
         "field": "goog_y",
         "type": "quantitative"
        }
       },
       "height": 564,
       "mark": "rect",
       "transform": [
        {
         "filter": {
          "field": "goog_x",
          "range": [
           -3650484.1235206556,
           7413325.514451755
          ]
         }
        },
        {
         "filter": {
          "field": "goog_y",
          "range": [
           -5778161.9183506705,
           10471808.487466192
          ]
         }
        }
       ],
       "width": 384
      },
      "text/plain": [
       "<IPython.core.display.JSON object>"
      ]
     },
     "metadata": {},
     "output_type": "display_data"
    },
    {
     "data": {
      "text/html": [
       "<h3><code>altair.renderers.enable(\"ibis\", compile=True, extract=False, type='sql')</code></h3>"
      ],
      "text/plain": [
       "<IPython.core.display.HTML object>"
      ]
     },
     "metadata": {},
     "output_type": "display_data"
    },
    {
     "data": {
      "text/html": [
       "<style>.output_html .hll { background-color: #ffffcc }\n",
       ".output_html  { background: #f8f8f8; }\n",
       ".output_html .c { color: #408080; font-style: italic } /* Comment */\n",
       ".output_html .err { border: 1px solid #FF0000 } /* Error */\n",
       ".output_html .k { color: #008000; font-weight: bold } /* Keyword */\n",
       ".output_html .o { color: #666666 } /* Operator */\n",
       ".output_html .ch { color: #408080; font-style: italic } /* Comment.Hashbang */\n",
       ".output_html .cm { color: #408080; font-style: italic } /* Comment.Multiline */\n",
       ".output_html .cp { color: #BC7A00 } /* Comment.Preproc */\n",
       ".output_html .cpf { color: #408080; font-style: italic } /* Comment.PreprocFile */\n",
       ".output_html .c1 { color: #408080; font-style: italic } /* Comment.Single */\n",
       ".output_html .cs { color: #408080; font-style: italic } /* Comment.Special */\n",
       ".output_html .gd { color: #A00000 } /* Generic.Deleted */\n",
       ".output_html .ge { font-style: italic } /* Generic.Emph */\n",
       ".output_html .gr { color: #FF0000 } /* Generic.Error */\n",
       ".output_html .gh { color: #000080; font-weight: bold } /* Generic.Heading */\n",
       ".output_html .gi { color: #00A000 } /* Generic.Inserted */\n",
       ".output_html .go { color: #888888 } /* Generic.Output */\n",
       ".output_html .gp { color: #000080; font-weight: bold } /* Generic.Prompt */\n",
       ".output_html .gs { font-weight: bold } /* Generic.Strong */\n",
       ".output_html .gu { color: #800080; font-weight: bold } /* Generic.Subheading */\n",
       ".output_html .gt { color: #0044DD } /* Generic.Traceback */\n",
       ".output_html .kc { color: #008000; font-weight: bold } /* Keyword.Constant */\n",
       ".output_html .kd { color: #008000; font-weight: bold } /* Keyword.Declaration */\n",
       ".output_html .kn { color: #008000; font-weight: bold } /* Keyword.Namespace */\n",
       ".output_html .kp { color: #008000 } /* Keyword.Pseudo */\n",
       ".output_html .kr { color: #008000; font-weight: bold } /* Keyword.Reserved */\n",
       ".output_html .kt { color: #B00040 } /* Keyword.Type */\n",
       ".output_html .m { color: #666666 } /* Literal.Number */\n",
       ".output_html .s { color: #BA2121 } /* Literal.String */\n",
       ".output_html .na { color: #7D9029 } /* Name.Attribute */\n",
       ".output_html .nb { color: #008000 } /* Name.Builtin */\n",
       ".output_html .nc { color: #0000FF; font-weight: bold } /* Name.Class */\n",
       ".output_html .no { color: #880000 } /* Name.Constant */\n",
       ".output_html .nd { color: #AA22FF } /* Name.Decorator */\n",
       ".output_html .ni { color: #999999; font-weight: bold } /* Name.Entity */\n",
       ".output_html .ne { color: #D2413A; font-weight: bold } /* Name.Exception */\n",
       ".output_html .nf { color: #0000FF } /* Name.Function */\n",
       ".output_html .nl { color: #A0A000 } /* Name.Label */\n",
       ".output_html .nn { color: #0000FF; font-weight: bold } /* Name.Namespace */\n",
       ".output_html .nt { color: #008000; font-weight: bold } /* Name.Tag */\n",
       ".output_html .nv { color: #19177C } /* Name.Variable */\n",
       ".output_html .ow { color: #AA22FF; font-weight: bold } /* Operator.Word */\n",
       ".output_html .w { color: #bbbbbb } /* Text.Whitespace */\n",
       ".output_html .mb { color: #666666 } /* Literal.Number.Bin */\n",
       ".output_html .mf { color: #666666 } /* Literal.Number.Float */\n",
       ".output_html .mh { color: #666666 } /* Literal.Number.Hex */\n",
       ".output_html .mi { color: #666666 } /* Literal.Number.Integer */\n",
       ".output_html .mo { color: #666666 } /* Literal.Number.Oct */\n",
       ".output_html .sa { color: #BA2121 } /* Literal.String.Affix */\n",
       ".output_html .sb { color: #BA2121 } /* Literal.String.Backtick */\n",
       ".output_html .sc { color: #BA2121 } /* Literal.String.Char */\n",
       ".output_html .dl { color: #BA2121 } /* Literal.String.Delimiter */\n",
       ".output_html .sd { color: #BA2121; font-style: italic } /* Literal.String.Doc */\n",
       ".output_html .s2 { color: #BA2121 } /* Literal.String.Double */\n",
       ".output_html .se { color: #BB6622; font-weight: bold } /* Literal.String.Escape */\n",
       ".output_html .sh { color: #BA2121 } /* Literal.String.Heredoc */\n",
       ".output_html .si { color: #BB6688; font-weight: bold } /* Literal.String.Interpol */\n",
       ".output_html .sx { color: #008000 } /* Literal.String.Other */\n",
       ".output_html .sr { color: #BB6688 } /* Literal.String.Regex */\n",
       ".output_html .s1 { color: #BA2121 } /* Literal.String.Single */\n",
       ".output_html .ss { color: #19177C } /* Literal.String.Symbol */\n",
       ".output_html .bp { color: #008000 } /* Name.Builtin.Pseudo */\n",
       ".output_html .fm { color: #0000FF } /* Name.Function.Magic */\n",
       ".output_html .vc { color: #19177C } /* Name.Variable.Class */\n",
       ".output_html .vg { color: #19177C } /* Name.Variable.Global */\n",
       ".output_html .vi { color: #19177C } /* Name.Variable.Instance */\n",
       ".output_html .vm { color: #19177C } /* Name.Variable.Magic */\n",
       ".output_html .il { color: #666666 } /* Literal.Number.Integer.Long */</style><div class=\"highlight\"><pre><span></span>SELECT &quot;goog_x&quot;, &quot;goog_y&quot;, &quot;lang&quot;\n",
       "FROM tweets_nov_feb\n",
       "</pre></div>\n"
      ],
      "text/latex": [
       "\\begin{Verbatim}[commandchars=\\\\\\{\\}]\n",
       "SELECT \\PYZdq{}goog\\PYZus{}x\\PYZdq{}, \\PYZdq{}goog\\PYZus{}y\\PYZdq{}, \\PYZdq{}lang\\PYZdq{}\n",
       "FROM tweets\\PYZus{}nov\\PYZus{}feb\n",
       "\\end{Verbatim}\n"
      ],
      "text/plain": [
       "SELECT \"goog_x\", \"goog_y\", \"lang\"\n",
       "FROM tweets_nov_feb"
      ]
     },
     "metadata": {},
     "output_type": "display_data"
    },
    {
     "data": {
      "text/html": [
       "<h3><code>altair.renderers.enable(\"ibis\", compile=True, extract=False, type='vl')</code></h3>"
      ],
      "text/plain": [
       "<IPython.core.display.HTML object>"
      ]
     },
     "metadata": {},
     "output_type": "display_data"
    },
    {
     "data": {
      "application/vnd.vegalite.v2+json": {
       "$schema": "https://vega.github.io/schema/vega-lite/v2.6.0.json",
       "config": {
        "view": {
         "height": 300,
         "width": 400
        }
       },
       "data": {
        "format": {
         "type": "json"
        },
        "url": "altair-data-e7e07d2039ebfd2ade16ca17141ac0b7.json"
       },
       "encoding": {
        "color": {
         "field": "lang",
         "scale": {
          "domain": [
           "en",
           "es",
           "fr"
          ],
          "range": [
           "#27aeef",
           "#87bc45",
           "#ef9b20"
          ]
         },
         "type": "nominal"
        },
        "x": {
         "bin": {
          "maxbins": 384
         },
         "field": "goog_x",
         "type": "quantitative"
        },
        "y": {
         "bin": {
          "maxbins": 564
         },
         "field": "goog_y",
         "type": "quantitative"
        }
       },
       "height": 564,
       "mark": "rect",
       "transform": [
        {
         "filter": {
          "field": "goog_x",
          "range": [
           -3650484.1235206556,
           7413325.514451755
          ]
         }
        },
        {
         "filter": {
          "field": "goog_y",
          "range": [
           -5778161.9183506705,
           10471808.487466192
          ]
         }
        }
       ],
       "width": 384
      },
      "image/png": "[encoded data removed]",
      "text/plain": [
       "<VegaLite 2 object>\n",
       "\n",
       "If you see this message, it means the renderer has not been properly enabled\n",
       "for the frontend that you are using. For more information, see\n",
       "https://altair-viz.github.io/user_guide/troubleshooting.html\n"
      ]
     },
     "metadata": {},
     "output_type": "display_data"
    },
    {
     "data": {
      "text/html": [
       "<h2>Extracted</h2>"
      ],
      "text/plain": [
       "<IPython.core.display.HTML object>"
      ]
     },
     "metadata": {},
     "output_type": "display_data"
    },
    {
     "data": {
      "text/html": [
       "<h3><code>altair.renderers.enable(\"ibis\", compile=False, extract=True, type='json')</code></h3>"
      ],
      "text/plain": [
       "<IPython.core.display.HTML object>"
      ]
     },
     "metadata": {},
     "output_type": "display_data"
    },
    {
     "data": {
      "application/json": {
       "$schema": "https://vega.github.io/schema/vega-lite/v2.6.0.json",
       "config": {
        "view": {
         "height": 300,
         "width": 400
        }
       },
       "data": {
        "name": "ibis_28"
       },
       "encoding": {
        "color": {
         "field": "lang",
         "scale": {
          "domain": [
           "en",
           "es",
           "fr"
          ],
          "range": [
           "#27aeef",
           "#87bc45",
           "#ef9b20"
          ]
         },
         "type": "nominal"
        },
        "x": {
         "bin": "binned",
         "field": "bin_maxbins_384_goog_x",
         "title": "goog_x (binned)",
         "type": "quantitative"
        },
        "x2": {
         "field": "bin_maxbins_384_goog_x_end",
         "type": "quantitative"
        },
        "y": {
         "bin": "binned",
         "field": "bin_maxbins_564_goog_y",
         "title": "goog_y (binned)",
         "type": "quantitative"
        },
        "y2": {
         "field": "bin_maxbins_564_goog_y_end",
         "type": "quantitative"
        }
       },
       "height": 564,
       "mark": "rect",
       "transform": [
        {
         "filter": {
          "field": "goog_x",
          "range": [
           -3650484.1235206556,
           7413325.514451755
          ]
         }
        },
        {
         "filter": {
          "field": "goog_y",
          "range": [
           -5778161.9183506705,
           10471808.487466192
          ]
         }
        },
        {
         "as": "bin_maxbins_384_goog_x",
         "bin": {
          "maxbins": 384
         },
         "field": "goog_x"
        },
        {
         "as": "bin_maxbins_564_goog_y",
         "bin": {
          "maxbins": 564
         },
         "field": "goog_y"
        }
       ],
       "width": 384
      },
      "text/plain": [
       "<IPython.core.display.JSON object>"
      ]
     },
     "metadata": {
      "application/json": {
       "expanded": false,
       "root": "root"
      }
     },
     "output_type": "display_data"
    },
    {
     "data": {
      "text/plain": []
     },
     "metadata": {},
     "output_type": "display_data"
    },
    {
     "data": {
      "text/html": [
       "<h3><code>altair.renderers.enable(\"ibis\", compile=False, extract=True, type='vl')</code></h3>"
      ],
      "text/plain": [
       "<IPython.core.display.HTML object>"
      ]
     },
     "metadata": {},
     "output_type": "display_data"
    },
    {
     "data": {
      "application/vnd.vegalite.v2+json": {
       "$schema": "https://vega.github.io/schema/vega-lite/v2.6.0.json",
       "config": {
        "view": {
         "height": 300,
         "width": 400
        }
       },
       "data": {
        "format": {
         "type": "json"
        },
        "url": "altair-data-e63296224b6c201507519a1370aa519c.json"
       },
       "encoding": {
        "color": {
         "field": "lang",
         "scale": {
          "domain": [
           "en",
           "es",
           "fr"
          ],
          "range": [
           "#27aeef",
           "#87bc45",
           "#ef9b20"
          ]
         },
         "type": "nominal"
        },
        "x": {
         "bin": "binned",
         "field": "bin_maxbins_384_goog_x",
         "title": "goog_x (binned)",
         "type": "quantitative"
        },
        "x2": {
         "field": "bin_maxbins_384_goog_x_end",
         "type": "quantitative"
        },
        "y": {
         "bin": "binned",
         "field": "bin_maxbins_564_goog_y",
         "title": "goog_y (binned)",
         "type": "quantitative"
        },
        "y2": {
         "field": "bin_maxbins_564_goog_y_end",
         "type": "quantitative"
        }
       },
       "height": 564,
       "mark": "rect",
       "transform": [
        {
         "filter": {
          "field": "goog_x",
          "range": [
           -3650484.1235206556,
           7413325.514451755
          ]
         }
        },
        {
         "filter": {
          "field": "goog_y",
          "range": [
           -5778161.9183506705,
           10471808.487466192
          ]
         }
        },
        {
         "as": "bin_maxbins_384_goog_x",
         "bin": {
          "maxbins": 384
         },
         "field": "goog_x"
        },
        {
         "as": "bin_maxbins_564_goog_y",
         "bin": {
          "maxbins": 564
         },
         "field": "goog_y"
        }
       ],
       "width": 384
      },
      "image/png": "[encoded data removed]",
      "text/plain": [
       "<VegaLite 2 object>\n",
       "\n",
       "If you see this message, it means the renderer has not been properly enabled\n",
       "for the frontend that you are using. For more information, see\n",
       "https://altair-viz.github.io/user_guide/troubleshooting.html\n"
      ]
     },
     "metadata": {},
     "output_type": "display_data"
    },
    {
     "data": {
      "text/plain": []
     },
     "metadata": {},
     "output_type": "display_data"
    },
    {
     "data": {
      "text/html": [
       "<h2>Extracted then Compiled</h2>"
      ],
      "text/plain": [
       "<IPython.core.display.HTML object>"
      ]
     },
     "metadata": {},
     "output_type": "display_data"
    },
    {
     "data": {
      "text/html": [
       "<h3><code>altair.renderers.enable(\"ibis\", compile=True, extract=True, type='json')</code></h3>"
      ],
      "text/plain": [
       "<IPython.core.display.HTML object>"
      ]
     },
     "metadata": {},
     "output_type": "display_data"
    },
    {
     "data": {
      "application/json": {
       "$schema": "https://vega.github.io/schema/vega-lite/v2.6.0.json",
       "config": {
        "view": {
         "height": 300,
         "width": 400
        }
       },
       "data": {
        "name": "ibis_30"
       },
       "encoding": {
        "color": {
         "field": "lang",
         "scale": {
          "domain": [
           "en",
           "es",
           "fr"
          ],
          "range": [
           "#27aeef",
           "#87bc45",
           "#ef9b20"
          ]
         },
         "type": "nominal"
        },
        "x": {
         "bin": "binned",
         "field": "bin_maxbins_384_goog_x",
         "title": "goog_x (binned)",
         "type": "quantitative"
        },
        "x2": {
         "field": "bin_maxbins_384_goog_x_end",
         "type": "quantitative"
        },
        "y": {
         "bin": "binned",
         "field": "bin_maxbins_564_goog_y",
         "title": "goog_y (binned)",
         "type": "quantitative"
        },
        "y2": {
         "field": "bin_maxbins_564_goog_y_end",
         "type": "quantitative"
        }
       },
       "height": 564,
       "mark": "rect",
       "transform": [
        {
         "filter": {
          "field": "goog_x",
          "range": [
           -3650484.1235206556,
           7413325.514451755
          ]
         }
        },
        {
         "filter": {
          "field": "goog_y",
          "range": [
           -5778161.9183506705,
           10471808.487466192
          ]
         }
        },
        {
         "as": "bin_maxbins_384_goog_x",
         "bin": {
          "maxbins": 384
         },
         "field": "goog_x"
        },
        {
         "as": "bin_maxbins_564_goog_y",
         "bin": {
          "maxbins": 564
         },
         "field": "goog_y"
        }
       ],
       "width": 384
      },
      "text/plain": [
       "<IPython.core.display.JSON object>"
      ]
     },
     "metadata": {
      "application/json": {
       "expanded": false,
       "root": "root"
      }
     },
     "output_type": "display_data"
    },
    {
     "data": {
      "text/plain": []
     },
     "metadata": {},
     "output_type": "display_data"
    },
    {
     "data": {
      "text/html": [
       "<h3><code>altair.renderers.enable(\"ibis\", compile=True, extract=True, type='sql')</code></h3>"
      ],
      "text/plain": [
       "<IPython.core.display.HTML object>"
      ]
     },
     "metadata": {},
     "output_type": "display_data"
    },
    {
     "data": {
      "text/html": [
       "<style>.output_html .hll { background-color: #ffffcc }\n",
       ".output_html  { background: #f8f8f8; }\n",
       ".output_html .c { color: #408080; font-style: italic } /* Comment */\n",
       ".output_html .err { border: 1px solid #FF0000 } /* Error */\n",
       ".output_html .k { color: #008000; font-weight: bold } /* Keyword */\n",
       ".output_html .o { color: #666666 } /* Operator */\n",
       ".output_html .ch { color: #408080; font-style: italic } /* Comment.Hashbang */\n",
       ".output_html .cm { color: #408080; font-style: italic } /* Comment.Multiline */\n",
       ".output_html .cp { color: #BC7A00 } /* Comment.Preproc */\n",
       ".output_html .cpf { color: #408080; font-style: italic } /* Comment.PreprocFile */\n",
       ".output_html .c1 { color: #408080; font-style: italic } /* Comment.Single */\n",
       ".output_html .cs { color: #408080; font-style: italic } /* Comment.Special */\n",
       ".output_html .gd { color: #A00000 } /* Generic.Deleted */\n",
       ".output_html .ge { font-style: italic } /* Generic.Emph */\n",
       ".output_html .gr { color: #FF0000 } /* Generic.Error */\n",
       ".output_html .gh { color: #000080; font-weight: bold } /* Generic.Heading */\n",
       ".output_html .gi { color: #00A000 } /* Generic.Inserted */\n",
       ".output_html .go { color: #888888 } /* Generic.Output */\n",
       ".output_html .gp { color: #000080; font-weight: bold } /* Generic.Prompt */\n",
       ".output_html .gs { font-weight: bold } /* Generic.Strong */\n",
       ".output_html .gu { color: #800080; font-weight: bold } /* Generic.Subheading */\n",
       ".output_html .gt { color: #0044DD } /* Generic.Traceback */\n",
       ".output_html .kc { color: #008000; font-weight: bold } /* Keyword.Constant */\n",
       ".output_html .kd { color: #008000; font-weight: bold } /* Keyword.Declaration */\n",
       ".output_html .kn { color: #008000; font-weight: bold } /* Keyword.Namespace */\n",
       ".output_html .kp { color: #008000 } /* Keyword.Pseudo */\n",
       ".output_html .kr { color: #008000; font-weight: bold } /* Keyword.Reserved */\n",
       ".output_html .kt { color: #B00040 } /* Keyword.Type */\n",
       ".output_html .m { color: #666666 } /* Literal.Number */\n",
       ".output_html .s { color: #BA2121 } /* Literal.String */\n",
       ".output_html .na { color: #7D9029 } /* Name.Attribute */\n",
       ".output_html .nb { color: #008000 } /* Name.Builtin */\n",
       ".output_html .nc { color: #0000FF; font-weight: bold } /* Name.Class */\n",
       ".output_html .no { color: #880000 } /* Name.Constant */\n",
       ".output_html .nd { color: #AA22FF } /* Name.Decorator */\n",
       ".output_html .ni { color: #999999; font-weight: bold } /* Name.Entity */\n",
       ".output_html .ne { color: #D2413A; font-weight: bold } /* Name.Exception */\n",
       ".output_html .nf { color: #0000FF } /* Name.Function */\n",
       ".output_html .nl { color: #A0A000 } /* Name.Label */\n",
       ".output_html .nn { color: #0000FF; font-weight: bold } /* Name.Namespace */\n",
       ".output_html .nt { color: #008000; font-weight: bold } /* Name.Tag */\n",
       ".output_html .nv { color: #19177C } /* Name.Variable */\n",
       ".output_html .ow { color: #AA22FF; font-weight: bold } /* Operator.Word */\n",
       ".output_html .w { color: #bbbbbb } /* Text.Whitespace */\n",
       ".output_html .mb { color: #666666 } /* Literal.Number.Bin */\n",
       ".output_html .mf { color: #666666 } /* Literal.Number.Float */\n",
       ".output_html .mh { color: #666666 } /* Literal.Number.Hex */\n",
       ".output_html .mi { color: #666666 } /* Literal.Number.Integer */\n",
       ".output_html .mo { color: #666666 } /* Literal.Number.Oct */\n",
       ".output_html .sa { color: #BA2121 } /* Literal.String.Affix */\n",
       ".output_html .sb { color: #BA2121 } /* Literal.String.Backtick */\n",
       ".output_html .sc { color: #BA2121 } /* Literal.String.Char */\n",
       ".output_html .dl { color: #BA2121 } /* Literal.String.Delimiter */\n",
       ".output_html .sd { color: #BA2121; font-style: italic } /* Literal.String.Doc */\n",
       ".output_html .s2 { color: #BA2121 } /* Literal.String.Double */\n",
       ".output_html .se { color: #BB6622; font-weight: bold } /* Literal.String.Escape */\n",
       ".output_html .sh { color: #BA2121 } /* Literal.String.Heredoc */\n",
       ".output_html .si { color: #BB6688; font-weight: bold } /* Literal.String.Interpol */\n",
       ".output_html .sx { color: #008000 } /* Literal.String.Other */\n",
       ".output_html .sr { color: #BB6688 } /* Literal.String.Regex */\n",
       ".output_html .s1 { color: #BA2121 } /* Literal.String.Single */\n",
       ".output_html .ss { color: #19177C } /* Literal.String.Symbol */\n",
       ".output_html .bp { color: #008000 } /* Name.Builtin.Pseudo */\n",
       ".output_html .fm { color: #0000FF } /* Name.Function.Magic */\n",
       ".output_html .vc { color: #19177C } /* Name.Variable.Class */\n",
       ".output_html .vg { color: #19177C } /* Name.Variable.Global */\n",
       ".output_html .vi { color: #19177C } /* Name.Variable.Instance */\n",
       ".output_html .vm { color: #19177C } /* Name.Variable.Magic */\n",
       ".output_html .il { color: #666666 } /* Literal.Number.Integer.Long */</style><div class=\"highlight\"><pre><span></span>SELECT &quot;goog_x&quot;, &quot;goog_y&quot;, &quot;lang&quot;\n",
       "FROM tweets_nov_feb\n",
       "</pre></div>\n"
      ],
      "text/latex": [
       "\\begin{Verbatim}[commandchars=\\\\\\{\\}]\n",
       "SELECT \\PYZdq{}goog\\PYZus{}x\\PYZdq{}, \\PYZdq{}goog\\PYZus{}y\\PYZdq{}, \\PYZdq{}lang\\PYZdq{}\n",
       "FROM tweets\\PYZus{}nov\\PYZus{}feb\n",
       "\\end{Verbatim}\n"
      ],
      "text/plain": [
       "SELECT \"goog_x\", \"goog_y\", \"lang\"\n",
       "FROM tweets_nov_feb"
      ]
     },
     "metadata": {},
     "output_type": "display_data"
    },
    {
     "data": {
      "text/plain": []
     },
     "metadata": {},
     "output_type": "display_data"
    },
    {
     "data": {
      "text/html": [
       "<h3><code>altair.renderers.enable(\"ibis\", compile=True, extract=True, type='vl')</code></h3>"
      ],
      "text/plain": [
       "<IPython.core.display.HTML object>"
      ]
     },
     "metadata": {},
     "output_type": "display_data"
    },
    {
     "data": {
      "application/vnd.vegalite.v2+json": {
       "$schema": "https://vega.github.io/schema/vega-lite/v2.6.0.json",
       "config": {
        "view": {
         "height": 300,
         "width": 400
        }
       },
       "data": {
        "format": {
         "type": "json"
        },
        "url": "altair-data-74bd0aa11ccdf892792c6290d5f36182.json"
       },
       "encoding": {
        "color": {
         "field": "lang",
         "scale": {
          "domain": [
           "en",
           "es",
           "fr"
          ],
          "range": [
           "#27aeef",
           "#87bc45",
           "#ef9b20"
          ]
         },
         "type": "nominal"
        },
        "x": {
         "bin": "binned",
         "field": "bin_maxbins_384_goog_x",
         "title": "goog_x (binned)",
         "type": "quantitative"
        },
        "x2": {
         "field": "bin_maxbins_384_goog_x_end",
         "type": "quantitative"
        },
        "y": {
         "bin": "binned",
         "field": "bin_maxbins_564_goog_y",
         "title": "goog_y (binned)",
         "type": "quantitative"
        },
        "y2": {
         "field": "bin_maxbins_564_goog_y_end",
         "type": "quantitative"
        }
       },
       "height": 564,
       "mark": "rect",
       "transform": [
        {
         "filter": {
          "field": "goog_x",
          "range": [
           -3650484.1235206556,
           7413325.514451755
          ]
         }
        },
        {
         "filter": {
          "field": "goog_y",
          "range": [
           -5778161.9183506705,
           10471808.487466192
          ]
         }
        },
        {
         "as": "bin_maxbins_384_goog_x",
         "bin": {
          "maxbins": 384
         },
         "field": "goog_x"
        },
        {
         "as": "bin_maxbins_564_goog_y",
         "bin": {
          "maxbins": 564
         },
         "field": "goog_y"
        }
       ],
       "width": 384
      },
      "image/png": "[encoded data removed]",
      "text/plain": [
       "<VegaLite 2 object>\n",
       "\n",
       "If you see this message, it means the renderer has not been properly enabled\n",
       "for the frontend that you are using. For more information, see\n",
       "https://altair-viz.github.io/user_guide/troubleshooting.html\n"
      ]
     },
     "metadata": {},
     "output_type": "display_data"
    },
    {
     "data": {
      "text/plain": []
     },
     "metadata": {},
     "output_type": "display_data"
    }
   ],
   "source": [
    "# can't set all to grey\n",
    "# https://github.com/vega/vega-lite/issues/4255\n",
    "\n",
    "jupyterlab_omnisci.display_chart(alt.Chart(\n",
    "    t[t.goog_x, t.goog_y, t.lang],\n",
    "    width=384,\n",
    "    height=564\n",
    ").mark_rect().encode(\n",
    "    alt.X('goog_x:Q', bin=alt.Bin(maxbins=384)),\n",
    "    alt.Y('goog_y:Q', bin=alt.Bin(maxbins=564)),\n",
    "    color=alt.Color(\n",
    "        'lang',\n",
    "        scale=alt.Scale(\n",
    "            domain=[\"en\",  \"es\", \"fr\"],\n",
    "            range=[\"#27aeef\", \"#87bc45\", \"#ef9b20\"],\n",
    "        ),\n",
    "    )\n",
    ").transform_filter(\n",
    "    alt.FieldRangePredicate(field='goog_x', range=[-3650484.1235206556, 7413325.514451755])\n",
    ").transform_filter(\n",
    "    alt.FieldRangePredicate(field='goog_y', range=[-5778161.9183506705, 10471808.487466192])\n",
    "))"
   ]
  },
  {
   "cell_type": "markdown",
   "metadata": {},
   "source": [
    "### \"Creating More Advanced Charts\""
   ]
  },
  {
   "cell_type": "code",
   "execution_count": 10,
   "metadata": {},
   "outputs": [],
   "source": [
    "t2 = conn.table(\"contributions_donotmodify\")"
   ]
  },
  {
   "cell_type": "code",
   "execution_count": 11,
   "metadata": {},
   "outputs": [
    {
     "data": {
      "text/html": [
       "<h3>Initial</h3>"
      ],
      "text/plain": [
       "<IPython.core.display.HTML object>"
      ]
     },
     "metadata": {},
     "output_type": "display_data"
    },
    {
     "data": {
      "text/html": [
       "<strong><code>altair.renderers.enable(\"ibis\", compile=False, extract=False, type='json')</code></strong>"
      ],
      "text/plain": [
       "<IPython.core.display.HTML object>"
      ]
     },
     "metadata": {},
     "output_type": "display_data"
    },
    {
     "data": {
      "application/json": {
       "$schema": "https://vega.github.io/schema/vega-lite/v2.6.0.json",
       "config": {
        "view": {
         "height": 300,
         "width": 400
        }
       },
       "data": {
        "name": "ibis_11"
       },
       "encoding": {
        "color": {
         "aggregate": "count",
         "field": "lon",
         "type": "quantitative"
        },
        "x": {
         "bin": {
          "maxbins": 733
         },
         "field": "lon",
         "type": "quantitative"
        },
        "y": {
         "bin": {
          "maxbins": 530
         },
         "field": "lat",
         "type": "quantitative"
        }
       },
       "height": 530,
       "mark": "rect",
       "transform": [
        {
         "filter": {
          "field": "lon",
          "range": [
           -124.39000000000038,
           -66.93999999999943
          ]
         }
        },
        {
         "filter": {
          "field": "lat",
          "range": [
           20.61570573311549,
           52.93117449504004
          ]
         }
        },
        {
         "filter": {
          "equal": "R",
          "field": "recipient_party"
         }
        },
        {
         "filter": {
          "field": "amount",
          "gt": 0
         }
        }
       ],
       "width": 733
      },
      "text/plain": [
       "<IPython.core.display.JSON object>"
      ]
     },
     "metadata": {},
     "output_type": "display_data"
    },
    {
     "data": {
      "text/html": [
       "<strong><code>altair.renderers.enable(\"ibis\", compile=False, extract=False, type='sql')</code></strong>"
      ],
      "text/plain": [
       "<IPython.core.display.HTML object>"
      ]
     },
     "metadata": {},
     "output_type": "display_data"
    },
    {
     "data": {
      "text/html": [
       "<style>.output_html .hll { background-color: #ffffcc }\n",
       ".output_html  { background: #f8f8f8; }\n",
       ".output_html .c { color: #408080; font-style: italic } /* Comment */\n",
       ".output_html .err { border: 1px solid #FF0000 } /* Error */\n",
       ".output_html .k { color: #008000; font-weight: bold } /* Keyword */\n",
       ".output_html .o { color: #666666 } /* Operator */\n",
       ".output_html .ch { color: #408080; font-style: italic } /* Comment.Hashbang */\n",
       ".output_html .cm { color: #408080; font-style: italic } /* Comment.Multiline */\n",
       ".output_html .cp { color: #BC7A00 } /* Comment.Preproc */\n",
       ".output_html .cpf { color: #408080; font-style: italic } /* Comment.PreprocFile */\n",
       ".output_html .c1 { color: #408080; font-style: italic } /* Comment.Single */\n",
       ".output_html .cs { color: #408080; font-style: italic } /* Comment.Special */\n",
       ".output_html .gd { color: #A00000 } /* Generic.Deleted */\n",
       ".output_html .ge { font-style: italic } /* Generic.Emph */\n",
       ".output_html .gr { color: #FF0000 } /* Generic.Error */\n",
       ".output_html .gh { color: #000080; font-weight: bold } /* Generic.Heading */\n",
       ".output_html .gi { color: #00A000 } /* Generic.Inserted */\n",
       ".output_html .go { color: #888888 } /* Generic.Output */\n",
       ".output_html .gp { color: #000080; font-weight: bold } /* Generic.Prompt */\n",
       ".output_html .gs { font-weight: bold } /* Generic.Strong */\n",
       ".output_html .gu { color: #800080; font-weight: bold } /* Generic.Subheading */\n",
       ".output_html .gt { color: #0044DD } /* Generic.Traceback */\n",
       ".output_html .kc { color: #008000; font-weight: bold } /* Keyword.Constant */\n",
       ".output_html .kd { color: #008000; font-weight: bold } /* Keyword.Declaration */\n",
       ".output_html .kn { color: #008000; font-weight: bold } /* Keyword.Namespace */\n",
       ".output_html .kp { color: #008000 } /* Keyword.Pseudo */\n",
       ".output_html .kr { color: #008000; font-weight: bold } /* Keyword.Reserved */\n",
       ".output_html .kt { color: #B00040 } /* Keyword.Type */\n",
       ".output_html .m { color: #666666 } /* Literal.Number */\n",
       ".output_html .s { color: #BA2121 } /* Literal.String */\n",
       ".output_html .na { color: #7D9029 } /* Name.Attribute */\n",
       ".output_html .nb { color: #008000 } /* Name.Builtin */\n",
       ".output_html .nc { color: #0000FF; font-weight: bold } /* Name.Class */\n",
       ".output_html .no { color: #880000 } /* Name.Constant */\n",
       ".output_html .nd { color: #AA22FF } /* Name.Decorator */\n",
       ".output_html .ni { color: #999999; font-weight: bold } /* Name.Entity */\n",
       ".output_html .ne { color: #D2413A; font-weight: bold } /* Name.Exception */\n",
       ".output_html .nf { color: #0000FF } /* Name.Function */\n",
       ".output_html .nl { color: #A0A000 } /* Name.Label */\n",
       ".output_html .nn { color: #0000FF; font-weight: bold } /* Name.Namespace */\n",
       ".output_html .nt { color: #008000; font-weight: bold } /* Name.Tag */\n",
       ".output_html .nv { color: #19177C } /* Name.Variable */\n",
       ".output_html .ow { color: #AA22FF; font-weight: bold } /* Operator.Word */\n",
       ".output_html .w { color: #bbbbbb } /* Text.Whitespace */\n",
       ".output_html .mb { color: #666666 } /* Literal.Number.Bin */\n",
       ".output_html .mf { color: #666666 } /* Literal.Number.Float */\n",
       ".output_html .mh { color: #666666 } /* Literal.Number.Hex */\n",
       ".output_html .mi { color: #666666 } /* Literal.Number.Integer */\n",
       ".output_html .mo { color: #666666 } /* Literal.Number.Oct */\n",
       ".output_html .sa { color: #BA2121 } /* Literal.String.Affix */\n",
       ".output_html .sb { color: #BA2121 } /* Literal.String.Backtick */\n",
       ".output_html .sc { color: #BA2121 } /* Literal.String.Char */\n",
       ".output_html .dl { color: #BA2121 } /* Literal.String.Delimiter */\n",
       ".output_html .sd { color: #BA2121; font-style: italic } /* Literal.String.Doc */\n",
       ".output_html .s2 { color: #BA2121 } /* Literal.String.Double */\n",
       ".output_html .se { color: #BB6622; font-weight: bold } /* Literal.String.Escape */\n",
       ".output_html .sh { color: #BA2121 } /* Literal.String.Heredoc */\n",
       ".output_html .si { color: #BB6688; font-weight: bold } /* Literal.String.Interpol */\n",
       ".output_html .sx { color: #008000 } /* Literal.String.Other */\n",
       ".output_html .sr { color: #BB6688 } /* Literal.String.Regex */\n",
       ".output_html .s1 { color: #BA2121 } /* Literal.String.Single */\n",
       ".output_html .ss { color: #19177C } /* Literal.String.Symbol */\n",
       ".output_html .bp { color: #008000 } /* Name.Builtin.Pseudo */\n",
       ".output_html .fm { color: #0000FF } /* Name.Function.Magic */\n",
       ".output_html .vc { color: #19177C } /* Name.Variable.Class */\n",
       ".output_html .vg { color: #19177C } /* Name.Variable.Global */\n",
       ".output_html .vi { color: #19177C } /* Name.Variable.Instance */\n",
       ".output_html .vm { color: #19177C } /* Name.Variable.Magic */\n",
       ".output_html .il { color: #666666 } /* Literal.Number.Integer.Long */</style><div class=\"highlight\"><pre><span></span>SELECT &quot;lon&quot;, &quot;lat&quot;, &quot;recipient_party&quot;, &quot;amount&quot;\n",
       "FROM contributions_donotmodify\n",
       "</pre></div>\n"
      ],
      "text/latex": [
       "\\begin{Verbatim}[commandchars=\\\\\\{\\}]\n",
       "SELECT \\PYZdq{}lon\\PYZdq{}, \\PYZdq{}lat\\PYZdq{}, \\PYZdq{}recipient\\PYZus{}party\\PYZdq{}, \\PYZdq{}amount\\PYZdq{}\n",
       "FROM contributions\\PYZus{}donotmodify\n",
       "\\end{Verbatim}\n"
      ],
      "text/plain": [
       "SELECT \"lon\", \"lat\", \"recipient_party\", \"amount\"\n",
       "FROM contributions_donotmodify"
      ]
     },
     "metadata": {},
     "output_type": "display_data"
    },
    {
     "data": {
      "text/html": [
       "<strong><code>altair.renderers.enable(\"ibis\", compile=False, extract=False, type='vl')</code></strong>"
      ],
      "text/plain": [
       "<IPython.core.display.HTML object>"
      ]
     },
     "metadata": {},
     "output_type": "display_data"
    },
    {
     "data": {
      "application/vnd.vegalite.v2+json": {
       "$schema": "https://vega.github.io/schema/vega-lite/v2.6.0.json",
       "config": {
        "view": {
         "height": 300,
         "width": 400
        }
       },
       "data": {
        "format": {
         "type": "json"
        },
        "url": "altair-data-deb9fa59e64f55e5bbbd82115c24c887.json"
       },
       "encoding": {
        "color": {
         "aggregate": "count",
         "field": "lon",
         "type": "quantitative"
        },
        "x": {
         "bin": {
          "maxbins": 733
         },
         "field": "lon",
         "type": "quantitative"
        },
        "y": {
         "bin": {
          "maxbins": 530
         },
         "field": "lat",
         "type": "quantitative"
        }
       },
       "height": 530,
       "mark": "rect",
       "transform": [
        {
         "filter": {
          "field": "lon",
          "range": [
           -124.39000000000038,
           -66.93999999999943
          ]
         }
        },
        {
         "filter": {
          "field": "lat",
          "range": [
           20.61570573311549,
           52.93117449504004
          ]
         }
        },
        {
         "filter": {
          "equal": "R",
          "field": "recipient_party"
         }
        },
        {
         "filter": {
          "field": "amount",
          "gt": 0
         }
        }
       ],
       "width": 733
      },
      "image/png": "[encoded data removed]",
      "text/plain": [
       "<VegaLite 2 object>\n",
       "\n",
       "If you see this message, it means the renderer has not been properly enabled\n",
       "for the frontend that you are using. For more information, see\n",
       "https://altair-viz.github.io/user_guide/troubleshooting.html\n"
      ]
     },
     "metadata": {},
     "output_type": "display_data"
    },
    {
     "data": {
      "text/html": [
       "<h3>Compiled</h3>"
      ],
      "text/plain": [
       "<IPython.core.display.HTML object>"
      ]
     },
     "metadata": {},
     "output_type": "display_data"
    },
    {
     "data": {
      "text/html": [
       "<strong><code>altair.renderers.enable(\"ibis\", compile=True, extract=False, type='json')</code></strong>"
      ],
      "text/plain": [
       "<IPython.core.display.HTML object>"
      ]
     },
     "metadata": {},
     "output_type": "display_data"
    },
    {
     "data": {
      "application/json": {
       "$schema": "https://vega.github.io/schema/vega-lite/v2.6.0.json",
       "config": {
        "view": {
         "height": 300,
         "width": 400
        }
       },
       "data": {
        "name": "ibis_14"
       },
       "encoding": {
        "color": {
         "aggregate": "count",
         "field": "lon",
         "type": "quantitative"
        },
        "x": {
         "bin": {
          "maxbins": 733
         },
         "field": "lon",
         "type": "quantitative"
        },
        "y": {
         "bin": {
          "maxbins": 530
         },
         "field": "lat",
         "type": "quantitative"
        }
       },
       "height": 530,
       "mark": "rect",
       "transform": [
        {
         "filter": {
          "field": "lon",
          "range": [
           -124.39000000000038,
           -66.93999999999943
          ]
         }
        },
        {
         "filter": {
          "field": "lat",
          "range": [
           20.61570573311549,
           52.93117449504004
          ]
         }
        },
        {
         "filter": {
          "equal": "R",
          "field": "recipient_party"
         }
        },
        {
         "filter": {
          "field": "amount",
          "gt": 0
         }
        }
       ],
       "width": 733
      },
      "text/plain": [
       "<IPython.core.display.JSON object>"
      ]
     },
     "metadata": {},
     "output_type": "display_data"
    },
    {
     "data": {
      "text/html": [
       "<strong><code>altair.renderers.enable(\"ibis\", compile=True, extract=False, type='sql')</code></strong>"
      ],
      "text/plain": [
       "<IPython.core.display.HTML object>"
      ]
     },
     "metadata": {},
     "output_type": "display_data"
    },
    {
     "data": {
      "text/html": [
       "<style>.output_html .hll { background-color: #ffffcc }\n",
       ".output_html  { background: #f8f8f8; }\n",
       ".output_html .c { color: #408080; font-style: italic } /* Comment */\n",
       ".output_html .err { border: 1px solid #FF0000 } /* Error */\n",
       ".output_html .k { color: #008000; font-weight: bold } /* Keyword */\n",
       ".output_html .o { color: #666666 } /* Operator */\n",
       ".output_html .ch { color: #408080; font-style: italic } /* Comment.Hashbang */\n",
       ".output_html .cm { color: #408080; font-style: italic } /* Comment.Multiline */\n",
       ".output_html .cp { color: #BC7A00 } /* Comment.Preproc */\n",
       ".output_html .cpf { color: #408080; font-style: italic } /* Comment.PreprocFile */\n",
       ".output_html .c1 { color: #408080; font-style: italic } /* Comment.Single */\n",
       ".output_html .cs { color: #408080; font-style: italic } /* Comment.Special */\n",
       ".output_html .gd { color: #A00000 } /* Generic.Deleted */\n",
       ".output_html .ge { font-style: italic } /* Generic.Emph */\n",
       ".output_html .gr { color: #FF0000 } /* Generic.Error */\n",
       ".output_html .gh { color: #000080; font-weight: bold } /* Generic.Heading */\n",
       ".output_html .gi { color: #00A000 } /* Generic.Inserted */\n",
       ".output_html .go { color: #888888 } /* Generic.Output */\n",
       ".output_html .gp { color: #000080; font-weight: bold } /* Generic.Prompt */\n",
       ".output_html .gs { font-weight: bold } /* Generic.Strong */\n",
       ".output_html .gu { color: #800080; font-weight: bold } /* Generic.Subheading */\n",
       ".output_html .gt { color: #0044DD } /* Generic.Traceback */\n",
       ".output_html .kc { color: #008000; font-weight: bold } /* Keyword.Constant */\n",
       ".output_html .kd { color: #008000; font-weight: bold } /* Keyword.Declaration */\n",
       ".output_html .kn { color: #008000; font-weight: bold } /* Keyword.Namespace */\n",
       ".output_html .kp { color: #008000 } /* Keyword.Pseudo */\n",
       ".output_html .kr { color: #008000; font-weight: bold } /* Keyword.Reserved */\n",
       ".output_html .kt { color: #B00040 } /* Keyword.Type */\n",
       ".output_html .m { color: #666666 } /* Literal.Number */\n",
       ".output_html .s { color: #BA2121 } /* Literal.String */\n",
       ".output_html .na { color: #7D9029 } /* Name.Attribute */\n",
       ".output_html .nb { color: #008000 } /* Name.Builtin */\n",
       ".output_html .nc { color: #0000FF; font-weight: bold } /* Name.Class */\n",
       ".output_html .no { color: #880000 } /* Name.Constant */\n",
       ".output_html .nd { color: #AA22FF } /* Name.Decorator */\n",
       ".output_html .ni { color: #999999; font-weight: bold } /* Name.Entity */\n",
       ".output_html .ne { color: #D2413A; font-weight: bold } /* Name.Exception */\n",
       ".output_html .nf { color: #0000FF } /* Name.Function */\n",
       ".output_html .nl { color: #A0A000 } /* Name.Label */\n",
       ".output_html .nn { color: #0000FF; font-weight: bold } /* Name.Namespace */\n",
       ".output_html .nt { color: #008000; font-weight: bold } /* Name.Tag */\n",
       ".output_html .nv { color: #19177C } /* Name.Variable */\n",
       ".output_html .ow { color: #AA22FF; font-weight: bold } /* Operator.Word */\n",
       ".output_html .w { color: #bbbbbb } /* Text.Whitespace */\n",
       ".output_html .mb { color: #666666 } /* Literal.Number.Bin */\n",
       ".output_html .mf { color: #666666 } /* Literal.Number.Float */\n",
       ".output_html .mh { color: #666666 } /* Literal.Number.Hex */\n",
       ".output_html .mi { color: #666666 } /* Literal.Number.Integer */\n",
       ".output_html .mo { color: #666666 } /* Literal.Number.Oct */\n",
       ".output_html .sa { color: #BA2121 } /* Literal.String.Affix */\n",
       ".output_html .sb { color: #BA2121 } /* Literal.String.Backtick */\n",
       ".output_html .sc { color: #BA2121 } /* Literal.String.Char */\n",
       ".output_html .dl { color: #BA2121 } /* Literal.String.Delimiter */\n",
       ".output_html .sd { color: #BA2121; font-style: italic } /* Literal.String.Doc */\n",
       ".output_html .s2 { color: #BA2121 } /* Literal.String.Double */\n",
       ".output_html .se { color: #BB6622; font-weight: bold } /* Literal.String.Escape */\n",
       ".output_html .sh { color: #BA2121 } /* Literal.String.Heredoc */\n",
       ".output_html .si { color: #BB6688; font-weight: bold } /* Literal.String.Interpol */\n",
       ".output_html .sx { color: #008000 } /* Literal.String.Other */\n",
       ".output_html .sr { color: #BB6688 } /* Literal.String.Regex */\n",
       ".output_html .s1 { color: #BA2121 } /* Literal.String.Single */\n",
       ".output_html .ss { color: #19177C } /* Literal.String.Symbol */\n",
       ".output_html .bp { color: #008000 } /* Name.Builtin.Pseudo */\n",
       ".output_html .fm { color: #0000FF } /* Name.Function.Magic */\n",
       ".output_html .vc { color: #19177C } /* Name.Variable.Class */\n",
       ".output_html .vg { color: #19177C } /* Name.Variable.Global */\n",
       ".output_html .vi { color: #19177C } /* Name.Variable.Instance */\n",
       ".output_html .vm { color: #19177C } /* Name.Variable.Magic */\n",
       ".output_html .il { color: #666666 } /* Literal.Number.Integer.Long */</style><div class=\"highlight\"><pre><span></span>SELECT &quot;lon&quot;, &quot;lat&quot;, &quot;recipient_party&quot;, &quot;amount&quot;\n",
       "FROM contributions_donotmodify\n",
       "</pre></div>\n"
      ],
      "text/latex": [
       "\\begin{Verbatim}[commandchars=\\\\\\{\\}]\n",
       "SELECT \\PYZdq{}lon\\PYZdq{}, \\PYZdq{}lat\\PYZdq{}, \\PYZdq{}recipient\\PYZus{}party\\PYZdq{}, \\PYZdq{}amount\\PYZdq{}\n",
       "FROM contributions\\PYZus{}donotmodify\n",
       "\\end{Verbatim}\n"
      ],
      "text/plain": [
       "SELECT \"lon\", \"lat\", \"recipient_party\", \"amount\"\n",
       "FROM contributions_donotmodify"
      ]
     },
     "metadata": {},
     "output_type": "display_data"
    },
    {
     "data": {
      "text/html": [
       "<strong><code>altair.renderers.enable(\"ibis\", compile=True, extract=False, type='vl')</code></strong>"
      ],
      "text/plain": [
       "<IPython.core.display.HTML object>"
      ]
     },
     "metadata": {},
     "output_type": "display_data"
    },
    {
     "data": {
      "application/vnd.vegalite.v2+json": {
       "$schema": "https://vega.github.io/schema/vega-lite/v2.6.0.json",
       "config": {
        "view": {
         "height": 300,
         "width": 400
        }
       },
       "data": {
        "format": {
         "type": "json"
        },
        "url": "altair-data-be74ffdd893913f9f3056b3fbc277a59.json"
       },
       "encoding": {
        "color": {
         "aggregate": "count",
         "field": "lon",
         "type": "quantitative"
        },
        "x": {
         "bin": {
          "maxbins": 733
         },
         "field": "lon",
         "type": "quantitative"
        },
        "y": {
         "bin": {
          "maxbins": 530
         },
         "field": "lat",
         "type": "quantitative"
        }
       },
       "height": 530,
       "mark": "rect",
       "transform": [
        {
         "filter": {
          "field": "lon",
          "range": [
           -124.39000000000038,
           -66.93999999999943
          ]
         }
        },
        {
         "filter": {
          "field": "lat",
          "range": [
           20.61570573311549,
           52.93117449504004
          ]
         }
        },
        {
         "filter": {
          "equal": "R",
          "field": "recipient_party"
         }
        },
        {
         "filter": {
          "field": "amount",
          "gt": 0
         }
        }
       ],
       "width": 733
      },
      "image/png": "[encoded data removed]",
      "text/plain": [
       "<VegaLite 2 object>\n",
       "\n",
       "If you see this message, it means the renderer has not been properly enabled\n",
       "for the frontend that you are using. For more information, see\n",
       "https://altair-viz.github.io/user_guide/troubleshooting.html\n"
      ]
     },
     "metadata": {},
     "output_type": "display_data"
    },
    {
     "data": {
      "text/html": [
       "<h3>Extracted</h3>"
      ],
      "text/plain": [
       "<IPython.core.display.HTML object>"
      ]
     },
     "metadata": {},
     "output_type": "display_data"
    },
    {
     "data": {
      "text/html": [
       "<strong><code>altair.renderers.enable(\"ibis\", compile=False, extract=True, type='json')</code></strong>"
      ],
      "text/plain": [
       "<IPython.core.display.HTML object>"
      ]
     },
     "metadata": {},
     "output_type": "display_data"
    },
    {
     "data": {
      "application/json": {
       "$schema": "https://vega.github.io/schema/vega-lite/v2.6.0.json",
       "config": {
        "view": {
         "height": 300,
         "width": 400
        }
       },
       "data": {
        "name": "ibis_17"
       },
       "encoding": {
        "color": {
         "field": "count_*",
         "title": "Number of Records",
         "type": "quantitative"
        },
        "x": {
         "bin": "binned",
         "field": "bin_maxbins_733_lon",
         "title": "lon (binned)",
         "type": "quantitative"
        },
        "x2": {
         "field": "bin_maxbins_733_lon_end",
         "type": "quantitative"
        },
        "y": {
         "bin": "binned",
         "field": "bin_maxbins_530_lat",
         "title": "lat (binned)",
         "type": "quantitative"
        },
        "y2": {
         "field": "bin_maxbins_530_lat_end",
         "type": "quantitative"
        }
       },
       "height": 530,
       "mark": "rect",
       "transform": [
        {
         "filter": {
          "field": "lon",
          "range": [
           -124.39000000000038,
           -66.93999999999943
          ]
         }
        },
        {
         "filter": {
          "field": "lat",
          "range": [
           20.61570573311549,
           52.93117449504004
          ]
         }
        },
        {
         "filter": {
          "equal": "R",
          "field": "recipient_party"
         }
        },
        {
         "filter": {
          "field": "amount",
          "gt": 0
         }
        },
        {
         "as": "bin_maxbins_733_lon",
         "bin": {
          "maxbins": 733
         },
         "field": "lon"
        },
        {
         "as": "bin_maxbins_530_lat",
         "bin": {
          "maxbins": 530
         },
         "field": "lat"
        },
        {
         "aggregate": [
          {
           "as": "count_*",
           "field": "lon",
           "op": "count"
          }
         ],
         "groupby": [
          "bin_maxbins_733_lon_end",
          "bin_maxbins_733_lon",
          "bin_maxbins_530_lat_end",
          "bin_maxbins_530_lat"
         ]
        }
       ],
       "width": 733
      },
      "text/plain": [
       "<IPython.core.display.JSON object>"
      ]
     },
     "metadata": {
      "application/json": {
       "expanded": false,
       "root": "root"
      }
     },
     "output_type": "display_data"
    },
    {
     "data": {
      "text/plain": []
     },
     "metadata": {},
     "output_type": "display_data"
    },
    {
     "data": {
      "text/html": [
       "<strong><code>altair.renderers.enable(\"ibis\", compile=False, extract=True, type='vl')</code></strong>"
      ],
      "text/plain": [
       "<IPython.core.display.HTML object>"
      ]
     },
     "metadata": {},
     "output_type": "display_data"
    },
    {
     "data": {
      "application/vnd.vegalite.v2+json": {
       "$schema": "https://vega.github.io/schema/vega-lite/v2.6.0.json",
       "config": {
        "view": {
         "height": 300,
         "width": 400
        }
       },
       "data": {
        "format": {
         "type": "json"
        },
        "url": "altair-data-2d3b64273c285ff757a7f2494558b56e.json"
       },
       "encoding": {
        "color": {
         "field": "count_*",
         "title": "Number of Records",
         "type": "quantitative"
        },
        "x": {
         "bin": "binned",
         "field": "bin_maxbins_733_lon",
         "title": "lon (binned)",
         "type": "quantitative"
        },
        "x2": {
         "field": "bin_maxbins_733_lon_end",
         "type": "quantitative"
        },
        "y": {
         "bin": "binned",
         "field": "bin_maxbins_530_lat",
         "title": "lat (binned)",
         "type": "quantitative"
        },
        "y2": {
         "field": "bin_maxbins_530_lat_end",
         "type": "quantitative"
        }
       },
       "height": 530,
       "mark": "rect",
       "transform": [
        {
         "filter": {
          "field": "lon",
          "range": [
           -124.39000000000038,
           -66.93999999999943
          ]
         }
        },
        {
         "filter": {
          "field": "lat",
          "range": [
           20.61570573311549,
           52.93117449504004
          ]
         }
        },
        {
         "filter": {
          "equal": "R",
          "field": "recipient_party"
         }
        },
        {
         "filter": {
          "field": "amount",
          "gt": 0
         }
        },
        {
         "as": "bin_maxbins_733_lon",
         "bin": {
          "maxbins": 733
         },
         "field": "lon"
        },
        {
         "as": "bin_maxbins_530_lat",
         "bin": {
          "maxbins": 530
         },
         "field": "lat"
        },
        {
         "aggregate": [
          {
           "as": "count_*",
           "field": "lon",
           "op": "count"
          }
         ],
         "groupby": [
          "bin_maxbins_733_lon_end",
          "bin_maxbins_733_lon",
          "bin_maxbins_530_lat_end",
          "bin_maxbins_530_lat"
         ]
        }
       ],
       "width": 733
      },
      "image/png": "[encoded data removed]",
      "text/plain": [
       "<VegaLite 2 object>\n",
       "\n",
       "If you see this message, it means the renderer has not been properly enabled\n",
       "for the frontend that you are using. For more information, see\n",
       "https://altair-viz.github.io/user_guide/troubleshooting.html\n"
      ]
     },
     "metadata": {},
     "output_type": "display_data"
    },
    {
     "data": {
      "text/plain": []
     },
     "metadata": {},
     "output_type": "display_data"
    },
    {
     "data": {
      "text/html": [
       "<h3>Extracted then Compiled</h3>"
      ],
      "text/plain": [
       "<IPython.core.display.HTML object>"
      ]
     },
     "metadata": {},
     "output_type": "display_data"
    },
    {
     "data": {
      "text/html": [
       "<strong><code>altair.renderers.enable(\"ibis\", compile=True, extract=True, type='json')</code></strong>"
      ],
      "text/plain": [
       "<IPython.core.display.HTML object>"
      ]
     },
     "metadata": {},
     "output_type": "display_data"
    },
    {
     "data": {
      "application/json": {
       "_": "Waiting for transformed spec..."
      },
      "text/plain": [
       "<IPython.core.display.JSON object>"
      ]
     },
     "metadata": {
      "application/json": {
       "expanded": false,
       "root": "root"
      }
     },
     "output_type": "display_data"
    },
    {
     "data": {
      "text/plain": []
     },
     "metadata": {},
     "output_type": "display_data"
    },
    {
     "data": {
      "text/html": [
       "<strong><code>altair.renderers.enable(\"ibis\", compile=True, extract=True, type='sql')</code></strong>"
      ],
      "text/plain": [
       "<IPython.core.display.HTML object>"
      ]
     },
     "metadata": {},
     "output_type": "display_data"
    },
    {
     "data": {
      "text/html": [
       "<style>.output_html .hll { background-color: #ffffcc }\n",
       ".output_html  { background: #f8f8f8; }\n",
       ".output_html .c { color: #408080; font-style: italic } /* Comment */\n",
       ".output_html .err { border: 1px solid #FF0000 } /* Error */\n",
       ".output_html .k { color: #008000; font-weight: bold } /* Keyword */\n",
       ".output_html .o { color: #666666 } /* Operator */\n",
       ".output_html .ch { color: #408080; font-style: italic } /* Comment.Hashbang */\n",
       ".output_html .cm { color: #408080; font-style: italic } /* Comment.Multiline */\n",
       ".output_html .cp { color: #BC7A00 } /* Comment.Preproc */\n",
       ".output_html .cpf { color: #408080; font-style: italic } /* Comment.PreprocFile */\n",
       ".output_html .c1 { color: #408080; font-style: italic } /* Comment.Single */\n",
       ".output_html .cs { color: #408080; font-style: italic } /* Comment.Special */\n",
       ".output_html .gd { color: #A00000 } /* Generic.Deleted */\n",
       ".output_html .ge { font-style: italic } /* Generic.Emph */\n",
       ".output_html .gr { color: #FF0000 } /* Generic.Error */\n",
       ".output_html .gh { color: #000080; font-weight: bold } /* Generic.Heading */\n",
       ".output_html .gi { color: #00A000 } /* Generic.Inserted */\n",
       ".output_html .go { color: #888888 } /* Generic.Output */\n",
       ".output_html .gp { color: #000080; font-weight: bold } /* Generic.Prompt */\n",
       ".output_html .gs { font-weight: bold } /* Generic.Strong */\n",
       ".output_html .gu { color: #800080; font-weight: bold } /* Generic.Subheading */\n",
       ".output_html .gt { color: #0044DD } /* Generic.Traceback */\n",
       ".output_html .kc { color: #008000; font-weight: bold } /* Keyword.Constant */\n",
       ".output_html .kd { color: #008000; font-weight: bold } /* Keyword.Declaration */\n",
       ".output_html .kn { color: #008000; font-weight: bold } /* Keyword.Namespace */\n",
       ".output_html .kp { color: #008000 } /* Keyword.Pseudo */\n",
       ".output_html .kr { color: #008000; font-weight: bold } /* Keyword.Reserved */\n",
       ".output_html .kt { color: #B00040 } /* Keyword.Type */\n",
       ".output_html .m { color: #666666 } /* Literal.Number */\n",
       ".output_html .s { color: #BA2121 } /* Literal.String */\n",
       ".output_html .na { color: #7D9029 } /* Name.Attribute */\n",
       ".output_html .nb { color: #008000 } /* Name.Builtin */\n",
       ".output_html .nc { color: #0000FF; font-weight: bold } /* Name.Class */\n",
       ".output_html .no { color: #880000 } /* Name.Constant */\n",
       ".output_html .nd { color: #AA22FF } /* Name.Decorator */\n",
       ".output_html .ni { color: #999999; font-weight: bold } /* Name.Entity */\n",
       ".output_html .ne { color: #D2413A; font-weight: bold } /* Name.Exception */\n",
       ".output_html .nf { color: #0000FF } /* Name.Function */\n",
       ".output_html .nl { color: #A0A000 } /* Name.Label */\n",
       ".output_html .nn { color: #0000FF; font-weight: bold } /* Name.Namespace */\n",
       ".output_html .nt { color: #008000; font-weight: bold } /* Name.Tag */\n",
       ".output_html .nv { color: #19177C } /* Name.Variable */\n",
       ".output_html .ow { color: #AA22FF; font-weight: bold } /* Operator.Word */\n",
       ".output_html .w { color: #bbbbbb } /* Text.Whitespace */\n",
       ".output_html .mb { color: #666666 } /* Literal.Number.Bin */\n",
       ".output_html .mf { color: #666666 } /* Literal.Number.Float */\n",
       ".output_html .mh { color: #666666 } /* Literal.Number.Hex */\n",
       ".output_html .mi { color: #666666 } /* Literal.Number.Integer */\n",
       ".output_html .mo { color: #666666 } /* Literal.Number.Oct */\n",
       ".output_html .sa { color: #BA2121 } /* Literal.String.Affix */\n",
       ".output_html .sb { color: #BA2121 } /* Literal.String.Backtick */\n",
       ".output_html .sc { color: #BA2121 } /* Literal.String.Char */\n",
       ".output_html .dl { color: #BA2121 } /* Literal.String.Delimiter */\n",
       ".output_html .sd { color: #BA2121; font-style: italic } /* Literal.String.Doc */\n",
       ".output_html .s2 { color: #BA2121 } /* Literal.String.Double */\n",
       ".output_html .se { color: #BB6622; font-weight: bold } /* Literal.String.Escape */\n",
       ".output_html .sh { color: #BA2121 } /* Literal.String.Heredoc */\n",
       ".output_html .si { color: #BB6688; font-weight: bold } /* Literal.String.Interpol */\n",
       ".output_html .sx { color: #008000 } /* Literal.String.Other */\n",
       ".output_html .sr { color: #BB6688 } /* Literal.String.Regex */\n",
       ".output_html .s1 { color: #BA2121 } /* Literal.String.Single */\n",
       ".output_html .ss { color: #19177C } /* Literal.String.Symbol */\n",
       ".output_html .bp { color: #008000 } /* Name.Builtin.Pseudo */\n",
       ".output_html .fm { color: #0000FF } /* Name.Function.Magic */\n",
       ".output_html .vc { color: #19177C } /* Name.Variable.Class */\n",
       ".output_html .vg { color: #19177C } /* Name.Variable.Global */\n",
       ".output_html .vi { color: #19177C } /* Name.Variable.Instance */\n",
       ".output_html .vm { color: #19177C } /* Name.Variable.Magic */\n",
       ".output_html .il { color: #666666 } /* Literal.Number.Integer.Long */</style><div class=\"highlight\"><pre><span></span>Waiting for transformed spec...\n",
       "</pre></div>\n"
      ],
      "text/latex": [
       "\\begin{Verbatim}[commandchars=\\\\\\{\\}]\n",
       "Waiting for transformed spec...\n",
       "\\end{Verbatim}\n"
      ],
      "text/plain": [
       "Waiting for transformed spec..."
      ]
     },
     "metadata": {},
     "output_type": "display_data"
    },
    {
     "data": {
      "text/plain": []
     },
     "metadata": {},
     "output_type": "display_data"
    },
    {
     "data": {
      "text/html": [
       "<strong><code>altair.renderers.enable(\"ibis\", compile=True, extract=True, type='vl')</code></strong>"
      ],
      "text/plain": [
       "<IPython.core.display.HTML object>"
      ]
     },
     "metadata": {},
     "output_type": "display_data"
    },
    {
     "data": {
      "application/vnd.vegalite.v2+json": {
       "data": {
        "values": []
       },
       "mark": "bar"
      },
      "image/png": "[encoded data removed]",
      "text/plain": [
       "<VegaLite 2 object>\n",
       "\n",
       "If you see this message, it means the renderer has not been properly enabled\n",
       "for the frontend that you are using. For more information, see\n",
       "https://altair-viz.github.io/user_guide/troubleshooting.html\n"
      ]
     },
     "metadata": {},
     "output_type": "display_data"
    },
    {
     "data": {
      "text/plain": []
     },
     "metadata": {},
     "output_type": "display_data"
    }
   ],
   "source": [
    "c = alt.Chart(\n",
    "    t2[t2.lon, t2.lat, t2.recipient_party, t2.amount],\n",
    "    width=733,\n",
    "    height=530\n",
    ").mark_rect().encode(\n",
    "    alt.X('lon:Q', bin=alt.Bin(maxbins=733)),\n",
    "    alt.Y('lat:Q', bin=alt.Bin(maxbins=530)),\n",
    "    alt.Color('count(lon):Q')\n",
    ").transform_filter(\n",
    "    alt.FieldRangePredicate(field='lon', range=[-124.39000000000038, -66.93999999999943])\n",
    ").transform_filter(\n",
    "    alt.FieldRangePredicate(field='lat', range=[20.61570573311549, 52.93117449504004])\n",
    ").transform_filter(\n",
    "    alt.FieldEqualPredicate('R', 'recipient_party'),\n",
    ").transform_filter(\n",
    "    alt.FieldGTPredicate('amount', 0)\n",
    ")\n",
    "jupyterlab_omnisci.display_chart(c)"
   ]
  },
  {
   "cell_type": "markdown",
   "metadata": {},
   "source": [
    "### \"Working with Polys Marks Type\""
   ]
  },
  {
   "cell_type": "markdown",
   "metadata": {},
   "source": [
    "TODO: Not sure how to query poly data with ibis"
   ]
  },
  {
   "cell_type": "markdown",
   "metadata": {},
   "source": [
    "## Vega Accumulator\n",
    "TODO: Add https://www.omnisci.com/docs/latest/6_vegaAccumulatorExample.html examples"
   ]
  }
 ],
 "metadata": {
  "kernelspec": {
   "display_name": "Python 3",
   "language": "python",
   "name": "python3"
  },
  "language_info": {
   "codemirror_mode": {
    "name": "ipython",
    "version": 3
   },
   "file_extension": ".py",
   "mimetype": "text/x-python",
   "name": "python",
   "nbconvert_exporter": "python",
   "pygments_lexer": "ipython3",
   "version": "3.6.6"
  }
 },
 "nbformat": 4,
 "nbformat_minor": 2
}
