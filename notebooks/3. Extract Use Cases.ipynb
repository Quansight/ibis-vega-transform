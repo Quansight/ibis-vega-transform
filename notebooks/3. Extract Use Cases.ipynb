{
 "cells": [
  {
   "cell_type": "markdown",
   "metadata": {},
   "source": [
    "# 3. Extract Transforms Use Cases\n",
    "\n",
    "In this notebook, I will show some use cases for extracting out the [transformations](https://vega.github.io/vega-lite/docs/transform.html) in a Vega Lite spec and computing them in the database instead of on the client. \n"
   ]
  },
  {
   "cell_type": "code",
   "execution_count": 1,
   "metadata": {},
   "outputs": [],
   "source": [
    "import altair as alt\n",
    "import ibis\n",
    "import omnisci_renderer"
   ]
  },
  {
   "cell_type": "code",
   "execution_count": null,
   "metadata": {},
   "outputs": [],
   "source": [
    "alt.data_transformers.enable('json')"
   ]
  },
  {
   "cell_type": "markdown",
   "metadata": {},
   "source": [
    "## Omnisci [Vega Tutorial](https://www.omnisci.com/docs/latest/6_vegaTutorials.html)\n",
    "\n",
    "First, let's go through the omnisci vega tutorial, but doing this all client side. We will that results don't look quite right since we will only get back a subset of rows from the backend, since there are too many.\n",
    "\n",
    "This makes the case for doing aggregates in the backend before sending the data."
   ]
  },
  {
   "cell_type": "code",
   "execution_count": 24,
   "metadata": {},
   "outputs": [
    {
     "name": "stdout",
     "output_type": "stream",
     "text": [
      "DatabaseTable[table]\n",
      "  name: contributions_donotmodify\n",
      "  schema:\n",
      "    id : int32\n",
      "    import_reference_id : int16\n",
      "    political_cycle : int16\n",
      "    transaction_namespace : string\n",
      "    transaction_id : string\n",
      "    transaction_type : string\n",
      "    filing_id : string\n",
      "    is_amendment : string\n",
      "    amount : int32\n",
      "    contrib_date : date\n",
      "    contributor_name : string\n",
      "    contributor_ext_id : string\n",
      "    contributor_type : string\n",
      "    contributor_occupation : string\n",
      "    contributor_employer : string\n",
      "    contributor_gender : string\n",
      "    contributor_address : string\n",
      "    contributor_city : string\n",
      "    contributor_state : string\n",
      "    contributor_zipcode : string\n",
      "    contributor_category : string\n",
      "    organization_name : string\n",
      "    organization_ext_id : string\n",
      "    parent_organization_name : string\n",
      "    parent_organization_ext_id : string\n",
      "    recipient_name : string\n",
      "    recipient_ext_id : string\n",
      "    recipient_party : string\n",
      "    recipient_type : string\n",
      "    recipient_state : string\n",
      "    recipient_state_held : string\n",
      "    recipient_category : string\n",
      "    committee_name : string\n",
      "    committee_ext_id : string\n",
      "    committee_party : string\n",
      "    candidacy_status : string\n",
      "    district : string\n",
      "    district_held : string\n",
      "    seat : string\n",
      "    seat_held : string\n",
      "    seat_status : string\n",
      "    seat_result : string\n",
      "    lon : float32\n",
      "    lat : float32\n",
      "    merc_x : float32\n",
      "    merc_y : float32\n"
     ]
    },
    {
     "data": {
      "text/html": [
       "<div>\n",
       "<style scoped>\n",
       "    .dataframe tbody tr th:only-of-type {\n",
       "        vertical-align: middle;\n",
       "    }\n",
       "\n",
       "    .dataframe tbody tr th {\n",
       "        vertical-align: top;\n",
       "    }\n",
       "\n",
       "    .dataframe thead th {\n",
       "        text-align: right;\n",
       "    }\n",
       "</style>\n",
       "<table border=\"1\" class=\"dataframe\">\n",
       "  <thead>\n",
       "    <tr style=\"text-align: right;\">\n",
       "      <th></th>\n",
       "      <th>id</th>\n",
       "      <th>import_reference_id</th>\n",
       "      <th>political_cycle</th>\n",
       "      <th>transaction_namespace</th>\n",
       "      <th>transaction_id</th>\n",
       "      <th>transaction_type</th>\n",
       "      <th>filing_id</th>\n",
       "      <th>is_amendment</th>\n",
       "      <th>amount</th>\n",
       "      <th>contrib_date</th>\n",
       "      <th>...</th>\n",
       "      <th>district</th>\n",
       "      <th>district_held</th>\n",
       "      <th>seat</th>\n",
       "      <th>seat_held</th>\n",
       "      <th>seat_status</th>\n",
       "      <th>seat_result</th>\n",
       "      <th>lon</th>\n",
       "      <th>lat</th>\n",
       "      <th>merc_x</th>\n",
       "      <th>merc_y</th>\n",
       "    </tr>\n",
       "  </thead>\n",
       "  <tbody>\n",
       "    <tr>\n",
       "      <th>0</th>\n",
       "      <td>227695503</td>\n",
       "      <td>755</td>\n",
       "      <td>2006</td>\n",
       "      <td>urn:fec:transaction</td>\n",
       "      <td>pac2pac:2006:1268023</td>\n",
       "      <td>24k</td>\n",
       "      <td>26960153890</td>\n",
       "      <td>f</td>\n",
       "      <td>2500</td>\n",
       "      <td>2006-05-01</td>\n",
       "      <td>...</td>\n",
       "      <td>None</td>\n",
       "      <td>None</td>\n",
       "      <td>None</td>\n",
       "      <td>None</td>\n",
       "      <td>None</td>\n",
       "      <td>None</td>\n",
       "      <td>-76.976280</td>\n",
       "      <td>38.897766</td>\n",
       "      <td>-8568961.0</td>\n",
       "      <td>4707038.0</td>\n",
       "    </tr>\n",
       "    <tr>\n",
       "      <th>1</th>\n",
       "      <td>227695504</td>\n",
       "      <td>755</td>\n",
       "      <td>2006</td>\n",
       "      <td>urn:fec:transaction</td>\n",
       "      <td>pac2pac:2006:1464721</td>\n",
       "      <td>24k</td>\n",
       "      <td>26960243605</td>\n",
       "      <td>f</td>\n",
       "      <td>15000</td>\n",
       "      <td>2006-06-09</td>\n",
       "      <td>...</td>\n",
       "      <td>None</td>\n",
       "      <td>None</td>\n",
       "      <td>None</td>\n",
       "      <td>None</td>\n",
       "      <td>None</td>\n",
       "      <td>None</td>\n",
       "      <td>-76.990608</td>\n",
       "      <td>38.880684</td>\n",
       "      <td>-8570556.0</td>\n",
       "      <td>4704595.0</td>\n",
       "    </tr>\n",
       "    <tr>\n",
       "      <th>2</th>\n",
       "      <td>227695505</td>\n",
       "      <td>755</td>\n",
       "      <td>2006</td>\n",
       "      <td>urn:fec:transaction</td>\n",
       "      <td>pac2pac:2006:2336151</td>\n",
       "      <td>24k</td>\n",
       "      <td>26930748494</td>\n",
       "      <td>t</td>\n",
       "      <td>1000</td>\n",
       "      <td>2006-03-08</td>\n",
       "      <td>...</td>\n",
       "      <td>None</td>\n",
       "      <td>None</td>\n",
       "      <td>None</td>\n",
       "      <td>None</td>\n",
       "      <td>None</td>\n",
       "      <td>None</td>\n",
       "      <td>-77.036903</td>\n",
       "      <td>38.903934</td>\n",
       "      <td>-8575709.0</td>\n",
       "      <td>4707920.5</td>\n",
       "    </tr>\n",
       "    <tr>\n",
       "      <th>3</th>\n",
       "      <td>227695506</td>\n",
       "      <td>755</td>\n",
       "      <td>2006</td>\n",
       "      <td>urn:fec:transaction</td>\n",
       "      <td>pac2pac:2006:0689394</td>\n",
       "      <td>24k</td>\n",
       "      <td>26990130323</td>\n",
       "      <td>f</td>\n",
       "      <td>5000</td>\n",
       "      <td>2005-12-20</td>\n",
       "      <td>...</td>\n",
       "      <td>None</td>\n",
       "      <td>None</td>\n",
       "      <td>None</td>\n",
       "      <td>None</td>\n",
       "      <td>None</td>\n",
       "      <td>None</td>\n",
       "      <td>-77.100998</td>\n",
       "      <td>38.878632</td>\n",
       "      <td>-8582844.0</td>\n",
       "      <td>4704301.5</td>\n",
       "    </tr>\n",
       "    <tr>\n",
       "      <th>4</th>\n",
       "      <td>227695519</td>\n",
       "      <td>755</td>\n",
       "      <td>2006</td>\n",
       "      <td>urn:fec:transaction</td>\n",
       "      <td>pac2pac:2006:1097694</td>\n",
       "      <td>24k</td>\n",
       "      <td>26940095108</td>\n",
       "      <td>f</td>\n",
       "      <td>5000</td>\n",
       "      <td>2006-03-30</td>\n",
       "      <td>...</td>\n",
       "      <td>None</td>\n",
       "      <td>None</td>\n",
       "      <td>None</td>\n",
       "      <td>None</td>\n",
       "      <td>None</td>\n",
       "      <td>None</td>\n",
       "      <td>-76.990608</td>\n",
       "      <td>38.880684</td>\n",
       "      <td>-8570556.0</td>\n",
       "      <td>4704595.0</td>\n",
       "    </tr>\n",
       "  </tbody>\n",
       "</table>\n",
       "<p>5 rows × 46 columns</p>\n",
       "</div>"
      ],
      "text/plain": [
       "          id  import_reference_id  political_cycle transaction_namespace  \\\n",
       "0  227695503                  755             2006   urn:fec:transaction   \n",
       "1  227695504                  755             2006   urn:fec:transaction   \n",
       "2  227695505                  755             2006   urn:fec:transaction   \n",
       "3  227695506                  755             2006   urn:fec:transaction   \n",
       "4  227695519                  755             2006   urn:fec:transaction   \n",
       "\n",
       "         transaction_id transaction_type    filing_id is_amendment  amount  \\\n",
       "0  pac2pac:2006:1268023              24k  26960153890            f    2500   \n",
       "1  pac2pac:2006:1464721              24k  26960243605            f   15000   \n",
       "2  pac2pac:2006:2336151              24k  26930748494            t    1000   \n",
       "3  pac2pac:2006:0689394              24k  26990130323            f    5000   \n",
       "4  pac2pac:2006:1097694              24k  26940095108            f    5000   \n",
       "\n",
       "  contrib_date    ...     district district_held  seat seat_held seat_status  \\\n",
       "0   2006-05-01    ...         None          None  None      None        None   \n",
       "1   2006-06-09    ...         None          None  None      None        None   \n",
       "2   2006-03-08    ...         None          None  None      None        None   \n",
       "3   2005-12-20    ...         None          None  None      None        None   \n",
       "4   2006-03-30    ...         None          None  None      None        None   \n",
       "\n",
       "  seat_result        lon        lat     merc_x     merc_y  \n",
       "0        None -76.976280  38.897766 -8568961.0  4707038.0  \n",
       "1        None -76.990608  38.880684 -8570556.0  4704595.0  \n",
       "2        None -77.036903  38.903934 -8575709.0  4707920.5  \n",
       "3        None -77.100998  38.878632 -8582844.0  4704301.5  \n",
       "4        None -76.990608  38.880684 -8570556.0  4704595.0  \n",
       "\n",
       "[5 rows x 46 columns]"
      ]
     },
     "execution_count": 24,
     "metadata": {},
     "output_type": "execute_result"
    }
   ],
   "source": [
    "conn = ibis.mapd.connect(\n",
    "    host='metis.mapd.com', user='mapd', password='HyperInteractive',\n",
    "    port=443, database='mapd', protocol= 'https'\n",
    ")\n",
    "t = conn.table(\"contributions_donotmodify\")\n",
    "print(t)\n",
    "t.head().execute()"
   ]
  },
  {
   "cell_type": "code",
   "execution_count": 34,
   "metadata": {},
   "outputs": [
    {
     "data": {
      "application/vnd.vegalite.v2+json": {
       "$schema": "https://vega.github.io/schema/vega-lite/v2.6.0.json",
       "config": {
        "view": {
         "height": 300,
         "width": 400
        }
       },
       "data": {
        "format": {
         "type": "json"
        },
        "url": "altair-data-7de6bb8e8a9a5704bec531b7ed8e4990.json"
       },
       "encoding": {
        "x": {
         "field": "recipient_party",
         "type": "nominal"
        },
        "y": {
         "field": "sum_amount",
         "title": "Sum of amount",
         "type": "quantitative"
        }
       },
       "mark": "bar",
       "transform": [
        {
         "aggregate": [
          {
           "as": "sum_amount",
           "field": "amount",
           "op": "sum"
          }
         ],
         "groupby": [
          "recipient_party"
         ]
        }
       ]
      },
      "image/png": "[encoded data removed]",
      "text/plain": [
       "<VegaLite 2 object>\n",
       "\n",
       "If you see this message, it means the renderer has not been properly enabled\n",
       "for the frontend that you are using. For more information, see\n",
       "https://altair-viz.github.io/user_guide/troubleshooting.html\n"
      ]
     },
     "metadata": {},
     "output_type": "display_data"
    },
    {
     "data": {
      "text/plain": []
     },
     "execution_count": 34,
     "metadata": {},
     "output_type": "execute_result"
    }
   ],
   "source": [
    "c = alt.Chart(t[t.recipient_party, t.amount]).mark_bar().encode(\n",
    "    x='recipient_party:nominal',\n",
    "    y='sum(amount)'\n",
    ")\n",
    "c"
   ]
  },
  {
   "cell_type": "code",
   "execution_count": 43,
   "metadata": {},
   "outputs": [
    {
     "data": {
      "application/json": {
       "$schema": "https://vega.github.io/schema/vega-lite/v2.6.0.json",
       "config": {
        "view": {
         "height": 300,
         "width": 400
        }
       },
       "data": {
        "format": {
         "type": "json"
        },
        "url": "altair-data-4c95295167c478da83731560a645d5e9.json"
       },
       "encoding": {
        "x": {
         "field": "recipient_party",
         "type": "nominal"
        },
        "y": {
         "field": "sum_amount",
         "title": "Sum of amount",
         "type": "quantitative"
        }
       },
       "mark": "bar",
       "transform": [
        {
         "aggregate": [
          {
           "as": "sum_amount",
           "field": "amount",
           "op": "sum"
          }
         ],
         "groupby": [
          "recipient_party"
         ]
        }
       ]
      },
      "text/plain": [
       "<IPython.core.display.JSON object>"
      ]
     },
     "metadata": {
      "application/json": {
       "expanded": false,
       "root": "root"
      }
     },
     "output_type": "display_data"
    },
    {
     "data": {
      "text/plain": []
     },
     "execution_count": 43,
     "metadata": {},
     "output_type": "execute_result"
    }
   ],
   "source": [
    "alt.renderers.enable('extract-json')\n",
    "c"
   ]
  },
  {
   "cell_type": "code",
   "execution_count": null,
   "metadata": {},
   "outputs": [],
   "source": []
  }
 ],
 "metadata": {
  "kernelspec": {
   "display_name": "Python 3",
   "language": "python",
   "name": "python3"
  },
  "language_info": {
   "codemirror_mode": {
    "name": "ipython",
    "version": 3
   },
   "file_extension": ".py",
   "mimetype": "text/x-python",
   "name": "python",
   "nbconvert_exporter": "python",
   "pygments_lexer": "ipython3",
   "version": "3.6.6"
  }
 },
 "nbformat": 4,
 "nbformat_minor": 2
}
