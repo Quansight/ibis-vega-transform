{
 "cells": [
  {
   "cell_type": "markdown",
   "metadata": {},
   "source": [
    "# 4. Extract Transforms Use Cases - VL Example\n",
    "\n",
    "In this notebook, I will show some use cases for extracting out the [transformations](https://vega.github.io/vega-lite/docs/transform.html) in a Vega Lite spec and computing them in the database instead of on the client. \n",
    "\n",
    "We use the same examples that the VL team came up with to demo this functionality: https://vega.github.io/vega-lite-transforms2sql/\n"
   ]
  },
  {
   "cell_type": "code",
   "execution_count": 1,
   "metadata": {},
   "outputs": [],
   "source": [
    "import altair as alt\n",
    "import ibis\n",
    "import omnisci_renderer"
   ]
  },
  {
   "cell_type": "code",
   "execution_count": 2,
   "metadata": {},
   "outputs": [
    {
     "data": {
      "text/plain": [
       "DataTransformerRegistry.enable('json')"
      ]
     },
     "execution_count": 2,
     "metadata": {},
     "output_type": "execute_result"
    }
   ],
   "source": [
    "alt.data_transformers.enable('json')"
   ]
  },
  {
   "cell_type": "markdown",
   "metadata": {},
   "source": [
    "Let's recreate the first example, counting the carrier names:"
   ]
  },
  {
   "cell_type": "code",
   "execution_count": 8,
   "metadata": {},
   "outputs": [],
   "source": [
    "conn = ibis.mapd.connect(\n",
    "    host='metis.mapd.com', user='mapd', password='HyperInteractive',\n",
    "    port=443, database='mapd', protocol= 'https'\n",
    ")\n",
    "t = conn.table(\"flights_donotmodify\")"
   ]
  },
  {
   "cell_type": "markdown",
   "metadata": {},
   "source": [
    "Using the `display_chart` function we can get a debugging view of how we render this chart.\n",
    "\n",
    "We start by putting it through Altair's default pipeline and we see we get a chart without all the data, because we are capped at retrieving all the rows.\n",
    "\n",
    "Then we can see the Vega Lite JSON after extracting the transformings, then we can plot that directly. Still not all the data, b/c we are still doing transformations (counting in this case) client side.\n",
    "\n",
    "Finally, we can move the transformations to the backend, by turning them into ibis expressions and getting the transformed data. This should show the right plot.\n",
    "\n",
    "NOTE: This example is  currently broken, depending on https://github.com/ibis-project/ibis/pull/1675"
   ]
  },
  {
   "cell_type": "code",
   "execution_count": 12,
   "metadata": {},
   "outputs": [
    {
     "data": {
      "text/plain": [
       "'json'"
      ]
     },
     "metadata": {},
     "output_type": "display_data"
    },
    {
     "data": {
      "application/json": {
       "$schema": "https://vega.github.io/schema/vega-lite/v2.6.0.json",
       "config": {
        "view": {
         "height": 300,
         "width": 400
        }
       },
       "data": {
        "format": {
         "type": "json"
        },
        "url": "altair-data-98029d60d40532219c0937c27b9e2f78.json"
       },
       "encoding": {
        "x": {
         "field": "carrier_name",
         "type": "nominal"
        },
        "y": {
         "aggregate": "count",
         "type": "quantitative"
        }
       },
       "mark": "bar"
      },
      "text/plain": [
       "<VegaLite 2 object>\n",
       "\n",
       "If you see this message, it means the renderer has not been properly enabled\n",
       "for the frontend that you are using. For more information, see\n",
       "https://altair-viz.github.io/user_guide/troubleshooting.html\n"
      ]
     },
     "metadata": {},
     "output_type": "display_data"
    },
    {
     "data": {
      "text/plain": [
       "'default'"
      ]
     },
     "metadata": {},
     "output_type": "display_data"
    },
    {
     "data": {
      "application/vnd.vegalite.v2+json": {
       "$schema": "https://vega.github.io/schema/vega-lite/v2.6.0.json",
       "config": {
        "view": {
         "height": 300,
         "width": 400
        }
       },
       "data": {
        "format": {
         "type": "json"
        },
        "url": "altair-data-98029d60d40532219c0937c27b9e2f78.json"
       },
       "encoding": {
        "x": {
         "field": "carrier_name",
         "type": "nominal"
        },
        "y": {
         "aggregate": "count",
         "type": "quantitative"
        }
       },
       "mark": "bar"
      },
      "image/png": "[encoded data removed]",
      "text/plain": [
       "<VegaLite 2 object>\n",
       "\n",
       "If you see this message, it means the renderer has not been properly enabled\n",
       "for the frontend that you are using. For more information, see\n",
       "https://altair-viz.github.io/user_guide/troubleshooting.html\n"
      ]
     },
     "metadata": {},
     "output_type": "display_data"
    },
    {
     "data": {
      "text/plain": [
       "'extract-json'"
      ]
     },
     "metadata": {},
     "output_type": "display_data"
    },
    {
     "data": {
      "application/json": {
       "$schema": "https://vega.github.io/schema/vega-lite/v2.6.0.json",
       "config": {
        "view": {
         "height": 300,
         "width": 400
        }
       },
       "data": {
        "format": {
         "type": "json"
        },
        "url": "altair-data-98029d60d40532219c0937c27b9e2f78.json"
       },
       "encoding": {
        "x": {
         "field": "carrier_name",
         "type": "nominal"
        },
        "y": {
         "field": "count_*",
         "title": "Number of Records",
         "type": "quantitative"
        }
       },
       "mark": "bar",
       "transform": [
        {
         "aggregate": [
          {
           "as": "count_*",
           "op": "count"
          }
         ],
         "groupby": [
          "carrier_name"
         ]
        }
       ]
      },
      "text/plain": [
       "<IPython.core.display.JSON object>"
      ]
     },
     "metadata": {
      "application/json": {
       "expanded": false,
       "root": "root"
      }
     },
     "output_type": "display_data"
    },
    {
     "data": {
      "text/plain": [
       "'extract'"
      ]
     },
     "metadata": {},
     "output_type": "display_data"
    },
    {
     "data": {
      "application/vnd.vegalite.v2+json": {
       "$schema": "https://vega.github.io/schema/vega-lite/v2.6.0.json",
       "config": {
        "view": {
         "height": 300,
         "width": 400
        }
       },
       "data": {
        "format": {
         "type": "json"
        },
        "url": "altair-data-98029d60d40532219c0937c27b9e2f78.json"
       },
       "encoding": {
        "x": {
         "field": "carrier_name",
         "type": "nominal"
        },
        "y": {
         "field": "count_*",
         "title": "Number of Records",
         "type": "quantitative"
        }
       },
       "mark": "bar",
       "transform": [
        {
         "aggregate": [
          {
           "as": "count_*",
           "op": "count"
          }
         ],
         "groupby": [
          "carrier_name"
         ]
        }
       ]
      },
      "image/png": "[encoded data removed]",
      "text/plain": [
       "<VegaLite 2 object>\n",
       "\n",
       "If you see this message, it means the renderer has not been properly enabled\n",
       "for the frontend that you are using. For more information, see\n",
       "https://altair-viz.github.io/user_guide/troubleshooting.html\n"
      ]
     },
     "metadata": {},
     "output_type": "display_data"
    },
    {
     "data": {
      "text/plain": [
       "'extract-ibis'"
      ]
     },
     "metadata": {},
     "output_type": "display_data"
    },
    {
     "data": {
      "application/vnd.vegalite.v2+json": {
       "data": {
        "values": []
       },
       "mark": "bar"
      },
      "image/png": "[encoded data removed]",
      "text/plain": [
       "<VegaLite 2 object>\n",
       "\n",
       "If you see this message, it means the renderer has not been properly enabled\n",
       "for the frontend that you are using. For more information, see\n",
       "https://altair-viz.github.io/user_guide/troubleshooting.html\n"
      ]
     },
     "metadata": {},
     "output_type": "display_data"
    }
   ],
   "source": [
    "c = alt.Chart(t[t.carrier_name]).mark_bar().encode(\n",
    "    x='carrier_name',\n",
    "    y='count()'\n",
    ")\n",
    "omnisci_renderer.display_chart(c)"
   ]
  },
  {
   "cell_type": "code",
   "execution_count": 10,
   "metadata": {},
   "outputs": [
    {
     "data": {
      "text/plain": [
       "'json'"
      ]
     },
     "metadata": {},
     "output_type": "display_data"
    },
    {
     "data": {
      "application/json": {
       "$schema": "https://vega.github.io/schema/vega-lite/v2.6.0.json",
       "config": {
        "view": {
         "height": 300,
         "width": 400
        }
       },
       "data": {
        "format": {
         "type": "json"
        },
        "url": "altair-data-8cc4c96ee93fddc15cc57edf4631bb77.json"
       },
       "encoding": {
        "color": {
         "aggregate": "average",
         "field": "depdelay",
         "type": "quantitative"
        },
        "x": {
         "field": "flight_dayofmonth",
         "type": "ordinal"
        },
        "y": {
         "field": "flight_month",
         "type": "ordinal"
        }
       },
       "mark": "rect"
      },
      "text/plain": [
       "<VegaLite 2 object>\n",
       "\n",
       "If you see this message, it means the renderer has not been properly enabled\n",
       "for the frontend that you are using. For more information, see\n",
       "https://altair-viz.github.io/user_guide/troubleshooting.html\n"
      ]
     },
     "metadata": {},
     "output_type": "display_data"
    },
    {
     "data": {
      "text/plain": [
       "'default'"
      ]
     },
     "metadata": {},
     "output_type": "display_data"
    },
    {
     "data": {
      "application/vnd.vegalite.v2+json": {
       "$schema": "https://vega.github.io/schema/vega-lite/v2.6.0.json",
       "config": {
        "view": {
         "height": 300,
         "width": 400
        }
       },
       "data": {
        "format": {
         "type": "json"
        },
        "url": "altair-data-8cc4c96ee93fddc15cc57edf4631bb77.json"
       },
       "encoding": {
        "color": {
         "aggregate": "average",
         "field": "depdelay",
         "type": "quantitative"
        },
        "x": {
         "field": "flight_dayofmonth",
         "type": "ordinal"
        },
        "y": {
         "field": "flight_month",
         "type": "ordinal"
        }
       },
       "mark": "rect"
      },
      "image/png": "[encoded data removed]",
      "text/plain": [
       "<VegaLite 2 object>\n",
       "\n",
       "If you see this message, it means the renderer has not been properly enabled\n",
       "for the frontend that you are using. For more information, see\n",
       "https://altair-viz.github.io/user_guide/troubleshooting.html\n"
      ]
     },
     "metadata": {},
     "output_type": "display_data"
    },
    {
     "data": {
      "text/plain": [
       "'extract-json'"
      ]
     },
     "metadata": {},
     "output_type": "display_data"
    },
    {
     "data": {
      "application/json": {
       "$schema": "https://vega.github.io/schema/vega-lite/v2.6.0.json",
       "config": {
        "view": {
         "height": 300,
         "width": 400
        }
       },
       "data": {
        "format": {
         "type": "json"
        },
        "url": "altair-data-8cc4c96ee93fddc15cc57edf4631bb77.json"
       },
       "encoding": {
        "color": {
         "field": "average_depdelay",
         "title": "Average of depdelay",
         "type": "quantitative"
        },
        "x": {
         "field": "flight_dayofmonth",
         "type": "ordinal"
        },
        "y": {
         "field": "flight_month",
         "type": "ordinal"
        }
       },
       "mark": "rect",
       "transform": [
        {
         "aggregate": [
          {
           "as": "average_depdelay",
           "field": "depdelay",
           "op": "average"
          }
         ],
         "groupby": [
          "flight_dayofmonth",
          "flight_month"
         ]
        }
       ]
      },
      "text/plain": [
       "<IPython.core.display.JSON object>"
      ]
     },
     "metadata": {
      "application/json": {
       "expanded": false,
       "root": "root"
      }
     },
     "output_type": "display_data"
    },
    {
     "data": {
      "text/plain": [
       "'extract'"
      ]
     },
     "metadata": {},
     "output_type": "display_data"
    },
    {
     "data": {
      "application/vnd.vegalite.v2+json": {
       "$schema": "https://vega.github.io/schema/vega-lite/v2.6.0.json",
       "config": {
        "view": {
         "height": 300,
         "width": 400
        }
       },
       "data": {
        "format": {
         "type": "json"
        },
        "url": "altair-data-8cc4c96ee93fddc15cc57edf4631bb77.json"
       },
       "encoding": {
        "color": {
         "field": "average_depdelay",
         "title": "Average of depdelay",
         "type": "quantitative"
        },
        "x": {
         "field": "flight_dayofmonth",
         "type": "ordinal"
        },
        "y": {
         "field": "flight_month",
         "type": "ordinal"
        }
       },
       "mark": "rect",
       "transform": [
        {
         "aggregate": [
          {
           "as": "average_depdelay",
           "field": "depdelay",
           "op": "average"
          }
         ],
         "groupby": [
          "flight_dayofmonth",
          "flight_month"
         ]
        }
       ]
      },
      "image/png": "[encoded data removed]",
      "text/plain": [
       "<VegaLite 2 object>\n",
       "\n",
       "If you see this message, it means the renderer has not been properly enabled\n",
       "for the frontend that you are using. For more information, see\n",
       "https://altair-viz.github.io/user_guide/troubleshooting.html\n"
      ]
     },
     "metadata": {},
     "output_type": "display_data"
    },
    {
     "data": {
      "text/plain": [
       "'extract-ibis'"
      ]
     },
     "metadata": {},
     "output_type": "display_data"
    },
    {
     "data": {
      "application/vnd.vegalite.v2+json": {
       "$schema": "https://vega.github.io/schema/vega-lite/v2.6.0.json",
       "_query": "SELECT \"flight_dayofmonth\", \"flight_month\",\n       avg(\"depdelay\") AS average_depdelay\nFROM (\n  SELECT \"flight_dayofmonth\", \"flight_month\", \"depdelay\"\n  FROM flights_donotmodify\n) t0\nGROUP BY flight_dayofmonth, flight_month",
       "config": {
        "view": {
         "height": 300,
         "width": 400
        }
       },
       "data": {
        "format": {
         "type": "json"
        },
        "url": "altair-data-de8a7b2d39ae9c9241e47d902adf001c.json"
       },
       "encoding": {
        "color": {
         "field": "average_depdelay",
         "title": "Average of depdelay",
         "type": "quantitative"
        },
        "x": {
         "field": "flight_dayofmonth",
         "type": "ordinal"
        },
        "y": {
         "field": "flight_month",
         "type": "ordinal"
        }
       },
       "mark": "rect",
       "transform": [
        {}
       ]
      },
      "image/png": "[encoded data removed]",
      "text/plain": [
       "<VegaLite 2 object>\n",
       "\n",
       "If you see this message, it means the renderer has not been properly enabled\n",
       "for the frontend that you are using. For more information, see\n",
       "https://altair-viz.github.io/user_guide/troubleshooting.html\n"
      ]
     },
     "metadata": {},
     "output_type": "display_data"
    }
   ],
   "source": [
    "alt.renderers.enable('default')\n",
    "\n",
    "c = alt.Chart(t[t.flight_dayofmonth, t.flight_month, t.depdelay]).mark_rect().encode(\n",
    "    x='flight_dayofmonth:O',\n",
    "    y='flight_month:O',\n",
    "    color='average(depdelay)'\n",
    ")\n",
    "omnisci_renderer.display_chart(c)"
   ]
  },
  {
   "cell_type": "code",
   "execution_count": null,
   "metadata": {},
   "outputs": [],
   "source": []
  }
 ],
 "metadata": {
  "kernelspec": {
   "display_name": "Python 3",
   "language": "python",
   "name": "python3"
  },
  "language_info": {
   "codemirror_mode": {
    "name": "ipython",
    "version": 3
   },
   "file_extension": ".py",
   "mimetype": "text/x-python",
   "name": "python",
   "nbconvert_exporter": "python",
   "pygments_lexer": "ipython3",
   "version": "3.6.6"
  }
 },
 "nbformat": 4,
 "nbformat_minor": 2
}
