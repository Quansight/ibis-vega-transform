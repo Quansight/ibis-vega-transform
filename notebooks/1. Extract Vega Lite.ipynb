{
 "cells": [
  {
   "cell_type": "markdown",
   "metadata": {},
   "source": [
    "We have packaged `extractTransform` from Vega Lite up as a mime renderer:"
   ]
  },
  {
   "cell_type": "code",
   "execution_count": 2,
   "metadata": {},
   "outputs": [],
   "source": [
    "from IPython.display import display\n",
    "from jupyterlab_omnisci.altair import VegaLite, extract_spec, EMPTY_SPEC"
   ]
  },
  {
   "cell_type": "markdown",
   "metadata": {},
   "source": [
    "Let's use this example vega lite, which we put in a class so that it is rendered:"
   ]
  },
  {
   "cell_type": "code",
   "execution_count": 3,
   "metadata": {},
   "outputs": [
    {
     "data": {
      "application/vnd.vegalite.v2+json": {
       "data": {
        "format": {
         "type": "csv"
        },
        "url": "https://vega.github.io/vega-lite/data/seattle-weather.csv"
       },
       "layer": [
        {
         "encoding": {
          "x": {
           "field": "date",
           "timeUnit": "month",
           "type": "ordinal"
          },
          "y": {
           "aggregate": "mean",
           "axis": {
            "grid": false
           },
           "field": "precipitation",
           "type": "quantitative"
          }
         },
         "mark": "bar"
        },
        {
         "encoding": {
          "color": {
           "value": "firebrick"
          },
          "x": {
           "field": "date",
           "timeUnit": "month",
           "type": "ordinal"
          },
          "y": {
           "aggregate": "mean",
           "axis": {
            "grid": false
           },
           "field": "temp_max",
           "scale": {
            "zero": false
           },
           "type": "quantitative"
          }
         },
         "mark": "line"
        }
       ],
       "resolve": {
        "scale": {
         "x": "shared",
         "y": "independent"
        }
       }
      },
      "image/png": "[encoded data removed]",
      "text/plain": [
       "<VegaLite 2 object>\n",
       "\n",
       "If you see this message, it means the renderer has not been properly enabled\n",
       "for the frontend that you are using. For more information, see\n",
       "https://altair-viz.github.io/user_guide/troubleshooting.html\n"
      ]
     },
     "execution_count": 3,
     "metadata": {},
     "output_type": "execute_result"
    }
   ],
   "source": [
    "SPEC = VegaLite({\n",
    " \"data\": {\n",
    "  \"url\": \"https://vega.github.io/vega-lite/data/seattle-weather.csv\"\n",
    " },\n",
    " \"layer\": [\n",
    "  {\n",
    "   \"mark\": \"bar\",\n",
    "   \"encoding\": {\n",
    "    \"x\": {\n",
    "     \"timeUnit\": \"month\",\n",
    "     \"field\": \"date\",\n",
    "     \"type\": \"ordinal\"\n",
    "    },\n",
    "    \"y\": {\n",
    "     \"aggregate\": \"mean\",\n",
    "     \"field\": \"precipitation\",\n",
    "     \"type\": \"quantitative\",\n",
    "     \"axis\": {\n",
    "      \"grid\": False\n",
    "     }\n",
    "    }\n",
    "   }\n",
    "  },\n",
    "  {\n",
    "   \"mark\": \"line\",\n",
    "   \"encoding\": {\n",
    "    \"x\": {\n",
    "     \"timeUnit\": \"month\",\n",
    "     \"field\": \"date\",\n",
    "     \"type\": \"ordinal\"\n",
    "    },\n",
    "    \"y\": {\n",
    "     \"aggregate\": \"mean\",\n",
    "     \"field\": \"temp_max\",\n",
    "     \"type\": \"quantitative\",\n",
    "     \"axis\": {\n",
    "      \"grid\": False\n",
    "     },\n",
    "     \"scale\": {\n",
    "      \"zero\": False\n",
    "     }\n",
    "    },\n",
    "    \"color\": {\n",
    "     \"value\": \"firebrick\"\n",
    "    }\n",
    "   }\n",
    "  }\n",
    " ],\n",
    " \"resolve\": {\n",
    "  \"scale\": {\n",
    "   \"y\": \"independent\"\n",
    "  }\n",
    " }\n",
    "})\n",
    "SPEC"
   ]
  },
  {
   "cell_type": "markdown",
   "metadata": {},
   "source": [
    "Now, let's transform this spec using`extractTransform` and render the result and save it:"
   ]
  },
  {
   "cell_type": "code",
   "execution_count": 4,
   "metadata": {},
   "outputs": [
    {
     "data": {
      "application/vnd.vegalite.v2+json": {
       "data": {
        "format": {
         "type": "csv"
        },
        "url": "https://vega.github.io/vega-lite/data/seattle-weather.csv"
       },
       "layer": [
        {
         "encoding": {
          "x": {
           "axis": {
            "format": "%b"
           },
           "field": "month_date",
           "title": "date (month)",
           "type": "ordinal"
          },
          "y": {
           "axis": {
            "grid": false
           },
           "field": "mean_precipitation",
           "title": "Mean of precipitation",
           "type": "quantitative"
          }
         },
         "mark": "bar",
         "transform": [
          {
           "as": "month_date",
           "field": "date",
           "timeUnit": "month"
          },
          {
           "aggregate": [
            {
             "as": "mean_precipitation",
             "field": "precipitation",
             "op": "mean"
            }
           ],
           "groupby": [
            "month_date"
           ]
          }
         ]
        },
        {
         "encoding": {
          "color": {
           "value": "firebrick"
          },
          "x": {
           "axis": {
            "format": "%b"
           },
           "field": "month_date",
           "title": "date (month)",
           "type": "ordinal"
          },
          "y": {
           "axis": {
            "grid": false
           },
           "field": "mean_temp_max",
           "scale": {
            "zero": false
           },
           "title": "Mean of temp_max",
           "type": "quantitative"
          }
         },
         "mark": "line",
         "transform": [
          {
           "as": "month_date",
           "field": "date",
           "timeUnit": "month"
          },
          {
           "aggregate": [
            {
             "as": "mean_temp_max",
             "field": "temp_max",
             "op": "mean"
            }
           ],
           "groupby": [
            "month_date"
           ]
          }
         ]
        }
       ],
       "resolve": {
        "scale": {
         "x": "shared",
         "y": "independent"
        }
       }
      },
      "image/png": "[encoded data removed]",
      "text/plain": [
       "<VegaLite 2 object>\n",
       "\n",
       "If you see this message, it means the renderer has not been properly enabled\n",
       "for the frontend that you are using. For more information, see\n",
       "https://altair-viz.github.io/user_guide/troubleshooting.html\n"
      ]
     },
     "metadata": {},
     "output_type": "display_data"
    }
   ],
   "source": [
    "from IPython.display import display\n",
    "import IPython.display\n",
    "\n",
    "display_id = display(VegaLite(EMPTY_SPEC), display_id=True)\n",
    "\n",
    "UDPATED_SPEC = None\n",
    "\n",
    "def on_transformed(updated):\n",
    "    global UDPATED_SPEC\n",
    "    UDPATED_SPEC = updated\n",
    "    display_id.update(VegaLite(updated))\n",
    "\n",
    "extract_spec(SPEC.data, on_transformed)"
   ]
  },
  {
   "cell_type": "markdown",
   "metadata": {},
   "source": [
    "Now let's look at the updated  spec:"
   ]
  },
  {
   "cell_type": "code",
   "execution_count": 5,
   "metadata": {},
   "outputs": [
    {
     "data": {
      "text/plain": [
       "{'data': {'url': 'https://vega.github.io/vega-lite/data/seattle-weather.csv'},\n",
       " 'resolve': {'scale': {'y': 'independent'}},\n",
       " 'layer': [{'transform': [{'timeUnit': 'month',\n",
       "     'field': 'date',\n",
       "     'as': 'month_date'},\n",
       "    {'aggregate': [{'op': 'mean',\n",
       "       'as': 'mean_precipitation',\n",
       "       'field': 'precipitation'}],\n",
       "     'groupby': ['month_date']}],\n",
       "   'mark': 'bar',\n",
       "   'encoding': {'x': {'title': 'date (month)',\n",
       "     'type': 'ordinal',\n",
       "     'field': 'month_date',\n",
       "     'axis': {'format': '%b'}},\n",
       "    'y': {'title': 'Mean of precipitation',\n",
       "     'type': 'quantitative',\n",
       "     'axis': {'grid': False},\n",
       "     'field': 'mean_precipitation'}}},\n",
       "  {'transform': [{'timeUnit': 'month', 'field': 'date', 'as': 'month_date'},\n",
       "    {'aggregate': [{'op': 'mean', 'as': 'mean_temp_max', 'field': 'temp_max'}],\n",
       "     'groupby': ['month_date']}],\n",
       "   'mark': 'line',\n",
       "   'encoding': {'x': {'title': 'date (month)',\n",
       "     'type': 'ordinal',\n",
       "     'field': 'month_date',\n",
       "     'axis': {'format': '%b'}},\n",
       "    'y': {'title': 'Mean of temp_max',\n",
       "     'type': 'quantitative',\n",
       "     'axis': {'grid': False},\n",
       "     'scale': {'zero': False},\n",
       "     'field': 'mean_temp_max'},\n",
       "    'color': {'value': 'firebrick'}}}]}"
      ]
     },
     "execution_count": 5,
     "metadata": {},
     "output_type": "execute_result"
    }
   ],
   "source": [
    "UDPATED_SPEC"
   ]
  },
  {
   "cell_type": "code",
   "execution_count": null,
   "metadata": {},
   "outputs": [],
   "source": []
  }
 ],
 "metadata": {
  "kernelspec": {
   "display_name": "Python 3",
   "language": "python",
   "name": "python3"
  },
  "language_info": {
   "codemirror_mode": {
    "name": "ipython",
    "version": 3
   },
   "file_extension": ".py",
   "mimetype": "text/x-python",
   "name": "python",
   "nbconvert_exporter": "python",
   "pygments_lexer": "ipython3",
   "version": "3.6.6"
  }
 },
 "nbformat": 4,
 "nbformat_minor": 2
}
