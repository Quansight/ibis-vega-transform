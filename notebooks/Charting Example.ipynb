{
 "cells": [
  {
   "cell_type": "markdown",
   "metadata": {},
   "source": [
    "# MapD Charting Example with Altair\n",
    "\n",
    "Let's see if we can replicate [this](https://omnisci.github.io/mapd-charting/example/example1.html) MapD charting example in Python with Altair, Vega Lite, and Vega:\n",
    "\n",
    "![](https://cloud.githubusercontent.com/assets/2932405/25641647/1acce1f2-2f4a-11e7-87d4-a4e80cb262f5.gif)"
   ]
  },
  {
   "cell_type": "code",
   "execution_count": 1,
   "metadata": {},
   "outputs": [],
   "source": [
    "import altair as alt\n",
    "import jupyterlab_omnisci.vega_ibis\n",
    "import ibis\n",
    "\n",
    "alt.data_transformers.enable('ibis')\n",
    "alt.renderers.enable('ibis')\n",
    "\n",
    "conn = ibis.mapd.connect(\n",
    "    host='metis.mapd.com', user='mapd', password='HyperInteractive',\n",
    "    port=443, database='mapd', protocol= 'https'\n",
    ")\n",
    "t = conn.table(\"flights_donotmodify\")"
   ]
  },
  {
   "cell_type": "code",
   "execution_count": 22,
   "metadata": {
    "scrolled": true
   },
   "outputs": [],
   "source": [
    "# jupyterlab_omnisci.vega_ibis.display_queries()"
   ]
  },
  {
   "cell_type": "code",
   "execution_count": 21,
   "metadata": {},
   "outputs": [
    {
     "data": {
      "application/vnd.vega.ibis.v5+json": {
       "$schema": "https://vega.github.io/schema/vega-lite/v3.3.0.json",
       "config": {
        "axis": {
         "grid": false
        },
        "mark": {
         "tooltip": null
        },
        "view": {
         "height": 300,
         "strokeOpacity": 0,
         "width": 400
        }
       },
       "vconcat": [
        {
         "hconcat": [
          {
           "data": {
            "name": "ibis:9019949948346581328"
           },
           "encoding": {
            "text": {
             "aggregate": "count",
             "type": "quantitative"
            }
           },
           "mark": "text",
           "title": "Selected Rows",
           "transform": [
            {
             "filter": {
              "selection": "selector050"
             }
            },
            {
             "filter": {
              "selection": "selector051"
             }
            },
            {
             "filter": {
              "selection": "selector049"
             }
            }
           ]
          },
          {
           "data": {
            "name": "ibis:2282367579099671298"
           },
           "encoding": {
            "text": {
             "aggregate": "count",
             "type": "quantitative"
            }
           },
           "mark": "text",
           "title": "Total Rows"
          }
         ]
        },
        {
         "hconcat": [
          {
           "layer": [
            {
             "data": {
              "name": "ibis:-1251857033605078768"
             },
             "encoding": {
              "color": {
               "condition": {
                "selection": "selector049",
                "value": "steelblue"
               },
               "value": "grey"
              },
              "x": {
               "aggregate": "count",
               "type": "quantitative"
              },
              "y": {
               "field": "origin_state",
               "sort": {
                "encoding": "x",
                "order": "descending"
               },
               "type": "nominal"
              }
             },
             "height": 533.3333333333334,
             "mark": "bar",
             "selection": {
              "selector049": {
               "fields": [
                "origin_state"
               ],
               "type": "multi"
              }
             },
             "title": "Total Number of Flights by State",
             "transform": [
              {
               "filter": {
                "selection": "selector050"
               }
              },
              {
               "filter": {
                "selection": "selector051"
               }
              }
             ],
             "width": 500
            },
            {
             "data": {
              "name": "ibis:-1251857033605078768"
             },
             "encoding": {
              "text": {
               "aggregate": "count",
               "type": "quantitative"
              },
              "x": {
               "aggregate": "count",
               "type": "quantitative"
              },
              "y": {
               "field": "origin_state",
               "sort": {
                "encoding": "x",
                "order": "descending"
               },
               "type": "nominal"
              }
             },
             "height": 533.3333333333334,
             "mark": {
              "dx": 20,
              "type": "text"
             },
             "transform": [
              {
               "filter": {
                "selection": "selector050"
               }
              },
              {
               "filter": {
                "selection": "selector051"
               }
              }
             ],
             "width": 500
            }
           ]
          },
          {
           "layer": [
            {
             "data": {
              "name": "ibis:8551456342714672447"
             },
             "encoding": {
              "color": {
               "condition": {
                "selection": "selector050",
                "value": "steelblue"
               },
               "value": "grey"
              },
              "tooltip": [
               {
                "field": "carrier_name",
                "type": "nominal"
               },
               {
                "field": "depdelay",
                "type": "quantitative"
               },
               {
                "field": "arrdelay",
                "type": "quantitative"
               }
              ],
              "x": {
               "field": "depdelay",
               "type": "quantitative"
              },
              "y": {
               "field": "arrdelay",
               "type": "quantitative"
              }
             },
             "height": 533.3333333333334,
             "mark": {
              "filled": true,
              "size": 200,
              "type": "point"
             },
             "selection": {
              "selector050": {
               "fields": [
                "carrier_name"
               ],
               "type": "multi"
              }
             },
             "title": "Carrier Departure Delay by Arrival Delay (Minutes)",
             "transform": [
              {
               "filter": {
                "selection": "selector049"
               }
              },
              {
               "filter": {
                "selection": "selector051"
               }
              },
              {
               "aggregate": [
                {
                 "as": "depdelay",
                 "field": "depdelay",
                 "op": "mean"
                },
                {
                 "as": "arrdelay",
                 "field": "arrdelay",
                 "op": "mean"
                }
               ],
               "groupby": [
                "carrier_name"
               ]
              }
             ],
             "width": 500
            },
            {
             "data": {
              "name": "ibis:8551456342714672447"
             },
             "encoding": {
              "text": {
               "field": "carrier_name",
               "type": "nominal"
              },
              "x": {
               "field": "depdelay",
               "type": "quantitative"
              },
              "y": {
               "field": "arrdelay",
               "type": "quantitative"
              }
             },
             "height": 533.3333333333334,
             "mark": "text",
             "transform": [
              {
               "filter": {
                "selection": "selector049"
               }
              },
              {
               "filter": {
                "selection": "selector051"
               }
              },
              {
               "aggregate": [
                {
                 "as": "depdelay",
                 "field": "depdelay",
                 "op": "mean"
                },
                {
                 "as": "arrdelay",
                 "field": "arrdelay",
                 "op": "mean"
                }
               ],
               "groupby": [
                "carrier_name"
               ]
              }
             ],
             "width": 500
            }
           ]
          }
         ]
        },
        {
         "data": {
          "name": "ibis:9019949948346581328"
         },
         "encoding": {
          "x": {
           "field": "dep_timestamp",
           "timeUnit": "yearmonthdate",
           "type": "temporal"
          },
          "y": {
           "aggregate": "count",
           "scale": {
            "zero": false
           },
           "type": "quantitative"
          }
         },
         "height": 266.6666666666667,
         "mark": "line",
         "selection": {
          "selector051": {
           "encodings": [
            "x"
           ],
           "fields": [
            "dep_timestamp"
           ],
           "type": "interval"
          }
         },
         "title": "Number of Flights by Departure Time",
         "transform": [
          {
           "filter": "datum.dep_timestamp != null"
          },
          {
           "filter": {
            "selection": "selector050"
           }
          },
          {
           "filter": {
            "selection": "selector049"
           }
          }
         ],
         "width": 1050
        }
       ]
      },
      "text/plain": [
       "VConcatChart({\n",
       "  config: Config({\n",
       "    axis: AxisConfig({\n",
       "      grid: False\n",
       "    }),\n",
       "    view: ViewConfig({\n",
       "      strokeOpacity: 0\n",
       "    })\n",
       "  }),\n",
       "  vconcat: [HConcatChart({\n",
       "    hconcat: [Chart({\n",
       "      data: Empty DataFrame\n",
       "      Columns: [dep_timestamp, depdelay, origin_state, carrier_name]\n",
       "      Index: [],\n",
       "      encoding: FacetedEncoding({\n",
       "        text: Text({\n",
       "          aggregate: 'count',\n",
       "          type: 'quantitative'\n",
       "        })\n",
       "      }),\n",
       "      mark: 'text',\n",
       "      title: 'Selected Rows',\n",
       "      transform: [FilterTransform({\n",
       "        filter: {'selection': 'selector050'}\n",
       "      }), FilterTransform({\n",
       "        filter: {'selection': 'selector051'}\n",
       "      }), FilterTransform({\n",
       "        filter: {'selection': 'selector049'}\n",
       "      })]\n",
       "    }), Chart({\n",
       "      data: Empty DataFrame\n",
       "      Columns: [flight_year, flight_month, flight_dayofmonth, flight_dayofweek, deptime, crsdeptime, arrtime, crsarrtime, uniquecarrier, flightnum, tailnum, actualelapsedtime, crselapsedtime, airtime, arrdelay, depdelay, origin, dest, distance, taxiin, taxiout, cancelled, cancellationcode, diverted, carrierdelay, weatherdelay, nasdelay, securitydelay, lateaircraftdelay, dep_timestamp, arr_timestamp, carrier_name, plane_type, plane_manufacturer, plane_issue_date, plane_model, plane_status, plane_aircraft_type, plane_engine_type, plane_year, origin_name, origin_city, origin_state, origin_country, origin_lat, origin_lon, dest_name, dest_city, dest_state, dest_country, dest_lat, dest_lon, origin_merc_x, origin_merc_y, dest_merc_x, dest_merc_y]\n",
       "      Index: []\n",
       "      \n",
       "      [0 rows x 56 columns],\n",
       "      encoding: FacetedEncoding({\n",
       "        text: Text({\n",
       "          aggregate: 'count',\n",
       "          type: 'quantitative'\n",
       "        })\n",
       "      }),\n",
       "      mark: 'text',\n",
       "      title: 'Total Rows'\n",
       "    })]\n",
       "  }), HConcatChart({\n",
       "    hconcat: [LayerChart({\n",
       "      layer: [Chart({\n",
       "        data: Empty DataFrame\n",
       "        Columns: [origin_state, carrier_name, dep_timestamp]\n",
       "        Index: [],\n",
       "        encoding: FacetedEncoding({\n",
       "          color: ColorValue({\n",
       "            condition: ColorValue({\n",
       "              selection: 'selector049',\n",
       "              value: 'steelblue'\n",
       "            }),\n",
       "            value: 'grey'\n",
       "          }),\n",
       "          x: X({\n",
       "            aggregate: 'count',\n",
       "            type: 'quantitative'\n",
       "          }),\n",
       "          y: Y({\n",
       "            field: 'origin_state',\n",
       "            sort: Sort({\n",
       "              encoding: 'x',\n",
       "              order: 'descending'\n",
       "            }),\n",
       "            type: 'nominal'\n",
       "          })\n",
       "        }),\n",
       "        height: 533.3333333333334,\n",
       "        mark: 'bar',\n",
       "        selection: {'selector049': SelectionDef({\n",
       "          fields: ['origin_state'],\n",
       "          type: 'multi'\n",
       "        })},\n",
       "        title: 'Total Number of Flights by State',\n",
       "        transform: [FilterTransform({\n",
       "          filter: {'selection': 'selector050'}\n",
       "        }), FilterTransform({\n",
       "          filter: {'selection': 'selector051'}\n",
       "        })],\n",
       "        width: 500.0\n",
       "      }), Chart({\n",
       "        data: Empty DataFrame\n",
       "        Columns: [origin_state, carrier_name, dep_timestamp]\n",
       "        Index: [],\n",
       "        encoding: FacetedEncoding({\n",
       "          text: Text({\n",
       "            aggregate: 'count',\n",
       "            type: 'quantitative'\n",
       "          }),\n",
       "          x: X({\n",
       "            aggregate: 'count',\n",
       "            type: 'quantitative'\n",
       "          }),\n",
       "          y: Y({\n",
       "            field: 'origin_state',\n",
       "            sort: Sort({\n",
       "              encoding: 'x',\n",
       "              order: 'descending'\n",
       "            }),\n",
       "            type: 'nominal'\n",
       "          })\n",
       "        }),\n",
       "        height: 533.3333333333334,\n",
       "        mark: MarkDef({\n",
       "          dx: 20,\n",
       "          type: 'text'\n",
       "        }),\n",
       "        transform: [FilterTransform({\n",
       "          filter: {'selection': 'selector050'}\n",
       "        }), FilterTransform({\n",
       "          filter: {'selection': 'selector051'}\n",
       "        })],\n",
       "        width: 500.0\n",
       "      })]\n",
       "    }), LayerChart({\n",
       "      layer: [Chart({\n",
       "        data: Empty DataFrame\n",
       "        Columns: [depdelay, arrdelay, carrier_name, origin_state, dep_timestamp]\n",
       "        Index: [],\n",
       "        encoding: FacetedEncoding({\n",
       "          color: ColorValue({\n",
       "            condition: ColorValue({\n",
       "              selection: 'selector050',\n",
       "              value: 'steelblue'\n",
       "            }),\n",
       "            value: 'grey'\n",
       "          }),\n",
       "          tooltip: [Tooltip({\n",
       "            field: 'carrier_name',\n",
       "            type: 'nominal'\n",
       "          }), Tooltip({\n",
       "            field: 'depdelay',\n",
       "            type: 'quantitative'\n",
       "          }), Tooltip({\n",
       "            field: 'arrdelay',\n",
       "            type: 'quantitative'\n",
       "          })],\n",
       "          x: X({\n",
       "            field: 'depdelay',\n",
       "            type: 'quantitative'\n",
       "          }),\n",
       "          y: Y({\n",
       "            field: 'arrdelay',\n",
       "            type: 'quantitative'\n",
       "          })\n",
       "        }),\n",
       "        height: 533.3333333333334,\n",
       "        mark: MarkDef({\n",
       "          filled: True,\n",
       "          size: 200,\n",
       "          type: 'point'\n",
       "        }),\n",
       "        selection: {'selector050': SelectionDef({\n",
       "          fields: ['carrier_name'],\n",
       "          type: 'multi'\n",
       "        })},\n",
       "        title: 'Carrier Departure Delay by Arrival Delay (Minutes)',\n",
       "        transform: [FilterTransform({\n",
       "          filter: {'selection': 'selector049'}\n",
       "        }), FilterTransform({\n",
       "          filter: {'selection': 'selector051'}\n",
       "        }), AggregateTransform({\n",
       "          aggregate: [AggregatedFieldDef({\n",
       "            as: 'depdelay',\n",
       "            field: 'depdelay',\n",
       "            op: 'mean'\n",
       "          }), AggregatedFieldDef({\n",
       "            as: 'arrdelay',\n",
       "            field: 'arrdelay',\n",
       "            op: 'mean'\n",
       "          })],\n",
       "          groupby: ['carrier_name']\n",
       "        })],\n",
       "        width: 500.0\n",
       "      }), Chart({\n",
       "        data: Empty DataFrame\n",
       "        Columns: [depdelay, arrdelay, carrier_name, origin_state, dep_timestamp]\n",
       "        Index: [],\n",
       "        encoding: FacetedEncoding({\n",
       "          text: Text({\n",
       "            field: 'carrier_name',\n",
       "            type: 'nominal'\n",
       "          }),\n",
       "          x: X({\n",
       "            field: 'depdelay',\n",
       "            type: 'quantitative'\n",
       "          }),\n",
       "          y: Y({\n",
       "            field: 'arrdelay',\n",
       "            type: 'quantitative'\n",
       "          })\n",
       "        }),\n",
       "        height: 533.3333333333334,\n",
       "        mark: 'text',\n",
       "        transform: [FilterTransform({\n",
       "          filter: {'selection': 'selector049'}\n",
       "        }), FilterTransform({\n",
       "          filter: {'selection': 'selector051'}\n",
       "        }), AggregateTransform({\n",
       "          aggregate: [AggregatedFieldDef({\n",
       "            as: 'depdelay',\n",
       "            field: 'depdelay',\n",
       "            op: 'mean'\n",
       "          }), AggregatedFieldDef({\n",
       "            as: 'arrdelay',\n",
       "            field: 'arrdelay',\n",
       "            op: 'mean'\n",
       "          })],\n",
       "          groupby: ['carrier_name']\n",
       "        })],\n",
       "        width: 500.0\n",
       "      })]\n",
       "    })]\n",
       "  }), Chart({\n",
       "    data: Empty DataFrame\n",
       "    Columns: [dep_timestamp, depdelay, origin_state, carrier_name]\n",
       "    Index: [],\n",
       "    encoding: FacetedEncoding({\n",
       "      x: X({\n",
       "        field: 'dep_timestamp',\n",
       "        timeUnit: 'yearmonthdate',\n",
       "        type: 'temporal'\n",
       "      }),\n",
       "      y: Y({\n",
       "        aggregate: 'count',\n",
       "        scale: Scale({\n",
       "          zero: False\n",
       "        }),\n",
       "        type: 'quantitative'\n",
       "      })\n",
       "    }),\n",
       "    height: 266.6666666666667,\n",
       "    mark: 'line',\n",
       "    selection: {'selector051': SelectionDef({\n",
       "      encodings: ['x'],\n",
       "      fields: ['dep_timestamp'],\n",
       "      type: 'interval'\n",
       "    })},\n",
       "    title: 'Number of Flights by Departure Time',\n",
       "    transform: [FilterTransform({\n",
       "      filter: 'datum.dep_timestamp != null'\n",
       "    }), FilterTransform({\n",
       "      filter: {'selection': 'selector050'}\n",
       "    }), FilterTransform({\n",
       "      filter: {'selection': 'selector049'}\n",
       "    })],\n",
       "    width: 1050\n",
       "  })]\n",
       "})"
      ]
     },
     "execution_count": 21,
     "metadata": {},
     "output_type": "execute_result"
    }
   ],
   "source": [
    "states = alt.selection_multi(fields=['origin_state'])\n",
    "airlines = alt.selection_multi(fields=['carrier_name'])\n",
    "dates = alt.selection_interval(fields=['dep_timestamp'], encodings=['x'])\n",
    "\n",
    "HEIGHT = 800\n",
    "WIDTH = 1000\n",
    "\n",
    "count_filter = alt.Chart(\n",
    "    t[t.dep_timestamp, t.depdelay, t.origin_state, t.carrier_name],\n",
    "    title=\"Selected Rows\"\n",
    ").transform_filter(\n",
    "    airlines\n",
    ").transform_filter(\n",
    "    dates\n",
    ").transform_filter(\n",
    "    states\n",
    ").mark_text().encode(\n",
    "    text='count()'\n",
    ")\n",
    "\n",
    "count_total = alt.Chart(\n",
    "    t,\n",
    "    title=\"Total Rows\"\n",
    ").mark_text().encode(\n",
    "    text='count()'\n",
    ")\n",
    "\n",
    "flights_by_state = alt.Chart(\n",
    "    t[t.origin_state, t.carrier_name, t.dep_timestamp],\n",
    "    title=\"Total Number of Flights by State\"\n",
    ").transform_filter(\n",
    "    airlines\n",
    ").transform_filter(\n",
    "    dates\n",
    ").mark_bar().encode(\n",
    "    x='count()',\n",
    "    y=alt.Y('origin_state', sort=alt.Sort(encoding='x', order='descending')),\n",
    "    color=alt.condition(states, alt.ColorValue(\"steelblue\"), alt.ColorValue(\"grey\"))\n",
    ").add_selection(\n",
    "    states\n",
    ").properties(\n",
    "    height= 2 * HEIGHT / 3,\n",
    "    width=WIDTH / 2\n",
    ") + alt.Chart(\n",
    "    t[t.origin_state, t.carrier_name, t.dep_timestamp],\n",
    ").transform_filter(\n",
    "    airlines\n",
    ").transform_filter(\n",
    "    dates\n",
    ").mark_text(dx=20).encode(\n",
    "    x='count()',\n",
    "    y=alt.Y('origin_state', sort=alt.Sort(encoding='x', order='descending')),\n",
    "    text='count()'\n",
    ").properties(\n",
    "    height= 2 * HEIGHT / 3,\n",
    "    width=WIDTH / 2\n",
    ")\n",
    "\n",
    "carrier_delay = alt.Chart(\n",
    "    t[t.depdelay, t.arrdelay, t.carrier_name, t.origin_state, t.dep_timestamp],\n",
    "    title=\"Carrier Departure Delay by Arrival Delay (Minutes)\"\n",
    ").transform_filter(\n",
    "    states\n",
    ").transform_filter(\n",
    "    dates\n",
    ").transform_aggregate(\n",
    "    depdelay='mean(depdelay)',\n",
    "    arrdelay='mean(arrdelay)',\n",
    "    groupby=[\"carrier_name\"]\n",
    ").mark_point(filled=True, size=200).encode(\n",
    "    x='depdelay',\n",
    "    y='arrdelay',\n",
    "    color=alt.condition(airlines, alt.ColorValue(\"steelblue\"), alt.ColorValue(\"grey\")),\n",
    "    tooltip=['carrier_name', 'depdelay', 'arrdelay']\n",
    ").add_selection(\n",
    "    airlines\n",
    ").properties(\n",
    "    height=2 * HEIGHT / 3,\n",
    "    width=WIDTH / 2\n",
    ") + alt.Chart(\n",
    "    t[t.depdelay, t.arrdelay, t.carrier_name, t.origin_state, t.dep_timestamp],\n",
    ").transform_filter(\n",
    "    states\n",
    ").transform_filter(\n",
    "    dates\n",
    ").transform_aggregate(\n",
    "    depdelay='mean(depdelay)',\n",
    "    arrdelay='mean(arrdelay)',\n",
    "    groupby=[\"carrier_name\"]\n",
    ").mark_text().encode(\n",
    "    x='depdelay',\n",
    "    y='arrdelay',\n",
    "    text='carrier_name',\n",
    ").properties(\n",
    "    height=2 * HEIGHT / 3,\n",
    "    width=WIDTH / 2\n",
    ")\n",
    "\n",
    "time = alt.Chart(\n",
    "    t[t.dep_timestamp, t.depdelay, t.origin_state, t.carrier_name],\n",
    "    title='Number of Flights by Departure Time'\n",
    ").transform_filter(\n",
    "    'datum.dep_timestamp != null'\n",
    ").transform_filter(\n",
    "    airlines\n",
    ").transform_filter(\n",
    "    states\n",
    ").mark_line().encode(\n",
    "    alt.X(\n",
    "        'yearmonthdate(dep_timestamp):T',\n",
    "    ),\n",
    "    alt.Y(\n",
    "        'count():Q',\n",
    "        scale=alt.Scale(zero=False)\n",
    "    )\n",
    ").add_selection(\n",
    "    dates\n",
    ").properties(\n",
    "    height=HEIGHT / 3,\n",
    "    width=WIDTH + 50\n",
    ")\n",
    "\n",
    "(\n",
    "    (count_filter | count_total) & (flights_by_state | carrier_delay) & time\n",
    ").configure_axis(\n",
    "    grid=False\n",
    ").configure_view(\n",
    "    strokeOpacity=0\n",
    ")"
   ]
  },
  {
   "cell_type": "code",
   "execution_count": null,
   "metadata": {},
   "outputs": [],
   "source": []
  }
 ],
 "metadata": {
  "kernelspec": {
   "display_name": "Python 3",
   "language": "python",
   "name": "python3"
  },
  "language_info": {
   "codemirror_mode": {
    "name": "ipython",
    "version": 3
   },
   "file_extension": ".py",
   "mimetype": "text/x-python",
   "name": "python",
   "nbconvert_exporter": "python",
   "pygments_lexer": "ipython3",
   "version": "3.7.3"
  }
 },
 "nbformat": 4,
 "nbformat_minor": 4
}
