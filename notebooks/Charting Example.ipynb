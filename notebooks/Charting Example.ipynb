{
 "cells": [
  {
   "cell_type": "markdown",
   "metadata": {},
   "source": [
    "# MapD Charting Example with Altair\n",
    "\n",
    "Let's see if we can replicate [this](https://omnisci.github.io/mapd-charting/example/example1.html) MapD charting example in Python with Altair, Vega Lite, and Vega:\n",
    "\n",
    "![](https://cloud.githubusercontent.com/assets/2932405/25641647/1acce1f2-2f4a-11e7-87d4-a4e80cb262f5.gif)"
   ]
  },
  {
   "cell_type": "code",
   "execution_count": 1,
   "metadata": {},
   "outputs": [
    {
     "data": {
      "text/plain": [
       "RendererRegistry.enable('ibis')"
      ]
     },
     "execution_count": 1,
     "metadata": {},
     "output_type": "execute_result"
    }
   ],
   "source": [
    "import altair as alt\n",
    "import jupyterlab_omnisci.vega_ibis\n",
    "import ibis\n",
    "\n",
    "alt.data_transformers.enable('ibis')\n",
    "alt.renderers.enable('ibis')"
   ]
  },
  {
   "cell_type": "code",
   "execution_count": 2,
   "metadata": {},
   "outputs": [],
   "source": [
    "conn = ibis.mapd.connect(\n",
    "    host='metis.mapd.com', user='mapd', password='HyperInteractive',\n",
    "    port=443, database='mapd', protocol= 'https'\n",
    ")\n",
    "t = conn.table(\"flights_donotmodify\")"
   ]
  },
  {
   "cell_type": "code",
   "execution_count": 3,
   "metadata": {
    "scrolled": true
   },
   "outputs": [
    {
     "name": "stdout",
     "output_type": "stream",
     "text": [
      "Table rows: 7009728\n",
      "\n",
      "Column    Type      Non-null #\n",
      "------    ----      ----------\n",
      "flight_yearint16     7009728   \n",
      "flight_monthint16     7009728   \n",
      "flight_dayofmonthint16     7009728   \n",
      "flight_dayofweekint16     7009728   \n",
      "deptime   int16     6873482   \n",
      "crsdeptimeint16     7009728   \n",
      "arrtime   int16     6858079   \n",
      "crsarrtimeint16     7009728   \n",
      "uniquecarrierString(nullable=True)7009728   \n",
      "flightnum int16     7009728   \n",
      "tailnum   String(nullable=True)6926363   \n",
      "actualelapsedtimeint16     6855029   \n",
      "crselapsedtimeint16     7008884   \n",
      "airtime   int16     6855029   \n",
      "arrdelay  int16     6855029   \n",
      "depdelay  int16     6873482   \n",
      "origin    String(nullable=True)7009728   \n",
      "dest      String(nullable=True)7009728   \n",
      "distance  int16     7009728   \n",
      "taxiin    int16     6858079   \n",
      "taxiout   int16     6872670   \n",
      "cancelled int16     7009728   \n",
      "cancellationcodeString(nullable=True)137434    \n",
      "diverted  int16     7009728   \n",
      "carrierdelayint16     1524735   \n",
      "weatherdelayint16     1524735   \n",
      "nasdelay  int16     1524735   \n",
      "securitydelayint16     1524735   \n",
      "lateaircraftdelayint16     1524735   \n",
      "dep_timestampTimestamp(timezone=None, nullable=True)6873482   \n",
      "arr_timestampTimestamp(timezone=None, nullable=True)6858079   \n",
      "carrier_nameString(nullable=True)7009728   \n",
      "plane_typeString(nullable=True)6199619   \n",
      "plane_manufacturerString(nullable=True)6199619   \n",
      "plane_issue_datedate      6199385   \n",
      "plane_modelString(nullable=True)6199619   \n",
      "plane_statusString(nullable=True)6199619   \n",
      "plane_aircraft_typeString(nullable=True)6199619   \n",
      "plane_engine_typeString(nullable=True)6199619   \n",
      "plane_yearint16     5996236   \n",
      "origin_nameString(nullable=True)7009728   \n",
      "origin_cityString(nullable=True)7009728   \n",
      "origin_stateString(nullable=True)7009728   \n",
      "origin_countryString(nullable=True)7009728   \n",
      "origin_latfloat32   7009728   \n",
      "origin_lonfloat32   7009728   \n",
      "dest_name String(nullable=True)7009728   \n",
      "dest_city String(nullable=True)7009728   \n",
      "dest_stateString(nullable=True)7009728   \n",
      "dest_countryString(nullable=True)7009728   \n",
      "dest_lat  float32   7009728   \n",
      "dest_lon  float32   7009728   \n",
      "origin_merc_xfloat32   7009728   \n",
      "origin_merc_yfloat32   7009728   \n",
      "dest_merc_xfloat32   7009728   \n",
      "dest_merc_yfloat32   7009728   \n"
     ]
    }
   ],
   "source": [
    "t.info()"
   ]
  },
  {
   "cell_type": "code",
   "execution_count": 8,
   "metadata": {},
   "outputs": [
    {
     "data": {
      "application/vnd.vega.ibis.v5+json": {
       "$schema": "https://vega.github.io/schema/vega-lite/v3.3.0.json",
       "config": {
        "mark": {
         "tooltip": null
        },
        "view": {
         "height": 300,
         "width": 400
        }
       },
       "data": {
        "name": "ibis:6930124861778495880"
       },
       "encoding": {
        "x": {
         "field": "dep_timestamp",
         "timeUnit": "yearmonthdate",
         "type": "ordinal"
        },
        "y": {
         "aggregate": "mean",
         "field": "depdelay",
         "type": "quantitative"
        }
       },
       "mark": "point"
      },
      "text/plain": [
       "Chart({\n",
       "  data: Empty DataFrame\n",
       "  Columns: [dep_timestamp, depdelay]\n",
       "  Index: [],\n",
       "  encoding: FacetedEncoding({\n",
       "    x: X({\n",
       "      field: 'dep_timestamp',\n",
       "      timeUnit: 'yearmonthdate',\n",
       "      type: 'ordinal'\n",
       "    }),\n",
       "    y: Y({\n",
       "      aggregate: 'mean',\n",
       "      field: 'depdelay',\n",
       "      type: 'quantitative'\n",
       "    })\n",
       "  }),\n",
       "  mark: 'point'\n",
       "})"
      ]
     },
     "execution_count": 8,
     "metadata": {},
     "output_type": "execute_result"
    }
   ],
   "source": [
    "jupyterlab_omnisci.vega_ibis.FALLBACK = False\n",
    "\n",
    "alt.Chart(t[t.dep_timestamp, t.depdelay]).mark_point().encode(\n",
    "    x='yearmonthdate(dep_timestamp):O',\n",
    "    y='mean(depdelay):Q'\n",
    ")"
   ]
  },
  {
   "cell_type": "code",
   "execution_count": null,
   "metadata": {},
   "outputs": [],
   "source": [
    "states = alt.selection_multi(fields=['origin_state'])\n",
    "airlines = alt.selection_multi(fields=['carrier_name'])\n",
    "\n",
    "flights_by_state = alt.Chart(\n",
    "    t[t.origin_state, t.carrier_name],\n",
    "    title=\"Total Number of Flights by State\"\n",
    ").transform_filter(\n",
    "    airlines\n",
    ").mark_bar().encode(\n",
    "    x='count()',\n",
    "    y=alt.Y('origin_state', sort=alt.Sort(encoding='x', order='descending')),\n",
    "    color=alt.condition(states, alt.ColorValue(\"steelblue\"), alt.ColorValue(\"grey\"))\n",
    ").add_selection(states).properties(\n",
    "    height=400,\n",
    "    width=600\n",
    ")\n",
    "\n",
    "\n",
    "carrier_delay = alt.Chart(\n",
    "    t[t.depdelay, t.arrdelay, t.carrier_name, t.origin_state],\n",
    "    title=\"Carrier Departure Delay by Arrival Delay (Minutes)\"\n",
    ").transform_filter(\n",
    "    states\n",
    ").transform_aggregate(\n",
    "    depdelay='mean(depdelay)',\n",
    "    arrdelay='mean(arrdelay)',\n",
    "    groupby=[\"carrier_name\"]\n",
    ").mark_point(filled=True, size=200).encode(\n",
    "    x='depdelay',\n",
    "    y='arrdelay',\n",
    "    color=alt.condition(airlines, alt.ColorValue(\"steelblue\"), alt.ColorValue(\"grey\")),\n",
    "    tooltip=['carrier_name', 'depdelay', 'arrdelay']\n",
    ").add_selection(airlines).properties(\n",
    "    height=400,\n",
    "    width=600\n",
    ")\n",
    "\n",
    "# jupyterlab_omnisci.vega_ibis.FALLBACK = False\n",
    "\n",
    "(flights_by_state | carrier_delay)"
   ]
  },
  {
   "cell_type": "code",
   "execution_count": 14,
   "metadata": {},
   "outputs": [],
   "source": [
    "jupyterlab_omnisci.vega_ibis.FALLBACK = True\n",
    "\n",
    "# (flights_by_state | carrier_delay)"
   ]
  }
 ],
 "metadata": {
  "kernelspec": {
   "display_name": "Python 3",
   "language": "python",
   "name": "python3"
  },
  "language_info": {
   "codemirror_mode": {
    "name": "ipython",
    "version": 3
   },
   "file_extension": ".py",
   "mimetype": "text/x-python",
   "name": "python",
   "nbconvert_exporter": "python",
   "pygments_lexer": "ipython3",
   "version": "3.7.3"
  }
 },
 "nbformat": 4,
 "nbformat_minor": 4
}
