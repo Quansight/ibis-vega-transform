{
 "cells": [
  {
   "cell_type": "markdown",
   "metadata": {},
   "source": [
    "# MapD Charting Example with Altair\n",
    "\n",
    "Let's see if we can replicate [this](https://omnisci.github.io/mapd-charting/example/example1.html) MapD charting example in Python with Altair, Vega Lite, and Vega:\n",
    "\n",
    "![](https://cloud.githubusercontent.com/assets/2932405/25641647/1acce1f2-2f4a-11e7-87d4-a4e80cb262f5.gif)"
   ]
  },
  {
   "cell_type": "code",
   "execution_count": 7,
   "metadata": {},
   "outputs": [
    {
     "data": {
      "text/plain": [
       "RendererRegistry.enable('ibis')"
      ]
     },
     "execution_count": 7,
     "metadata": {},
     "output_type": "execute_result"
    }
   ],
   "source": [
    "import altair as alt\n",
    "import jupyterlab_omnisci.vega_ibis\n",
    "import ibis\n",
    "\n",
    "alt.data_transformers.enable('ibis')\n",
    "alt.renderers.enable('ibis')"
   ]
  },
  {
   "cell_type": "code",
   "execution_count": 8,
   "metadata": {},
   "outputs": [],
   "source": [
    "from altair_transform.utils import evaljs\n"
   ]
  },
  {
   "cell_type": "code",
   "execution_count": 9,
   "metadata": {},
   "outputs": [],
   "source": [
    "conn = ibis.mapd.connect(\n",
    "    host='metis.mapd.com', user='mapd', password='HyperInteractive',\n",
    "    port=443, database='mapd', protocol= 'https'\n",
    ")\n",
    "t = conn.table(\"flights_donotmodify\")"
   ]
  },
  {
   "cell_type": "code",
   "execution_count": 10,
   "metadata": {},
   "outputs": [
    {
     "data": {
      "application/vnd.vega.ibis.v5+json": {
       "$schema": "https://vega.github.io/schema/vega-lite/v3.3.0.json",
       "config": {
        "mark": {
         "tooltip": null
        },
        "view": {
         "height": 300,
         "width": 400
        }
       },
       "data": {
        "name": "ibis:-8189190425377086336"
       },
       "encoding": {
        "x": {
         "field": "dep_timestamp",
         "timeUnit": "yearmonthdate",
         "type": "temporal"
        },
        "y": {
         "aggregate": "count",
         "scale": {
          "zero": false
         },
         "type": "quantitative"
        }
       },
       "mark": "line",
       "transform": [
        {
         "filter": "datum.dep_timestamp != null"
        }
       ]
      },
      "text/plain": [
       "Chart({\n",
       "  data: Empty DataFrame\n",
       "  Columns: [dep_timestamp, depdelay]\n",
       "  Index: [],\n",
       "  encoding: FacetedEncoding({\n",
       "    x: X({\n",
       "      field: 'dep_timestamp',\n",
       "      timeUnit: 'yearmonthdate',\n",
       "      type: 'temporal'\n",
       "    }),\n",
       "    y: Y({\n",
       "      aggregate: 'count',\n",
       "      scale: Scale({\n",
       "        zero: False\n",
       "      }),\n",
       "      type: 'quantitative'\n",
       "    })\n",
       "  }),\n",
       "  mark: 'line',\n",
       "  transform: [FilterTransform({\n",
       "    filter: 'datum.dep_timestamp != null'\n",
       "  })]\n",
       "})"
      ]
     },
     "execution_count": 10,
     "metadata": {},
     "output_type": "execute_result"
    }
   ],
   "source": [
    "jupyterlab_omnisci.vega_ibis.FALLBACK = False\n",
    "\n",
    "alt.Chart(t[t.dep_timestamp, t.depdelay]).transform_filter(\n",
    "    'datum.dep_timestamp != null'\n",
    ").mark_line().encode(\n",
    "    alt.X(\n",
    "        'yearmonthdate(dep_timestamp):T',\n",
    "    ),\n",
    "    alt.Y(\n",
    "        'count():Q',\n",
    "        scale=alt.Scale(zero=False)\n",
    "    )\n",
    ")"
   ]
  },
  {
   "cell_type": "code",
   "execution_count": 11,
   "metadata": {},
   "outputs": [
    {
     "data": {
      "application/vnd.vega.ibis.v5+json": {
       "$schema": "https://vega.github.io/schema/vega-lite/v3.3.0.json",
       "config": {
        "mark": {
         "tooltip": null
        },
        "view": {
         "height": 300,
         "width": 400
        }
       },
       "hconcat": [
        {
         "data": {
          "name": "ibis:5879483331342471826"
         },
         "encoding": {
          "color": {
           "condition": {
            "selection": "selector005",
            "value": "steelblue"
           },
           "value": "grey"
          },
          "x": {
           "aggregate": "count",
           "type": "quantitative"
          },
          "y": {
           "field": "origin_state",
           "sort": {
            "encoding": "x",
            "order": "descending"
           },
           "type": "nominal"
          }
         },
         "height": 400,
         "mark": "bar",
         "selection": {
          "selector005": {
           "fields": [
            "origin_state"
           ],
           "type": "multi"
          }
         },
         "title": "Total Number of Flights by State",
         "transform": [
          {
           "filter": {
            "selection": "selector006"
           }
          }
         ],
         "width": 600
        },
        {
         "data": {
          "name": "ibis:8309000461299465291"
         },
         "encoding": {
          "color": {
           "condition": {
            "selection": "selector006",
            "value": "steelblue"
           },
           "value": "grey"
          },
          "tooltip": [
           {
            "field": "carrier_name",
            "type": "nominal"
           },
           {
            "field": "depdelay",
            "type": "quantitative"
           },
           {
            "field": "arrdelay",
            "type": "quantitative"
           }
          ],
          "x": {
           "field": "depdelay",
           "type": "quantitative"
          },
          "y": {
           "field": "arrdelay",
           "type": "quantitative"
          }
         },
         "height": 400,
         "mark": {
          "filled": true,
          "size": 200,
          "type": "point"
         },
         "selection": {
          "selector006": {
           "fields": [
            "carrier_name"
           ],
           "type": "multi"
          }
         },
         "title": "Carrier Departure Delay by Arrival Delay (Minutes)",
         "transform": [
          {
           "filter": {
            "selection": "selector005"
           }
          },
          {
           "aggregate": [
            {
             "as": "depdelay",
             "field": "depdelay",
             "op": "mean"
            },
            {
             "as": "arrdelay",
             "field": "arrdelay",
             "op": "mean"
            }
           ],
           "groupby": [
            "carrier_name"
           ]
          }
         ],
         "width": 600
        }
       ]
      },
      "text/plain": [
       "HConcatChart({\n",
       "  hconcat: [Chart({\n",
       "    data: Empty DataFrame\n",
       "    Columns: [origin_state, carrier_name]\n",
       "    Index: [],\n",
       "    encoding: FacetedEncoding({\n",
       "      color: ColorValue({\n",
       "        condition: ColorValue({\n",
       "          selection: 'selector005',\n",
       "          value: 'steelblue'\n",
       "        }),\n",
       "        value: 'grey'\n",
       "      }),\n",
       "      x: X({\n",
       "        aggregate: 'count',\n",
       "        type: 'quantitative'\n",
       "      }),\n",
       "      y: Y({\n",
       "        field: 'origin_state',\n",
       "        sort: Sort({\n",
       "          encoding: 'x',\n",
       "          order: 'descending'\n",
       "        }),\n",
       "        type: 'nominal'\n",
       "      })\n",
       "    }),\n",
       "    height: 400,\n",
       "    mark: 'bar',\n",
       "    selection: {'selector005': SelectionDef({\n",
       "      fields: ['origin_state'],\n",
       "      type: 'multi'\n",
       "    })},\n",
       "    title: 'Total Number of Flights by State',\n",
       "    transform: [FilterTransform({\n",
       "      filter: {'selection': 'selector006'}\n",
       "    })],\n",
       "    width: 600\n",
       "  }), Chart({\n",
       "    data: Empty DataFrame\n",
       "    Columns: [depdelay, arrdelay, carrier_name, origin_state]\n",
       "    Index: [],\n",
       "    encoding: FacetedEncoding({\n",
       "      color: ColorValue({\n",
       "        condition: ColorValue({\n",
       "          selection: 'selector006',\n",
       "          value: 'steelblue'\n",
       "        }),\n",
       "        value: 'grey'\n",
       "      }),\n",
       "      tooltip: [Tooltip({\n",
       "        field: 'carrier_name',\n",
       "        type: 'nominal'\n",
       "      }), Tooltip({\n",
       "        field: 'depdelay',\n",
       "        type: 'quantitative'\n",
       "      }), Tooltip({\n",
       "        field: 'arrdelay',\n",
       "        type: 'quantitative'\n",
       "      })],\n",
       "      x: X({\n",
       "        field: 'depdelay',\n",
       "        type: 'quantitative'\n",
       "      }),\n",
       "      y: Y({\n",
       "        field: 'arrdelay',\n",
       "        type: 'quantitative'\n",
       "      })\n",
       "    }),\n",
       "    height: 400,\n",
       "    mark: MarkDef({\n",
       "      filled: True,\n",
       "      size: 200,\n",
       "      type: 'point'\n",
       "    }),\n",
       "    selection: {'selector006': SelectionDef({\n",
       "      fields: ['carrier_name'],\n",
       "      type: 'multi'\n",
       "    })},\n",
       "    title: 'Carrier Departure Delay by Arrival Delay (Minutes)',\n",
       "    transform: [FilterTransform({\n",
       "      filter: {'selection': 'selector005'}\n",
       "    }), AggregateTransform({\n",
       "      aggregate: [AggregatedFieldDef({\n",
       "        as: 'depdelay',\n",
       "        field: 'depdelay',\n",
       "        op: 'mean'\n",
       "      }), AggregatedFieldDef({\n",
       "        as: 'arrdelay',\n",
       "        field: 'arrdelay',\n",
       "        op: 'mean'\n",
       "      })],\n",
       "      groupby: ['carrier_name']\n",
       "    })],\n",
       "    width: 600\n",
       "  })]\n",
       "})"
      ]
     },
     "execution_count": 11,
     "metadata": {},
     "output_type": "execute_result"
    }
   ],
   "source": [
    "states = alt.selection_multi(fields=['origin_state'])\n",
    "airlines = alt.selection_multi(fields=['carrier_name'])\n",
    "\n",
    "flights_by_state = alt.Chart(\n",
    "    t[t.origin_state, t.carrier_name],\n",
    "    title=\"Total Number of Flights by State\"\n",
    ").transform_filter(\n",
    "    airlines\n",
    ").mark_bar().encode(\n",
    "    x='count()',\n",
    "    y=alt.Y('origin_state', sort=alt.Sort(encoding='x', order='descending')),\n",
    "    color=alt.condition(states, alt.ColorValue(\"steelblue\"), alt.ColorValue(\"grey\"))\n",
    ").add_selection(states).properties(\n",
    "    height=400,\n",
    "    width=600\n",
    ")\n",
    "\n",
    "\n",
    "carrier_delay = alt.Chart(\n",
    "    t[t.depdelay, t.arrdelay, t.carrier_name, t.origin_state],\n",
    "    title=\"Carrier Departure Delay by Arrival Delay (Minutes)\"\n",
    ").transform_filter(\n",
    "    states\n",
    ").transform_aggregate(\n",
    "    depdelay='mean(depdelay)',\n",
    "    arrdelay='mean(arrdelay)',\n",
    "    groupby=[\"carrier_name\"]\n",
    ").mark_point(filled=True, size=200).encode(\n",
    "    x='depdelay',\n",
    "    y='arrdelay',\n",
    "    color=alt.condition(airlines, alt.ColorValue(\"steelblue\"), alt.ColorValue(\"grey\")),\n",
    "    tooltip=['carrier_name', 'depdelay', 'arrdelay']\n",
    ").add_selection(airlines).properties(\n",
    "    height=400,\n",
    "    width=600\n",
    ")\n",
    "\n",
    "# jupyterlab_omnisci.vega_ibis.FALLBACK = False\n",
    "\n",
    "(flights_by_state | carrier_delay)"
   ]
  },
  {
   "cell_type": "code",
   "execution_count": null,
   "metadata": {},
   "outputs": [],
   "source": [
    "jupyterlab_omnisci.vega_ibis.FALLBACK = True\n",
    "\n",
    "# (flights_by_state | carrier_delay)"
   ]
  }
 ],
 "metadata": {
  "kernelspec": {
   "display_name": "Python 3",
   "language": "python",
   "name": "python3"
  },
  "language_info": {
   "codemirror_mode": {
    "name": "ipython",
    "version": 3
   },
   "file_extension": ".py",
   "mimetype": "text/x-python",
   "name": "python",
   "nbconvert_exporter": "python",
   "pygments_lexer": "ipython3",
   "version": "3.7.3"
  }
 },
 "nbformat": 4,
 "nbformat_minor": 4
}
